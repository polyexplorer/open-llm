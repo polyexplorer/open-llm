{
 "cells": [
  {
   "cell_type": "markdown",
   "metadata": {},
   "source": [
    "# Dependencies"
   ]
  },
  {
   "cell_type": "code",
   "execution_count": 20,
   "metadata": {},
   "outputs": [],
   "source": [
    "# ! pip install --upgrade langchain-groq neo4j pip install wikipedia tiktoken yfiles_jupyter_graphs"
   ]
  },
  {
   "cell_type": "markdown",
   "metadata": {},
   "source": [
    "# POC"
   ]
  },
  {
   "cell_type": "markdown",
   "metadata": {},
   "source": []
  },
  {
   "cell_type": "code",
   "execution_count": 1,
   "metadata": {},
   "outputs": [],
   "source": [
    "# Load ENV VARS\n",
    "from dotenv import find_dotenv, load_dotenv\n",
    "import os\n",
    "load_dotenv(find_dotenv())\n",
    "\n",
    "GROQ_API_KEY = os.environ.get(\"GROQ_API_KEY\")"
   ]
  },
  {
   "cell_type": "code",
   "execution_count": 3,
   "metadata": {},
   "outputs": [
    {
     "data": {
      "text/plain": [
       "ChatGroq(name='llama-3.2-11b-text-preview', client=<groq.resources.chat.completions.Completions object at 0x7fbce357f1f0>, async_client=<groq.resources.chat.completions.AsyncCompletions object at 0x7fbce357fee0>, model_kwargs={}, groq_api_key=SecretStr('**********'))"
      ]
     },
     "execution_count": 3,
     "metadata": {},
     "output_type": "execute_result"
    }
   ],
   "source": [
    "from langchain_groq import ChatGroq\n",
    "GROQ_MODEL_NAME = \"llama-3.2-11b-text-preview\"\n",
    "llm = ChatGroq(groq_api_key=GROQ_API_KEY,name=GROQ_MODEL_NAME)\n",
    "llm"
   ]
  },
  {
   "cell_type": "code",
   "execution_count": 5,
   "metadata": {},
   "outputs": [
    {
     "name": "stdout",
     "output_type": "stream",
     "text": [
      "[Document(metadata={}, page_content=\"\\nMr. and Mrs. Dursley, of number four, Privet\\nDrive, were proud to say that they were perfectly\\nnormal, thank you very much. Mr. Dursley made\\ndrills. He was a big, beefy man with hardly any\\nneck, although he did have a very large moustache.\\nMrs. Dursley was thin and blonde and had twice\\nthe usual amount of neck, which came in very\\nuseful as she spent so much of her time spying on the\\nneighbours. The Dursleys had a small son called\\nDudley and in their\\nopinion there was no finer boy anywhere.\\nMrs Dursley had a sister called Lily Potter. She\\nand her husband James Potter had a son called\\nHarry Potter. They lived far from the Dursleys and\\ndid not speak to them much. They did not get\\nalong.\\nOne day, a man appeared outside of\\nthe Dursleys house. He was tall, thin, and very\\nold, judging by the silver of his hair and beard,\\nwhich were both long enough to tuck into his belt.\\nHe was wearing long robes,\\na purple cloak that swept the ground, and highheeled, buckled boots. His blue eyes were light,\\nbright, and sparkling behind half-moon spectacles\\nand his nose was very long and crooked, as though\\nit had been broken at least twice. This man's name\\nwas Albus Dumbledore. \\n\")]\n"
     ]
    }
   ],
   "source": [
    "from langchain_core.documents import Document\n",
    "\n",
    "text = \"\"\"\n",
    "Mr. and Mrs. Dursley, of number four, Privet\n",
    "Drive, were proud to say that they were perfectly\n",
    "normal, thank you very much. Mr. Dursley made\n",
    "drills. He was a big, beefy man with hardly any\n",
    "neck, although he did have a very large moustache.\n",
    "Mrs. Dursley was thin and blonde and had twice\n",
    "the usual amount of neck, which came in very\n",
    "useful as she spent so much of her time spying on the\n",
    "neighbours. The Dursleys had a small son called\n",
    "Dudley and in their\n",
    "opinion there was no finer boy anywhere.\n",
    "Mrs Dursley had a sister called Lily Potter. She\n",
    "and her husband James Potter had a son called\n",
    "Harry Potter. They lived far from the Dursleys and\n",
    "did not speak to them much. They did not get\n",
    "along.\n",
    "One day, a man appeared outside of\n",
    "the Dursleys house. He was tall, thin, and very\n",
    "old, judging by the silver of his hair and beard,\n",
    "which were both long enough to tuck into his belt.\n",
    "He was wearing long robes,\n",
    "a purple cloak that swept the ground, and highheeled, buckled boots. His blue eyes were light,\n",
    "bright, and sparkling behind half-moon spectacles\n",
    "and his nose was very long and crooked, as though\n",
    "it had been broken at least twice. This man's name\n",
    "was Albus Dumbledore. \n",
    "\"\"\"\n",
    "\n",
    "documents = [Document(page_content=text)]\n",
    "print(documents)"
   ]
  },
  {
   "cell_type": "code",
   "execution_count": 11,
   "metadata": {},
   "outputs": [],
   "source": [
    "from langchain_experimental.graph_transformers import LLMGraphTransformer\n",
    "\n",
    "llm_transformer = LLMGraphTransformer(llm=llm)\n",
    "\n",
    "graph_documents = llm_transformer.convert_to_graph_documents(documents=documents)"
   ]
  },
  {
   "cell_type": "code",
   "execution_count": 18,
   "metadata": {},
   "outputs": [
    {
     "data": {
      "text/plain": [
       "GraphDocument(nodes=[], relationships=[], source=Document(metadata={}, page_content=\"\\nMr. and Mrs. Dursley, of number four, Privet\\nDrive, were proud to say that they were perfectly\\nnormal, thank you very much. Mr. Dursley made\\ndrills. He was a big, beefy man with hardly any\\nneck, although he did have a very large moustache.\\nMrs. Dursley was thin and blonde and had twice\\nthe usual amount of neck, which came in very\\nuseful as she spent so much of her time spying on the\\nneighbours. The Dursleys had a small son called\\nDudley and in their\\nopinion there was no finer boy anywhere.\\nMrs Dursley had a sister called Lily Potter. She\\nand her husband James Potter had a son called\\nHarry Potter. They lived far from the Dursleys and\\ndid not speak to them much. They did not get\\nalong.\\nOne day, a man appeared outside of\\nthe Dursleys house. He was tall, thin, and very\\nold, judging by the silver of his hair and beard,\\nwhich were both long enough to tuck into his belt.\\nHe was wearing long robes,\\na purple cloak that swept the ground, and highheeled, buckled boots. His blue eyes were light,\\nbright, and sparkling behind half-moon spectacles\\nand his nose was very long and crooked, as though\\nit had been broken at least twice. This man's name\\nwas Albus Dumbledore. \\n\"))"
      ]
     },
     "execution_count": 18,
     "metadata": {},
     "output_type": "execute_result"
    }
   ],
   "source": [
    "graph_documents[0]"
   ]
  },
  {
   "cell_type": "markdown",
   "metadata": {},
   "source": [
    "# Graph RAG (using neo4j)"
   ]
  },
  {
   "cell_type": "code",
   "execution_count": null,
   "metadata": {},
   "outputs": [],
   "source": [
    "from langchain_core.runnables import (\n",
    "    RunnableBranch,\n",
    "    RunnableLambda,\n",
    "    RunnableParallel,\n",
    "    RunnablePassthrough,\n",
    ")\n",
    "from langchain_core.prompts import ChatPromptTemplate\n",
    "from langchain_core.prompts.prompt import PromptTemplate\n",
    "from langchain_core.pydantic_v1 import BaseModel, Field\n",
    "from typing import Tuple, List, Optional\n",
    "from langchain_core.messages import AIMessage, HumanMessage\n",
    "from langchain_core.output_parsers import StrOutputParser\n",
    "import os\n",
    "from langchain_community.graphs import Neo4jGraph\n",
    "from langchain.document_loaders import WikipediaLoader\n",
    "from langchain.text_splitter import TokenTextSplitter\n",
    "from langchain_groq import ChatGroq\n",
    "from langchain_experimental.graph_transformers import LLMGraphTransformer\n",
    "from neo4j import GraphDatabase\n",
    "from yfiles_jupyter_graphs import GraphWidget\n",
    "from langchain_community.vectorstores import Neo4jVector\n",
    "\n",
    "from langchain_community.vectorstores.neo4j_vector import remove_lucene_chars\n",
    "from langchain_core.runnables import ConfigurableField, RunnableParallel, RunnablePassthrough\n"
   ]
  },
  {
   "cell_type": "markdown",
   "metadata": {},
   "source": []
  }
 ],
 "metadata": {
  "kernelspec": {
   "display_name": "venv_new",
   "language": "python",
   "name": "python3"
  },
  "language_info": {
   "codemirror_mode": {
    "name": "ipython",
    "version": 3
   },
   "file_extension": ".py",
   "mimetype": "text/x-python",
   "name": "python",
   "nbconvert_exporter": "python",
   "pygments_lexer": "ipython3",
   "version": "3.9.5"
  }
 },
 "nbformat": 4,
 "nbformat_minor": 2
}
