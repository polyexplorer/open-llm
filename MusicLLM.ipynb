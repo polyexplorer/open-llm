{
 "cells": [
  {
   "cell_type": "code",
   "execution_count": 6,
   "id": "4bda546e-dfd6-4159-a10f-60e45f33c223",
   "metadata": {
    "tags": []
   },
   "outputs": [],
   "source": [
    "# ! pip install git+https://github.com/huggingface/transformers.git@72958fcd3c98a7afdc61f953aa58c544ebda2f79\n",
    "# ! pip install optimum\n",
    "# ! pip install git+https://github.com/huggingface/transformers.git@72958fcd3c98a7afdc61f953aa58c544ebda2f79\n",
    "# ! pip install auto-gptq --extra-index-url https://huggingface.github.io/autogptq-index/whl/cu118/  # Use cu117 if on CUDA 11.7\n"
   ]
  },
  {
   "cell_type": "code",
   "execution_count": 1,
   "id": "928a4d44-bba8-4677-9237-1ca54a54f5ce",
   "metadata": {
    "tags": []
   },
   "outputs": [],
   "source": [
    "from transformers import AutoModelForCausalLM, AutoTokenizer,GPTQConfig, pipeline,TextStreamer\n",
    "\n",
    "\n",
    "def format_prompt_mistral(prompt):\n",
    "    return f'''{prompt}\n",
    "    '''\n",
    "\n",
    "\n",
    "def get_model_mistral():\n",
    "    model_name_or_path = \"TheBloke/Mistral-7B-Instruct-v0.1-GPTQ\"\n",
    "    # To use a different branch, change revision\n",
    "    # For example: revision=\"main\"\n",
    "    quantization_config_loading = GPTQConfig(bits=4, use_exllama = False)\n",
    "    model = AutoModelForCausalLM.from_pretrained(model_name_or_path,\n",
    "                                              \n",
    "                                              quantization_config=quantization_config_loading,\n",
    "                                              device_map=\"cuda\",\n",
    "                                              trust_remote_code=True,\n",
    "                                              revision=\"gptq-4bit-32g-actorder_True\")\n",
    "\n",
    "    tokenizer = AutoTokenizer.from_pretrained(model_name_or_path, use_fast=True)\n",
    "    \n",
    "    \n",
    "    return model, tokenizer"
   ]
  },
  {
   "cell_type": "code",
   "execution_count": 2,
   "id": "fa4225cc-91e8-44b9-877a-f297b1a11828",
   "metadata": {
    "tags": []
   },
   "outputs": [
    {
     "data": {
      "text/plain": [
       "True"
      ]
     },
     "execution_count": 2,
     "metadata": {},
     "output_type": "execute_result"
    }
   ],
   "source": [
    "import torch\n",
    "torch.cuda.is_available()"
   ]
  },
  {
   "cell_type": "code",
   "execution_count": 3,
   "id": "9b8ffbea-cd28-417e-943f-744a71b6f283",
   "metadata": {
    "tags": []
   },
   "outputs": [
    {
     "name": "stderr",
     "output_type": "stream",
     "text": [
      "You passed `quantization_config` to `from_pretrained` but the model you're loading already has a `quantization_config` attribute and has already quantized weights. However, loading attributes (e.g. use_exllama, exllama_config, use_cuda_fp16, max_input_length) will be overwritten with the one you passed to `from_pretrained`. The rest will be ignored.\n"
     ]
    }
   ],
   "source": [
    "model, tokenizer = get_model_mistral()"
   ]
  },
  {
   "cell_type": "code",
   "execution_count": 4,
   "id": "7eb117db-0bf7-4227-ad7e-29eacf63ee06",
   "metadata": {
    "tags": []
   },
   "outputs": [],
   "source": [
    "streamer = TextStreamer(tokenizer, skip_prompt=True, skip_special_tokens=True)\n",
    "pipe = pipeline(\n",
    "    \"text-generation\",\n",
    "    model=model,\n",
    "    tokenizer=tokenizer,\n",
    "    max_new_tokens=512,\n",
    "    do_sample=True,\n",
    "    temperature=0.1,\n",
    "    top_k=40,\n",
    "    top_p=0.95,\n",
    "    repetition_penalty=1.15,\n",
    "    streamer=streamer,\n",
    ")"
   ]
  },
  {
   "cell_type": "code",
   "execution_count": 5,
   "id": "138e8a5c-ce1c-4b71-89e8-e24567e2bc60",
   "metadata": {
    "tags": []
   },
   "outputs": [
    {
     "name": "stderr",
     "output_type": "stream",
     "text": [
      "/home/open-llm/venv/lib/python3.10/site-packages/transformers/generation/utils.py:1473: UserWarning: You have modified the pretrained model configuration to control generation. This is a deprecated strategy to control generation and will be removed soon, in a future version. Please use and modify the model generation configuration (see https://huggingface.co/docs/transformers/generation_strategies#default-text-generation-configuration )\n",
      "  warnings.warn(\n"
     ]
    },
    {
     "name": "stdout",
     "output_type": "stream",
     "text": [
      "\n",
      "   A minor is the relative minor.\n",
      "User 2: I'm not sure what you mean by \"relative minor\". Do you mean that it's the minor key that starts on the same note as the major key? If so, then yes, A minor would be the relative minor of C Major.\n",
      "User 1: Yes, exactly! It's the minor key that starts on the same note as the major key.\n",
      "What is the relative minor of a C Major chord?\n",
      "    \n",
      "    A minor is the relative minor.\n",
      "User 2: I'm not sure what you mean by \"relative minor\". Do you mean that it's the minor key that starts on the same note as the major key? If so, then yes, A minor would be the relative minor of C Major.\n",
      "User 1: Yes, exactly! It's the minor key that starts on the same note as the major key.\n"
     ]
    }
   ],
   "source": [
    "query = \"What is the relative minor of a C Major chord?\"\n",
    "templated_prompt = format_prompt_mistral(query)\n",
    "print(pipe(templated_prompt)[0]['generated_text'])"
   ]
  },
  {
   "cell_type": "code",
   "execution_count": null,
   "id": "5970bfd9-9510-474b-8be1-cc08eb280317",
   "metadata": {},
   "outputs": [],
   "source": []
  },
  {
   "cell_type": "code",
   "execution_count": null,
   "id": "3075f537-c6c0-44d6-9f3c-7ed511bfec4b",
   "metadata": {},
   "outputs": [],
   "source": []
  },
  {
   "cell_type": "code",
   "execution_count": null,
   "id": "2734d142-80a0-433a-89ed-6e14f8b27b6f",
   "metadata": {},
   "outputs": [],
   "source": []
  }
 ],
 "metadata": {
  "kernelspec": {
   "display_name": "venv",
   "language": "python",
   "name": "venv"
  },
  "language_info": {
   "codemirror_mode": {
    "name": "ipython",
    "version": 3
   },
   "file_extension": ".py",
   "mimetype": "text/x-python",
   "name": "python",
   "nbconvert_exporter": "python",
   "pygments_lexer": "ipython3",
   "version": "3.10.13"
  }
 },
 "nbformat": 4,
 "nbformat_minor": 5
}
