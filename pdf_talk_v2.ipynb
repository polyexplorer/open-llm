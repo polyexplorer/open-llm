{
 "cells": [
  {
   "cell_type": "markdown",
   "metadata": {
    "jp-MarkdownHeadingCollapsed": true
   },
   "source": [
    "# Sample Training Data"
   ]
  },
  {
   "cell_type": "code",
   "execution_count": 14,
   "metadata": {},
   "outputs": [
    {
     "name": "stdout",
     "output_type": "stream",
     "text": [
      "INPUT(Context+Question):\n",
      " [INST] <>\n",
      "Use the following pieces of context to answer the question at the end. If you don't know the answer, just say that you don't know, don't try to make up an answer.\n",
      "<>\n",
      "\n",
      "\n",
      "    and that these should be recorded separately). The investigators will be provided with \n",
      "examples of potentially abuse-related AEs, and trained on how to handle such events \n",
      "(eg, additional monitoring). While the investigators will be provided with examples of \n",
      "AE terms as a guide during trial conduct, the analysis of potentially abuse-related AEs \n",
      "will be based on a search of all Medical Dictionary for Regulatory Activities (MedDRA) \n",
      "preferred terms, all verbatim terms, and any open text fields within the AE data to \n",
      "identify text strings suggestive of abuse potential, in line with the 2017 FDA guidance \n",
      "(Assessment of Abuse Potential of Drugs).29 Refer to the separate APMP documentation \n",
      "for complete details on MHIs and ESAMs, including documenting and reporting\n",
      "-----\n",
      "and that these should be recorded separately). The investigators will be provided with \n",
      "examples of potentially abuse-related AEs, and trained on how to handle such events \n",
      "(eg, additional monitoring). While the investigators will be provided with examples of \n",
      "AE terms as a guide during trial conduct, the analysis of potentially abuse-related AEs \n",
      "will be based on a search of all Medical Dictionary for Regulatory Activities (MedDRA) \n",
      "preferred terms, all verbatim terms, and any open text fields within the AE data to \n",
      "identify text strings suggestive of abuse potential, in line with the 2017 FDA guidance \n",
      "(Assessment of Abuse Potential of Drugs).29 Refer to the separate APMP documentation \n",
      "for complete details on MHIs and ESAMs, including documenting and reporting\n",
      "-----\n",
      "and that these should be recorded separately). The investigators will be provided with \n",
      "examples of potentially abuse-related AEs, and trained on how to handle such events \n",
      "(eg, additional monitoring). While the investigators will be provided with examples of \n",
      "AE terms as a guide during trial conduct, the analysis of potentially abuse-related AEs \n",
      "will be based on a search of all Medical Dictionary for Regulatory Activities (MedDRA) \n",
      "preferred terms, all verbatim terms, and any open text fields within the AE data to \n",
      "identify text strings suggestive of abuse potential, in line with the 2017 FDA guidance \n",
      "(Assessment of Abuse Potential of Drugs).29 Refer to the separate APMP documentation \n",
      "for complete details on MHIs and ESAMs, including documenting and reporting\n",
      "\n",
      "    Question: Is Abuse Liability mentioned in this text?\n",
      "     [/INST]\n",
      "OUTPUT(Answer):   Yes, the text does mention \"Abuse Potential\" multiple times.\n"
     ]
    }
   ],
   "source": [
    "print(\"INPUT(Context+Question):\\n\",data[5]['input'])\n",
    "print(\"OUTPUT(Answer):\",data[5]['output'])"
   ]
  },
  {
   "cell_type": "code",
   "execution_count": 15,
   "metadata": {},
   "outputs": [
    {
     "name": "stdout",
     "output_type": "stream",
     "text": [
      "INPUT(Context+Question):\n",
      " [INST] <>\n",
      "Use the following pieces of context to answer the question at the end. If you don't know the answer, just say that you don't know, don't try to make up an answer.\n",
      "<>\n",
      "\n",
      "\n",
      "    trial, investigators or other trial subjects consent to such acknowledgement in any \n",
      "publications resulting from its conduct.\n",
      "-----\n",
      "Protocol 405-201-00018\n",
      "66\n",
      "Confidential - Proprietary Information Amendment 4 Approval: 22 Nov 2022to participate in the trial, investigators or other personnel involved in the conduct of the \n",
      "trial consent to such acknowledgement in any publications resulting from its conduct.\n",
      "-----\n",
      "Protocol 405-201-00018\n",
      "66\n",
      "Confidential - Proprietary Information Amendment 4 Approval: 22 Nov 2022to participate in the trial, investigators or other personnel involved in the conduct of the \n",
      "trial consent to such acknowledgement in any publications resulting from its conduct.\n",
      "\n",
      "    Question: Is Basket trial mentioned in this text?\n",
      "     [/INST]\n",
      "OUTPUT(Answer):   No, the word \"Basket\" is not mentioned in the given text. The text only mentions \"trial\" without the word \"Basket\". Therefore, the answer to your question is no.\n"
     ]
    }
   ],
   "source": [
    "print(\"INPUT(Context+Question):\\n\",data[6]['input'])\n",
    "print(\"OUTPUT(Answer):\",data[6]['output'])"
   ]
  },
  {
   "cell_type": "code",
   "execution_count": 18,
   "metadata": {},
   "outputs": [
    {
     "name": "stdout",
     "output_type": "stream",
     "text": [
      "INPUT(Context+Question):\n",
      " [INST] <>\n",
      "Use the following pieces of context to answer the question at the end. If you don't know the answer, just say that you don't know, don't try to make up an answer.\n",
      "<>\n",
      "\n",
      "\n",
      "    these tests must be reviewed by the investigator prior to initiation of the administration of \n",
      "the IMP. Additional urine and blood samples may be collected for further evaluation of \n",
      "safety as warranted by the investigator’s judgment. Reports from the central laboratory \n",
      "will be assessed by the investigator or qualified designee for clinical significance within \n",
      "the eSource.\n",
      "Subjects should be monitored for potentially clinically significant clinical laboratory \n",
      "values ( Section 10.4).\n",
      "A urine or serum pregnancy test for females will be performed in Cohorts 1 and 6 only at \n",
      "the time points described in the schedule of assessments ( Table 1.3-1). On suspicion of \n",
      "pregnancy, an unscheduled urine or serum pregnancy test will be performed. Positive \n",
      "urine pregnancy tests must be confirmed with a serum pregnancy test. The investigator \n",
      "(or appropriate site staff) is advised to counsel participants on the risk of pregnancy while\n",
      "-----\n",
      "to approximately 32 days, including a screening phase (Days −21 to −1), a 7-day \n",
      "inpatient stay, and a safety follow-up telephone call 7 days after the second dose of IMP \n",
      "(Day 11 [+2]).\n",
      "The assessments to be conducted during the trial are summarized in Table 1.3-1 and \n",
      "Table 1.3-2\n",
      "-----\n",
      "to approximately 32 days, including a screening phase (Days −21 to −1), a 7-day \n",
      "inpatient stay, and a safety follow-up telephone call 7 days after the second dose of IMP \n",
      "(Day 11 [+2]).\n",
      "The assessments to be conducted during the trial are summarized in Table 1.3-1 and \n",
      "Table 1.3-2\n",
      "\n",
      "    Question: Is Multiple phases mentioned in this text?\n",
      "     [/INST]\n",
      "OUTPUT(Answer):   Yes, multiple phases are mentioned in the text. They are:\n",
      "\n",
      "* Screening phase (Days -21 to -1)\n",
      "* Inpatient stay (7 days)\n",
      "* Safety follow-up telephone call (7 days after the second dose of IMP, Day 11 (+2))\n"
     ]
    }
   ],
   "source": [
    "print(\"INPUT(Context+Question):\\n\",data[8]['input'])\n",
    "print(\"OUTPUT(Answer):\",data[8]['output'])"
   ]
  },
  {
   "cell_type": "markdown",
   "metadata": {
    "jp-MarkdownHeadingCollapsed": true
   },
   "source": [
    "# PDF Querying"
   ]
  },
  {
   "cell_type": "markdown",
   "metadata": {
    "jp-MarkdownHeadingCollapsed": true
   },
   "source": [
    "## Dependencies"
   ]
  },
  {
   "cell_type": "code",
   "execution_count": 7,
   "metadata": {},
   "outputs": [],
   "source": [
    "# ! pip install -U transformers"
   ]
  },
  {
   "cell_type": "code",
   "execution_count": 7,
   "metadata": {},
   "outputs": [
    {
     "name": "stdout",
     "output_type": "stream",
     "text": [
      "\u001b[31mERROR: pip's dependency resolver does not currently take into account all the packages that are installed. This behaviour is the source of the following dependency conflicts.\n",
      "openllm 0.3.6 requires transformers[accelerate,tokenizers,torch]>=4.32.1, but you have transformers 4.31.0 which is incompatible.\n",
      "torchvision 0.16.0 requires torch==2.1.0, but you have torch 2.0.1 which is incompatible.\u001b[0m\u001b[31m\n",
      "\u001b[0m\u001b[31mERROR: pip's dependency resolver does not currently take into account all the packages that are installed. This behaviour is the source of the following dependency conflicts.\n",
      "openllm 0.3.6 requires transformers[accelerate,tokenizers,torch]>=4.32.1, but you have transformers 4.31.0 which is incompatible.\n",
      "xformers 0.0.20 requires torch==2.0.1, but you have torch 2.1.0 which is incompatible.\u001b[0m\u001b[31m\n",
      "\u001b[0m"
     ]
    }
   ],
   "source": [
    "# ! pip install -Uqqq pip --progress-bar off\n",
    "# ! pip install -qqq torch==2.0.1 --progress-bar off\n",
    "! pip install -qqq transformers==4.31.0 --progress-bar off\n",
    "# ! pip install -qqq langchain==0.0.266 --progress-bar off\n",
    "! pip install -qqq chromadb==0.4.5 --progress-bar off\n",
    "! pip install -qqq pypdf==3.15.0 --progress-bar off\n",
    "! pip install -qqq xformers==0.0.20 --progress-bar off\n",
    "! pip install -qqq sentence_transformers==2.2.2 --progress-bar off\n",
    "! pip install -qqq InstructorEmbedding==1.0.1 --progress-bar off\n",
    "! pip install -qqq pdf2image==1.16.3 --progress-bar off"
   ]
  },
  {
   "cell_type": "code",
   "execution_count": 1,
   "metadata": {},
   "outputs": [
    {
     "name": "stdout",
     "output_type": "stream",
     "text": [
      "Requirement already satisfied: torch in /home/ubuntu/.venv/lib/python3.9/site-packages (2.1.0)\n",
      "Requirement already satisfied: filelock in /home/ubuntu/.venv/lib/python3.9/site-packages (from torch) (3.12.4)\n",
      "Requirement already satisfied: typing-extensions in /home/ubuntu/.venv/lib/python3.9/site-packages (from torch) (4.8.0)\n",
      "Requirement already satisfied: sympy in /home/ubuntu/.venv/lib/python3.9/site-packages (from torch) (1.12)\n",
      "Requirement already satisfied: networkx in /home/ubuntu/.venv/lib/python3.9/site-packages (from torch) (3.1)\n",
      "Requirement already satisfied: jinja2 in /home/ubuntu/.venv/lib/python3.9/site-packages (from torch) (3.1.2)\n",
      "Requirement already satisfied: fsspec in /home/ubuntu/.venv/lib/python3.9/site-packages (from torch) (2023.6.0)\n",
      "Requirement already satisfied: nvidia-cuda-nvrtc-cu12==12.1.105 in /home/ubuntu/.venv/lib/python3.9/site-packages (from torch) (12.1.105)\n",
      "Requirement already satisfied: nvidia-cuda-runtime-cu12==12.1.105 in /home/ubuntu/.venv/lib/python3.9/site-packages (from torch) (12.1.105)\n",
      "Requirement already satisfied: nvidia-cuda-cupti-cu12==12.1.105 in /home/ubuntu/.venv/lib/python3.9/site-packages (from torch) (12.1.105)\n",
      "Requirement already satisfied: nvidia-cudnn-cu12==8.9.2.26 in /home/ubuntu/.venv/lib/python3.9/site-packages (from torch) (8.9.2.26)\n",
      "Requirement already satisfied: nvidia-cublas-cu12==12.1.3.1 in /home/ubuntu/.venv/lib/python3.9/site-packages (from torch) (12.1.3.1)\n",
      "Requirement already satisfied: nvidia-cufft-cu12==11.0.2.54 in /home/ubuntu/.venv/lib/python3.9/site-packages (from torch) (11.0.2.54)\n",
      "Requirement already satisfied: nvidia-curand-cu12==10.3.2.106 in /home/ubuntu/.venv/lib/python3.9/site-packages (from torch) (10.3.2.106)\n",
      "Requirement already satisfied: nvidia-cusolver-cu12==11.4.5.107 in /home/ubuntu/.venv/lib/python3.9/site-packages (from torch) (11.4.5.107)\n",
      "Requirement already satisfied: nvidia-cusparse-cu12==12.1.0.106 in /home/ubuntu/.venv/lib/python3.9/site-packages (from torch) (12.1.0.106)\n",
      "Requirement already satisfied: nvidia-nccl-cu12==2.18.1 in /home/ubuntu/.venv/lib/python3.9/site-packages (from torch) (2.18.1)\n",
      "Requirement already satisfied: nvidia-nvtx-cu12==12.1.105 in /home/ubuntu/.venv/lib/python3.9/site-packages (from torch) (12.1.105)\n",
      "Requirement already satisfied: triton==2.1.0 in /home/ubuntu/.venv/lib/python3.9/site-packages (from torch) (2.1.0)\n",
      "Requirement already satisfied: nvidia-nvjitlink-cu12 in /home/ubuntu/.venv/lib/python3.9/site-packages (from nvidia-cusolver-cu12==11.4.5.107->torch) (12.2.140)\n",
      "Requirement already satisfied: MarkupSafe>=2.0 in /home/ubuntu/.venv/lib/python3.9/site-packages (from jinja2->torch) (2.1.3)\n",
      "Requirement already satisfied: mpmath>=0.19 in /home/ubuntu/.venv/lib/python3.9/site-packages (from sympy->torch) (1.3.0)\n",
      "\u001b[33mWARNING: There was an error checking the latest version of pip.\u001b[0m\u001b[33m\n",
      "\u001b[0m"
     ]
    }
   ],
   "source": [
    "! pip install torch"
   ]
  },
  {
   "cell_type": "code",
   "execution_count": 3,
   "metadata": {},
   "outputs": [
    {
     "name": "stdout",
     "output_type": "stream",
     "text": [
      "\u001b[31mERROR: auto_gptq-0.4.1+cu118-cp310-cp310-linux_x86_64.whl is not a supported wheel on this platform.\u001b[0m\u001b[31m\r\n",
      "\u001b[0m"
     ]
    }
   ],
   "source": [
    "! wget -q https://github.com/PanQiWei/AutoGPTQ/releases/download/v0.4.1/auto_gptq-0.4.1+cu118-cp310-cp310-linux_x86_64.whl\n",
    "! pip install -qqq auto_gptq-0.4.1+cu118-cp310-cp310-linux_x86_64.whl --progress-bar off"
   ]
  },
  {
   "cell_type": "code",
   "execution_count": 4,
   "metadata": {},
   "outputs": [
    {
     "name": "stdout",
     "output_type": "stream",
     "text": [
      "Reading package lists... Done\n",
      "Building dependency tree       \n",
      "Reading state information... Done\n",
      "The following NEW packages will be installed:\n",
      "  poppler-utils\n",
      "0 upgraded, 1 newly installed, 0 to remove and 16 not upgraded.\n",
      "Need to get 174 kB of archives.\n",
      "After this operation, 755 kB of additional disk space will be used.\n",
      "Get:1 http://ap-south-1.ec2.archive.ubuntu.com/ubuntu focal-updates/main amd64 poppler-utils amd64 0.86.1-0ubuntu1.3 [174 kB]\n",
      "Fetched 174 kB in 0s (9681 kB/s)      \n",
      "Selecting previously unselected package poppler-utils.\n",
      "(Reading database ... 165100 files and directories currently installed.)\n",
      "Preparing to unpack .../poppler-utils_0.86.1-0ubuntu1.3_amd64.deb ...\n",
      "Unpacking poppler-utils (0.86.1-0ubuntu1.3) ...\n",
      "Setting up poppler-utils (0.86.1-0ubuntu1.3) ...\n",
      "Processing triggers for man-db (2.9.1-1) ...\n"
     ]
    }
   ],
   "source": [
    "! sudo apt-get install poppler-utils"
   ]
  },
  {
   "cell_type": "code",
   "execution_count": 5,
   "metadata": {},
   "outputs": [
    {
     "name": "stdout",
     "output_type": "stream",
     "text": [
      "Requirement already satisfied: auto-gptq in /home/ubuntu/.venv/lib/python3.9/site-packages (0.4.2)\n",
      "Requirement already satisfied: langchain in /home/ubuntu/.venv/lib/python3.9/site-packages (0.0.266)\n",
      "Requirement already satisfied: pdf2image in /home/ubuntu/.venv/lib/python3.9/site-packages (1.16.3)\n",
      "Requirement already satisfied: accelerate>=0.19.0 in /home/ubuntu/.venv/lib/python3.9/site-packages (from auto-gptq) (0.23.0)\n",
      "Requirement already satisfied: datasets in /home/ubuntu/.venv/lib/python3.9/site-packages (from auto-gptq) (2.14.5)\n",
      "Requirement already satisfied: numpy in /home/ubuntu/.venv/lib/python3.9/site-packages (from auto-gptq) (1.26.0)\n",
      "Requirement already satisfied: rouge in /home/ubuntu/.venv/lib/python3.9/site-packages (from auto-gptq) (1.0.1)\n",
      "Requirement already satisfied: torch>=1.13.0 in /home/ubuntu/.venv/lib/python3.9/site-packages (from auto-gptq) (2.1.0)\n",
      "Requirement already satisfied: safetensors in /home/ubuntu/.venv/lib/python3.9/site-packages (from auto-gptq) (0.4.0)\n",
      "Requirement already satisfied: transformers>=4.31.0 in /home/ubuntu/.venv/lib/python3.9/site-packages (from auto-gptq) (4.31.0)\n",
      "Requirement already satisfied: peft in /home/ubuntu/.venv/lib/python3.9/site-packages (from auto-gptq) (0.5.0)\n",
      "Requirement already satisfied: PyYAML>=5.3 in /home/ubuntu/.venv/lib/python3.9/site-packages (from langchain) (6.0.1)\n",
      "Requirement already satisfied: SQLAlchemy<3,>=1.4 in /home/ubuntu/.venv/lib/python3.9/site-packages (from langchain) (2.0.21)\n",
      "Requirement already satisfied: aiohttp<4.0.0,>=3.8.3 in /home/ubuntu/.venv/lib/python3.9/site-packages (from langchain) (3.8.6)\n",
      "Requirement already satisfied: async-timeout<5.0.0,>=4.0.0 in /home/ubuntu/.venv/lib/python3.9/site-packages (from langchain) (4.0.3)\n",
      "Requirement already satisfied: dataclasses-json<0.6.0,>=0.5.7 in /home/ubuntu/.venv/lib/python3.9/site-packages (from langchain) (0.5.14)\n",
      "Requirement already satisfied: langsmith<0.1.0,>=0.0.21 in /home/ubuntu/.venv/lib/python3.9/site-packages (from langchain) (0.0.43)\n",
      "Requirement already satisfied: numexpr<3.0.0,>=2.8.4 in /home/ubuntu/.venv/lib/python3.9/site-packages (from langchain) (2.8.7)\n",
      "Requirement already satisfied: openapi-schema-pydantic<2.0,>=1.2 in /home/ubuntu/.venv/lib/python3.9/site-packages (from langchain) (1.2.4)\n",
      "Requirement already satisfied: pydantic<2,>=1 in /home/ubuntu/.venv/lib/python3.9/site-packages (from langchain) (1.10.13)\n",
      "Requirement already satisfied: requests<3,>=2 in /home/ubuntu/.venv/lib/python3.9/site-packages (from langchain) (2.31.0)\n",
      "Requirement already satisfied: tenacity<9.0.0,>=8.1.0 in /home/ubuntu/.venv/lib/python3.9/site-packages (from langchain) (8.2.3)\n",
      "Requirement already satisfied: pillow in /home/ubuntu/.venv/lib/python3.9/site-packages (from pdf2image) (10.0.1)\n",
      "Requirement already satisfied: packaging>=20.0 in /home/ubuntu/.venv/lib/python3.9/site-packages (from accelerate>=0.19.0->auto-gptq) (23.2)\n",
      "Requirement already satisfied: psutil in /home/ubuntu/.venv/lib/python3.9/site-packages (from accelerate>=0.19.0->auto-gptq) (5.9.5)\n",
      "Requirement already satisfied: huggingface-hub in /home/ubuntu/.venv/lib/python3.9/site-packages (from accelerate>=0.19.0->auto-gptq) (0.17.3)\n",
      "Requirement already satisfied: attrs>=17.3.0 in /home/ubuntu/.venv/lib/python3.9/site-packages (from aiohttp<4.0.0,>=3.8.3->langchain) (23.1.0)\n",
      "Requirement already satisfied: charset-normalizer<4.0,>=2.0 in /home/ubuntu/.venv/lib/python3.9/site-packages (from aiohttp<4.0.0,>=3.8.3->langchain) (3.3.0)\n",
      "Requirement already satisfied: multidict<7.0,>=4.5 in /home/ubuntu/.venv/lib/python3.9/site-packages (from aiohttp<4.0.0,>=3.8.3->langchain) (6.0.4)\n",
      "Requirement already satisfied: yarl<2.0,>=1.0 in /home/ubuntu/.venv/lib/python3.9/site-packages (from aiohttp<4.0.0,>=3.8.3->langchain) (1.9.2)\n",
      "Requirement already satisfied: frozenlist>=1.1.1 in /home/ubuntu/.venv/lib/python3.9/site-packages (from aiohttp<4.0.0,>=3.8.3->langchain) (1.4.0)\n",
      "Requirement already satisfied: aiosignal>=1.1.2 in /home/ubuntu/.venv/lib/python3.9/site-packages (from aiohttp<4.0.0,>=3.8.3->langchain) (1.3.1)\n",
      "Requirement already satisfied: marshmallow<4.0.0,>=3.18.0 in /home/ubuntu/.venv/lib/python3.9/site-packages (from dataclasses-json<0.6.0,>=0.5.7->langchain) (3.20.1)\n",
      "Requirement already satisfied: typing-inspect<1,>=0.4.0 in /home/ubuntu/.venv/lib/python3.9/site-packages (from dataclasses-json<0.6.0,>=0.5.7->langchain) (0.9.0)\n",
      "Requirement already satisfied: typing-extensions>=4.2.0 in /home/ubuntu/.venv/lib/python3.9/site-packages (from pydantic<2,>=1->langchain) (4.8.0)\n",
      "Requirement already satisfied: idna<4,>=2.5 in /home/ubuntu/.venv/lib/python3.9/site-packages (from requests<3,>=2->langchain) (3.4)\n",
      "Requirement already satisfied: urllib3<3,>=1.21.1 in /home/ubuntu/.venv/lib/python3.9/site-packages (from requests<3,>=2->langchain) (2.0.6)\n",
      "Requirement already satisfied: certifi>=2017.4.17 in /home/ubuntu/.venv/lib/python3.9/site-packages (from requests<3,>=2->langchain) (2023.7.22)\n",
      "Requirement already satisfied: greenlet!=0.4.17 in /home/ubuntu/.venv/lib/python3.9/site-packages (from SQLAlchemy<3,>=1.4->langchain) (3.0.0)\n",
      "Requirement already satisfied: filelock in /home/ubuntu/.venv/lib/python3.9/site-packages (from torch>=1.13.0->auto-gptq) (3.12.4)\n",
      "Requirement already satisfied: sympy in /home/ubuntu/.venv/lib/python3.9/site-packages (from torch>=1.13.0->auto-gptq) (1.12)\n",
      "Requirement already satisfied: networkx in /home/ubuntu/.venv/lib/python3.9/site-packages (from torch>=1.13.0->auto-gptq) (3.1)\n",
      "Requirement already satisfied: jinja2 in /home/ubuntu/.venv/lib/python3.9/site-packages (from torch>=1.13.0->auto-gptq) (3.1.2)\n",
      "Requirement already satisfied: fsspec in /home/ubuntu/.venv/lib/python3.9/site-packages (from torch>=1.13.0->auto-gptq) (2023.6.0)\n",
      "Requirement already satisfied: nvidia-cuda-nvrtc-cu12==12.1.105 in /home/ubuntu/.venv/lib/python3.9/site-packages (from torch>=1.13.0->auto-gptq) (12.1.105)\n",
      "Requirement already satisfied: nvidia-cuda-runtime-cu12==12.1.105 in /home/ubuntu/.venv/lib/python3.9/site-packages (from torch>=1.13.0->auto-gptq) (12.1.105)\n",
      "Requirement already satisfied: nvidia-cuda-cupti-cu12==12.1.105 in /home/ubuntu/.venv/lib/python3.9/site-packages (from torch>=1.13.0->auto-gptq) (12.1.105)\n",
      "Requirement already satisfied: nvidia-cudnn-cu12==8.9.2.26 in /home/ubuntu/.venv/lib/python3.9/site-packages (from torch>=1.13.0->auto-gptq) (8.9.2.26)\n",
      "Requirement already satisfied: nvidia-cublas-cu12==12.1.3.1 in /home/ubuntu/.venv/lib/python3.9/site-packages (from torch>=1.13.0->auto-gptq) (12.1.3.1)\n",
      "Requirement already satisfied: nvidia-cufft-cu12==11.0.2.54 in /home/ubuntu/.venv/lib/python3.9/site-packages (from torch>=1.13.0->auto-gptq) (11.0.2.54)\n",
      "Requirement already satisfied: nvidia-curand-cu12==10.3.2.106 in /home/ubuntu/.venv/lib/python3.9/site-packages (from torch>=1.13.0->auto-gptq) (10.3.2.106)\n",
      "Requirement already satisfied: nvidia-cusolver-cu12==11.4.5.107 in /home/ubuntu/.venv/lib/python3.9/site-packages (from torch>=1.13.0->auto-gptq) (11.4.5.107)\n",
      "Requirement already satisfied: nvidia-cusparse-cu12==12.1.0.106 in /home/ubuntu/.venv/lib/python3.9/site-packages (from torch>=1.13.0->auto-gptq) (12.1.0.106)\n",
      "Requirement already satisfied: nvidia-nccl-cu12==2.18.1 in /home/ubuntu/.venv/lib/python3.9/site-packages (from torch>=1.13.0->auto-gptq) (2.18.1)\n",
      "Requirement already satisfied: nvidia-nvtx-cu12==12.1.105 in /home/ubuntu/.venv/lib/python3.9/site-packages (from torch>=1.13.0->auto-gptq) (12.1.105)\n",
      "Requirement already satisfied: triton==2.1.0 in /home/ubuntu/.venv/lib/python3.9/site-packages (from torch>=1.13.0->auto-gptq) (2.1.0)\n",
      "Requirement already satisfied: nvidia-nvjitlink-cu12 in /home/ubuntu/.venv/lib/python3.9/site-packages (from nvidia-cusolver-cu12==11.4.5.107->torch>=1.13.0->auto-gptq) (12.2.140)\n",
      "Requirement already satisfied: regex!=2019.12.17 in /home/ubuntu/.venv/lib/python3.9/site-packages (from transformers>=4.31.0->auto-gptq) (2023.10.3)\n",
      "Requirement already satisfied: tokenizers!=0.11.3,<0.14,>=0.11.1 in /home/ubuntu/.venv/lib/python3.9/site-packages (from transformers>=4.31.0->auto-gptq) (0.13.3)\n",
      "Requirement already satisfied: tqdm>=4.27 in /home/ubuntu/.venv/lib/python3.9/site-packages (from transformers>=4.31.0->auto-gptq) (4.66.1)\n"
     ]
    },
    {
     "name": "stdout",
     "output_type": "stream",
     "text": [
      "Requirement already satisfied: pyarrow>=8.0.0 in /home/ubuntu/.venv/lib/python3.9/site-packages (from datasets->auto-gptq) (13.0.0)\n",
      "Requirement already satisfied: dill<0.3.8,>=0.3.0 in /home/ubuntu/.venv/lib/python3.9/site-packages (from datasets->auto-gptq) (0.3.7)\n",
      "Requirement already satisfied: pandas in /home/ubuntu/.venv/lib/python3.9/site-packages (from datasets->auto-gptq) (2.1.1)\n",
      "Requirement already satisfied: xxhash in /home/ubuntu/.venv/lib/python3.9/site-packages (from datasets->auto-gptq) (3.4.1)\n",
      "Requirement already satisfied: multiprocess in /home/ubuntu/.venv/lib/python3.9/site-packages (from datasets->auto-gptq) (0.70.15)\n",
      "Requirement already satisfied: six in /home/ubuntu/.venv/lib/python3.9/site-packages (from rouge->auto-gptq) (1.16.0)\n",
      "Requirement already satisfied: mypy-extensions>=0.3.0 in /home/ubuntu/.venv/lib/python3.9/site-packages (from typing-inspect<1,>=0.4.0->dataclasses-json<0.6.0,>=0.5.7->langchain) (1.0.0)\n",
      "Requirement already satisfied: MarkupSafe>=2.0 in /home/ubuntu/.venv/lib/python3.9/site-packages (from jinja2->torch>=1.13.0->auto-gptq) (2.1.3)\n",
      "Requirement already satisfied: python-dateutil>=2.8.2 in /home/ubuntu/.venv/lib/python3.9/site-packages (from pandas->datasets->auto-gptq) (2.8.2)\n",
      "Requirement already satisfied: pytz>=2020.1 in /home/ubuntu/.venv/lib/python3.9/site-packages (from pandas->datasets->auto-gptq) (2023.3.post1)\n",
      "Requirement already satisfied: tzdata>=2022.1 in /home/ubuntu/.venv/lib/python3.9/site-packages (from pandas->datasets->auto-gptq) (2023.3)\n",
      "Requirement already satisfied: mpmath>=0.19 in /home/ubuntu/.venv/lib/python3.9/site-packages (from sympy->torch>=1.13.0->auto-gptq) (1.3.0)\n",
      "\u001b[33mWARNING: There was an error checking the latest version of pip.\u001b[0m\u001b[33m\n",
      "\u001b[0m"
     ]
    }
   ],
   "source": [
    "! pip install auto-gptq langchain pdf2image"
   ]
  },
  {
   "cell_type": "markdown",
   "metadata": {
    "jp-MarkdownHeadingCollapsed": true
   },
   "source": [
    "## Imports"
   ]
  },
  {
   "cell_type": "code",
   "execution_count": 1,
   "metadata": {},
   "outputs": [],
   "source": [
    "import torch\n",
    "from auto_gptq import AutoGPTQForCausalLM\n",
    "from langchain import HuggingFacePipeline, PromptTemplate\n",
    "from langchain.chains import RetrievalQA\n",
    "from langchain.text_splitter import RecursiveCharacterTextSplitter\n",
    "from langchain.vectorstores import Chroma\n",
    "from pdf2image import convert_from_path\n",
    "from transformers import AutoTokenizer, TextStreamer, pipeline\n",
    "\n",
    "DEVICE = \"cuda:0\" if torch.cuda.is_available() else \"cpu\"\n",
    "\n",
    "\n"
   ]
  },
  {
   "cell_type": "markdown",
   "metadata": {
    "jp-MarkdownHeadingCollapsed": true
   },
   "source": [
    "## Vectorstore"
   ]
  },
  {
   "cell_type": "code",
   "execution_count": 2,
   "metadata": {},
   "outputs": [
    {
     "data": {
      "text/plain": [
       "174"
      ]
     },
     "execution_count": 2,
     "metadata": {},
     "output_type": "execute_result"
    }
   ],
   "source": [
    "from langchain.document_loaders import PyPDFDirectoryLoader, PyPDFLoader\n",
    "loader = PyPDFDirectoryLoader(\"pdfs\")\n",
    "docs = loader.load()\n",
    "len(docs)"
   ]
  },
  {
   "cell_type": "code",
   "execution_count": 3,
   "metadata": {},
   "outputs": [
    {
     "name": "stdout",
     "output_type": "stream",
     "text": [
      "load INSTRUCTOR_Transformer\n",
      "max_seq_length  512\n"
     ]
    }
   ],
   "source": [
    "from langchain.embeddings import HuggingFaceInstructEmbeddings\n",
    "from langchain.text_splitter import RecursiveCharacterTextSplitter\n",
    "from langchain.vectorstores import Chroma\n",
    "\n",
    "embeddings = HuggingFaceInstructEmbeddings(\n",
    "    model_name=\"hkunlp/instructor-large\", model_kwargs={\"device\": DEVICE}\n",
    ")\n",
    "\n",
    "text_splitter = RecursiveCharacterTextSplitter(chunk_size=1024, chunk_overlap=128)\n",
    "texts = text_splitter.split_documents(docs)\n",
    "len(texts)\n",
    "\n",
    "db = Chroma.from_documents(texts, embeddings, persist_directory=\"db\")"
   ]
  },
  {
   "cell_type": "markdown",
   "metadata": {},
   "source": [
    "## LLM"
   ]
  },
  {
   "cell_type": "markdown",
   "metadata": {
    "jp-MarkdownHeadingCollapsed": true
   },
   "source": [
    "### Falcon 40B"
   ]
  },
  {
   "cell_type": "code",
   "execution_count": 4,
   "metadata": {},
   "outputs": [
    {
     "ename": "KeyboardInterrupt",
     "evalue": "",
     "output_type": "error",
     "traceback": [
      "\u001b[0;31m---------------------------------------------------------------------------\u001b[0m",
      "\u001b[0;31mKeyboardInterrupt\u001b[0m                         Traceback (most recent call last)",
      "\u001b[1;32m/home/ubuntu/open-llm/pdf_talk_v2.ipynb Cell 10\u001b[0m line \u001b[0;36m6\n\u001b[1;32m      <a href='vscode-notebook-cell://ssh-remote%2Bec2-3-110-221-81.ap-south-1.compute.amazonaws.com/home/ubuntu/open-llm/pdf_talk_v2.ipynb#X12sdnNjb2RlLXJlbW90ZQ%3D%3D?line=2'>3</a>\u001b[0m \u001b[39mfrom\u001b[39;00m \u001b[39mtransformers\u001b[39;00m \u001b[39mimport\u001b[39;00m AutoModelForCausalLM\n\u001b[1;32m      <a href='vscode-notebook-cell://ssh-remote%2Bec2-3-110-221-81.ap-south-1.compute.amazonaws.com/home/ubuntu/open-llm/pdf_talk_v2.ipynb#X12sdnNjb2RlLXJlbW90ZQ%3D%3D?line=3'>4</a>\u001b[0m tokenizer \u001b[39m=\u001b[39m AutoTokenizer\u001b[39m.\u001b[39mfrom_pretrained(model_name_or_path, use_fast\u001b[39m=\u001b[39m\u001b[39mTrue\u001b[39;00m)\n\u001b[0;32m----> <a href='vscode-notebook-cell://ssh-remote%2Bec2-3-110-221-81.ap-south-1.compute.amazonaws.com/home/ubuntu/open-llm/pdf_talk_v2.ipynb#X12sdnNjb2RlLXJlbW90ZQ%3D%3D?line=5'>6</a>\u001b[0m model \u001b[39m=\u001b[39m AutoModelForCausalLM\u001b[39m.\u001b[39;49mfrom_pretrained(\n\u001b[1;32m      <a href='vscode-notebook-cell://ssh-remote%2Bec2-3-110-221-81.ap-south-1.compute.amazonaws.com/home/ubuntu/open-llm/pdf_talk_v2.ipynb#X12sdnNjb2RlLXJlbW90ZQ%3D%3D?line=6'>7</a>\u001b[0m             model_name_or_path,\n\u001b[1;32m      <a href='vscode-notebook-cell://ssh-remote%2Bec2-3-110-221-81.ap-south-1.compute.amazonaws.com/home/ubuntu/open-llm/pdf_talk_v2.ipynb#X12sdnNjb2RlLXJlbW90ZQ%3D%3D?line=7'>8</a>\u001b[0m             \u001b[39m# model_basename=model_basename,\u001b[39;49;00m\n\u001b[1;32m      <a href='vscode-notebook-cell://ssh-remote%2Bec2-3-110-221-81.ap-south-1.compute.amazonaws.com/home/ubuntu/open-llm/pdf_talk_v2.ipynb#X12sdnNjb2RlLXJlbW90ZQ%3D%3D?line=8'>9</a>\u001b[0m             use_safetensors\u001b[39m=\u001b[39;49m\u001b[39mFalse\u001b[39;49;00m,\n\u001b[1;32m     <a href='vscode-notebook-cell://ssh-remote%2Bec2-3-110-221-81.ap-south-1.compute.amazonaws.com/home/ubuntu/open-llm/pdf_talk_v2.ipynb#X12sdnNjb2RlLXJlbW90ZQ%3D%3D?line=9'>10</a>\u001b[0m             trust_remote_code\u001b[39m=\u001b[39;49m\u001b[39mFalse\u001b[39;49;00m,\n\u001b[1;32m     <a href='vscode-notebook-cell://ssh-remote%2Bec2-3-110-221-81.ap-south-1.compute.amazonaws.com/home/ubuntu/open-llm/pdf_talk_v2.ipynb#X12sdnNjb2RlLXJlbW90ZQ%3D%3D?line=10'>11</a>\u001b[0m             \u001b[39m# device=\"cuda:0\",\u001b[39;49;00m\n\u001b[1;32m     <a href='vscode-notebook-cell://ssh-remote%2Bec2-3-110-221-81.ap-south-1.compute.amazonaws.com/home/ubuntu/open-llm/pdf_talk_v2.ipynb#X12sdnNjb2RlLXJlbW90ZQ%3D%3D?line=11'>12</a>\u001b[0m             \u001b[39m# use_triton=use_triton,\u001b[39;49;00m\n\u001b[1;32m     <a href='vscode-notebook-cell://ssh-remote%2Bec2-3-110-221-81.ap-south-1.compute.amazonaws.com/home/ubuntu/open-llm/pdf_talk_v2.ipynb#X12sdnNjb2RlLXJlbW90ZQ%3D%3D?line=12'>13</a>\u001b[0m             \u001b[39m# quantize_config=None\u001b[39;49;00m\n\u001b[1;32m     <a href='vscode-notebook-cell://ssh-remote%2Bec2-3-110-221-81.ap-south-1.compute.amazonaws.com/home/ubuntu/open-llm/pdf_talk_v2.ipynb#X12sdnNjb2RlLXJlbW90ZQ%3D%3D?line=13'>14</a>\u001b[0m             )\n",
      "File \u001b[0;32m~/.venv/lib/python3.9/site-packages/transformers/models/auto/auto_factory.py:565\u001b[0m, in \u001b[0;36m_BaseAutoModelClass.from_pretrained\u001b[0;34m(cls, pretrained_model_name_or_path, *model_args, **kwargs)\u001b[0m\n\u001b[1;32m    563\u001b[0m \u001b[39melif\u001b[39;00m \u001b[39mtype\u001b[39m(config) \u001b[39min\u001b[39;00m \u001b[39mcls\u001b[39m\u001b[39m.\u001b[39m_model_mapping\u001b[39m.\u001b[39mkeys():\n\u001b[1;32m    564\u001b[0m     model_class \u001b[39m=\u001b[39m _get_model_class(config, \u001b[39mcls\u001b[39m\u001b[39m.\u001b[39m_model_mapping)\n\u001b[0;32m--> 565\u001b[0m     \u001b[39mreturn\u001b[39;00m model_class\u001b[39m.\u001b[39;49mfrom_pretrained(\n\u001b[1;32m    566\u001b[0m         pretrained_model_name_or_path, \u001b[39m*\u001b[39;49mmodel_args, config\u001b[39m=\u001b[39;49mconfig, \u001b[39m*\u001b[39;49m\u001b[39m*\u001b[39;49mhub_kwargs, \u001b[39m*\u001b[39;49m\u001b[39m*\u001b[39;49mkwargs\n\u001b[1;32m    567\u001b[0m     )\n\u001b[1;32m    568\u001b[0m \u001b[39mraise\u001b[39;00m \u001b[39mValueError\u001b[39;00m(\n\u001b[1;32m    569\u001b[0m     \u001b[39mf\u001b[39m\u001b[39m\"\u001b[39m\u001b[39mUnrecognized configuration class \u001b[39m\u001b[39m{\u001b[39;00mconfig\u001b[39m.\u001b[39m\u001b[39m__class__\u001b[39m\u001b[39m}\u001b[39;00m\u001b[39m for this kind of AutoModel: \u001b[39m\u001b[39m{\u001b[39;00m\u001b[39mcls\u001b[39m\u001b[39m.\u001b[39m\u001b[39m__name__\u001b[39m\u001b[39m}\u001b[39;00m\u001b[39m.\u001b[39m\u001b[39m\\n\u001b[39;00m\u001b[39m\"\u001b[39m\n\u001b[1;32m    570\u001b[0m     \u001b[39mf\u001b[39m\u001b[39m\"\u001b[39m\u001b[39mModel type should be one of \u001b[39m\u001b[39m{\u001b[39;00m\u001b[39m'\u001b[39m\u001b[39m, \u001b[39m\u001b[39m'\u001b[39m\u001b[39m.\u001b[39mjoin(c\u001b[39m.\u001b[39m\u001b[39m__name__\u001b[39m\u001b[39m \u001b[39m\u001b[39mfor\u001b[39;00m\u001b[39m \u001b[39mc\u001b[39m \u001b[39m\u001b[39min\u001b[39;00m\u001b[39m \u001b[39m\u001b[39mcls\u001b[39m\u001b[39m.\u001b[39m_model_mapping\u001b[39m.\u001b[39mkeys())\u001b[39m}\u001b[39;00m\u001b[39m.\u001b[39m\u001b[39m\"\u001b[39m\n\u001b[1;32m    571\u001b[0m )\n",
      "File \u001b[0;32m~/.venv/lib/python3.9/site-packages/transformers/modeling_utils.py:3085\u001b[0m, in \u001b[0;36mPreTrainedModel.from_pretrained\u001b[0;34m(cls, pretrained_model_name_or_path, config, cache_dir, ignore_mismatched_sizes, force_download, local_files_only, token, revision, use_safetensors, *model_args, **kwargs)\u001b[0m\n\u001b[1;32m   3082\u001b[0m     config \u001b[39m=\u001b[39m \u001b[39mcls\u001b[39m\u001b[39m.\u001b[39m_check_and_enable_flash_attn_2(config, torch_dtype\u001b[39m=\u001b[39mtorch_dtype, device_map\u001b[39m=\u001b[39mdevice_map)\n\u001b[1;32m   3084\u001b[0m \u001b[39mwith\u001b[39;00m ContextManagers(init_contexts):\n\u001b[0;32m-> 3085\u001b[0m     model \u001b[39m=\u001b[39m \u001b[39mcls\u001b[39;49m(config, \u001b[39m*\u001b[39;49mmodel_args, \u001b[39m*\u001b[39;49m\u001b[39m*\u001b[39;49mmodel_kwargs)\n\u001b[1;32m   3087\u001b[0m \u001b[39m# Check first if we are `from_pt`\u001b[39;00m\n\u001b[1;32m   3088\u001b[0m \u001b[39mif\u001b[39;00m use_keep_in_fp32_modules:\n",
      "File \u001b[0;32m~/.venv/lib/python3.9/site-packages/transformers/models/falcon/modeling_falcon.py:1211\u001b[0m, in \u001b[0;36mFalconForCausalLM.__init__\u001b[0;34m(self, config)\u001b[0m\n\u001b[1;32m   1209\u001b[0m \u001b[39mdef\u001b[39;00m \u001b[39m__init__\u001b[39m(\u001b[39mself\u001b[39m, config: FalconConfig):\n\u001b[1;32m   1210\u001b[0m     \u001b[39msuper\u001b[39m()\u001b[39m.\u001b[39m\u001b[39m__init__\u001b[39m(config)\n\u001b[0;32m-> 1211\u001b[0m     \u001b[39mself\u001b[39m\u001b[39m.\u001b[39mtransformer \u001b[39m=\u001b[39m FalconModel(config)\n\u001b[1;32m   1212\u001b[0m     \u001b[39mself\u001b[39m\u001b[39m.\u001b[39mlm_head \u001b[39m=\u001b[39m nn\u001b[39m.\u001b[39mLinear(config\u001b[39m.\u001b[39mhidden_size, config\u001b[39m.\u001b[39mvocab_size, bias\u001b[39m=\u001b[39m\u001b[39mFalse\u001b[39;00m)\n\u001b[1;32m   1214\u001b[0m     \u001b[39m# Initialize weights and apply final processing\u001b[39;00m\n",
      "File \u001b[0;32m~/.venv/lib/python3.9/site-packages/transformers/models/falcon/modeling_falcon.py:999\u001b[0m, in \u001b[0;36mFalconModel.__init__\u001b[0;34m(self, config)\u001b[0m\n\u001b[1;32m    996\u001b[0m \u001b[39mself\u001b[39m\u001b[39m.\u001b[39mword_embeddings \u001b[39m=\u001b[39m nn\u001b[39m.\u001b[39mEmbedding(config\u001b[39m.\u001b[39mvocab_size, \u001b[39mself\u001b[39m\u001b[39m.\u001b[39membed_dim)\n\u001b[1;32m    998\u001b[0m \u001b[39m# Transformer blocks\u001b[39;00m\n\u001b[0;32m--> 999\u001b[0m \u001b[39mself\u001b[39m\u001b[39m.\u001b[39mh \u001b[39m=\u001b[39m nn\u001b[39m.\u001b[39mModuleList([FalconDecoderLayer(config) \u001b[39mfor\u001b[39;00m _ \u001b[39min\u001b[39;00m \u001b[39mrange\u001b[39m(config\u001b[39m.\u001b[39mnum_hidden_layers)])\n\u001b[1;32m   1001\u001b[0m \u001b[39m# Final Layer Norm\u001b[39;00m\n\u001b[1;32m   1002\u001b[0m \u001b[39mself\u001b[39m\u001b[39m.\u001b[39mln_f \u001b[39m=\u001b[39m LayerNorm(\u001b[39mself\u001b[39m\u001b[39m.\u001b[39membed_dim, eps\u001b[39m=\u001b[39mconfig\u001b[39m.\u001b[39mlayer_norm_epsilon)\n",
      "File \u001b[0;32m~/.venv/lib/python3.9/site-packages/transformers/models/falcon/modeling_falcon.py:999\u001b[0m, in \u001b[0;36m<listcomp>\u001b[0;34m(.0)\u001b[0m\n\u001b[1;32m    996\u001b[0m \u001b[39mself\u001b[39m\u001b[39m.\u001b[39mword_embeddings \u001b[39m=\u001b[39m nn\u001b[39m.\u001b[39mEmbedding(config\u001b[39m.\u001b[39mvocab_size, \u001b[39mself\u001b[39m\u001b[39m.\u001b[39membed_dim)\n\u001b[1;32m    998\u001b[0m \u001b[39m# Transformer blocks\u001b[39;00m\n\u001b[0;32m--> 999\u001b[0m \u001b[39mself\u001b[39m\u001b[39m.\u001b[39mh \u001b[39m=\u001b[39m nn\u001b[39m.\u001b[39mModuleList([FalconDecoderLayer(config) \u001b[39mfor\u001b[39;00m _ \u001b[39min\u001b[39;00m \u001b[39mrange\u001b[39m(config\u001b[39m.\u001b[39mnum_hidden_layers)])\n\u001b[1;32m   1001\u001b[0m \u001b[39m# Final Layer Norm\u001b[39;00m\n\u001b[1;32m   1002\u001b[0m \u001b[39mself\u001b[39m\u001b[39m.\u001b[39mln_f \u001b[39m=\u001b[39m LayerNorm(\u001b[39mself\u001b[39m\u001b[39m.\u001b[39membed_dim, eps\u001b[39m=\u001b[39mconfig\u001b[39m.\u001b[39mlayer_norm_epsilon)\n",
      "File \u001b[0;32m~/.venv/lib/python3.9/site-packages/transformers/models/falcon/modeling_falcon.py:755\u001b[0m, in \u001b[0;36mFalconDecoderLayer.__init__\u001b[0;34m(self, config)\u001b[0m\n\u001b[1;32m    751\u001b[0m hidden_size \u001b[39m=\u001b[39m config\u001b[39m.\u001b[39mhidden_size\n\u001b[1;32m    752\u001b[0m \u001b[39mself\u001b[39m\u001b[39m.\u001b[39mnum_heads \u001b[39m=\u001b[39m config\u001b[39m.\u001b[39mnum_attention_heads\n\u001b[1;32m    754\u001b[0m \u001b[39mself\u001b[39m\u001b[39m.\u001b[39mself_attention \u001b[39m=\u001b[39m (\n\u001b[0;32m--> 755\u001b[0m     FalconAttention(config)\n\u001b[1;32m    756\u001b[0m     \u001b[39mif\u001b[39;00m \u001b[39mnot\u001b[39;00m \u001b[39mgetattr\u001b[39m(config, \u001b[39m\"\u001b[39m\u001b[39m_flash_attn_2_enabled\u001b[39m\u001b[39m\"\u001b[39m, \u001b[39mFalse\u001b[39;00m)\n\u001b[1;32m    757\u001b[0m     \u001b[39melse\u001b[39;00m FalconFlashAttention2(config)\n\u001b[1;32m    758\u001b[0m )\n\u001b[1;32m    759\u001b[0m \u001b[39mself\u001b[39m\u001b[39m.\u001b[39mmlp \u001b[39m=\u001b[39m FalconMLP(config)\n\u001b[1;32m    760\u001b[0m \u001b[39mself\u001b[39m\u001b[39m.\u001b[39mhidden_dropout \u001b[39m=\u001b[39m config\u001b[39m.\u001b[39mhidden_dropout\n",
      "File \u001b[0;32m~/.venv/lib/python3.9/site-packages/transformers/models/falcon/modeling_falcon.py:332\u001b[0m, in \u001b[0;36mFalconAttention.__init__\u001b[0;34m(self, config)\u001b[0m\n\u001b[1;32m    330\u001b[0m \u001b[39melse\u001b[39;00m:\n\u001b[1;32m    331\u001b[0m     qkv_out_dim \u001b[39m=\u001b[39m \u001b[39m3\u001b[39m \u001b[39m*\u001b[39m \u001b[39mself\u001b[39m\u001b[39m.\u001b[39mhidden_size\n\u001b[0;32m--> 332\u001b[0m \u001b[39mself\u001b[39m\u001b[39m.\u001b[39mquery_key_value \u001b[39m=\u001b[39m FalconLinear(\u001b[39mself\u001b[39;49m\u001b[39m.\u001b[39;49mhidden_size, qkv_out_dim, bias\u001b[39m=\u001b[39;49mconfig\u001b[39m.\u001b[39;49mbias)\n\u001b[1;32m    333\u001b[0m \u001b[39mself\u001b[39m\u001b[39m.\u001b[39mnew_decoder_architecture \u001b[39m=\u001b[39m config\u001b[39m.\u001b[39mnew_decoder_architecture\n\u001b[1;32m    334\u001b[0m \u001b[39mself\u001b[39m\u001b[39m.\u001b[39mmulti_query \u001b[39m=\u001b[39m config\u001b[39m.\u001b[39mmulti_query\n",
      "File \u001b[0;32m~/.venv/lib/python3.9/site-packages/torch/nn/modules/linear.py:101\u001b[0m, in \u001b[0;36mLinear.__init__\u001b[0;34m(self, in_features, out_features, bias, device, dtype)\u001b[0m\n\u001b[1;32m     99\u001b[0m \u001b[39melse\u001b[39;00m:\n\u001b[1;32m    100\u001b[0m     \u001b[39mself\u001b[39m\u001b[39m.\u001b[39mregister_parameter(\u001b[39m'\u001b[39m\u001b[39mbias\u001b[39m\u001b[39m'\u001b[39m, \u001b[39mNone\u001b[39;00m)\n\u001b[0;32m--> 101\u001b[0m \u001b[39mself\u001b[39;49m\u001b[39m.\u001b[39;49mreset_parameters()\n",
      "File \u001b[0;32m~/.venv/lib/python3.9/site-packages/torch/nn/modules/linear.py:107\u001b[0m, in \u001b[0;36mLinear.reset_parameters\u001b[0;34m(self)\u001b[0m\n\u001b[1;32m    103\u001b[0m \u001b[39mdef\u001b[39;00m \u001b[39mreset_parameters\u001b[39m(\u001b[39mself\u001b[39m) \u001b[39m-\u001b[39m\u001b[39m>\u001b[39m \u001b[39mNone\u001b[39;00m:\n\u001b[1;32m    104\u001b[0m     \u001b[39m# Setting a=sqrt(5) in kaiming_uniform is the same as initializing with\u001b[39;00m\n\u001b[1;32m    105\u001b[0m     \u001b[39m# uniform(-1/sqrt(in_features), 1/sqrt(in_features)). For details, see\u001b[39;00m\n\u001b[1;32m    106\u001b[0m     \u001b[39m# https://github.com/pytorch/pytorch/issues/57109\u001b[39;00m\n\u001b[0;32m--> 107\u001b[0m     init\u001b[39m.\u001b[39;49mkaiming_uniform_(\u001b[39mself\u001b[39;49m\u001b[39m.\u001b[39;49mweight, a\u001b[39m=\u001b[39;49mmath\u001b[39m.\u001b[39;49msqrt(\u001b[39m5\u001b[39;49m))\n\u001b[1;32m    108\u001b[0m     \u001b[39mif\u001b[39;00m \u001b[39mself\u001b[39m\u001b[39m.\u001b[39mbias \u001b[39mis\u001b[39;00m \u001b[39mnot\u001b[39;00m \u001b[39mNone\u001b[39;00m:\n\u001b[1;32m    109\u001b[0m         fan_in, _ \u001b[39m=\u001b[39m init\u001b[39m.\u001b[39m_calculate_fan_in_and_fan_out(\u001b[39mself\u001b[39m\u001b[39m.\u001b[39mweight)\n",
      "File \u001b[0;32m~/.venv/lib/python3.9/site-packages/torch/nn/init.py:412\u001b[0m, in \u001b[0;36mkaiming_uniform_\u001b[0;34m(tensor, a, mode, nonlinearity)\u001b[0m\n\u001b[1;32m    410\u001b[0m bound \u001b[39m=\u001b[39m math\u001b[39m.\u001b[39msqrt(\u001b[39m3.0\u001b[39m) \u001b[39m*\u001b[39m std  \u001b[39m# Calculate uniform bounds from standard deviation\u001b[39;00m\n\u001b[1;32m    411\u001b[0m \u001b[39mwith\u001b[39;00m torch\u001b[39m.\u001b[39mno_grad():\n\u001b[0;32m--> 412\u001b[0m     \u001b[39mreturn\u001b[39;00m tensor\u001b[39m.\u001b[39;49muniform_(\u001b[39m-\u001b[39;49mbound, bound)\n",
      "\u001b[0;31mKeyboardInterrupt\u001b[0m: "
     ]
    }
   ],
   "source": [
    "from transformers import AutoModelForCausalLM\n",
    "model_name_or_path = \"tiiuae/falcon-40b-instruct\"\n",
    "model_basename = \"model\"\n",
    "tokenizer = AutoTokenizer.from_pretrained(model_name_or_path, use_fast=True)\n",
    "\n",
    "model = AutoModelForCausalLM.from_pretrained(\n",
    "            model_name_or_path,\n",
    "            # model_basename=model_basename,\n",
    "            use_safetensors=False,\n",
    "            trust_remote_code=False,\n",
    "            # device=\"cuda:0\",\n",
    "            # use_triton=use_triton,\n",
    "            # quantize_config=None\n",
    "            )"
   ]
  },
  {
   "cell_type": "markdown",
   "metadata": {},
   "source": []
  },
  {
   "cell_type": "markdown",
   "metadata": {
    "jp-MarkdownHeadingCollapsed": true
   },
   "source": [
    "### LLama2-70B"
   ]
  },
  {
   "cell_type": "code",
   "execution_count": 1,
   "metadata": {},
   "outputs": [],
   "source": [
    "from transformers import AutoModelForCausalLM\n",
    "model_name_or_path = \"TheBloke/Llama-2-70B-chat-GPTQ\"\n",
    "# To use a different branch, change revision\n",
    "# For example: revision=\"main\"\n",
    "untrained_model = AutoModelForCausalLM.from_pretrained(model_name_or_path,\n",
    "                                             device_map=\"auto\",\n",
    "                                             trust_remote_code=False,\n",
    "                                             revision=\"main\")\n",
    "\n"
   ]
  },
  {
   "cell_type": "markdown",
   "metadata": {
    "jp-MarkdownHeadingCollapsed": true
   },
   "source": [
    "### Fine-Tuned Llama2-70B Model on Labeled Dataset"
   ]
  },
  {
   "cell_type": "code",
   "execution_count": 4,
   "metadata": {},
   "outputs": [],
   "source": [
    "from transformers import GPTQConfig, AutoModelForCausalLM, Trainer, TrainingArguments, DataCollatorForLanguageModeling, pipeline,AutoTokenizer\n",
    "\n",
    "from peft import prepare_model_for_kbit_training,LoraConfig, get_peft_model\n",
    "\n",
    "from datasets import load_dataset\n",
    "\n",
    "TRAINING_ARGS = {\n",
    "\n",
    "    'model_id' : 'TheBloke/Llama-2-70B-chat-GPTQ',\n",
    "\n",
    "    'quantization_type' : 'GPTQ',\n",
    "\n",
    "    'trained_model_path' : None,\n",
    "\n",
    "    'training_data' : None,\n",
    "\n",
    "}\n",
    "MODEL_OUT_DIR = 'CALANCE-ProtocolScoring-Llama-2-70B-chat-GPTQ'\n",
    "\n",
    "TOKENIZER = AutoTokenizer.from_pretrained(\n",
    "    TRAINING_ARGS.get('model_id'),\n",
    "    padding_side=\"left\",\n",
    "    add_eos_token=True,\n",
    "    add_bos_token=True,\n",
    "    use_fast=True,\n",
    ")\n",
    "\n",
    "TOKENIZER.pad_token = TOKENIZER.eos_token\n",
    "\n",
    "\n",
    "def parse_train_datapoint(datapoint):\n",
    "    return f\"\"\"{datapoint['input']}{datapoint['output']}\"\"\"\n",
    "\n",
    "def generate_and_tokenize_prompt(prompt):\n",
    "    return TOKENIZER(parse_train_datapoint(prompt))\n",
    "\n",
    "# data = load_dataset(\"Abirate/english_quotes\")\n",
    "\n",
    "# data = data.map(lambda samples: tokenizer(samples[\"quote\"]), batched=True)['train']\n",
    "\n",
    "# data = load_dataset(\"json\",data_files='training_data_70b.json',split='train')\n",
    "# data = data.map(generate_and_tokenize_prompt)\n",
    "# TRAINING_ARGS['training_data'] = data\n",
    "\n",
    "\n",
    "# del data, tokenizer\n",
    "\n",
    "  \n",
    "def train_model(json_data_path,model = None, tokenizer =None, training_args = TRAINING_ARGS, out_dir=MODEL_OUT_DIR):\n",
    "    if not tokenizer:\n",
    "        tokenizer = AutoTokenizer.from_pretrained(\n",
    "            TRAINING_ARGS.get('model_id'),\n",
    "            padding_side=\"left\",\n",
    "            add_eos_token=True,\n",
    "            add_bos_token=True,\n",
    "            use_fast=True,\n",
    "        )\n",
    "    if not model:\n",
    "        if training_args.get('quantization_type') == 'GPTQ':\n",
    "            quantization_config_loading = GPTQConfig(bits=4, disable_exllama=True)\n",
    "            model = AutoModelForCausalLM.from_pretrained(training_args.get('model_id'),\n",
    "                                                     \n",
    "                                                    device_map=\"auto\",\n",
    "\n",
    "                                                    quantization_config=quantization_config_loading,\n",
    "\n",
    "                                                    trust_remote_code=False,\n",
    "\n",
    "                                                    revision=\"main\")\n",
    "    tokenizer.pad_token = tokenizer.eos_token\n",
    "    data = load_dataset(\"json\",data_files=json_data_path,split='train')\n",
    "    data = data.map(generate_and_tokenize_prompt)\n",
    "\n",
    "    model.gradient_checkpointing_enable()\n",
    "\n",
    "    model = prepare_model_for_kbit_training(model)\n",
    "\n",
    "    config = LoraConfig(\n",
    "\n",
    "        r=8,\n",
    "\n",
    "        lora_alpha=32,\n",
    "\n",
    "        # Llama2 Specific : for Falcon Use [\"dense\",\"query_key_value\"]\n",
    "\n",
    "        target_modules=[\"k_proj\",\"o_proj\",\"q_proj\",\"v_proj\"],\n",
    "\n",
    "        lora_dropout=0.05,\n",
    "\n",
    "        bias=\"none\",\n",
    "\n",
    "        task_type=\"CAUSAL_LM\"\n",
    "\n",
    "    )\n",
    "\n",
    "    model = get_peft_model(model, config)\n",
    "\n",
    "  \n",
    "\n",
    "    # Llama2 Specific\n",
    "\n",
    "    tokenizer.pad_token = tokenizer.eos_token\n",
    "\n",
    "    trainer = Trainer(\n",
    "\n",
    "        model=model,\n",
    "\n",
    "        train_dataset=data,\n",
    "\n",
    "        args=TrainingArguments(\n",
    "\n",
    "            per_device_train_batch_size=1,\n",
    "\n",
    "            gradient_accumulation_steps=4,\n",
    "\n",
    "            warmup_steps=2,\n",
    "\n",
    "            max_steps=20,\n",
    "\n",
    "            learning_rate=2e-4,\n",
    "\n",
    "            fp16=True,\n",
    "\n",
    "            logging_steps=1,\n",
    "\n",
    "            output_dir=\"outputs\",\n",
    "\n",
    "            optim=\"adamw_hf\"\n",
    "\n",
    "        ),\n",
    "\n",
    "        data_collator=DataCollatorForLanguageModeling(tokenizer, mlm=False)\n",
    "\n",
    "    )\n",
    "\n",
    "    model.config.use_cache = False  # silence the warnings. Please re-enable for inference!\n",
    "\n",
    "    trainer.train()\n",
    "    # model.save_pretrained(save_dir)\n",
    "    # model = AutoModelForCausalLM.from_pretrained(save_dir)\n",
    "    # model.config.use_cache = True\n",
    "    trainer.save_model(out_dir)\n",
    "    quantization_config_loading = GPTQConfig(bits=4, disable_exllama=True)\n",
    "    model = AutoModelForCausalLM.from_pretrained(\"CALANCE-ProtocolScoring-Llama-2-70B-chat-GPTQ\",\n",
    "                                                        device_map=\"auto\",\n",
    "                                                        quantization_config=quantization_config_loading,\n",
    "                                                )\n",
    "    return model"
   ]
  },
  {
   "cell_type": "markdown",
   "metadata": {
    "jp-MarkdownHeadingCollapsed": true
   },
   "source": [
    "#### Train and Load"
   ]
  },
  {
   "cell_type": "code",
   "execution_count": 5,
   "metadata": {},
   "outputs": [
    {
     "name": "stderr",
     "output_type": "stream",
     "text": [
      "You passed `quantization_config` to `from_pretrained` but the model you're loading already has a `quantization_config` attribute and has already quantized weights. However, loading attributes (e.g. disable_exllama, use_cuda_fp16, max_input_length) will be overwritten with the one you passed to `from_pretrained`. The rest will be ignored.\n",
      "/home/ubuntu/.venv/lib/python3.9/site-packages/transformers/optimization.py:411: FutureWarning: This implementation of AdamW is deprecated and will be removed in a future version. Use the PyTorch implementation torch.optim.AdamW instead, or set `no_deprecation_warning=True` to disable this warning\n",
      "  warnings.warn(\n",
      "You're using a LlamaTokenizerFast tokenizer. Please note that with a fast tokenizer, using the `__call__` method is faster than using a method to encode the text followed by a call to the `pad` method to get a padded encoding.\n",
      "/home/ubuntu/.venv/lib/python3.9/site-packages/torch/utils/checkpoint.py:429: UserWarning: torch.utils.checkpoint: please pass in use_reentrant=True or use_reentrant=False explicitly. The default value of use_reentrant will be updated to be False in the future. To maintain current behavior, pass use_reentrant=True. It is recommended that you use use_reentrant=False. Refer to docs for more details on the differences between the two variants.\n",
      "  warnings.warn(\n"
     ]
    },
    {
     "data": {
      "text/html": [
       "\n",
       "    <div>\n",
       "      \n",
       "      <progress value='20' max='20' style='width:300px; height:20px; vertical-align: middle;'></progress>\n",
       "      [20/20 14:38, Epoch 2/3]\n",
       "    </div>\n",
       "    <table border=\"1\" class=\"dataframe\">\n",
       "  <thead>\n",
       " <tr style=\"text-align: left;\">\n",
       "      <th>Step</th>\n",
       "      <th>Training Loss</th>\n",
       "    </tr>\n",
       "  </thead>\n",
       "  <tbody>\n",
       "    <tr>\n",
       "      <td>1</td>\n",
       "      <td>1.774100</td>\n",
       "    </tr>\n",
       "    <tr>\n",
       "      <td>2</td>\n",
       "      <td>1.443900</td>\n",
       "    </tr>\n",
       "    <tr>\n",
       "      <td>3</td>\n",
       "      <td>1.384800</td>\n",
       "    </tr>\n",
       "    <tr>\n",
       "      <td>4</td>\n",
       "      <td>1.455500</td>\n",
       "    </tr>\n",
       "    <tr>\n",
       "      <td>5</td>\n",
       "      <td>1.552300</td>\n",
       "    </tr>\n",
       "    <tr>\n",
       "      <td>6</td>\n",
       "      <td>1.478900</td>\n",
       "    </tr>\n",
       "    <tr>\n",
       "      <td>7</td>\n",
       "      <td>1.118900</td>\n",
       "    </tr>\n",
       "    <tr>\n",
       "      <td>8</td>\n",
       "      <td>1.202700</td>\n",
       "    </tr>\n",
       "    <tr>\n",
       "      <td>9</td>\n",
       "      <td>1.010300</td>\n",
       "    </tr>\n",
       "    <tr>\n",
       "      <td>10</td>\n",
       "      <td>0.863400</td>\n",
       "    </tr>\n",
       "    <tr>\n",
       "      <td>11</td>\n",
       "      <td>1.279900</td>\n",
       "    </tr>\n",
       "    <tr>\n",
       "      <td>12</td>\n",
       "      <td>1.125400</td>\n",
       "    </tr>\n",
       "    <tr>\n",
       "      <td>13</td>\n",
       "      <td>0.835000</td>\n",
       "    </tr>\n",
       "    <tr>\n",
       "      <td>14</td>\n",
       "      <td>1.173900</td>\n",
       "    </tr>\n",
       "    <tr>\n",
       "      <td>15</td>\n",
       "      <td>1.164900</td>\n",
       "    </tr>\n",
       "    <tr>\n",
       "      <td>16</td>\n",
       "      <td>0.955600</td>\n",
       "    </tr>\n",
       "    <tr>\n",
       "      <td>17</td>\n",
       "      <td>0.864000</td>\n",
       "    </tr>\n",
       "    <tr>\n",
       "      <td>18</td>\n",
       "      <td>0.834800</td>\n",
       "    </tr>\n",
       "    <tr>\n",
       "      <td>19</td>\n",
       "      <td>0.926900</td>\n",
       "    </tr>\n",
       "    <tr>\n",
       "      <td>20</td>\n",
       "      <td>0.984000</td>\n",
       "    </tr>\n",
       "  </tbody>\n",
       "</table><p>"
      ],
      "text/plain": [
       "<IPython.core.display.HTML object>"
      ]
     },
     "metadata": {},
     "output_type": "display_data"
    },
    {
     "name": "stderr",
     "output_type": "stream",
     "text": [
      "You passed `quantization_config` to `from_pretrained` but the model you're loading already has a `quantization_config` attribute and has already quantized weights. However, loading attributes (e.g. disable_exllama, use_cuda_fp16, max_input_length) will be overwritten with the one you passed to `from_pretrained`. The rest will be ignored.\n"
     ]
    }
   ],
   "source": [
    "training_data_path = 'training_data_70b.json'\n",
    "trained_model = train_model(json_data_path= training_data_path)"
   ]
  },
  {
   "cell_type": "markdown",
   "metadata": {
    "jp-MarkdownHeadingCollapsed": true
   },
   "source": [
    "#### Load Pre-trained"
   ]
  },
  {
   "cell_type": "code",
   "execution_count": 7,
   "metadata": {},
   "outputs": [
    {
     "name": "stderr",
     "output_type": "stream",
     "text": [
      "You passed `quantization_config` to `from_pretrained` but the model you're loading already has a `quantization_config` attribute and has already quantized weights. However, loading attributes (e.g. disable_exllama, use_cuda_fp16, max_input_length) will be overwritten with the one you passed to `from_pretrained`. The rest will be ignored.\n"
     ]
    }
   ],
   "source": [
    "from transformers import AutoModelForCausalLM, GPTQConfig\n",
    "trained_model_name = MODEL_OUT_DIR \n",
    "quantization_config_loading = GPTQConfig(bits=4, disable_exllama=True)\n",
    "trained_model = AutoModelForCausalLM.from_pretrained(trained_model_name,\n",
    "                                                        device_map=\"auto\",\n",
    "                                                        quantization_config=quantization_config_loading,\n",
    "                                                )"
   ]
  },
  {
   "cell_type": "markdown",
   "metadata": {
    "jp-MarkdownHeadingCollapsed": true
   },
   "source": [
    "## Q/A Chain (Combine Vec Store and LLM using Langchain)"
   ]
  },
  {
   "cell_type": "code",
   "execution_count": 21,
   "metadata": {},
   "outputs": [],
   "source": []
  },
  {
   "cell_type": "code",
   "execution_count": 6,
   "metadata": {},
   "outputs": [],
   "source": [
    "DEFAULT_SYSTEM_PROMPT = \"\"\"\n",
    "You are a helpful, respectful and honest assistant. Always answer as helpfully as possible.\n",
    "\"\"\".strip()\n",
    "\n",
    "\n",
    "def generate_prompt(prompt: str, system_prompt: str = DEFAULT_SYSTEM_PROMPT) -> str:\n",
    "    return f\"\"\"\n",
    "[INST] <>\n",
    "{system_prompt}\n",
    "<>\n",
    "{prompt} [/INST]\n",
    "\"\"\".strip()\n"
   ]
  },
  {
   "cell_type": "code",
   "execution_count": 7,
   "metadata": {},
   "outputs": [],
   "source": [
    "from langchain import PromptTemplate\n",
    "SYSTEM_PROMPT = \"Use the following pieces of context to answer the question at the end. If you don't know the answer, just say that you don't know, don't try to make up an answer.\"\n",
    "\n",
    "template = generate_prompt(\n",
    "    \"\"\"\n",
    "{context}\n",
    "\n",
    "Question: {question}\n",
    "\"\"\",\n",
    "    system_prompt=SYSTEM_PROMPT,\n",
    ")\n",
    "prompt = PromptTemplate(template=template, input_variables=[\"context\", \"question\"])"
   ]
  },
  {
   "cell_type": "code",
   "execution_count": 8,
   "metadata": {},
   "outputs": [],
   "source": [
    "from transformers import AutoTokenizer, TextStreamer, pipeline\n",
    "from langchain import HuggingFacePipeline\n",
    "# model_name_or_path = 'TheBloke/Llama-2-70B-chat-GPTQ'\n",
    "# tokenizer = AutoTokenizer.from_pretrained(model_name_or_path, use_fast=True)\n",
    "# streamer = TextStreamer(tokenizer, skip_prompt=True, skip_special_tokens=True)\n",
    "# text_pipeline = pipeline(\n",
    "#       \"text-generation\",\n",
    "#       model=untrained_model,\n",
    "#       tokenizer=tokenizer,\n",
    "#       max_new_tokens=1024,\n",
    "#       temperature=0,\n",
    "#       top_p=0.95,\n",
    "#       repetition_penalty=1.15,\n",
    "#       streamer=streamer,\n",
    "#   )\n",
    "# untrained_llm = HuggingFacePipeline(pipeline=text_pipeline, model_kwargs={\"temperature\": 0})"
   ]
  },
  {
   "cell_type": "code",
   "execution_count": 13,
   "metadata": {},
   "outputs": [],
   "source": []
  },
  {
   "cell_type": "code",
   "execution_count": 9,
   "metadata": {},
   "outputs": [],
   "source": [
    "from transformers import AutoTokenizer, TextStreamer, pipeline\n",
    "from langchain import HuggingFacePipeline\n",
    "\n",
    "tokenizer = TOKENIZER\n",
    "streamer = TextStreamer(TOKENIZER, skip_prompt=True, skip_special_tokens=True)\n",
    "text_pipeline_trained = pipeline(\n",
    "      \"text-generation\",\n",
    "      model=trained_model,\n",
    "      tokenizer=tokenizer,\n",
    "      max_new_tokens=1024,\n",
    "      temperature=0,\n",
    "      top_p=0.95,\n",
    "      repetition_penalty=1.15,\n",
    "      streamer=streamer,\n",
    "  )\n",
    "trained_llm = HuggingFacePipeline(pipeline=text_pipeline_trained, model_kwargs={\"temperature\": 0})"
   ]
  },
  {
   "cell_type": "code",
   "execution_count": 11,
   "metadata": {},
   "outputs": [],
   "source": [
    "# qa_chain = RetrievalQA.from_chain_type(\n",
    "#     llm=untrained_llm,\n",
    "#     chain_type=\"stuff\",\n",
    "#     retriever=db.as_retriever(search_kwargs={\"k\": 3}),\n",
    "#     return_source_documents=True,\n",
    "#     chain_type_kwargs={\"prompt\": prompt},\n",
    "# )\n",
    "\n",
    "\n"
   ]
  },
  {
   "cell_type": "code",
   "execution_count": 10,
   "metadata": {},
   "outputs": [],
   "source": [
    " from langchain.chains import RetrievalQA\n",
    "trained_qa_chain = RetrievalQA.from_chain_type(\n",
    "    llm=trained_llm,\n",
    "    chain_type=\"stuff\",\n",
    "    retriever=db.as_retriever(search_kwargs={\"k\": 3}),\n",
    "    return_source_documents=True,\n",
    "    chain_type_kwargs={\"prompt\": prompt},\n",
    ")"
   ]
  },
  {
   "cell_type": "markdown",
   "metadata": {
    "jp-MarkdownHeadingCollapsed": true
   },
   "source": [
    "## Inference on Sample Questions"
   ]
  },
  {
   "cell_type": "code",
   "execution_count": null,
   "metadata": {},
   "outputs": [],
   "source": []
  },
  {
   "cell_type": "code",
   "execution_count": 16,
   "metadata": {},
   "outputs": [
    {
     "name": "stderr",
     "output_type": "stream",
     "text": [
      "/home/ubuntu/.venv/lib/python3.9/site-packages/transformers/generation/configuration_utils.py:362: UserWarning: `do_sample` is set to `False`. However, `temperature` is set to `0` -- this flag is only used in sample-based generation modes. You should set `do_sample=True` or unset `temperature`.\n",
      "  warnings.warn(\n",
      "/home/ubuntu/.venv/lib/python3.9/site-packages/transformers/generation/configuration_utils.py:367: UserWarning: `do_sample` is set to `False`. However, `top_p` is set to `0.95` -- this flag is only used in sample-based generation modes. You should set `do_sample=True` or unset `top_p`.\n",
      "  warnings.warn(\n"
     ]
    },
    {
     "name": "stdout",
     "output_type": "stream",
     "text": [
      " Yes, it is. The text states, \"For a subject who experiences an elevation in aspartate aminotransferase or alanine aminotransferase that is ≥ 3 times the upper limit of normal (ULN).\"\n",
      " No, elevation in AST is not mentioned in the given text.\n",
      " Yes, it is. In section 8.7.7, there is a mention of \"alanine aminotransferase\" and its threshold value being greater than 3 times the upper limit of normal.\n",
      " No, the word \"elevation\" is not found in the given text passages. The term \"ALT\" (alanine transaminase) does not appear either. Therefore, I cannot confirm whether elevated ALT levels would constitute an adverse event (AE) according to this specific context.\n"
     ]
    }
   ],
   "source": [
    "resultdcc0_0_trained = trained_qa_chain(\"Is elevation in aspartate aminotransferase mentioned in text?\")\n",
    "resultdcc0_1_trained = trained_qa_chain(\"Is elevation in AST mentioned in text?\")\n",
    "\n",
    "resultdcc0_2_trained = trained_qa_chain(\"Is elevation in alanine aminotransferase mentioned in text?\")\n",
    "resultdcc0_3_trained = trained_qa_chain(\"Is elevation in ALT mentioned in text?\")"
   ]
  },
  {
   "cell_type": "markdown",
   "metadata": {
    "jp-MarkdownHeadingCollapsed": true
   },
   "source": [
    "## Sample Questions (Unlabeled)"
   ]
  },
  {
   "cell_type": "code",
   "execution_count": 26,
   "metadata": {},
   "outputs": [],
   "source": [
    "# sample_questions = {\n",
    "#     'study_arms':[\n",
    "#         {\"question\":\"How many number of study arms are mentioned in this text ?\" },\n",
    "#         {\"question\":\"How many treatment groups are mentioned in this text ?\" },\n",
    "#         {\"question\":\"What are the number of cohorts of subjects mentioned in this text?\"}\n",
    "#     ],\n",
    "#     'design_complexity_high':[\n",
    "#         {\"question\":\"Is Translational Medicine Research mentioned in this text?\" },\n",
    "#         {\"question\":\"Is Psychedelic Research mentioned in this text?\" },\n",
    "#         {\"question\":\"Is Abuse Liability mentioned in this text?\" },\n",
    "#         {\"question\":\"Is Basket trial mentioned in this text?\" },\n",
    "#         {\"question\":\"Is Umbrella trial mentioned in this text?\" },\n",
    "#         {\"question\":\"Is Multiple phases mentioned in this text?\" },\n",
    "#         {\"question\":\"Is Placebo-controlled mentioned in this text?\"}\n",
    "#     ],\n",
    "#     'design_complexity_medium':[\n",
    "#         {\"question\":\"Is First in Human mentioned in this text?\" },\n",
    "#         {\"question\":\"Is FIH mentioned in this text?\" },\n",
    "#         {\"question\":\"Is Single Ascending Dose mentioned in this text?\" },\n",
    "#         {\"question\":\"Is SAD mentioned in this text?\" },\n",
    "#         {\"question\":\"Is Multiple Ascending Dose mentioned in this text?\" },\n",
    "#         {\"question\":\"Is MAD mentioned in this text?\" },\n",
    "#         {\"question\":\"Is Thorough QTc mentioned in this text?\" },\n",
    "#         {\"question\":\"Is Hepatic impairment mentioned in this text?\" },\n",
    "#         {\"question\":\"Is Renal Impairment mentioned in this text?\" },\n",
    "#         {\"question\":\"Is Run-in mentioned in this text?\" },\n",
    "#         {\"question\":\"Is Observational period mentioned in this text?\" },\n",
    "#         {\"question\":\"Is Titration period mentioned in this text?\"}\n",
    "#     ],\n",
    "#     'design_complexity_low':[\n",
    "#         {\"question\":\"Is Bioavailability mentioned in this text?\" },\n",
    "#         {\"question\":\"Is BA mentioned in this text?\" },\n",
    "#         {\"question\":\"Is Bioequivalence mentioned in this text?\" },\n",
    "#         {\"question\":\"Is BE mentioned in this text?\" },\n",
    "#         {\"question\":\"Is Drug-Drug Interactions mentioned in this text?\" },\n",
    "#         {\"question\":\"Is DDI mentioned in this text ?\" },\n",
    "#         {\"question\":\"Is Mass Balance mentioned in this text ?\" },\n",
    "#         {\"question\":\"Is MB mentioned in this text?\" },\n",
    "#         {\"question\":\"Is Food Effect mentioned in this text?\" },\n",
    "#         {\"question\":\"Is FE in full text mentioned in this text?\"}\n",
    "#     ],\n",
    "#     'planned_number_of_patients':[\n",
    "#         {\"question\":\"How many patients are planned for study according to the text? Give me a number.\" },\n",
    "#         {\"question\":\"How many subjects are planned for study according to the text? Give me a number.\" },\n",
    "#         {\"question\":\"How many participants are planned for study according to the text? Give me a number.\"}\n",
    "#     ],\n",
    "# }"
   ]
  },
  {
   "cell_type": "code",
   "execution_count": 29,
   "metadata": {},
   "outputs": [
    {
     "data": {
      "text/plain": [
       "{'study_arms': [{'question': 'How many number of study arms are mentioned in this text ?',\n",
       "   'answer': \"  I don't know. The text does not mention the number of study arms explicitly. It only describes the number of subjects that will be enrolled in each age cohort, but it does not provide information about the number of study arms. Therefore, I cannot answer your question.\",\n",
       "   'context': 'cohorts (Cohorts 2 and 3), and up to 5 subjects will be enrolled in each of the 4 to 5 years \\nage cohorts (Cohorts 4 and 5). Additional subjects may be enrolled as necessary.\\n-----\\ncohorts (Cohorts 1 and 6), up to 8 subjects will be enrolled in each of the 6 to 8 years age \\ncohorts (Cohorts 2 and 3), and up to 5 subjects will be enrolled in each of the 4 to 5 years \\nage cohorts (Cohorts 4 and 5). Additional subjects may be enrolled as necessary.\\n-----\\ncohorts (Cohorts 1 and 6), up to 8 subjects will be enrolled in each of the 6 to 8 years age \\ncohorts (Cohorts 2 and 3), and up to 5 subjects will be enrolled in each of the 4 to 5 years \\nage cohorts (Cohorts 4 and 5). Additional subjects may be enrolled as necessary.',\n",
       "   'prompt': \"[INST] <>\\nUse the following pieces of context to answer the question at the end. If you don't know the answer, just say that you don't know, don't try to make up an answer.\\n<>\\n\\n\\n    cohorts (Cohorts 2 and 3), and up to 5 subjects will be enrolled in each of the 4 to 5 years \\nage cohorts (Cohorts 4 and 5). Additional subjects may be enrolled as necessary.\\n-----\\ncohorts (Cohorts 1 and 6), up to 8 subjects will be enrolled in each of the 6 to 8 years age \\ncohorts (Cohorts 2 and 3), and up to 5 subjects will be enrolled in each of the 4 to 5 years \\nage cohorts (Cohorts 4 and 5). Additional subjects may be enrolled as necessary.\\n-----\\ncohorts (Cohorts 1 and 6), up to 8 subjects will be enrolled in each of the 6 to 8 years age \\ncohorts (Cohorts 2 and 3), and up to 5 subjects will be enrolled in each of the 4 to 5 years \\nage cohorts (Cohorts 4 and 5). Additional subjects may be enrolled as necessary.\\n\\n    Question: How many number of study arms are mentioned in this text ?\\n     [/INST]\"},\n",
       "  {'question': 'How many treatment groups are mentioned in this text ?',\n",
       "   'answer': \"  I don't know.\",\n",
       "   'context': '6.2.5.3 Return Process ............................................................................................39\\n6.2.5.4 Assessment/Evaluation ...............................................................................39\\n6.3 Measures to Minimize/Avoid Bias....................................................................39\\n6.4 Subject Compliance ..........................................................................................39\\n6.5 Dose Modification.............................................................................................39\\n6.6 Prior/Concomitant Medications or Therapies ...................................................39\\n6.6.1 Prohibited Medications or Therapies..............................................................40\\n6.7 Intervention After the End of the Trial .............................................................40\\n7 Discontinuation of Trial/Treatment and Subject \\nDiscontinuation/Withdrawal.............................................................40\\n-----\\n6.2.5.2 Information Required for Reporting Purposes............................................38\\n6.2.5.3 Return Process ............................................................................................39\\n6.2.5.4 Assessment/Evaluation ...............................................................................39\\n6.3 Measures to Minimize/Avoid Bias....................................................................39\\n6.4 Subject Compliance ..........................................................................................39\\n6.5 Dose Modification.............................................................................................39\\n6.6 Prior/Concomitant Medications or Therapies ...................................................39\\n6.6.1 Prohibited Medications or Therapies..............................................................40\\n6.7 Intervention After the End of the Trial .............................................................40\\n-----\\n6.4.3 AiCure Subject Confidentiality ......................................................................49\\n6.5 Concomitant Medications or Therapies ............................................................50\\n6.5.1 Prohibited Medications or Therapies..............................................................50\\n6.5.2 Permitted Medications or Therapies...............................................................51\\n6.5.3 Rescue Medications........................................................................................51\\n6.6 Intervention After the End of the Trial..............................................................51\\n7 Stopping Rules, Withdrawal Criteria, and Procedures..................51\\n7.1 Entire Trial or Treatment...................................................................................51\\n7.2 Individual Site ...................................................................................................51',\n",
       "   'prompt': \"[INST] <>\\nUse the following pieces of context to answer the question at the end. If you don't know the answer, just say that you don't know, don't try to make up an answer.\\n<>\\n\\n\\n    6.2.5.3 Return Process ............................................................................................39\\n6.2.5.4 Assessment/Evaluation ...............................................................................39\\n6.3 Measures to Minimize/Avoid Bias....................................................................39\\n6.4 Subject Compliance ..........................................................................................39\\n6.5 Dose Modification.............................................................................................39\\n6.6 Prior/Concomitant Medications or Therapies ...................................................39\\n6.6.1 Prohibited Medications or Therapies..............................................................40\\n6.7 Intervention After the End of the Trial .............................................................40\\n7 Discontinuation of Trial/Treatment and Subject \\nDiscontinuation/Withdrawal.............................................................40\\n-----\\n6.2.5.2 Information Required for Reporting Purposes............................................38\\n6.2.5.3 Return Process ............................................................................................39\\n6.2.5.4 Assessment/Evaluation ...............................................................................39\\n6.3 Measures to Minimize/Avoid Bias....................................................................39\\n6.4 Subject Compliance ..........................................................................................39\\n6.5 Dose Modification.............................................................................................39\\n6.6 Prior/Concomitant Medications or Therapies ...................................................39\\n6.6.1 Prohibited Medications or Therapies..............................................................40\\n6.7 Intervention After the End of the Trial .............................................................40\\n-----\\n6.4.3 AiCure Subject Confidentiality ......................................................................49\\n6.5 Concomitant Medications or Therapies ............................................................50\\n6.5.1 Prohibited Medications or Therapies..............................................................50\\n6.5.2 Permitted Medications or Therapies...............................................................51\\n6.5.3 Rescue Medications........................................................................................51\\n6.6 Intervention After the End of the Trial..............................................................51\\n7 Stopping Rules, Withdrawal Criteria, and Procedures..................51\\n7.1 Entire Trial or Treatment...................................................................................51\\n7.2 Individual Site ...................................................................................................51\\n\\n    Question: How many treatment groups are mentioned in this text ?\\n     [/INST]\"},\n",
       "  {'question': 'What are the number of cohorts of subjects mentioned in this text?',\n",
       "   'answer': '  There are six cohorts mentioned in the text: Cohorts 1, 2, 3, 4, 5, and 6.',\n",
       "   'context': 'cohorts (Cohorts 2 and 3), and up to 5 subjects will be enrolled in each of the 4 to 5 years \\nage cohorts (Cohorts 4 and 5). Additional subjects may be enrolled as necessary.\\n-----\\ncohorts (Cohorts 1 and 6), up to 8 subjects will be enrolled in each of the 6 to 8 years age \\ncohorts (Cohorts 2 and 3), and up to 5 subjects will be enrolled in each of the 4 to 5 years \\nage cohorts (Cohorts 4 and 5). Additional subjects may be enrolled as necessary.\\n-----\\ncohorts (Cohorts 1 and 6), up to 8 subjects will be enrolled in each of the 6 to 8 years age \\ncohorts (Cohorts 2 and 3), and up to 5 subjects will be enrolled in each of the 4 to 5 years \\nage cohorts (Cohorts 4 and 5). Additional subjects may be enrolled as necessary.',\n",
       "   'prompt': \"[INST] <>\\nUse the following pieces of context to answer the question at the end. If you don't know the answer, just say that you don't know, don't try to make up an answer.\\n<>\\n\\n\\n    cohorts (Cohorts 2 and 3), and up to 5 subjects will be enrolled in each of the 4 to 5 years \\nage cohorts (Cohorts 4 and 5). Additional subjects may be enrolled as necessary.\\n-----\\ncohorts (Cohorts 1 and 6), up to 8 subjects will be enrolled in each of the 6 to 8 years age \\ncohorts (Cohorts 2 and 3), and up to 5 subjects will be enrolled in each of the 4 to 5 years \\nage cohorts (Cohorts 4 and 5). Additional subjects may be enrolled as necessary.\\n-----\\ncohorts (Cohorts 1 and 6), up to 8 subjects will be enrolled in each of the 6 to 8 years age \\ncohorts (Cohorts 2 and 3), and up to 5 subjects will be enrolled in each of the 4 to 5 years \\nage cohorts (Cohorts 4 and 5). Additional subjects may be enrolled as necessary.\\n\\n    Question: What are the number of cohorts of subjects mentioned in this text?\\n     [/INST]\"}],\n",
       " 'design_complexity_high': [{'question': 'Is Translational Medicine Research mentioned in this text?',\n",
       "   'answer': '  No, translational medicine research is not explicitly mentioned in the given text.',\n",
       "   'context': '2 Introduction ........................................................................................26\\n2.1 Trial Rationale...................................................................................................28\\n2.2 Background .......................................................................................................28\\n2.2.1 Pharmacokinetics............................................................................................29\\n2.3 Known and Potential Risks and Benefits ..........................................................30\\n3 Objectives and Endpoints..................................................................31\\n4 Trial Design.........................................................................................33\\n4.1 Type/Design of Trial .........................................................................................33\\n4.2 Scientific Rationale for Trial Design.................................................................36\\n-----\\nProtocol 405-201-00046\\n6\\nConfidential - Proprietary Information Approval: 15 Sep 20229.4.3.5 Pharmacogenomic Analysis........................................................................70\\n9.4.3.6 Exploratory Endpoint Analysis...................................................................70\\n9.4.3.7 Abuse Liability Analysis.............................................................................70\\n9.4.3.8 Study Medication Withdrawal Questionnaire.............................................70\\n9.4.3.9 Blood Collection Experience Survey..........................................................70\\n9.5 Interim Analysis and Adaptive Design .............................................................70\\n9.5.1 Data Monitoring Committee...........................................................................70\\n10 Supporting Documentation and Operational Considerations .......71\\n10.1 Appendix 1: Regulatory, Ethical, and Trial Oversight Considerations.............71\\n10.1.1 Ethics and Responsibility ...............................................................................71\\n10.1.2 Informed Consent ...........................................................................................71\\n10.1.3 Confidentiality ................................................................................................73\\n10.1.4 Quality Control and Quality Assurance..........................................................73\\n10.1.4.1 Monitoring ..................................................................................................73\\n10.1.4.2 Auditing ......................................................................................................73\\n10.1.5 Protocol Deviations ........................................................................................74\\n10.1.6 Records Management .....................................................................................74\\n10.1.6.1 Source Documents ......................................................................................74\\n-----\\nProtocol 405-201-00046\\n6\\nConfidential - Proprietary Information Approval: 15 Sep 20229.4.3.5 Pharmacogenomic Analysis........................................................................70\\n9.4.3.6 Exploratory Endpoint Analysis...................................................................70\\n9.4.3.7 Abuse Liability Analysis.............................................................................70\\n9.4.3.8 Study Medication Withdrawal Questionnaire.............................................70\\n9.4.3.9 Blood Collection Experience Survey..........................................................70\\n9.5 Interim Analysis and Adaptive Design .............................................................70\\n9.5.1 Data Monitoring Committee...........................................................................70\\n10 Supporting Documentation and Operational Considerations .......71\\n10.1 Appendix 1: Regulatory, Ethical, and Trial Oversight Considerations.............71\\n10.1.1 Ethics and Responsibility ...............................................................................71\\n10.1.2 Informed Consent ...........................................................................................71\\n10.1.3 Confidentiality ................................................................................................73\\n10.1.4 Quality Control and Quality Assurance..........................................................73\\n10.1.4.1 Monitoring ..................................................................................................73\\n10.1.4.2 Auditing ......................................................................................................73\\n10.1.5 Protocol Deviations ........................................................................................74\\n10.1.6 Records Management .....................................................................................74\\n10.1.6.1 Source Documents ......................................................................................74',\n",
       "   'prompt': \"[INST] <>\\nUse the following pieces of context to answer the question at the end. If you don't know the answer, just say that you don't know, don't try to make up an answer.\\n<>\\n\\n\\n    2 Introduction ........................................................................................26\\n2.1 Trial Rationale...................................................................................................28\\n2.2 Background .......................................................................................................28\\n2.2.1 Pharmacokinetics............................................................................................29\\n2.3 Known and Potential Risks and Benefits ..........................................................30\\n3 Objectives and Endpoints..................................................................31\\n4 Trial Design.........................................................................................33\\n4.1 Type/Design of Trial .........................................................................................33\\n4.2 Scientific Rationale for Trial Design.................................................................36\\n-----\\nProtocol 405-201-00046\\n6\\nConfidential - Proprietary Information Approval: 15 Sep 20229.4.3.5 Pharmacogenomic Analysis........................................................................70\\n9.4.3.6 Exploratory Endpoint Analysis...................................................................70\\n9.4.3.7 Abuse Liability Analysis.............................................................................70\\n9.4.3.8 Study Medication Withdrawal Questionnaire.............................................70\\n9.4.3.9 Blood Collection Experience Survey..........................................................70\\n9.5 Interim Analysis and Adaptive Design .............................................................70\\n9.5.1 Data Monitoring Committee...........................................................................70\\n10 Supporting Documentation and Operational Considerations .......71\\n10.1 Appendix 1: Regulatory, Ethical, and Trial Oversight Considerations.............71\\n10.1.1 Ethics and Responsibility ...............................................................................71\\n10.1.2 Informed Consent ...........................................................................................71\\n10.1.3 Confidentiality ................................................................................................73\\n10.1.4 Quality Control and Quality Assurance..........................................................73\\n10.1.4.1 Monitoring ..................................................................................................73\\n10.1.4.2 Auditing ......................................................................................................73\\n10.1.5 Protocol Deviations ........................................................................................74\\n10.1.6 Records Management .....................................................................................74\\n10.1.6.1 Source Documents ......................................................................................74\\n-----\\nProtocol 405-201-00046\\n6\\nConfidential - Proprietary Information Approval: 15 Sep 20229.4.3.5 Pharmacogenomic Analysis........................................................................70\\n9.4.3.6 Exploratory Endpoint Analysis...................................................................70\\n9.4.3.7 Abuse Liability Analysis.............................................................................70\\n9.4.3.8 Study Medication Withdrawal Questionnaire.............................................70\\n9.4.3.9 Blood Collection Experience Survey..........................................................70\\n9.5 Interim Analysis and Adaptive Design .............................................................70\\n9.5.1 Data Monitoring Committee...........................................................................70\\n10 Supporting Documentation and Operational Considerations .......71\\n10.1 Appendix 1: Regulatory, Ethical, and Trial Oversight Considerations.............71\\n10.1.1 Ethics and Responsibility ...............................................................................71\\n10.1.2 Informed Consent ...........................................................................................71\\n10.1.3 Confidentiality ................................................................................................73\\n10.1.4 Quality Control and Quality Assurance..........................................................73\\n10.1.4.1 Monitoring ..................................................................................................73\\n10.1.4.2 Auditing ......................................................................................................73\\n10.1.5 Protocol Deviations ........................................................................................74\\n10.1.6 Records Management .....................................................................................74\\n10.1.6.1 Source Documents ......................................................................................74\\n\\n    Question: Is Translational Medicine Research mentioned in this text?\\n     [/INST]\"},\n",
       "  {'question': 'Is Psychedelic Research mentioned in this text?',\n",
       "   'answer': '  No, psychedelic research is not mentioned in this text. The text focuses on clinical trials, specifically the assessment and management of overdoses, treatment emergent adverse events, and concomitant medications. It also references various guidelines and resources related to drug development and regulatory compliance but does not mention anything about psychedelic research. Therefore, the answer is no.',\n",
       "   'context': 'Section 8.8.3. This may include IREs that are captured on follow-up telephone contact or \\nat any other time point after the defined trial period and continue to report any significant \\nfollow-up information to the sponsor until the events are resolved or stabilized, or the \\nsubject is lost to follow-up or has died.\\n8.9 Treatment of Overdose\\nNot applicable.\\n8.10 Subject Assessment Recording\\n8.10.1 Mini International Neuropsychiatric Interview for Children and \\nAdolescents\\nThe MINI-KID, a structured diagnostic interview that assesses the 30 most common and \\nclinically relevant disorders or disorder subtypes in pediatrics mental health, will be \\nutilized for both diagnosis and to exclude comorbid conditions.\\n8.10.2 Study Medication Withdrawal Questionnaire\\nThe study medication withdrawal questionnaire (SMWQ) will be completed by the \\nsubject or their parent/guardian at the time points described in the schedule of \\nassessments ( Table 1.3-1).\\n-----\\n6.2.5.2 Information Required for Reporting Purposes............................................38\\n6.2.5.3 Return Process ............................................................................................39\\n6.2.5.4 Assessment/Evaluation ...............................................................................39\\n6.3 Measures to Minimize/Avoid Bias....................................................................39\\n6.4 Subject Compliance ..........................................................................................39\\n6.5 Dose Modification.............................................................................................39\\n6.6 Prior/Concomitant Medications or Therapies ...................................................39\\n6.6.1 Prohibited Medications or Therapies..............................................................40\\n6.7 Intervention After the End of the Trial .............................................................40\\n-----\\nDisorders. 5th Edition, 2013. Available from: \\nhttps://www.psychiatry.org/psychiatrists/practice/dsm.\\n6Otsuka Pharmaceutical Development and Commercialization. Centanafadine (EB-\\n1020) Investigator’s Brochure, Edition 11. Otsuka Report, issued 14 Jan 2022.\\n7US Food and Drug Administration Draft Guidance for Industry. Assessing the effects \\nof food on drugs in INDs and NDAs - clinical pharmacology considerations. \\nhttps://www.fda.gov/regulatory-information/search-fda-guidance-\\ndocuments/assessing-effects-food-drugs-inds-and-ndas-clinical-pharmacology-\\nconsiderations. Published 23 June 2022. Accessed 18 October 2022.\\n8FDA Center for Drug Evaluation and Research. Guidance for Industry: Assessment of \\nAbuse Potential of Drugs. January 2017.  \\nhttps://www.fda.gov/downloads/drugs/guidancecomplianceregulatoryinformation/gui\\ndances/ucm198650.pdf.',\n",
       "   'prompt': \"[INST] <>\\nUse the following pieces of context to answer the question at the end. If you don't know the answer, just say that you don't know, don't try to make up an answer.\\n<>\\n\\n\\n    Section 8.8.3. This may include IREs that are captured on follow-up telephone contact or \\nat any other time point after the defined trial period and continue to report any significant \\nfollow-up information to the sponsor until the events are resolved or stabilized, or the \\nsubject is lost to follow-up or has died.\\n8.9 Treatment of Overdose\\nNot applicable.\\n8.10 Subject Assessment Recording\\n8.10.1 Mini International Neuropsychiatric Interview for Children and \\nAdolescents\\nThe MINI-KID, a structured diagnostic interview that assesses the 30 most common and \\nclinically relevant disorders or disorder subtypes in pediatrics mental health, will be \\nutilized for both diagnosis and to exclude comorbid conditions.\\n8.10.2 Study Medication Withdrawal Questionnaire\\nThe study medication withdrawal questionnaire (SMWQ) will be completed by the \\nsubject or their parent/guardian at the time points described in the schedule of \\nassessments ( Table 1.3-1).\\n-----\\n6.2.5.2 Information Required for Reporting Purposes............................................38\\n6.2.5.3 Return Process ............................................................................................39\\n6.2.5.4 Assessment/Evaluation ...............................................................................39\\n6.3 Measures to Minimize/Avoid Bias....................................................................39\\n6.4 Subject Compliance ..........................................................................................39\\n6.5 Dose Modification.............................................................................................39\\n6.6 Prior/Concomitant Medications or Therapies ...................................................39\\n6.6.1 Prohibited Medications or Therapies..............................................................40\\n6.7 Intervention After the End of the Trial .............................................................40\\n-----\\nDisorders. 5th Edition, 2013. Available from: \\nhttps://www.psychiatry.org/psychiatrists/practice/dsm.\\n6Otsuka Pharmaceutical Development and Commercialization. Centanafadine (EB-\\n1020) Investigator’s Brochure, Edition 11. Otsuka Report, issued 14 Jan 2022.\\n7US Food and Drug Administration Draft Guidance for Industry. Assessing the effects \\nof food on drugs in INDs and NDAs - clinical pharmacology considerations. \\nhttps://www.fda.gov/regulatory-information/search-fda-guidance-\\ndocuments/assessing-effects-food-drugs-inds-and-ndas-clinical-pharmacology-\\nconsiderations. Published 23 June 2022. Accessed 18 October 2022.\\n8FDA Center for Drug Evaluation and Research. Guidance for Industry: Assessment of \\nAbuse Potential of Drugs. January 2017.  \\nhttps://www.fda.gov/downloads/drugs/guidancecomplianceregulatoryinformation/gui\\ndances/ucm198650.pdf.\\n\\n    Question: Is Psychedelic Research mentioned in this text?\\n     [/INST]\"},\n",
       "  {'question': 'Is Abuse Liability mentioned in this text?',\n",
       "   'answer': '  Yes, the text does mention \"Abuse Potential\" multiple times.',\n",
       "   'context': 'and that these should be recorded separately). The investigators will be provided with \\nexamples of potentially abuse-related AEs, and trained on how to handle such events \\n(eg, additional monitoring). While the investigators will be provided with examples of \\nAE terms as a guide during trial conduct, the analysis of potentially abuse-related AEs \\nwill be based on a search of all Medical Dictionary for Regulatory Activities (MedDRA) \\npreferred terms, all verbatim terms, and any open text fields within the AE data to \\nidentify text strings suggestive of abuse potential, in line with the 2017 FDA guidance \\n(Assessment of Abuse Potential of Drugs).29 Refer to the separate APMP documentation \\nfor complete details on MHIs and ESAMs, including documenting and reporting\\n-----\\nand that these should be recorded separately). The investigators will be provided with \\nexamples of potentially abuse-related AEs, and trained on how to handle such events \\n(eg, additional monitoring). While the investigators will be provided with examples of \\nAE terms as a guide during trial conduct, the analysis of potentially abuse-related AEs \\nwill be based on a search of all Medical Dictionary for Regulatory Activities (MedDRA) \\npreferred terms, all verbatim terms, and any open text fields within the AE data to \\nidentify text strings suggestive of abuse potential, in line with the 2017 FDA guidance \\n(Assessment of Abuse Potential of Drugs).29 Refer to the separate APMP documentation \\nfor complete details on MHIs and ESAMs, including documenting and reporting\\n-----\\nand that these should be recorded separately). The investigators will be provided with \\nexamples of potentially abuse-related AEs, and trained on how to handle such events \\n(eg, additional monitoring). While the investigators will be provided with examples of \\nAE terms as a guide during trial conduct, the analysis of potentially abuse-related AEs \\nwill be based on a search of all Medical Dictionary for Regulatory Activities (MedDRA) \\npreferred terms, all verbatim terms, and any open text fields within the AE data to \\nidentify text strings suggestive of abuse potential, in line with the 2017 FDA guidance \\n(Assessment of Abuse Potential of Drugs).29 Refer to the separate APMP documentation \\nfor complete details on MHIs and ESAMs, including documenting and reporting',\n",
       "   'prompt': \"[INST] <>\\nUse the following pieces of context to answer the question at the end. If you don't know the answer, just say that you don't know, don't try to make up an answer.\\n<>\\n\\n\\n    and that these should be recorded separately). The investigators will be provided with \\nexamples of potentially abuse-related AEs, and trained on how to handle such events \\n(eg, additional monitoring). While the investigators will be provided with examples of \\nAE terms as a guide during trial conduct, the analysis of potentially abuse-related AEs \\nwill be based on a search of all Medical Dictionary for Regulatory Activities (MedDRA) \\npreferred terms, all verbatim terms, and any open text fields within the AE data to \\nidentify text strings suggestive of abuse potential, in line with the 2017 FDA guidance \\n(Assessment of Abuse Potential of Drugs).29 Refer to the separate APMP documentation \\nfor complete details on MHIs and ESAMs, including documenting and reporting\\n-----\\nand that these should be recorded separately). The investigators will be provided with \\nexamples of potentially abuse-related AEs, and trained on how to handle such events \\n(eg, additional monitoring). While the investigators will be provided with examples of \\nAE terms as a guide during trial conduct, the analysis of potentially abuse-related AEs \\nwill be based on a search of all Medical Dictionary for Regulatory Activities (MedDRA) \\npreferred terms, all verbatim terms, and any open text fields within the AE data to \\nidentify text strings suggestive of abuse potential, in line with the 2017 FDA guidance \\n(Assessment of Abuse Potential of Drugs).29 Refer to the separate APMP documentation \\nfor complete details on MHIs and ESAMs, including documenting and reporting\\n-----\\nand that these should be recorded separately). The investigators will be provided with \\nexamples of potentially abuse-related AEs, and trained on how to handle such events \\n(eg, additional monitoring). While the investigators will be provided with examples of \\nAE terms as a guide during trial conduct, the analysis of potentially abuse-related AEs \\nwill be based on a search of all Medical Dictionary for Regulatory Activities (MedDRA) \\npreferred terms, all verbatim terms, and any open text fields within the AE data to \\nidentify text strings suggestive of abuse potential, in line with the 2017 FDA guidance \\n(Assessment of Abuse Potential of Drugs).29 Refer to the separate APMP documentation \\nfor complete details on MHIs and ESAMs, including documenting and reporting\\n\\n    Question: Is Abuse Liability mentioned in this text?\\n     [/INST]\"},\n",
       "  {'question': 'Is Basket trial mentioned in this text?',\n",
       "   'answer': '  No, the word \"Basket\" is not mentioned in the given text. The text only mentions \"trial\" without the word \"Basket\". Therefore, the answer to your question is no.',\n",
       "   'context': 'trial, investigators or other trial subjects consent to such acknowledgement in any \\npublications resulting from its conduct.\\n-----\\nProtocol 405-201-00018\\n66\\nConfidential - Proprietary Information Amendment 4 Approval: 22 Nov 2022to participate in the trial, investigators or other personnel involved in the conduct of the \\ntrial consent to such acknowledgement in any publications resulting from its conduct.\\n-----\\nProtocol 405-201-00018\\n66\\nConfidential - Proprietary Information Amendment 4 Approval: 22 Nov 2022to participate in the trial, investigators or other personnel involved in the conduct of the \\ntrial consent to such acknowledgement in any publications resulting from its conduct.',\n",
       "   'prompt': \"[INST] <>\\nUse the following pieces of context to answer the question at the end. If you don't know the answer, just say that you don't know, don't try to make up an answer.\\n<>\\n\\n\\n    trial, investigators or other trial subjects consent to such acknowledgement in any \\npublications resulting from its conduct.\\n-----\\nProtocol 405-201-00018\\n66\\nConfidential - Proprietary Information Amendment 4 Approval: 22 Nov 2022to participate in the trial, investigators or other personnel involved in the conduct of the \\ntrial consent to such acknowledgement in any publications resulting from its conduct.\\n-----\\nProtocol 405-201-00018\\n66\\nConfidential - Proprietary Information Amendment 4 Approval: 22 Nov 2022to participate in the trial, investigators or other personnel involved in the conduct of the \\ntrial consent to such acknowledgement in any publications resulting from its conduct.\\n\\n    Question: Is Basket trial mentioned in this text?\\n     [/INST]\"},\n",
       "  {'question': 'Is Umbrella trial mentioned in this text?',\n",
       "   'answer': '  No, the word \"umbrella\" is not present in the given text. The text mentions a trial, but it does not specify that it is an umbrella trial. Therefore, based on the information provided, the answer to the question is no.',\n",
       "   'context': 'Protocol 405-201-00018\\n66\\nConfidential - Proprietary Information Amendment 4 Approval: 22 Nov 2022to participate in the trial, investigators or other personnel involved in the conduct of the \\ntrial consent to such acknowledgement in any publications resulting from its conduct.\\n-----\\nProtocol 405-201-00018\\n66\\nConfidential - Proprietary Information Amendment 4 Approval: 22 Nov 2022to participate in the trial, investigators or other personnel involved in the conduct of the \\ntrial consent to such acknowledgement in any publications resulting from its conduct.\\n-----\\nProtocol 405-201-00018\\n66\\nConfidential - Proprietary Information Amendment 4 Approval: 22 Nov 2022to participate in the trial, investigators or other personnel involved in the conduct of the \\ntrial consent to such acknowledgement in any publications resulting from its conduct.',\n",
       "   'prompt': \"[INST] <>\\nUse the following pieces of context to answer the question at the end. If you don't know the answer, just say that you don't know, don't try to make up an answer.\\n<>\\n\\n\\n    Protocol 405-201-00018\\n66\\nConfidential - Proprietary Information Amendment 4 Approval: 22 Nov 2022to participate in the trial, investigators or other personnel involved in the conduct of the \\ntrial consent to such acknowledgement in any publications resulting from its conduct.\\n-----\\nProtocol 405-201-00018\\n66\\nConfidential - Proprietary Information Amendment 4 Approval: 22 Nov 2022to participate in the trial, investigators or other personnel involved in the conduct of the \\ntrial consent to such acknowledgement in any publications resulting from its conduct.\\n-----\\nProtocol 405-201-00018\\n66\\nConfidential - Proprietary Information Amendment 4 Approval: 22 Nov 2022to participate in the trial, investigators or other personnel involved in the conduct of the \\ntrial consent to such acknowledgement in any publications resulting from its conduct.\\n\\n    Question: Is Umbrella trial mentioned in this text?\\n     [/INST]\"},\n",
       "  {'question': 'Is Multiple phases mentioned in this text?',\n",
       "   'answer': '  Yes, multiple phases are mentioned in the text. They are:\\n\\n* Screening phase (Days -21 to -1)\\n* Inpatient stay (7 days)\\n* Safety follow-up telephone call (7 days after the second dose of IMP, Day 11 (+2))',\n",
       "   'context': 'these tests must be reviewed by the investigator prior to initiation of the administration of \\nthe IMP. Additional urine and blood samples may be collected for further evaluation of \\nsafety as warranted by the investigator’s judgment. Reports from the central laboratory \\nwill be assessed by the investigator or qualified designee for clinical significance within \\nthe eSource.\\nSubjects should be monitored for potentially clinically significant clinical laboratory \\nvalues ( Section 10.4).\\nA urine or serum pregnancy test for females will be performed in Cohorts 1 and 6 only at \\nthe time points described in the schedule of assessments ( Table 1.3-1). On suspicion of \\npregnancy, an unscheduled urine or serum pregnancy test will be performed. Positive \\nurine pregnancy tests must be confirmed with a serum pregnancy test. The investigator \\n(or appropriate site staff) is advised to counsel participants on the risk of pregnancy while\\n-----\\nto approximately 32 days, including a screening phase (Days −21 to −1), a 7-day \\ninpatient stay, and a safety follow-up telephone call 7 days after the second dose of IMP \\n(Day 11 [+2]).\\nThe assessments to be conducted during the trial are summarized in Table 1.3-1 and \\nTable 1.3-2\\n-----\\nto approximately 32 days, including a screening phase (Days −21 to −1), a 7-day \\ninpatient stay, and a safety follow-up telephone call 7 days after the second dose of IMP \\n(Day 11 [+2]).\\nThe assessments to be conducted during the trial are summarized in Table 1.3-1 and \\nTable 1.3-2',\n",
       "   'prompt': \"[INST] <>\\nUse the following pieces of context to answer the question at the end. If you don't know the answer, just say that you don't know, don't try to make up an answer.\\n<>\\n\\n\\n    these tests must be reviewed by the investigator prior to initiation of the administration of \\nthe IMP. Additional urine and blood samples may be collected for further evaluation of \\nsafety as warranted by the investigator’s judgment. Reports from the central laboratory \\nwill be assessed by the investigator or qualified designee for clinical significance within \\nthe eSource.\\nSubjects should be monitored for potentially clinically significant clinical laboratory \\nvalues ( Section 10.4).\\nA urine or serum pregnancy test for females will be performed in Cohorts 1 and 6 only at \\nthe time points described in the schedule of assessments ( Table 1.3-1). On suspicion of \\npregnancy, an unscheduled urine or serum pregnancy test will be performed. Positive \\nurine pregnancy tests must be confirmed with a serum pregnancy test. The investigator \\n(or appropriate site staff) is advised to counsel participants on the risk of pregnancy while\\n-----\\nto approximately 32 days, including a screening phase (Days −21 to −1), a 7-day \\ninpatient stay, and a safety follow-up telephone call 7 days after the second dose of IMP \\n(Day 11 [+2]).\\nThe assessments to be conducted during the trial are summarized in Table 1.3-1 and \\nTable 1.3-2\\n-----\\nto approximately 32 days, including a screening phase (Days −21 to −1), a 7-day \\ninpatient stay, and a safety follow-up telephone call 7 days after the second dose of IMP \\n(Day 11 [+2]).\\nThe assessments to be conducted during the trial are summarized in Table 1.3-1 and \\nTable 1.3-2\\n\\n    Question: Is Multiple phases mentioned in this text?\\n     [/INST]\"},\n",
       "  {'question': 'Is Placebo-controlled mentioned in this text?',\n",
       "   'answer': '  No, the word \"placebo-controlled\" is not mentioned in the provided text.',\n",
       "   'context': '6.2.5.3 Return Process ............................................................................................39\\n6.2.5.4 Assessment/Evaluation ...............................................................................39\\n6.3 Measures to Minimize/Avoid Bias....................................................................39\\n6.4 Subject Compliance ..........................................................................................39\\n6.5 Dose Modification.............................................................................................39\\n6.6 Prior/Concomitant Medications or Therapies ...................................................39\\n6.6.1 Prohibited Medications or Therapies..............................................................40\\n6.7 Intervention After the End of the Trial .............................................................40\\n7 Discontinuation of Trial/Treatment and Subject \\nDiscontinuation/Withdrawal.............................................................40\\n-----\\n6.2.5.2 Information Required for Reporting Purposes............................................38\\n6.2.5.3 Return Process ............................................................................................39\\n6.2.5.4 Assessment/Evaluation ...............................................................................39\\n6.3 Measures to Minimize/Avoid Bias....................................................................39\\n6.4 Subject Compliance ..........................................................................................39\\n6.5 Dose Modification.............................................................................................39\\n6.6 Prior/Concomitant Medications or Therapies ...................................................39\\n6.6.1 Prohibited Medications or Therapies..............................................................40\\n6.7 Intervention After the End of the Trial .............................................................40\\n-----\\n2 Introduction........................................................................................26\\n2.1 Trial Rationale...................................................................................................27\\n2.2 Background .......................................................................................................27\\n2.3 Known and Potential Risks and Benefits..........................................................28\\n3 Objectives, Endpoints, and Estimands.............................................29\\n4 Trial Design.........................................................................................29\\n4.1 Type/Design of Trial.........................................................................................29\\n4.2 Scientific Rationale for Trial Design ................................................................31\\n4.3 Dosing Rationale...............................................................................................31',\n",
       "   'prompt': \"[INST] <>\\nUse the following pieces of context to answer the question at the end. If you don't know the answer, just say that you don't know, don't try to make up an answer.\\n<>\\n\\n\\n    6.2.5.3 Return Process ............................................................................................39\\n6.2.5.4 Assessment/Evaluation ...............................................................................39\\n6.3 Measures to Minimize/Avoid Bias....................................................................39\\n6.4 Subject Compliance ..........................................................................................39\\n6.5 Dose Modification.............................................................................................39\\n6.6 Prior/Concomitant Medications or Therapies ...................................................39\\n6.6.1 Prohibited Medications or Therapies..............................................................40\\n6.7 Intervention After the End of the Trial .............................................................40\\n7 Discontinuation of Trial/Treatment and Subject \\nDiscontinuation/Withdrawal.............................................................40\\n-----\\n6.2.5.2 Information Required for Reporting Purposes............................................38\\n6.2.5.3 Return Process ............................................................................................39\\n6.2.5.4 Assessment/Evaluation ...............................................................................39\\n6.3 Measures to Minimize/Avoid Bias....................................................................39\\n6.4 Subject Compliance ..........................................................................................39\\n6.5 Dose Modification.............................................................................................39\\n6.6 Prior/Concomitant Medications or Therapies ...................................................39\\n6.6.1 Prohibited Medications or Therapies..............................................................40\\n6.7 Intervention After the End of the Trial .............................................................40\\n-----\\n2 Introduction........................................................................................26\\n2.1 Trial Rationale...................................................................................................27\\n2.2 Background .......................................................................................................27\\n2.3 Known and Potential Risks and Benefits..........................................................28\\n3 Objectives, Endpoints, and Estimands.............................................29\\n4 Trial Design.........................................................................................29\\n4.1 Type/Design of Trial.........................................................................................29\\n4.2 Scientific Rationale for Trial Design ................................................................31\\n4.3 Dosing Rationale...............................................................................................31\\n\\n    Question: Is Placebo-controlled mentioned in this text?\\n     [/INST]\"}],\n",
       " 'design_complexity_medium': [{'question': 'Is First in Human mentioned in this text?',\n",
       "   'answer': '  No, the abbreviation FiH or the phrase \"First in Human\" does not appear in the provided text.',\n",
       "   'context': 'Protocol 405-201-00046\\n10\\nConfidential - Proprietary Information Approval: 15 Sep 2022List of Abbreviations\\nAbbreviation Definition\\nADHD Attention-deficit hyperactivity disorder\\nADHD-RS-5 Attention-deficit hyperactivity disorder Rating Scale - 5\\nAE Adverse event\\nAESI Adverse event of special interest\\nAIDS Acquired immunodeficiency syndrome\\nALT Alanine aminotransferase\\nAnti-HCV Hepatitis C antibodies\\nAPMP Abuse Potential Monitoring Process\\nAST Aspartate aminotransferase\\nAUC 0-24hArea under the concentration-time curve from time 0 to 24 hours\\nBMI Body mass index\\nC24hConcentration of drug in plasma at 24 hours\\nCGI-S Clinical Global Impression - Severity\\nCI Confidence interval\\nCIOMS Council for International Organizations of Medical Science\\nCmaxMaximal peak plasma concentration\\nC-SSRS Columbia-Suicide Severity Rating Scale\\nDA Dopamine\\nDL Drug load\\nDNA Deoxyribonucleic acid\\nDR Delayed release\\nDSM-IV Diagnostic and Statistical Manual of Mental Disorders - 4th Edition\\nDSM-5 Diagnostic and Statistical Manual of Mental Disorders - 5th Edition\\nECG Electrocardiogram\\neICF Electronic informed consent\\nESAM Events Subject to Additional Monitoring\\nET Early termination\\nFBR Future biospecimen research\\nFDA Food and Drug Administration\\nGCP Good Clinical Practice\\nH/I Hyperactivity/impulsivity\\nHbA 1cGlycated hemoglobin\\nHBsAg Hepatitis B surface antigen\\nHIPAA Health Insurance Portability and Accountability Act\\nHIV Human immunodeficiency virus\\nIA Inattentive\\nIB Investigator’s Brochure\\nICH International Council for Harmonisation\\nICMJE International Committee of Medical Journal Editors\\nID Identifier\\nIDDM Insulin dependent diabetes mellitus\\nIMP Investigational medicinal product\\nIND Investigational New Drug\\n-----\\nProtocol 405-201-00046\\n10\\nConfidential - Proprietary Information Approval: 15 Sep 2022List of Abbreviations\\nAbbreviation Definition\\nADHD Attention-deficit hyperactivity disorder\\nADHD-RS-5 Attention-deficit hyperactivity disorder Rating Scale - 5\\nAE Adverse event\\nAESI Adverse event of special interest\\nAIDS Acquired immunodeficiency syndrome\\nALT Alanine aminotransferase\\nAnti-HCV Hepatitis C antibodies\\nAPMP Abuse Potential Monitoring Process\\nAST Aspartate aminotransferase\\nAUC 0-24hArea under the concentration-time curve from time 0 to 24 hours\\nBMI Body mass index\\nC24hConcentration of drug in plasma at 24 hours\\nCGI-S Clinical Global Impression - Severity\\nCI Confidence interval\\nCIOMS Council for International Organizations of Medical Science\\nCmaxMaximal peak plasma concentration\\nC-SSRS Columbia-Suicide Severity Rating Scale\\nDA Dopamine\\nDL Drug load\\nDNA Deoxyribonucleic acid\\nDR Delayed release\\nDSM-IV Diagnostic and Statistical Manual of Mental Disorders - 4th Edition\\nDSM-5 Diagnostic and Statistical Manual of Mental Disorders - 5th Edition\\nECG Electrocardiogram\\neICF Electronic informed consent\\nESAM Events Subject to Additional Monitoring\\nET Early termination\\nFBR Future biospecimen research\\nFDA Food and Drug Administration\\nGCP Good Clinical Practice\\nH/I Hyperactivity/impulsivity\\nHbA 1cGlycated hemoglobin\\nHBsAg Hepatitis B surface antigen\\nHIPAA Health Insurance Portability and Accountability Act\\nHIV Human immunodeficiency virus\\nIA Inattentive\\nIB Investigator’s Brochure\\nICH International Council for Harmonisation\\nICMJE International Committee of Medical Journal Editors\\nID Identifier\\nIDDM Insulin dependent diabetes mellitus\\nIMP Investigational medicinal product\\nIND Investigational New Drug\\n-----\\nProtocol 405-201-00046\\n10\\nConfidential - Proprietary Information Approval: 15 Sep 2022List of Abbreviations\\nAbbreviation Definition\\nADHD Attention-deficit hyperactivity disorder\\nADHD-RS-5 Attention-deficit hyperactivity disorder Rating Scale - 5\\nAE Adverse event\\nAESI Adverse event of special interest\\nAIDS Acquired immunodeficiency syndrome\\nALT Alanine aminotransferase\\nAnti-HCV Hepatitis C antibodies\\nAPMP Abuse Potential Monitoring Process\\nAST Aspartate aminotransferase\\nAUC 0-24hArea under the concentration-time curve from time 0 to 24 hours\\nBMI Body mass index\\nC24hConcentration of drug in plasma at 24 hours\\nCGI-S Clinical Global Impression - Severity\\nCI Confidence interval\\nCIOMS Council for International Organizations of Medical Science\\nCmaxMaximal peak plasma concentration\\nC-SSRS Columbia-Suicide Severity Rating Scale\\nDA Dopamine\\nDL Drug load\\nDNA Deoxyribonucleic acid\\nDR Delayed release\\nDSM-IV Diagnostic and Statistical Manual of Mental Disorders - 4th Edition\\nDSM-5 Diagnostic and Statistical Manual of Mental Disorders - 5th Edition\\nECG Electrocardiogram\\neICF Electronic informed consent\\nESAM Events Subject to Additional Monitoring\\nET Early termination\\nFBR Future biospecimen research\\nFDA Food and Drug Administration\\nGCP Good Clinical Practice\\nH/I Hyperactivity/impulsivity\\nHbA 1cGlycated hemoglobin\\nHBsAg Hepatitis B surface antigen\\nHIPAA Health Insurance Portability and Accountability Act\\nHIV Human immunodeficiency virus\\nIA Inattentive\\nIB Investigator’s Brochure\\nICH International Council for Harmonisation\\nICMJE International Committee of Medical Journal Editors\\nID Identifier\\nIDDM Insulin dependent diabetes mellitus\\nIMP Investigational medicinal product\\nIND Investigational New Drug',\n",
       "   'prompt': \"[INST] <>\\nUse the following pieces of context to answer the question at the end. If you don't know the answer, just say that you don't know, don't try to make up an answer.\\n<>\\n\\n\\n    Protocol 405-201-00046\\n10\\nConfidential - Proprietary Information Approval: 15 Sep 2022List of Abbreviations\\nAbbreviation Definition\\nADHD Attention-deficit hyperactivity disorder\\nADHD-RS-5 Attention-deficit hyperactivity disorder Rating Scale - 5\\nAE Adverse event\\nAESI Adverse event of special interest\\nAIDS Acquired immunodeficiency syndrome\\nALT Alanine aminotransferase\\nAnti-HCV Hepatitis C antibodies\\nAPMP Abuse Potential Monitoring Process\\nAST Aspartate aminotransferase\\nAUC 0-24hArea under the concentration-time curve from time 0 to 24 hours\\nBMI Body mass index\\nC24hConcentration of drug in plasma at 24 hours\\nCGI-S Clinical Global Impression - Severity\\nCI Confidence interval\\nCIOMS Council for International Organizations of Medical Science\\nCmaxMaximal peak plasma concentration\\nC-SSRS Columbia-Suicide Severity Rating Scale\\nDA Dopamine\\nDL Drug load\\nDNA Deoxyribonucleic acid\\nDR Delayed release\\nDSM-IV Diagnostic and Statistical Manual of Mental Disorders - 4th Edition\\nDSM-5 Diagnostic and Statistical Manual of Mental Disorders - 5th Edition\\nECG Electrocardiogram\\neICF Electronic informed consent\\nESAM Events Subject to Additional Monitoring\\nET Early termination\\nFBR Future biospecimen research\\nFDA Food and Drug Administration\\nGCP Good Clinical Practice\\nH/I Hyperactivity/impulsivity\\nHbA 1cGlycated hemoglobin\\nHBsAg Hepatitis B surface antigen\\nHIPAA Health Insurance Portability and Accountability Act\\nHIV Human immunodeficiency virus\\nIA Inattentive\\nIB Investigator’s Brochure\\nICH International Council for Harmonisation\\nICMJE International Committee of Medical Journal Editors\\nID Identifier\\nIDDM Insulin dependent diabetes mellitus\\nIMP Investigational medicinal product\\nIND Investigational New Drug\\n-----\\nProtocol 405-201-00046\\n10\\nConfidential - Proprietary Information Approval: 15 Sep 2022List of Abbreviations\\nAbbreviation Definition\\nADHD Attention-deficit hyperactivity disorder\\nADHD-RS-5 Attention-deficit hyperactivity disorder Rating Scale - 5\\nAE Adverse event\\nAESI Adverse event of special interest\\nAIDS Acquired immunodeficiency syndrome\\nALT Alanine aminotransferase\\nAnti-HCV Hepatitis C antibodies\\nAPMP Abuse Potential Monitoring Process\\nAST Aspartate aminotransferase\\nAUC 0-24hArea under the concentration-time curve from time 0 to 24 hours\\nBMI Body mass index\\nC24hConcentration of drug in plasma at 24 hours\\nCGI-S Clinical Global Impression - Severity\\nCI Confidence interval\\nCIOMS Council for International Organizations of Medical Science\\nCmaxMaximal peak plasma concentration\\nC-SSRS Columbia-Suicide Severity Rating Scale\\nDA Dopamine\\nDL Drug load\\nDNA Deoxyribonucleic acid\\nDR Delayed release\\nDSM-IV Diagnostic and Statistical Manual of Mental Disorders - 4th Edition\\nDSM-5 Diagnostic and Statistical Manual of Mental Disorders - 5th Edition\\nECG Electrocardiogram\\neICF Electronic informed consent\\nESAM Events Subject to Additional Monitoring\\nET Early termination\\nFBR Future biospecimen research\\nFDA Food and Drug Administration\\nGCP Good Clinical Practice\\nH/I Hyperactivity/impulsivity\\nHbA 1cGlycated hemoglobin\\nHBsAg Hepatitis B surface antigen\\nHIPAA Health Insurance Portability and Accountability Act\\nHIV Human immunodeficiency virus\\nIA Inattentive\\nIB Investigator’s Brochure\\nICH International Council for Harmonisation\\nICMJE International Committee of Medical Journal Editors\\nID Identifier\\nIDDM Insulin dependent diabetes mellitus\\nIMP Investigational medicinal product\\nIND Investigational New Drug\\n-----\\nProtocol 405-201-00046\\n10\\nConfidential - Proprietary Information Approval: 15 Sep 2022List of Abbreviations\\nAbbreviation Definition\\nADHD Attention-deficit hyperactivity disorder\\nADHD-RS-5 Attention-deficit hyperactivity disorder Rating Scale - 5\\nAE Adverse event\\nAESI Adverse event of special interest\\nAIDS Acquired immunodeficiency syndrome\\nALT Alanine aminotransferase\\nAnti-HCV Hepatitis C antibodies\\nAPMP Abuse Potential Monitoring Process\\nAST Aspartate aminotransferase\\nAUC 0-24hArea under the concentration-time curve from time 0 to 24 hours\\nBMI Body mass index\\nC24hConcentration of drug in plasma at 24 hours\\nCGI-S Clinical Global Impression - Severity\\nCI Confidence interval\\nCIOMS Council for International Organizations of Medical Science\\nCmaxMaximal peak plasma concentration\\nC-SSRS Columbia-Suicide Severity Rating Scale\\nDA Dopamine\\nDL Drug load\\nDNA Deoxyribonucleic acid\\nDR Delayed release\\nDSM-IV Diagnostic and Statistical Manual of Mental Disorders - 4th Edition\\nDSM-5 Diagnostic and Statistical Manual of Mental Disorders - 5th Edition\\nECG Electrocardiogram\\neICF Electronic informed consent\\nESAM Events Subject to Additional Monitoring\\nET Early termination\\nFBR Future biospecimen research\\nFDA Food and Drug Administration\\nGCP Good Clinical Practice\\nH/I Hyperactivity/impulsivity\\nHbA 1cGlycated hemoglobin\\nHBsAg Hepatitis B surface antigen\\nHIPAA Health Insurance Portability and Accountability Act\\nHIV Human immunodeficiency virus\\nIA Inattentive\\nIB Investigator’s Brochure\\nICH International Council for Harmonisation\\nICMJE International Committee of Medical Journal Editors\\nID Identifier\\nIDDM Insulin dependent diabetes mellitus\\nIMP Investigational medicinal product\\nIND Investigational New Drug\\n\\n    Question: Is First in Human mentioned in this text?\\n     [/INST]\"},\n",
       "  {'question': 'Is FIH mentioned in this text?',\n",
       "   'answer': '  No, the text does not mention FIH.',\n",
       "   'context': 'If a FBR substudy is planned, a separate document describing the analysis may be \\nprepared and the results may be reported separately from the clinical study report.\\n-----\\nIf a FBR substudy is planned, a separate document describing the analysis may be \\nprepared and the results may be reported separately from the clinical study report.\\n-----\\nIf a FBR substudy is planned, a separate document describing the analysis may be \\nprepared and the results may be reported separately from the clinical study report.',\n",
       "   'prompt': \"[INST] <>\\nUse the following pieces of context to answer the question at the end. If you don't know the answer, just say that you don't know, don't try to make up an answer.\\n<>\\n\\n\\n    If a FBR substudy is planned, a separate document describing the analysis may be \\nprepared and the results may be reported separately from the clinical study report.\\n-----\\nIf a FBR substudy is planned, a separate document describing the analysis may be \\nprepared and the results may be reported separately from the clinical study report.\\n-----\\nIf a FBR substudy is planned, a separate document describing the analysis may be \\nprepared and the results may be reported separately from the clinical study report.\\n\\n    Question: Is FIH mentioned in this text?\\n     [/INST]\"},\n",
       "  {'question': 'Is Single Ascending Dose mentioned in this text?',\n",
       "   'answer': '  No, the text does not mention \"Single Ascending Dose.\"',\n",
       "   'context': 'centanafadine SR tablet dose will be administered 5 hours after the first dose. All doses \\nwill be taken with 240 mL room temperature water. Additional water will be available ad \\nlibitum except for ± 1 hour for the morning dose.\\nIn Arm 3, a 328.8-mg centanafadine QD XR capsule will be administered in the fed and \\nfasted states. In the fed state, dosing will occur within 30 minutes of the start of \\nconsuming a high-fat, high-calorie meal. Dosing in the fasted state will be as described \\nabove.\\nTrial Assessments:\\nAssessments for Pharmacokinetics/Pharmacogenomics: blood sampling for plasma \\nconcentrations of centanafadine and metabolite, pharmacogenomics (to examine gene \\nvariants of drug-metabolizing enzymes and transporters, such as monoamine oxidase A), \\nand optional future biospecimen research for Arms 1 and 2.\\nAssessments for Safety: adverse events (AEs), clinical laboratory tests, 12-lead ECG, \\nvital signs, and physical examination findings, assessment of suicidality (C-SSRS).\\n-----\\nRDOV216419, 2013.\\n23Heal DJ, Smith SL, Kulkarni RS, Rowley HL. New perspectives from microdialysis \\nstudies in freely-moving, spontaneously hypertensive rats on the pharmacology of \\ndrugs for the treatment of ADHD. Pharmacol Biochem Behav. 2008;90(2):184-197.\\n24Otsuka Pharmaceutical Development and Commercialization. Centanafadine \\n(EB-1020) Investigator’s Brochure, Edition 10. Otsuka Report, issued 22 Dec 2020.\\n25Momper JD, Mulugeta Y, Green DJ, Karesh A, Krudys KM, Sachs HC, et al. \\nAdolescent dosing and labeling since the Food and Drug Administration \\nAmendments Act of 2007. JAMA Pediatr. 2013;167(10):926-932.\\n26Liu T, Ghafoori P, Gobburu JV. Allometry is a reasonable choice in pediatric drug \\ndevelopment. J Clin Pharmacol. 2017;57(4):469-475.\\n27Abdulla S, Amuri B, Kabanywanyi AM, Ubben D, Reynolds C, Pascoe S, et al. Early \\nclinical development of artemetherl-umefantrine dispersible tablet: palatability of \\nthree flavours and bioavailability in healthy subjects. Malar J. 2010;9:253. \\n28Posner K, Oquendo MA, Gould M, Stanley B, Davies M. Columbia Classification \\nAlgorithm of Suicide Assessment (C-CASA): classification of suicidal events in the \\nFDA’s pediatric suicidal risk analysis of antidepressants. Am J Psychiatry. \\n2007;164(7):1035–104.\\n-----\\nRDOV216419, 2013.\\n23Heal DJ, Smith SL, Kulkarni RS, Rowley HL. New perspectives from microdialysis \\nstudies in freely-moving, spontaneously hypertensive rats on the pharmacology of \\ndrugs for the treatment of ADHD. Pharmacol Biochem Behav. 2008;90(2):184-197.\\n24Otsuka Pharmaceutical Development and Commercialization. Centanafadine \\n(EB-1020) Investigator’s Brochure, Edition 10. Otsuka Report, issued 22 Dec 2020.\\n25Momper JD, Mulugeta Y, Green DJ, Karesh A, Krudys KM, Sachs HC, et al. \\nAdolescent dosing and labeling since the Food and Drug Administration \\nAmendments Act of 2007. JAMA Pediatr. 2013;167(10):926-932.\\n26Liu T, Ghafoori P, Gobburu JV. Allometry is a reasonable choice in pediatric drug \\ndevelopment. J Clin Pharmacol. 2017;57(4):469-475.\\n27Abdulla S, Amuri B, Kabanywanyi AM, Ubben D, Reynolds C, Pascoe S, et al. Early \\nclinical development of artemetherl-umefantrine dispersible tablet: palatability of \\nthree flavours and bioavailability in healthy subjects. Malar J. 2010;9:253. \\n28Posner K, Oquendo MA, Gould M, Stanley B, Davies M. Columbia Classification \\nAlgorithm of Suicide Assessment (C-CASA): classification of suicidal events in the \\nFDA’s pediatric suicidal risk analysis of antidepressants. Am J Psychiatry. \\n2007;164(7):1035–104.',\n",
       "   'prompt': \"[INST] <>\\nUse the following pieces of context to answer the question at the end. If you don't know the answer, just say that you don't know, don't try to make up an answer.\\n<>\\n\\n\\n    centanafadine SR tablet dose will be administered 5 hours after the first dose. All doses \\nwill be taken with 240 mL room temperature water. Additional water will be available ad \\nlibitum except for ± 1 hour for the morning dose.\\nIn Arm 3, a 328.8-mg centanafadine QD XR capsule will be administered in the fed and \\nfasted states. In the fed state, dosing will occur within 30 minutes of the start of \\nconsuming a high-fat, high-calorie meal. Dosing in the fasted state will be as described \\nabove.\\nTrial Assessments:\\nAssessments for Pharmacokinetics/Pharmacogenomics: blood sampling for plasma \\nconcentrations of centanafadine and metabolite, pharmacogenomics (to examine gene \\nvariants of drug-metabolizing enzymes and transporters, such as monoamine oxidase A), \\nand optional future biospecimen research for Arms 1 and 2.\\nAssessments for Safety: adverse events (AEs), clinical laboratory tests, 12-lead ECG, \\nvital signs, and physical examination findings, assessment of suicidality (C-SSRS).\\n-----\\nRDOV216419, 2013.\\n23Heal DJ, Smith SL, Kulkarni RS, Rowley HL. New perspectives from microdialysis \\nstudies in freely-moving, spontaneously hypertensive rats on the pharmacology of \\ndrugs for the treatment of ADHD. Pharmacol Biochem Behav. 2008;90(2):184-197.\\n24Otsuka Pharmaceutical Development and Commercialization. Centanafadine \\n(EB-1020) Investigator’s Brochure, Edition 10. Otsuka Report, issued 22 Dec 2020.\\n25Momper JD, Mulugeta Y, Green DJ, Karesh A, Krudys KM, Sachs HC, et al. \\nAdolescent dosing and labeling since the Food and Drug Administration \\nAmendments Act of 2007. JAMA Pediatr. 2013;167(10):926-932.\\n26Liu T, Ghafoori P, Gobburu JV. Allometry is a reasonable choice in pediatric drug \\ndevelopment. J Clin Pharmacol. 2017;57(4):469-475.\\n27Abdulla S, Amuri B, Kabanywanyi AM, Ubben D, Reynolds C, Pascoe S, et al. Early \\nclinical development of artemetherl-umefantrine dispersible tablet: palatability of \\nthree flavours and bioavailability in healthy subjects. Malar J. 2010;9:253. \\n28Posner K, Oquendo MA, Gould M, Stanley B, Davies M. Columbia Classification \\nAlgorithm of Suicide Assessment (C-CASA): classification of suicidal events in the \\nFDA’s pediatric suicidal risk analysis of antidepressants. Am J Psychiatry. \\n2007;164(7):1035–104.\\n-----\\nRDOV216419, 2013.\\n23Heal DJ, Smith SL, Kulkarni RS, Rowley HL. New perspectives from microdialysis \\nstudies in freely-moving, spontaneously hypertensive rats on the pharmacology of \\ndrugs for the treatment of ADHD. Pharmacol Biochem Behav. 2008;90(2):184-197.\\n24Otsuka Pharmaceutical Development and Commercialization. Centanafadine \\n(EB-1020) Investigator’s Brochure, Edition 10. Otsuka Report, issued 22 Dec 2020.\\n25Momper JD, Mulugeta Y, Green DJ, Karesh A, Krudys KM, Sachs HC, et al. \\nAdolescent dosing and labeling since the Food and Drug Administration \\nAmendments Act of 2007. JAMA Pediatr. 2013;167(10):926-932.\\n26Liu T, Ghafoori P, Gobburu JV. Allometry is a reasonable choice in pediatric drug \\ndevelopment. J Clin Pharmacol. 2017;57(4):469-475.\\n27Abdulla S, Amuri B, Kabanywanyi AM, Ubben D, Reynolds C, Pascoe S, et al. Early \\nclinical development of artemetherl-umefantrine dispersible tablet: palatability of \\nthree flavours and bioavailability in healthy subjects. Malar J. 2010;9:253. \\n28Posner K, Oquendo MA, Gould M, Stanley B, Davies M. Columbia Classification \\nAlgorithm of Suicide Assessment (C-CASA): classification of suicidal events in the \\nFDA’s pediatric suicidal risk analysis of antidepressants. Am J Psychiatry. \\n2007;164(7):1035–104.\\n\\n    Question: Is Single Ascending Dose mentioned in this text?\\n     [/INST]\"},\n",
       "  {'question': 'Is SAD mentioned in this text?',\n",
       "   'answer': '  No, SAD is not mentioned in the provided text.',\n",
       "   'context': 'Protocol 405-201-00046\\n10\\nConfidential - Proprietary Information Approval: 15 Sep 2022List of Abbreviations\\nAbbreviation Definition\\nADHD Attention-deficit hyperactivity disorder\\nADHD-RS-5 Attention-deficit hyperactivity disorder Rating Scale - 5\\nAE Adverse event\\nAESI Adverse event of special interest\\nAIDS Acquired immunodeficiency syndrome\\nALT Alanine aminotransferase\\nAnti-HCV Hepatitis C antibodies\\nAPMP Abuse Potential Monitoring Process\\nAST Aspartate aminotransferase\\nAUC 0-24hArea under the concentration-time curve from time 0 to 24 hours\\nBMI Body mass index\\nC24hConcentration of drug in plasma at 24 hours\\nCGI-S Clinical Global Impression - Severity\\nCI Confidence interval\\nCIOMS Council for International Organizations of Medical Science\\nCmaxMaximal peak plasma concentration\\nC-SSRS Columbia-Suicide Severity Rating Scale\\nDA Dopamine\\nDL Drug load\\nDNA Deoxyribonucleic acid\\nDR Delayed release\\nDSM-IV Diagnostic and Statistical Manual of Mental Disorders - 4th Edition\\nDSM-5 Diagnostic and Statistical Manual of Mental Disorders - 5th Edition\\nECG Electrocardiogram\\neICF Electronic informed consent\\nESAM Events Subject to Additional Monitoring\\nET Early termination\\nFBR Future biospecimen research\\nFDA Food and Drug Administration\\nGCP Good Clinical Practice\\nH/I Hyperactivity/impulsivity\\nHbA 1cGlycated hemoglobin\\nHBsAg Hepatitis B surface antigen\\nHIPAA Health Insurance Portability and Accountability Act\\nHIV Human immunodeficiency virus\\nIA Inattentive\\nIB Investigator’s Brochure\\nICH International Council for Harmonisation\\nICMJE International Committee of Medical Journal Editors\\nID Identifier\\nIDDM Insulin dependent diabetes mellitus\\nIMP Investigational medicinal product\\nIND Investigational New Drug\\n-----\\nProtocol 405-201-00046\\n10\\nConfidential - Proprietary Information Approval: 15 Sep 2022List of Abbreviations\\nAbbreviation Definition\\nADHD Attention-deficit hyperactivity disorder\\nADHD-RS-5 Attention-deficit hyperactivity disorder Rating Scale - 5\\nAE Adverse event\\nAESI Adverse event of special interest\\nAIDS Acquired immunodeficiency syndrome\\nALT Alanine aminotransferase\\nAnti-HCV Hepatitis C antibodies\\nAPMP Abuse Potential Monitoring Process\\nAST Aspartate aminotransferase\\nAUC 0-24hArea under the concentration-time curve from time 0 to 24 hours\\nBMI Body mass index\\nC24hConcentration of drug in plasma at 24 hours\\nCGI-S Clinical Global Impression - Severity\\nCI Confidence interval\\nCIOMS Council for International Organizations of Medical Science\\nCmaxMaximal peak plasma concentration\\nC-SSRS Columbia-Suicide Severity Rating Scale\\nDA Dopamine\\nDL Drug load\\nDNA Deoxyribonucleic acid\\nDR Delayed release\\nDSM-IV Diagnostic and Statistical Manual of Mental Disorders - 4th Edition\\nDSM-5 Diagnostic and Statistical Manual of Mental Disorders - 5th Edition\\nECG Electrocardiogram\\neICF Electronic informed consent\\nESAM Events Subject to Additional Monitoring\\nET Early termination\\nFBR Future biospecimen research\\nFDA Food and Drug Administration\\nGCP Good Clinical Practice\\nH/I Hyperactivity/impulsivity\\nHbA 1cGlycated hemoglobin\\nHBsAg Hepatitis B surface antigen\\nHIPAA Health Insurance Portability and Accountability Act\\nHIV Human immunodeficiency virus\\nIA Inattentive\\nIB Investigator’s Brochure\\nICH International Council for Harmonisation\\nICMJE International Committee of Medical Journal Editors\\nID Identifier\\nIDDM Insulin dependent diabetes mellitus\\nIMP Investigational medicinal product\\nIND Investigational New Drug\\n-----\\nProtocol 405-201-00046\\n10\\nConfidential - Proprietary Information Approval: 15 Sep 2022List of Abbreviations\\nAbbreviation Definition\\nADHD Attention-deficit hyperactivity disorder\\nADHD-RS-5 Attention-deficit hyperactivity disorder Rating Scale - 5\\nAE Adverse event\\nAESI Adverse event of special interest\\nAIDS Acquired immunodeficiency syndrome\\nALT Alanine aminotransferase\\nAnti-HCV Hepatitis C antibodies\\nAPMP Abuse Potential Monitoring Process\\nAST Aspartate aminotransferase\\nAUC 0-24hArea under the concentration-time curve from time 0 to 24 hours\\nBMI Body mass index\\nC24hConcentration of drug in plasma at 24 hours\\nCGI-S Clinical Global Impression - Severity\\nCI Confidence interval\\nCIOMS Council for International Organizations of Medical Science\\nCmaxMaximal peak plasma concentration\\nC-SSRS Columbia-Suicide Severity Rating Scale\\nDA Dopamine\\nDL Drug load\\nDNA Deoxyribonucleic acid\\nDR Delayed release\\nDSM-IV Diagnostic and Statistical Manual of Mental Disorders - 4th Edition\\nDSM-5 Diagnostic and Statistical Manual of Mental Disorders - 5th Edition\\nECG Electrocardiogram\\neICF Electronic informed consent\\nESAM Events Subject to Additional Monitoring\\nET Early termination\\nFBR Future biospecimen research\\nFDA Food and Drug Administration\\nGCP Good Clinical Practice\\nH/I Hyperactivity/impulsivity\\nHbA 1cGlycated hemoglobin\\nHBsAg Hepatitis B surface antigen\\nHIPAA Health Insurance Portability and Accountability Act\\nHIV Human immunodeficiency virus\\nIA Inattentive\\nIB Investigator’s Brochure\\nICH International Council for Harmonisation\\nICMJE International Committee of Medical Journal Editors\\nID Identifier\\nIDDM Insulin dependent diabetes mellitus\\nIMP Investigational medicinal product\\nIND Investigational New Drug',\n",
       "   'prompt': \"[INST] <>\\nUse the following pieces of context to answer the question at the end. If you don't know the answer, just say that you don't know, don't try to make up an answer.\\n<>\\n\\n\\n    Protocol 405-201-00046\\n10\\nConfidential - Proprietary Information Approval: 15 Sep 2022List of Abbreviations\\nAbbreviation Definition\\nADHD Attention-deficit hyperactivity disorder\\nADHD-RS-5 Attention-deficit hyperactivity disorder Rating Scale - 5\\nAE Adverse event\\nAESI Adverse event of special interest\\nAIDS Acquired immunodeficiency syndrome\\nALT Alanine aminotransferase\\nAnti-HCV Hepatitis C antibodies\\nAPMP Abuse Potential Monitoring Process\\nAST Aspartate aminotransferase\\nAUC 0-24hArea under the concentration-time curve from time 0 to 24 hours\\nBMI Body mass index\\nC24hConcentration of drug in plasma at 24 hours\\nCGI-S Clinical Global Impression - Severity\\nCI Confidence interval\\nCIOMS Council for International Organizations of Medical Science\\nCmaxMaximal peak plasma concentration\\nC-SSRS Columbia-Suicide Severity Rating Scale\\nDA Dopamine\\nDL Drug load\\nDNA Deoxyribonucleic acid\\nDR Delayed release\\nDSM-IV Diagnostic and Statistical Manual of Mental Disorders - 4th Edition\\nDSM-5 Diagnostic and Statistical Manual of Mental Disorders - 5th Edition\\nECG Electrocardiogram\\neICF Electronic informed consent\\nESAM Events Subject to Additional Monitoring\\nET Early termination\\nFBR Future biospecimen research\\nFDA Food and Drug Administration\\nGCP Good Clinical Practice\\nH/I Hyperactivity/impulsivity\\nHbA 1cGlycated hemoglobin\\nHBsAg Hepatitis B surface antigen\\nHIPAA Health Insurance Portability and Accountability Act\\nHIV Human immunodeficiency virus\\nIA Inattentive\\nIB Investigator’s Brochure\\nICH International Council for Harmonisation\\nICMJE International Committee of Medical Journal Editors\\nID Identifier\\nIDDM Insulin dependent diabetes mellitus\\nIMP Investigational medicinal product\\nIND Investigational New Drug\\n-----\\nProtocol 405-201-00046\\n10\\nConfidential - Proprietary Information Approval: 15 Sep 2022List of Abbreviations\\nAbbreviation Definition\\nADHD Attention-deficit hyperactivity disorder\\nADHD-RS-5 Attention-deficit hyperactivity disorder Rating Scale - 5\\nAE Adverse event\\nAESI Adverse event of special interest\\nAIDS Acquired immunodeficiency syndrome\\nALT Alanine aminotransferase\\nAnti-HCV Hepatitis C antibodies\\nAPMP Abuse Potential Monitoring Process\\nAST Aspartate aminotransferase\\nAUC 0-24hArea under the concentration-time curve from time 0 to 24 hours\\nBMI Body mass index\\nC24hConcentration of drug in plasma at 24 hours\\nCGI-S Clinical Global Impression - Severity\\nCI Confidence interval\\nCIOMS Council for International Organizations of Medical Science\\nCmaxMaximal peak plasma concentration\\nC-SSRS Columbia-Suicide Severity Rating Scale\\nDA Dopamine\\nDL Drug load\\nDNA Deoxyribonucleic acid\\nDR Delayed release\\nDSM-IV Diagnostic and Statistical Manual of Mental Disorders - 4th Edition\\nDSM-5 Diagnostic and Statistical Manual of Mental Disorders - 5th Edition\\nECG Electrocardiogram\\neICF Electronic informed consent\\nESAM Events Subject to Additional Monitoring\\nET Early termination\\nFBR Future biospecimen research\\nFDA Food and Drug Administration\\nGCP Good Clinical Practice\\nH/I Hyperactivity/impulsivity\\nHbA 1cGlycated hemoglobin\\nHBsAg Hepatitis B surface antigen\\nHIPAA Health Insurance Portability and Accountability Act\\nHIV Human immunodeficiency virus\\nIA Inattentive\\nIB Investigator’s Brochure\\nICH International Council for Harmonisation\\nICMJE International Committee of Medical Journal Editors\\nID Identifier\\nIDDM Insulin dependent diabetes mellitus\\nIMP Investigational medicinal product\\nIND Investigational New Drug\\n-----\\nProtocol 405-201-00046\\n10\\nConfidential - Proprietary Information Approval: 15 Sep 2022List of Abbreviations\\nAbbreviation Definition\\nADHD Attention-deficit hyperactivity disorder\\nADHD-RS-5 Attention-deficit hyperactivity disorder Rating Scale - 5\\nAE Adverse event\\nAESI Adverse event of special interest\\nAIDS Acquired immunodeficiency syndrome\\nALT Alanine aminotransferase\\nAnti-HCV Hepatitis C antibodies\\nAPMP Abuse Potential Monitoring Process\\nAST Aspartate aminotransferase\\nAUC 0-24hArea under the concentration-time curve from time 0 to 24 hours\\nBMI Body mass index\\nC24hConcentration of drug in plasma at 24 hours\\nCGI-S Clinical Global Impression - Severity\\nCI Confidence interval\\nCIOMS Council for International Organizations of Medical Science\\nCmaxMaximal peak plasma concentration\\nC-SSRS Columbia-Suicide Severity Rating Scale\\nDA Dopamine\\nDL Drug load\\nDNA Deoxyribonucleic acid\\nDR Delayed release\\nDSM-IV Diagnostic and Statistical Manual of Mental Disorders - 4th Edition\\nDSM-5 Diagnostic and Statistical Manual of Mental Disorders - 5th Edition\\nECG Electrocardiogram\\neICF Electronic informed consent\\nESAM Events Subject to Additional Monitoring\\nET Early termination\\nFBR Future biospecimen research\\nFDA Food and Drug Administration\\nGCP Good Clinical Practice\\nH/I Hyperactivity/impulsivity\\nHbA 1cGlycated hemoglobin\\nHBsAg Hepatitis B surface antigen\\nHIPAA Health Insurance Portability and Accountability Act\\nHIV Human immunodeficiency virus\\nIA Inattentive\\nIB Investigator’s Brochure\\nICH International Council for Harmonisation\\nICMJE International Committee of Medical Journal Editors\\nID Identifier\\nIDDM Insulin dependent diabetes mellitus\\nIMP Investigational medicinal product\\nIND Investigational New Drug\\n\\n    Question: Is SAD mentioned in this text?\\n     [/INST]\"},\n",
       "  {'question': 'Is Multiple Ascending Dose mentioned in this text?',\n",
       "   'answer': '  No, the term \"Multiple Ascending Dose\" is not mentioned in the provided text.',\n",
       "   'context': '8.7.6 Abuse Potential Monitoring Process, Events Subject to Additional \\nMonitoring, and Medication Handling Irregularities .....................................52\\n8.7.7 Potential Serious Hepatotoxicity ....................................................................52\\n8.7.8 Procedure for Breaking the Blind...................................................................53\\n8.7.9 Follow-up of Adverse Events.........................................................................53\\n8.7.9.1 Follow-up of Nonserious Adverse Events ..................................................53\\n8.7.9.2 Follow-up of Immediately Reportable Events............................................53\\n8.7.9.3 Follow-up and Reporting of Immediately Reportable Events \\nOccurring After Last Scheduled Contact....................................................54\\n8.8 Treatment of Overdose......................................................................................54\\n-----\\nPharmacovigilance representative, medical monitor, and the clinical pharmacology \\nrepresentative. Dose escalation may be modified or stopped based upon sponsor or \\ninvestigator’s clinical judgment at any time. Additional subjects or cohorts may be added \\nat the discretion of the safety review team to further evaluate a given dose. Each subject \\nin the cohort will be evaluated by the investigator at the site to assess the subject’s \\ntolerability to the dose. Dose toleration is defined as follows: during the course of the \\ntrial, the subject does not experience any moderate or severe AEs or potentially clinically \\nsignificant changes from baseline in clinical laboratory assessment values, vital signs, or \\nelectrocardiogram (ECG) tracings, which are assessed as related to the IMP, and would \\nwarrant a dose decrease or discontinuation of the IMP. Dose toleration must be observed\\n-----\\n8.7.6 Abuse Potential Monitoring Process, Events Subject to Additional \\nMonitoring, and Medication Handling Irregularities .....................................52\\n8.7.7 Potential Serious Hepatotoxicity ....................................................................52\\n8.7.8 Procedure for Breaking the Blind...................................................................53\\n8.7.9 Follow-up of Adverse Events.........................................................................53\\n8.7.9.1 Follow-up of Nonserious Adverse Events ..................................................53\\n8.7.9.2 Follow-up of Immediately Reportable Events............................................53\\n8.7.9.3 Follow-up and Reporting of Immediately Reportable Events \\nOccurring After Last Scheduled Contact....................................................54\\n8.8 Treatment of Overdose......................................................................................54\\n8.9 Subject Assessment Recording .........................................................................54\\n8.10 Other Assessments ............................................................................................54\\n9 Statistical Considerations ..................................................................54\\n9.1 Sample Size.......................................................................................................54\\n9.2 Datasets for Analysis.........................................................................................55\\n9.3 Handling of Missing Data for Primary Endpoint Analysis...............................55',\n",
       "   'prompt': \"[INST] <>\\nUse the following pieces of context to answer the question at the end. If you don't know the answer, just say that you don't know, don't try to make up an answer.\\n<>\\n\\n\\n    8.7.6 Abuse Potential Monitoring Process, Events Subject to Additional \\nMonitoring, and Medication Handling Irregularities .....................................52\\n8.7.7 Potential Serious Hepatotoxicity ....................................................................52\\n8.7.8 Procedure for Breaking the Blind...................................................................53\\n8.7.9 Follow-up of Adverse Events.........................................................................53\\n8.7.9.1 Follow-up of Nonserious Adverse Events ..................................................53\\n8.7.9.2 Follow-up of Immediately Reportable Events............................................53\\n8.7.9.3 Follow-up and Reporting of Immediately Reportable Events \\nOccurring After Last Scheduled Contact....................................................54\\n8.8 Treatment of Overdose......................................................................................54\\n-----\\nPharmacovigilance representative, medical monitor, and the clinical pharmacology \\nrepresentative. Dose escalation may be modified or stopped based upon sponsor or \\ninvestigator’s clinical judgment at any time. Additional subjects or cohorts may be added \\nat the discretion of the safety review team to further evaluate a given dose. Each subject \\nin the cohort will be evaluated by the investigator at the site to assess the subject’s \\ntolerability to the dose. Dose toleration is defined as follows: during the course of the \\ntrial, the subject does not experience any moderate or severe AEs or potentially clinically \\nsignificant changes from baseline in clinical laboratory assessment values, vital signs, or \\nelectrocardiogram (ECG) tracings, which are assessed as related to the IMP, and would \\nwarrant a dose decrease or discontinuation of the IMP. Dose toleration must be observed\\n-----\\n8.7.6 Abuse Potential Monitoring Process, Events Subject to Additional \\nMonitoring, and Medication Handling Irregularities .....................................52\\n8.7.7 Potential Serious Hepatotoxicity ....................................................................52\\n8.7.8 Procedure for Breaking the Blind...................................................................53\\n8.7.9 Follow-up of Adverse Events.........................................................................53\\n8.7.9.1 Follow-up of Nonserious Adverse Events ..................................................53\\n8.7.9.2 Follow-up of Immediately Reportable Events............................................53\\n8.7.9.3 Follow-up and Reporting of Immediately Reportable Events \\nOccurring After Last Scheduled Contact....................................................54\\n8.8 Treatment of Overdose......................................................................................54\\n8.9 Subject Assessment Recording .........................................................................54\\n8.10 Other Assessments ............................................................................................54\\n9 Statistical Considerations ..................................................................54\\n9.1 Sample Size.......................................................................................................54\\n9.2 Datasets for Analysis.........................................................................................55\\n9.3 Handling of Missing Data for Primary Endpoint Analysis...............................55\\n\\n    Question: Is Multiple Ascending Dose mentioned in this text?\\n     [/INST]\"},\n",
       "  {'question': 'Is MAD mentioned in this text?',\n",
       "   'answer': '  No, MAD is not mentioned in the given text.',\n",
       "   'context': 'Protocol 405-201-00046\\n10\\nConfidential - Proprietary Information Approval: 15 Sep 2022List of Abbreviations\\nAbbreviation Definition\\nADHD Attention-deficit hyperactivity disorder\\nADHD-RS-5 Attention-deficit hyperactivity disorder Rating Scale - 5\\nAE Adverse event\\nAESI Adverse event of special interest\\nAIDS Acquired immunodeficiency syndrome\\nALT Alanine aminotransferase\\nAnti-HCV Hepatitis C antibodies\\nAPMP Abuse Potential Monitoring Process\\nAST Aspartate aminotransferase\\nAUC 0-24hArea under the concentration-time curve from time 0 to 24 hours\\nBMI Body mass index\\nC24hConcentration of drug in plasma at 24 hours\\nCGI-S Clinical Global Impression - Severity\\nCI Confidence interval\\nCIOMS Council for International Organizations of Medical Science\\nCmaxMaximal peak plasma concentration\\nC-SSRS Columbia-Suicide Severity Rating Scale\\nDA Dopamine\\nDL Drug load\\nDNA Deoxyribonucleic acid\\nDR Delayed release\\nDSM-IV Diagnostic and Statistical Manual of Mental Disorders - 4th Edition\\n-----\\nProtocol 405-201-00018\\n75\\nConfidential - Proprietary Information Amendment 4 Approval: 22 Nov 202211 References\\n1Arnsten AF. Fundamentals of attention-deficit/hyperactivity disorder: circuits and \\npathways. J Clin Psychiatry. 2006;67(Suppl 8):7-12.\\n2Heal DJ, Smith SL, Findling RL. ADHD: current and future therapeutics. Curr Top \\nBehav Neurosci. 2012;9:361-390.\\n3Bolea-Alamañac B, Nutt DJ, Adamou M, Asherson P, Bazire S, Coghill D, et al. \\nEvidence-based guidelines for the pharmacological management of attention deficit \\nhyperactivity disorder: update on recommendations from the British Association for \\nPsychopharmacology. J Psychopharmacol. 2014;28(3):179-203.\\n4Sharma A, Couture J. A review of the pathophysiology, etiology, and treatment of \\nattention-deficit hyperactivity disorder (ADHD). Ann Pharmacother. 2014;48(2):209-\\n225. \\n5American Psychiatric Association. Diagnostic and Statistical Manual of Mental \\nDisorders. 5th Edition, 2013. Available from: \\nhttps://www.psychiatry.org/psychiatrists/practice/dsm.\\n-----\\nProtocol 405-201-00018\\n75\\nConfidential - Proprietary Information Amendment 4 Approval: 22 Nov 202211 References\\n1Arnsten AF. Fundamentals of attention-deficit/hyperactivity disorder: circuits and \\npathways. J Clin Psychiatry. 2006;67(Suppl 8):7-12.\\n2Heal DJ, Smith SL, Findling RL. ADHD: current and future therapeutics. Curr Top \\nBehav Neurosci. 2012;9:361-390.\\n3Bolea-Alamañac B, Nutt DJ, Adamou M, Asherson P, Bazire S, Coghill D, et al. \\nEvidence-based guidelines for the pharmacological management of attention deficit \\nhyperactivity disorder: update on recommendations from the British Association for \\nPsychopharmacology. J Psychopharmacol. 2014;28(3):179-203.\\n4Sharma A, Couture J. A review of the pathophysiology, etiology, and treatment of \\nattention-deficit hyperactivity disorder (ADHD). Ann Pharmacother. 2014;48(2):209-\\n225. \\n5American Psychiatric Association. Diagnostic and Statistical Manual of Mental \\nDisorders. 5th Edition, 2013. Available from: \\nhttps://www.psychiatry.org/psychiatrists/practice/dsm.',\n",
       "   'prompt': \"[INST] <>\\nUse the following pieces of context to answer the question at the end. If you don't know the answer, just say that you don't know, don't try to make up an answer.\\n<>\\n\\n\\n    Protocol 405-201-00046\\n10\\nConfidential - Proprietary Information Approval: 15 Sep 2022List of Abbreviations\\nAbbreviation Definition\\nADHD Attention-deficit hyperactivity disorder\\nADHD-RS-5 Attention-deficit hyperactivity disorder Rating Scale - 5\\nAE Adverse event\\nAESI Adverse event of special interest\\nAIDS Acquired immunodeficiency syndrome\\nALT Alanine aminotransferase\\nAnti-HCV Hepatitis C antibodies\\nAPMP Abuse Potential Monitoring Process\\nAST Aspartate aminotransferase\\nAUC 0-24hArea under the concentration-time curve from time 0 to 24 hours\\nBMI Body mass index\\nC24hConcentration of drug in plasma at 24 hours\\nCGI-S Clinical Global Impression - Severity\\nCI Confidence interval\\nCIOMS Council for International Organizations of Medical Science\\nCmaxMaximal peak plasma concentration\\nC-SSRS Columbia-Suicide Severity Rating Scale\\nDA Dopamine\\nDL Drug load\\nDNA Deoxyribonucleic acid\\nDR Delayed release\\nDSM-IV Diagnostic and Statistical Manual of Mental Disorders - 4th Edition\\n-----\\nProtocol 405-201-00018\\n75\\nConfidential - Proprietary Information Amendment 4 Approval: 22 Nov 202211 References\\n1Arnsten AF. Fundamentals of attention-deficit/hyperactivity disorder: circuits and \\npathways. J Clin Psychiatry. 2006;67(Suppl 8):7-12.\\n2Heal DJ, Smith SL, Findling RL. ADHD: current and future therapeutics. Curr Top \\nBehav Neurosci. 2012;9:361-390.\\n3Bolea-Alamañac B, Nutt DJ, Adamou M, Asherson P, Bazire S, Coghill D, et al. \\nEvidence-based guidelines for the pharmacological management of attention deficit \\nhyperactivity disorder: update on recommendations from the British Association for \\nPsychopharmacology. J Psychopharmacol. 2014;28(3):179-203.\\n4Sharma A, Couture J. A review of the pathophysiology, etiology, and treatment of \\nattention-deficit hyperactivity disorder (ADHD). Ann Pharmacother. 2014;48(2):209-\\n225. \\n5American Psychiatric Association. Diagnostic and Statistical Manual of Mental \\nDisorders. 5th Edition, 2013. Available from: \\nhttps://www.psychiatry.org/psychiatrists/practice/dsm.\\n-----\\nProtocol 405-201-00018\\n75\\nConfidential - Proprietary Information Amendment 4 Approval: 22 Nov 202211 References\\n1Arnsten AF. Fundamentals of attention-deficit/hyperactivity disorder: circuits and \\npathways. J Clin Psychiatry. 2006;67(Suppl 8):7-12.\\n2Heal DJ, Smith SL, Findling RL. ADHD: current and future therapeutics. Curr Top \\nBehav Neurosci. 2012;9:361-390.\\n3Bolea-Alamañac B, Nutt DJ, Adamou M, Asherson P, Bazire S, Coghill D, et al. \\nEvidence-based guidelines for the pharmacological management of attention deficit \\nhyperactivity disorder: update on recommendations from the British Association for \\nPsychopharmacology. J Psychopharmacol. 2014;28(3):179-203.\\n4Sharma A, Couture J. A review of the pathophysiology, etiology, and treatment of \\nattention-deficit hyperactivity disorder (ADHD). Ann Pharmacother. 2014;48(2):209-\\n225. \\n5American Psychiatric Association. Diagnostic and Statistical Manual of Mental \\nDisorders. 5th Edition, 2013. Available from: \\nhttps://www.psychiatry.org/psychiatrists/practice/dsm.\\n\\n    Question: Is MAD mentioned in this text?\\n     [/INST]\"},\n",
       "  {'question': 'Is Thorough QTc mentioned in this text?',\n",
       "   'answer': '  No, Thorough QTc is not mentioned in this text. The text only mentions \"Product Quality Complaint\" (PQC). ',\n",
       "   'context': 'accountability.\\n6.2.5 Reporting of Product Quality Complaints\\nA Product Quality Complaint (PQC) is any written, electronic, or oral communication \\nprovided by a healthcare professional, clinical trial subject, medical representative, \\nregulatory agency, Partner, or other third party that alleges deficiencies related to the\\n-----\\nA Product Quality Complaint (PQC) is any written, electronic, or oral communication \\nprovided by a healthcare professional, clinical trial subject, medical representative, \\nregulatory agency, Partner, or other third party that alleges deficiencies related to the\\n-----\\nA Product Quality Complaint (PQC) is any written, electronic, or oral communication \\nprovided by a healthcare professional, clinical trial subject, medical representative, \\nregulatory agency, Partner, or other third party that alleges deficiencies related to the',\n",
       "   'prompt': \"[INST] <>\\nUse the following pieces of context to answer the question at the end. If you don't know the answer, just say that you don't know, don't try to make up an answer.\\n<>\\n\\n\\n    accountability.\\n6.2.5 Reporting of Product Quality Complaints\\nA Product Quality Complaint (PQC) is any written, electronic, or oral communication \\nprovided by a healthcare professional, clinical trial subject, medical representative, \\nregulatory agency, Partner, or other third party that alleges deficiencies related to the\\n-----\\nA Product Quality Complaint (PQC) is any written, electronic, or oral communication \\nprovided by a healthcare professional, clinical trial subject, medical representative, \\nregulatory agency, Partner, or other third party that alleges deficiencies related to the\\n-----\\nA Product Quality Complaint (PQC) is any written, electronic, or oral communication \\nprovided by a healthcare professional, clinical trial subject, medical representative, \\nregulatory agency, Partner, or other third party that alleges deficiencies related to the\\n\\n    Question: Is Thorough QTc mentioned in this text?\\n     [/INST]\"},\n",
       "  {'question': 'Is Hepatic impairment mentioned in this text?',\n",
       "   'answer': '  Yes, hepatic impairment is mentioned in the text as one of the conditions that may affect the absorption, distribution, metabolism, and excretion of a drug.',\n",
       "   'context': 'distribution, metabolism, and excretion of drug. This includes, but is not limited \\nto, history of or concurrent cardiac, hepatic, renal, neurologic, endocrine, \\ngastrointestinal, respiratory, hematologic, and immunologic disease.\\n5) Consumption of alcohol and/or food and beverages containing caffeine, \\nmethylxanthines (eg, coffee, chocolate) within 72 hours prior to dosing.\\n6) History of drug and/or alcohol abuse within 2 years prior to screening.\\n7) History of or current hepatitis or acquired immunodeficiency syndrome or carriers \\nof hepatitis B surface antigen and/or hepatitis C antibodies, or human \\nimmunodeficiency virus antibodies.\\n8) History of any significant drug allergy or known or suspected hypersensitivity.\\n9) A positive urine or breath alcohol test and/or urine drug screen for substance of \\nabuse at screening or upon admission to the trial site.\\n10) Having taken an investigational drug within 30 days prior to the first dose of IMP.\\n-----\\nsubject at risk or interfere with outcome variables including absorption, \\ndistribution, metabolism, and excretion of drug. This includes, but is not limited \\nto, history of or concurrent cardiac, hepatic, renal, neurologic, endocrine, \\ngastrointestinal, respiratory, hematologic, and immunologic disease.\\n5) Consumption of alcohol and/or food and beverages containing caffeine, \\nmethylxanthines (eg, coffee, chocolate) within 72 hours prior to dosing.\\n6) History of drug and/or alcohol abuse within 2 years prior to screening.\\n7) History of or current hepatitis or acquired immunodeficiency syndrome or carriers \\nof hepatitis B surface antigen and/or hepatitis C antibodies, or human \\nimmunodeficiency virus antibodies.\\n8) History of any significant drug allergy or known or suspected hypersensitivity.\\n9) A positive urine or breath alcohol test and/or urine drug screen for substance of \\nabuse at screening or upon admission to the trial site.\\n10) Having taken an investigational drug within 30 days prior to the first dose of IMP.\\n11) Any history of significant bleeding or hemorrhagic tendencies.\\n12) A history of difficulty in donating blood.\\n-----\\nsubject at risk or interfere with outcome variables including absorption, \\ndistribution, metabolism, and excretion of drug. This includes, but is not limited \\nto, history of or concurrent cardiac, hepatic, renal, neurologic, endocrine, \\ngastrointestinal, respiratory, hematologic, and immunologic disease.\\n5) Consumption of alcohol and/or food and beverages containing caffeine, \\nmethylxanthines (eg, coffee, chocolate) within 72 hours prior to dosing.\\n6) History of drug and/or alcohol abuse within 2 years prior to screening.\\n7) History of or current hepatitis or acquired immunodeficiency syndrome or carriers \\nof hepatitis B surface antigen and/or hepatitis C antibodies, or human \\nimmunodeficiency virus antibodies.\\n8) History of any significant drug allergy or known or suspected hypersensitivity.\\n9) A positive urine or breath alcohol test and/or urine drug screen for substance of \\nabuse at screening or upon admission to the trial site.\\n10) Having taken an investigational drug within 30 days prior to the first dose of IMP.\\n11) Any history of significant bleeding or hemorrhagic tendencies.\\n12) A history of difficulty in donating blood.',\n",
       "   'prompt': \"[INST] <>\\nUse the following pieces of context to answer the question at the end. If you don't know the answer, just say that you don't know, don't try to make up an answer.\\n<>\\n\\n\\n    distribution, metabolism, and excretion of drug. This includes, but is not limited \\nto, history of or concurrent cardiac, hepatic, renal, neurologic, endocrine, \\ngastrointestinal, respiratory, hematologic, and immunologic disease.\\n5) Consumption of alcohol and/or food and beverages containing caffeine, \\nmethylxanthines (eg, coffee, chocolate) within 72 hours prior to dosing.\\n6) History of drug and/or alcohol abuse within 2 years prior to screening.\\n7) History of or current hepatitis or acquired immunodeficiency syndrome or carriers \\nof hepatitis B surface antigen and/or hepatitis C antibodies, or human \\nimmunodeficiency virus antibodies.\\n8) History of any significant drug allergy or known or suspected hypersensitivity.\\n9) A positive urine or breath alcohol test and/or urine drug screen for substance of \\nabuse at screening or upon admission to the trial site.\\n10) Having taken an investigational drug within 30 days prior to the first dose of IMP.\\n-----\\nsubject at risk or interfere with outcome variables including absorption, \\ndistribution, metabolism, and excretion of drug. This includes, but is not limited \\nto, history of or concurrent cardiac, hepatic, renal, neurologic, endocrine, \\ngastrointestinal, respiratory, hematologic, and immunologic disease.\\n5) Consumption of alcohol and/or food and beverages containing caffeine, \\nmethylxanthines (eg, coffee, chocolate) within 72 hours prior to dosing.\\n6) History of drug and/or alcohol abuse within 2 years prior to screening.\\n7) History of or current hepatitis or acquired immunodeficiency syndrome or carriers \\nof hepatitis B surface antigen and/or hepatitis C antibodies, or human \\nimmunodeficiency virus antibodies.\\n8) History of any significant drug allergy or known or suspected hypersensitivity.\\n9) A positive urine or breath alcohol test and/or urine drug screen for substance of \\nabuse at screening or upon admission to the trial site.\\n10) Having taken an investigational drug within 30 days prior to the first dose of IMP.\\n11) Any history of significant bleeding or hemorrhagic tendencies.\\n12) A history of difficulty in donating blood.\\n-----\\nsubject at risk or interfere with outcome variables including absorption, \\ndistribution, metabolism, and excretion of drug. This includes, but is not limited \\nto, history of or concurrent cardiac, hepatic, renal, neurologic, endocrine, \\ngastrointestinal, respiratory, hematologic, and immunologic disease.\\n5) Consumption of alcohol and/or food and beverages containing caffeine, \\nmethylxanthines (eg, coffee, chocolate) within 72 hours prior to dosing.\\n6) History of drug and/or alcohol abuse within 2 years prior to screening.\\n7) History of or current hepatitis or acquired immunodeficiency syndrome or carriers \\nof hepatitis B surface antigen and/or hepatitis C antibodies, or human \\nimmunodeficiency virus antibodies.\\n8) History of any significant drug allergy or known or suspected hypersensitivity.\\n9) A positive urine or breath alcohol test and/or urine drug screen for substance of \\nabuse at screening or upon admission to the trial site.\\n10) Having taken an investigational drug within 30 days prior to the first dose of IMP.\\n11) Any history of significant bleeding or hemorrhagic tendencies.\\n12) A history of difficulty in donating blood.\\n\\n    Question: Is Hepatic impairment mentioned in this text?\\n     [/INST]\"},\n",
       "  {'question': 'Is Renal Impairment mentioned in this text?',\n",
       "   'answer': '  No, renal impairment is not mentioned in the given text. The text mentions various clinical laboratory assessments, including urinalysis, but it does not mention renal impairment specifically.',\n",
       "   'context': 'physical examination, that in the investigator’s or sponsor’s opinion may place the \\nsubject at risk or interfere with outcome variables including absorption, \\ndistribution, metabolism, and excretion of drug. This includes, but is not limited \\nto, history of or concurrent cardiac, hepatic, renal, neurologic, endocrine, \\ngastrointestinal, respiratory, hematologic, and immunologic disease.\\n5) Consumption of alcohol and/or food and beverages containing caffeine, \\nmethylxanthines (eg, coffee, chocolate) within 72 hours prior to dosing.\\n6) History of drug and/or alcohol abuse within 2 years prior to screening.\\n7) History of or current hepatitis or acquired immunodeficiency syndrome or carriers \\nof hepatitis B surface antigen and/or hepatitis C antibodies, or human \\nimmunodeficiency virus antibodies.\\n8) History of any significant drug allergy or known or suspected hypersensitivity.\\n9) A positive urine or breath alcohol test and/or urine drug screen for substance of\\n-----\\nProtocol 405-201-00018\\n67\\nConfidential - Proprietary Information Amendment 4 Approval: 22 Nov 202210.2 Appendix 2: Clinical Laboratory Tests\\nThe tests detailed in Table 10.2-1 will be performed.\\nTable 10.2-1 Clinical Laboratory Assessments\\nHematology:\\nErythrocytes\\nHematocrit\\nHemoglobin\\nLeukocytes count with differential\\nMean corpuscular hemoglobin concentration\\nMean corpuscular volume\\nPlatelets\\nUrinalysis:\\nBilirubin\\nColor \\nGlucose\\nKetones\\nMicroscopic analysis, white blood cell/red blood \\ncell counts per high powered field, casts, crystals, \\nsquamous cells\\nOccult blood\\npH\\nProtein\\nSpecific gravity\\nSpecimen appearance\\nUrobilinogen\\nAdditional Tests:\\nFSH for postmenopausal females\\nUrine or serum pregnancy test for all female \\nsubjects\\nViral serology (HIV, HBsAg, anti-HCV)Serum Chemistry:\\nAlkaline phosphatase\\nAlanine aminotransferase\\nAspartate aminotransferase\\nBilirubin, total\\nUrea nitrogen\\nCalcium\\nCarbon dioxide\\nCholesterol, total\\nChloride\\nCreatine phosphokinase\\nCreatinine\\nGamma glutamyl transferase\\nGlucose\\nLactic dehydrogenase\\nPotassium\\nProtein, total\\nSodium\\nTriglycerides\\nDrug Screen (all items in urine except where \\nnoted):\\nAlcohol (breath or urine)\\nAmphetamines\\nBarbiturates\\nBenzodiazepines\\nCannabinoids\\nCocaine\\nCotinine (urine or serum)\\nMethadone\\nOpiates\\nPhencyclidine\\nPropoxyphene\\nanti-HCV = hepatitis C antibodies; FSH = follicle-stimulating hormone; HBsAg = hepatitis B surface \\nantigen; HIV = human immunodeficiency virus.\\n-----\\nProtocol 405-201-00018\\n67\\nConfidential - Proprietary Information Amendment 4 Approval: 22 Nov 202210.2 Appendix 2: Clinical Laboratory Tests\\nThe tests detailed in Table 10.2-1 will be performed.\\nTable 10.2-1 Clinical Laboratory Assessments\\nHematology:\\nErythrocytes\\nHematocrit\\nHemoglobin\\nLeukocytes count with differential\\nMean corpuscular hemoglobin concentration\\nMean corpuscular volume\\nPlatelets\\nUrinalysis:\\nBilirubin\\nColor \\nGlucose\\nKetones\\nMicroscopic analysis, white blood cell/red blood \\ncell counts per high powered field, casts, crystals, \\nsquamous cells\\nOccult blood\\npH\\nProtein\\nSpecific gravity\\nSpecimen appearance\\nUrobilinogen\\nAdditional Tests:\\nFSH for postmenopausal females\\nUrine or serum pregnancy test for all female \\nsubjects\\nViral serology (HIV, HBsAg, anti-HCV)Serum Chemistry:\\nAlkaline phosphatase\\nAlanine aminotransferase\\nAspartate aminotransferase\\nBilirubin, total\\nUrea nitrogen\\nCalcium\\nCarbon dioxide\\nCholesterol, total\\nChloride\\nCreatine phosphokinase\\nCreatinine\\nGamma glutamyl transferase\\nGlucose\\nLactic dehydrogenase\\nPotassium\\nProtein, total\\nSodium\\nTriglycerides\\nDrug Screen (all items in urine except where \\nnoted):\\nAlcohol (breath or urine)\\nAmphetamines\\nBarbiturates\\nBenzodiazepines\\nCannabinoids\\nCocaine\\nCotinine (urine or serum)\\nMethadone\\nOpiates\\nPhencyclidine\\nPropoxyphene\\nanti-HCV = hepatitis C antibodies; FSH = follicle-stimulating hormone; HBsAg = hepatitis B surface \\nantigen; HIV = human immunodeficiency virus.',\n",
       "   'prompt': \"[INST] <>\\nUse the following pieces of context to answer the question at the end. If you don't know the answer, just say that you don't know, don't try to make up an answer.\\n<>\\n\\n\\n    physical examination, that in the investigator’s or sponsor’s opinion may place the \\nsubject at risk or interfere with outcome variables including absorption, \\ndistribution, metabolism, and excretion of drug. This includes, but is not limited \\nto, history of or concurrent cardiac, hepatic, renal, neurologic, endocrine, \\ngastrointestinal, respiratory, hematologic, and immunologic disease.\\n5) Consumption of alcohol and/or food and beverages containing caffeine, \\nmethylxanthines (eg, coffee, chocolate) within 72 hours prior to dosing.\\n6) History of drug and/or alcohol abuse within 2 years prior to screening.\\n7) History of or current hepatitis or acquired immunodeficiency syndrome or carriers \\nof hepatitis B surface antigen and/or hepatitis C antibodies, or human \\nimmunodeficiency virus antibodies.\\n8) History of any significant drug allergy or known or suspected hypersensitivity.\\n9) A positive urine or breath alcohol test and/or urine drug screen for substance of\\n-----\\nProtocol 405-201-00018\\n67\\nConfidential - Proprietary Information Amendment 4 Approval: 22 Nov 202210.2 Appendix 2: Clinical Laboratory Tests\\nThe tests detailed in Table 10.2-1 will be performed.\\nTable 10.2-1 Clinical Laboratory Assessments\\nHematology:\\nErythrocytes\\nHematocrit\\nHemoglobin\\nLeukocytes count with differential\\nMean corpuscular hemoglobin concentration\\nMean corpuscular volume\\nPlatelets\\nUrinalysis:\\nBilirubin\\nColor \\nGlucose\\nKetones\\nMicroscopic analysis, white blood cell/red blood \\ncell counts per high powered field, casts, crystals, \\nsquamous cells\\nOccult blood\\npH\\nProtein\\nSpecific gravity\\nSpecimen appearance\\nUrobilinogen\\nAdditional Tests:\\nFSH for postmenopausal females\\nUrine or serum pregnancy test for all female \\nsubjects\\nViral serology (HIV, HBsAg, anti-HCV)Serum Chemistry:\\nAlkaline phosphatase\\nAlanine aminotransferase\\nAspartate aminotransferase\\nBilirubin, total\\nUrea nitrogen\\nCalcium\\nCarbon dioxide\\nCholesterol, total\\nChloride\\nCreatine phosphokinase\\nCreatinine\\nGamma glutamyl transferase\\nGlucose\\nLactic dehydrogenase\\nPotassium\\nProtein, total\\nSodium\\nTriglycerides\\nDrug Screen (all items in urine except where \\nnoted):\\nAlcohol (breath or urine)\\nAmphetamines\\nBarbiturates\\nBenzodiazepines\\nCannabinoids\\nCocaine\\nCotinine (urine or serum)\\nMethadone\\nOpiates\\nPhencyclidine\\nPropoxyphene\\nanti-HCV = hepatitis C antibodies; FSH = follicle-stimulating hormone; HBsAg = hepatitis B surface \\nantigen; HIV = human immunodeficiency virus.\\n-----\\nProtocol 405-201-00018\\n67\\nConfidential - Proprietary Information Amendment 4 Approval: 22 Nov 202210.2 Appendix 2: Clinical Laboratory Tests\\nThe tests detailed in Table 10.2-1 will be performed.\\nTable 10.2-1 Clinical Laboratory Assessments\\nHematology:\\nErythrocytes\\nHematocrit\\nHemoglobin\\nLeukocytes count with differential\\nMean corpuscular hemoglobin concentration\\nMean corpuscular volume\\nPlatelets\\nUrinalysis:\\nBilirubin\\nColor \\nGlucose\\nKetones\\nMicroscopic analysis, white blood cell/red blood \\ncell counts per high powered field, casts, crystals, \\nsquamous cells\\nOccult blood\\npH\\nProtein\\nSpecific gravity\\nSpecimen appearance\\nUrobilinogen\\nAdditional Tests:\\nFSH for postmenopausal females\\nUrine or serum pregnancy test for all female \\nsubjects\\nViral serology (HIV, HBsAg, anti-HCV)Serum Chemistry:\\nAlkaline phosphatase\\nAlanine aminotransferase\\nAspartate aminotransferase\\nBilirubin, total\\nUrea nitrogen\\nCalcium\\nCarbon dioxide\\nCholesterol, total\\nChloride\\nCreatine phosphokinase\\nCreatinine\\nGamma glutamyl transferase\\nGlucose\\nLactic dehydrogenase\\nPotassium\\nProtein, total\\nSodium\\nTriglycerides\\nDrug Screen (all items in urine except where \\nnoted):\\nAlcohol (breath or urine)\\nAmphetamines\\nBarbiturates\\nBenzodiazepines\\nCannabinoids\\nCocaine\\nCotinine (urine or serum)\\nMethadone\\nOpiates\\nPhencyclidine\\nPropoxyphene\\nanti-HCV = hepatitis C antibodies; FSH = follicle-stimulating hormone; HBsAg = hepatitis B surface \\nantigen; HIV = human immunodeficiency virus.\\n\\n    Question: Is Renal Impairment mentioned in this text?\\n     [/INST]\"},\n",
       "  {'question': 'Is Run-in mentioned in this text?',\n",
       "   'answer': '  No, the word \"run-in\" does not appear anywhere in the provided pieces of context.',\n",
       "   'context': 'Section 8.8.3. This may include IREs that are captured on follow-up telephone contact or \\nat any other time point after the defined trial period and continue to report any significant \\nfollow-up information to the sponsor until the events are resolved or stabilized, or the \\nsubject is lost to follow-up or has died.\\n8.9 Treatment of Overdose\\nNot applicable.\\n8.10 Subject Assessment Recording\\n8.10.1 Mini International Neuropsychiatric Interview for Children and \\nAdolescents\\nThe MINI-KID, a structured diagnostic interview that assesses the 30 most common and \\nclinically relevant disorders or disorder subtypes in pediatrics mental health, will be \\nutilized for both diagnosis and to exclude comorbid conditions.\\n8.10.2 Study Medication Withdrawal Questionnaire\\nThe study medication withdrawal questionnaire (SMWQ) will be completed by the \\nsubject or their parent/guardian at the time points described in the schedule of \\nassessments ( Table 1.3-1).\\n-----\\nintervention(s) used in the trial. A protocol change intended to eliminate an apparent \\nimmediate hazard to subjects should be implemented immediately after agreement by the \\nsponsor and investigator, followed by IRB notification within local applicable timelines. \\nThe sponsor will submit protocol amendments to the applicable regulatory agencies \\nwithin local applicable timelines.\\nWhen the IRB, investigators, and/or the sponsor conclude that the protocol amendment \\nsubstantially alters the trial design and/or increases the potential risk to the subject, the \\ncurrently approved written ICF will require similar modification. In such cases, after \\napproval/favorable opinion of the new ICF by the IRB, repeat written informed consent \\nwill be obtained from subjects enrolled in the trial before expecting continued \\nparticipation and before the amendment-specified changes in the trial are implemented.\\n-----\\nresearch facility for subjects screened or enrolled in the trial.\\nI agree to await IRB approval before implementation of any substantial amendments to this protocol. \\nIf, however, there is an immediate hazard to subjects, I will implement the amendment immediately, \\nand provide the information to the IRB within the required local applicable timelines. Administrative \\nchanges to the protocol will be transmitted to the IRB for informational purposes only, if required by \\nlocal regulations.\\nI agree to provide all subjects with informed consent forms, as required by the applicable regulations \\nand by ICH guidelines. I agree to report to the sponsor any adverse experiences in accordance with the \\nterms of the sponsor’s Clinical Trial Agreement and the relevant regional regulation(s) and \\nguideline(s). I further agree to provide all required information regarding financial certification or \\ndisclosure to the sponsor for all investigators and subinvestigators in accordance with the terms of the',\n",
       "   'prompt': \"[INST] <>\\nUse the following pieces of context to answer the question at the end. If you don't know the answer, just say that you don't know, don't try to make up an answer.\\n<>\\n\\n\\n    Section 8.8.3. This may include IREs that are captured on follow-up telephone contact or \\nat any other time point after the defined trial period and continue to report any significant \\nfollow-up information to the sponsor until the events are resolved or stabilized, or the \\nsubject is lost to follow-up or has died.\\n8.9 Treatment of Overdose\\nNot applicable.\\n8.10 Subject Assessment Recording\\n8.10.1 Mini International Neuropsychiatric Interview for Children and \\nAdolescents\\nThe MINI-KID, a structured diagnostic interview that assesses the 30 most common and \\nclinically relevant disorders or disorder subtypes in pediatrics mental health, will be \\nutilized for both diagnosis and to exclude comorbid conditions.\\n8.10.2 Study Medication Withdrawal Questionnaire\\nThe study medication withdrawal questionnaire (SMWQ) will be completed by the \\nsubject or their parent/guardian at the time points described in the schedule of \\nassessments ( Table 1.3-1).\\n-----\\nintervention(s) used in the trial. A protocol change intended to eliminate an apparent \\nimmediate hazard to subjects should be implemented immediately after agreement by the \\nsponsor and investigator, followed by IRB notification within local applicable timelines. \\nThe sponsor will submit protocol amendments to the applicable regulatory agencies \\nwithin local applicable timelines.\\nWhen the IRB, investigators, and/or the sponsor conclude that the protocol amendment \\nsubstantially alters the trial design and/or increases the potential risk to the subject, the \\ncurrently approved written ICF will require similar modification. In such cases, after \\napproval/favorable opinion of the new ICF by the IRB, repeat written informed consent \\nwill be obtained from subjects enrolled in the trial before expecting continued \\nparticipation and before the amendment-specified changes in the trial are implemented.\\n-----\\nresearch facility for subjects screened or enrolled in the trial.\\nI agree to await IRB approval before implementation of any substantial amendments to this protocol. \\nIf, however, there is an immediate hazard to subjects, I will implement the amendment immediately, \\nand provide the information to the IRB within the required local applicable timelines. Administrative \\nchanges to the protocol will be transmitted to the IRB for informational purposes only, if required by \\nlocal regulations.\\nI agree to provide all subjects with informed consent forms, as required by the applicable regulations \\nand by ICH guidelines. I agree to report to the sponsor any adverse experiences in accordance with the \\nterms of the sponsor’s Clinical Trial Agreement and the relevant regional regulation(s) and \\nguideline(s). I further agree to provide all required information regarding financial certification or \\ndisclosure to the sponsor for all investigators and subinvestigators in accordance with the terms of the\\n\\n    Question: Is Run-in mentioned in this text?\\n     [/INST]\"},\n",
       "  {'question': 'Is Observational period mentioned in this text?',\n",
       "   'answer': '  No, the term \"observational period\" is not mentioned in the given text. The text only mentions \"evaluation period\" and \"follow-up of adverse events,\" but it doesn\\'t specifically mention an \"observational period.\"',\n",
       "   'context': 'the evaluation period (defined as the time period during which subjects are evaluated for \\nprimary and/or secondary objectives) in eSource. The investigator will also record all \\nmedications and therapies taken by the subject for treatment of an adverse event (AE) or\\n-----\\nProtocol 405-201-00018\\n53\\nConfidential - Proprietary Information Amendment 4 Approval: 22 Nov 2022should also be evaluated. If the total bilirubin is \\uf0b3 2 times the ULN, complete an IRE \\nform with all values listed and report as an AE in eSource.\\n8.7.8 Procedure for Breaking the Blind\\nThis trial does not use blinding procedures.\\n8.7.9 Follow-up of Adverse Events\\n8.7.9.1 Follow-up of Nonserious Adverse Events\\nNonserious AEs that are identified at any time during the trial must be recorded on the \\nAE page in eSource with the current status (ongoing or resolved/recovered) noted. All \\nnonserious events (that are not IREs) that are ongoing at the last scheduled contact will \\nbe recorded as ongoing in eSource. For any AE having been identified throughout the \\ntrial, or during analysis, additional relevant medical history information may be requested \\nby the sponsor to further ascertain causality (including, but not limited to, information \\nsuch as risk-related behavior, family history, and occupation).\\n8.7.9.2 Follow-up of Immediately Reportable Events\\nThis trial requires that subjects be actively monitored for IREs up to 7 (+ 2) days after the \\nlast trial intervention is administered.\\nImmediately reportable events that are identified or ongoing at the last scheduled \\ncontact must be recorded as such on the AE page in eSource and the IRE form. If \\nupdated information (eg, resolved status) on IRE status becomes available after a \\nsubject’s last scheduled contact (up to last in-clinic visit for the entire trial), this must be \\nreported to the sponsor and recorded on the AE page in eSource and the IRE form, \\naccording to the appropriate reporting procedures described in Section 8.7.3.\\nIt is expected that the investigator will provide or arrange appropriate supportive care for \\nthe subject and will provide prompt updates on the subject’s status to the sponsor. The \\ninvestigator will follow the IREs until:\\n•the events are resolved,\\n•the events have stabilized,\\n•the subject is lost to follow-up, or\\n•the subject has died.\\n-----\\nProtocol 405-201-00018\\n53\\nConfidential - Proprietary Information Amendment 4 Approval: 22 Nov 2022should also be evaluated. If the total bilirubin is \\uf0b3 2 times the ULN, complete an IRE \\nform with all values listed and report as an AE in eSource.\\n8.7.8 Procedure for Breaking the Blind\\nThis trial does not use blinding procedures.\\n8.7.9 Follow-up of Adverse Events\\n8.7.9.1 Follow-up of Nonserious Adverse Events\\nNonserious AEs that are identified at any time during the trial must be recorded on the \\nAE page in eSource with the current status (ongoing or resolved/recovered) noted. All \\nnonserious events (that are not IREs) that are ongoing at the last scheduled contact will \\nbe recorded as ongoing in eSource. For any AE having been identified throughout the \\ntrial, or during analysis, additional relevant medical history information may be requested \\nby the sponsor to further ascertain causality (including, but not limited to, information \\nsuch as risk-related behavior, family history, and occupation).\\n8.7.9.2 Follow-up of Immediately Reportable Events\\nThis trial requires that subjects be actively monitored for IREs up to 7 (+ 2) days after the \\nlast trial intervention is administered.\\nImmediately reportable events that are identified or ongoing at the last scheduled \\ncontact must be recorded as such on the AE page in eSource and the IRE form. If \\nupdated information (eg, resolved status) on IRE status becomes available after a \\nsubject’s last scheduled contact (up to last in-clinic visit for the entire trial), this must be \\nreported to the sponsor and recorded on the AE page in eSource and the IRE form, \\naccording to the appropriate reporting procedures described in Section 8.7.3.\\nIt is expected that the investigator will provide or arrange appropriate supportive care for \\nthe subject and will provide prompt updates on the subject’s status to the sponsor. The \\ninvestigator will follow the IREs until:\\n•the events are resolved,\\n•the events have stabilized,\\n•the subject is lost to follow-up, or\\n•the subject has died.',\n",
       "   'prompt': \"[INST] <>\\nUse the following pieces of context to answer the question at the end. If you don't know the answer, just say that you don't know, don't try to make up an answer.\\n<>\\n\\n\\n    the evaluation period (defined as the time period during which subjects are evaluated for \\nprimary and/or secondary objectives) in eSource. The investigator will also record all \\nmedications and therapies taken by the subject for treatment of an adverse event (AE) or\\n-----\\nProtocol 405-201-00018\\n53\\nConfidential - Proprietary Information Amendment 4 Approval: 22 Nov 2022should also be evaluated. If the total bilirubin is \\uf0b3 2 times the ULN, complete an IRE \\nform with all values listed and report as an AE in eSource.\\n8.7.8 Procedure for Breaking the Blind\\nThis trial does not use blinding procedures.\\n8.7.9 Follow-up of Adverse Events\\n8.7.9.1 Follow-up of Nonserious Adverse Events\\nNonserious AEs that are identified at any time during the trial must be recorded on the \\nAE page in eSource with the current status (ongoing or resolved/recovered) noted. All \\nnonserious events (that are not IREs) that are ongoing at the last scheduled contact will \\nbe recorded as ongoing in eSource. For any AE having been identified throughout the \\ntrial, or during analysis, additional relevant medical history information may be requested \\nby the sponsor to further ascertain causality (including, but not limited to, information \\nsuch as risk-related behavior, family history, and occupation).\\n8.7.9.2 Follow-up of Immediately Reportable Events\\nThis trial requires that subjects be actively monitored for IREs up to 7 (+ 2) days after the \\nlast trial intervention is administered.\\nImmediately reportable events that are identified or ongoing at the last scheduled \\ncontact must be recorded as such on the AE page in eSource and the IRE form. If \\nupdated information (eg, resolved status) on IRE status becomes available after a \\nsubject’s last scheduled contact (up to last in-clinic visit for the entire trial), this must be \\nreported to the sponsor and recorded on the AE page in eSource and the IRE form, \\naccording to the appropriate reporting procedures described in Section 8.7.3.\\nIt is expected that the investigator will provide or arrange appropriate supportive care for \\nthe subject and will provide prompt updates on the subject’s status to the sponsor. The \\ninvestigator will follow the IREs until:\\n•the events are resolved,\\n•the events have stabilized,\\n•the subject is lost to follow-up, or\\n•the subject has died.\\n-----\\nProtocol 405-201-00018\\n53\\nConfidential - Proprietary Information Amendment 4 Approval: 22 Nov 2022should also be evaluated. If the total bilirubin is \\uf0b3 2 times the ULN, complete an IRE \\nform with all values listed and report as an AE in eSource.\\n8.7.8 Procedure for Breaking the Blind\\nThis trial does not use blinding procedures.\\n8.7.9 Follow-up of Adverse Events\\n8.7.9.1 Follow-up of Nonserious Adverse Events\\nNonserious AEs that are identified at any time during the trial must be recorded on the \\nAE page in eSource with the current status (ongoing or resolved/recovered) noted. All \\nnonserious events (that are not IREs) that are ongoing at the last scheduled contact will \\nbe recorded as ongoing in eSource. For any AE having been identified throughout the \\ntrial, or during analysis, additional relevant medical history information may be requested \\nby the sponsor to further ascertain causality (including, but not limited to, information \\nsuch as risk-related behavior, family history, and occupation).\\n8.7.9.2 Follow-up of Immediately Reportable Events\\nThis trial requires that subjects be actively monitored for IREs up to 7 (+ 2) days after the \\nlast trial intervention is administered.\\nImmediately reportable events that are identified or ongoing at the last scheduled \\ncontact must be recorded as such on the AE page in eSource and the IRE form. If \\nupdated information (eg, resolved status) on IRE status becomes available after a \\nsubject’s last scheduled contact (up to last in-clinic visit for the entire trial), this must be \\nreported to the sponsor and recorded on the AE page in eSource and the IRE form, \\naccording to the appropriate reporting procedures described in Section 8.7.3.\\nIt is expected that the investigator will provide or arrange appropriate supportive care for \\nthe subject and will provide prompt updates on the subject’s status to the sponsor. The \\ninvestigator will follow the IREs until:\\n•the events are resolved,\\n•the events have stabilized,\\n•the subject is lost to follow-up, or\\n•the subject has died.\\n\\n    Question: Is Observational period mentioned in this text?\\n     [/INST]\"},\n",
       "  {'question': 'Is Titration period mentioned in this text?',\n",
       "   'answer': '  No, titration is not mentioned in the provided pieces of context.',\n",
       "   'context': '10.1.6.1 Source Documents ......................................................................................74\\n10.1.6.2 Data Collection ...........................................................................................74\\n10.1.6.3 File Management at the Trial Site...............................................................76\\n10.1.6.4 Records Retention at the Trial Site .............................................................76\\n10.1.6.5 Publication Authorship Requirements ........................................................76\\n10.2 Appendix 2: Clinical Laboratory Tests .............................................................78\\n10.3 Appendix 3: Contraceptive Guidance and Collection of Pregnancy \\nInformation........................................................................................................79\\n10.4 Appendix 4: Criteria for Identifying Clinical Laboratory Values of\\n-----\\noccur and can be avoided. This should be documented in the eSource. Results of the \\npregnancy test must be available prior to the administration of the IMP.\\nA urine drug screen will be performed at the time points described in the schedule of \\nassessments ( Table 1.3-1). Subjects with a positive urine drug screen resulting from the \\nconfirmed use of prescription or over-the-counter medications or products that in the \\ninvestigator’s documented opinion do not signal a clinical condition that would impact \\nthe safety of the subject or interpretation of the trial results may continue evaluation for \\nthe trial, following consultation and approval by the medical monitor. Subjects that test\\n-----\\noccur and can be avoided. This should be documented in the eSource. Results of the \\npregnancy test must be available prior to the administration of the IMP.\\nA urine drug screen will be performed at the time points described in the schedule of \\nassessments ( Table 1.3-1). Subjects with a positive urine drug screen resulting from the \\nconfirmed use of prescription or over-the-counter medications or products that in the \\ninvestigator’s documented opinion do not signal a clinical condition that would impact \\nthe safety of the subject or interpretation of the trial results may continue evaluation for \\nthe trial, following consultation and approval by the medical monitor. Subjects that test',\n",
       "   'prompt': \"[INST] <>\\nUse the following pieces of context to answer the question at the end. If you don't know the answer, just say that you don't know, don't try to make up an answer.\\n<>\\n\\n\\n    10.1.6.1 Source Documents ......................................................................................74\\n10.1.6.2 Data Collection ...........................................................................................74\\n10.1.6.3 File Management at the Trial Site...............................................................76\\n10.1.6.4 Records Retention at the Trial Site .............................................................76\\n10.1.6.5 Publication Authorship Requirements ........................................................76\\n10.2 Appendix 2: Clinical Laboratory Tests .............................................................78\\n10.3 Appendix 3: Contraceptive Guidance and Collection of Pregnancy \\nInformation........................................................................................................79\\n10.4 Appendix 4: Criteria for Identifying Clinical Laboratory Values of\\n-----\\noccur and can be avoided. This should be documented in the eSource. Results of the \\npregnancy test must be available prior to the administration of the IMP.\\nA urine drug screen will be performed at the time points described in the schedule of \\nassessments ( Table 1.3-1). Subjects with a positive urine drug screen resulting from the \\nconfirmed use of prescription or over-the-counter medications or products that in the \\ninvestigator’s documented opinion do not signal a clinical condition that would impact \\nthe safety of the subject or interpretation of the trial results may continue evaluation for \\nthe trial, following consultation and approval by the medical monitor. Subjects that test\\n-----\\noccur and can be avoided. This should be documented in the eSource. Results of the \\npregnancy test must be available prior to the administration of the IMP.\\nA urine drug screen will be performed at the time points described in the schedule of \\nassessments ( Table 1.3-1). Subjects with a positive urine drug screen resulting from the \\nconfirmed use of prescription or over-the-counter medications or products that in the \\ninvestigator’s documented opinion do not signal a clinical condition that would impact \\nthe safety of the subject or interpretation of the trial results may continue evaluation for \\nthe trial, following consultation and approval by the medical monitor. Subjects that test\\n\\n    Question: Is Titration period mentioned in this text?\\n     [/INST]\"}],\n",
       " 'design_complexity_low': [{'question': 'Is Bioavailability mentioned in this text?',\n",
       "   'answer': '  Yes, bioavailability is mentioned in the text. In fact, it is mentioned twice. The first time it is mentioned is when it says \"bioavailability of centanafadine was increased.\" Then it mentions it again when it says \"a dose reduction of approximately 20%...would produce concentrations comparable to the SR tablet 200 mg total daily dose\" ',\n",
       "   'context': 'sizes used in Trial 405-201-00037, bioavailability of centanafadine was increased and a \\ndose reduction of approximately 20% (210 mg to 164.4 mg) would produce \\nconcentrations comparable to the SR tablet 200 mg total daily dose.\\nPK blood sample collection using a microsampling technique was omitted, as early \\nresults from Cohort 1 and from other studies indicated that concentrations in blood\\n-----\\nsizes used in Trial 405-201-00037, bioavailability of centanafadine was increased and a \\ndose reduction of approximately 20% (210 mg to 164.4 mg) would produce \\nconcentrations comparable to the SR tablet 200 mg total daily dose.\\nPK blood sample collection using a microsampling technique was omitted, as early \\nresults from Cohort 1 and from other studies indicated that concentrations in blood\\n-----\\nsizes used in Trial 405-201-00037, bioavailability of centanafadine was increased and a \\ndose reduction of approximately 20% (210 mg to 164.4 mg) would produce \\nconcentrations comparable to the SR tablet 200 mg total daily dose.\\nPK blood sample collection using a microsampling technique was omitted, as early \\nresults from Cohort 1 and from other studies indicated that concentrations in blood',\n",
       "   'prompt': \"[INST] <>\\nUse the following pieces of context to answer the question at the end. If you don't know the answer, just say that you don't know, don't try to make up an answer.\\n<>\\n\\n\\n    sizes used in Trial 405-201-00037, bioavailability of centanafadine was increased and a \\ndose reduction of approximately 20% (210 mg to 164.4 mg) would produce \\nconcentrations comparable to the SR tablet 200 mg total daily dose.\\nPK blood sample collection using a microsampling technique was omitted, as early \\nresults from Cohort 1 and from other studies indicated that concentrations in blood\\n-----\\nsizes used in Trial 405-201-00037, bioavailability of centanafadine was increased and a \\ndose reduction of approximately 20% (210 mg to 164.4 mg) would produce \\nconcentrations comparable to the SR tablet 200 mg total daily dose.\\nPK blood sample collection using a microsampling technique was omitted, as early \\nresults from Cohort 1 and from other studies indicated that concentrations in blood\\n-----\\nsizes used in Trial 405-201-00037, bioavailability of centanafadine was increased and a \\ndose reduction of approximately 20% (210 mg to 164.4 mg) would produce \\nconcentrations comparable to the SR tablet 200 mg total daily dose.\\nPK blood sample collection using a microsampling technique was omitted, as early \\nresults from Cohort 1 and from other studies indicated that concentrations in blood\\n\\n    Question: Is Bioavailability mentioned in this text?\\n     [/INST]\"},\n",
       "  {'question': 'Is BA mentioned in this text?',\n",
       "   'answer': '  No, BA is not mentioned in the provided text.',\n",
       "   'context': 'b) Current suicidal behavior\\nc) Imminent risk of injury to self\\nd) Active suicidal ideation as evidenced by an answer of “yes” on Questions 4 or \\n5 (over the last 6 months) on the suicidal ideation section of the \\n“Baseline/Screening” version of the C-SSRS\\ne) Any lifetime history of suicidal behavior detected by the “Baseline/Screening” \\nversion of the C-SSRS\\nThe subject should not be enrolled (eg, dosed) if any active suicidal ideation is \\npresent prior to dosing (as evidenced by clinical examination or an answer of \\n“yes” on Questions 4 or 5 of the C-SSRS “Since Last Visit” version) or suicidal \\nbehavior is present in the C-SSRS “Since Last Visit” version.\\n6) Subjects with a lifetime history of a substance use disorder (as determined by \\nDSM-5 criteria), or current substance misuse including alcohol and \\nbenzodiazepines, but excluding caffeine and nicotine.\\n-----\\nb) Current suicidal behavior\\nc) Imminent risk of injury to self\\nd) Active suicidal ideation as evidenced by an answer of “yes” on Questions 4 or \\n5 (over the last 6 months) on the suicidal ideation section of the \\n“Baseline/Screening” version of the C-SSRS\\ne) Any lifetime history of suicidal behavior detected by the “Baseline/Screening” \\nversion of the C-SSRS\\nThe subject should not be enrolled (eg, dosed) if any active suicidal ideation is \\npresent prior to dosing (as evidenced by clinical examination or an answer of \\n“yes” on Questions 4 or 5 of the C-SSRS “Since Last Visit” version) or suicidal \\nbehavior is present in the C-SSRS “Since Last Visit” version.\\n6) Subjects with a lifetime history of a substance use disorder (as determined by \\nDSM-5 criteria), or current substance misuse including alcohol and \\nbenzodiazepines, but excluding caffeine and nicotine.\\n-----\\nb) Current suicidal behavior\\nc) Imminent risk of injury to self\\nd) Active suicidal ideation as evidenced by an answer of “yes” on Questions 4 or \\n5 (over the last 6 months) on the suicidal ideation section of the \\n“Baseline/Screening” version of the C-SSRS\\ne) Any lifetime history of suicidal behavior detected by the “Baseline/Screening” \\nversion of the C-SSRS\\nThe subject should not be enrolled (eg, dosed) if any active suicidal ideation is \\npresent prior to dosing (as evidenced by clinical examination or an answer of \\n“yes” on Questions 4 or 5 of the C-SSRS “Since Last Visit” version) or suicidal \\nbehavior is present in the C-SSRS “Since Last Visit” version.\\n6) Subjects with a lifetime history of a substance use disorder (as determined by \\nDSM-5 criteria), or current substance misuse including alcohol and \\nbenzodiazepines, but excluding caffeine and nicotine.',\n",
       "   'prompt': \"[INST] <>\\nUse the following pieces of context to answer the question at the end. If you don't know the answer, just say that you don't know, don't try to make up an answer.\\n<>\\n\\n\\n    b) Current suicidal behavior\\nc) Imminent risk of injury to self\\nd) Active suicidal ideation as evidenced by an answer of “yes” on Questions 4 or \\n5 (over the last 6 months) on the suicidal ideation section of the \\n“Baseline/Screening” version of the C-SSRS\\ne) Any lifetime history of suicidal behavior detected by the “Baseline/Screening” \\nversion of the C-SSRS\\nThe subject should not be enrolled (eg, dosed) if any active suicidal ideation is \\npresent prior to dosing (as evidenced by clinical examination or an answer of \\n“yes” on Questions 4 or 5 of the C-SSRS “Since Last Visit” version) or suicidal \\nbehavior is present in the C-SSRS “Since Last Visit” version.\\n6) Subjects with a lifetime history of a substance use disorder (as determined by \\nDSM-5 criteria), or current substance misuse including alcohol and \\nbenzodiazepines, but excluding caffeine and nicotine.\\n-----\\nb) Current suicidal behavior\\nc) Imminent risk of injury to self\\nd) Active suicidal ideation as evidenced by an answer of “yes” on Questions 4 or \\n5 (over the last 6 months) on the suicidal ideation section of the \\n“Baseline/Screening” version of the C-SSRS\\ne) Any lifetime history of suicidal behavior detected by the “Baseline/Screening” \\nversion of the C-SSRS\\nThe subject should not be enrolled (eg, dosed) if any active suicidal ideation is \\npresent prior to dosing (as evidenced by clinical examination or an answer of \\n“yes” on Questions 4 or 5 of the C-SSRS “Since Last Visit” version) or suicidal \\nbehavior is present in the C-SSRS “Since Last Visit” version.\\n6) Subjects with a lifetime history of a substance use disorder (as determined by \\nDSM-5 criteria), or current substance misuse including alcohol and \\nbenzodiazepines, but excluding caffeine and nicotine.\\n-----\\nb) Current suicidal behavior\\nc) Imminent risk of injury to self\\nd) Active suicidal ideation as evidenced by an answer of “yes” on Questions 4 or \\n5 (over the last 6 months) on the suicidal ideation section of the \\n“Baseline/Screening” version of the C-SSRS\\ne) Any lifetime history of suicidal behavior detected by the “Baseline/Screening” \\nversion of the C-SSRS\\nThe subject should not be enrolled (eg, dosed) if any active suicidal ideation is \\npresent prior to dosing (as evidenced by clinical examination or an answer of \\n“yes” on Questions 4 or 5 of the C-SSRS “Since Last Visit” version) or suicidal \\nbehavior is present in the C-SSRS “Since Last Visit” version.\\n6) Subjects with a lifetime history of a substance use disorder (as determined by \\nDSM-5 criteria), or current substance misuse including alcohol and \\nbenzodiazepines, but excluding caffeine and nicotine.\\n\\n    Question: Is BA mentioned in this text?\\n     [/INST]\"},\n",
       "  {'question': 'Is Bioequivalence mentioned in this text?',\n",
       "   'answer': '  No, bioequivalence is not mentioned in this text.',\n",
       "   'context': '8.3.1 Pharmacodynamic Laboratory Tests\\nNot applicable.\\n-----\\n8.3 Pharmacodynamic Assessments........................................................................56\\n8.4 Pharmacogenomic Assessments........................................................................57\\n8.5 Biomarker Assessments ....................................................................................57\\n8.6 Future Biospecimen Research Samples ............................................................57\\n8.6.1 Scope of Future Biospecimen Research .........................................................57\\n8.6.2 Summary of Procedures for Future Biospecimen Research Samples ............57\\n8.7 Safety Assessments ...........................................................................................58\\n8.7.1 Clinical Laboratory Assessments ...................................................................58\\n8.7.2 Physical Examination .....................................................................................59\\n-----\\nneeded.\\nAll PK samples will be shipped to the bioanalytical laboratory. Additional information \\nwill be provided in the trial-specific laboratory manual.\\n8.3 Biomarker Assessments\\n8.3.1 Pharmacodynamic Laboratory Tests\\nNot applicable.',\n",
       "   'prompt': \"[INST] <>\\nUse the following pieces of context to answer the question at the end. If you don't know the answer, just say that you don't know, don't try to make up an answer.\\n<>\\n\\n\\n    8.3.1 Pharmacodynamic Laboratory Tests\\nNot applicable.\\n-----\\n8.3 Pharmacodynamic Assessments........................................................................56\\n8.4 Pharmacogenomic Assessments........................................................................57\\n8.5 Biomarker Assessments ....................................................................................57\\n8.6 Future Biospecimen Research Samples ............................................................57\\n8.6.1 Scope of Future Biospecimen Research .........................................................57\\n8.6.2 Summary of Procedures for Future Biospecimen Research Samples ............57\\n8.7 Safety Assessments ...........................................................................................58\\n8.7.1 Clinical Laboratory Assessments ...................................................................58\\n8.7.2 Physical Examination .....................................................................................59\\n-----\\nneeded.\\nAll PK samples will be shipped to the bioanalytical laboratory. Additional information \\nwill be provided in the trial-specific laboratory manual.\\n8.3 Biomarker Assessments\\n8.3.1 Pharmacodynamic Laboratory Tests\\nNot applicable.\\n\\n    Question: Is Bioequivalence mentioned in this text?\\n     [/INST]\"},\n",
       "  {'question': 'Is BE mentioned in this text?',\n",
       "   'answer': '  No, BE is not mentioned in the given text.',\n",
       "   'context': 'expected based on the course of the condition. \\nMedical or surgical procedures (eg, endoscopy, appendectomy) should not be reported \\nas AEs; however, the condition that led to the procedure may be reported as an AE.\\nIf a reported AE undergoes a change or worsening in severity, seriousness, or toxicity, it \\nshould be reported as a new AE in eSource.\\n-----\\nexpected based on the course of the condition. \\nMedical or surgical procedures (eg, endoscopy, appendectomy) should not be reported \\nas AEs; however, the condition that led to the procedure may be reported as an AE.\\nIf a reported AE undergoes a change or worsening in severity, seriousness, or toxicity, it \\nshould be reported as a new AE in eSource.\\n-----\\nexpected based on the course of the condition. \\nMedical or surgical procedures (eg, endoscopy, appendectomy) should not be reported \\nas AEs; however, the condition that led to the procedure may be reported as an AE.\\nIf a reported AE undergoes a change or worsening in severity, seriousness, or toxicity, it \\nshould be reported as a new AE in eSource.',\n",
       "   'prompt': \"[INST] <>\\nUse the following pieces of context to answer the question at the end. If you don't know the answer, just say that you don't know, don't try to make up an answer.\\n<>\\n\\n\\n    expected based on the course of the condition. \\nMedical or surgical procedures (eg, endoscopy, appendectomy) should not be reported \\nas AEs; however, the condition that led to the procedure may be reported as an AE.\\nIf a reported AE undergoes a change or worsening in severity, seriousness, or toxicity, it \\nshould be reported as a new AE in eSource.\\n-----\\nexpected based on the course of the condition. \\nMedical or surgical procedures (eg, endoscopy, appendectomy) should not be reported \\nas AEs; however, the condition that led to the procedure may be reported as an AE.\\nIf a reported AE undergoes a change or worsening in severity, seriousness, or toxicity, it \\nshould be reported as a new AE in eSource.\\n-----\\nexpected based on the course of the condition. \\nMedical or surgical procedures (eg, endoscopy, appendectomy) should not be reported \\nas AEs; however, the condition that led to the procedure may be reported as an AE.\\nIf a reported AE undergoes a change or worsening in severity, seriousness, or toxicity, it \\nshould be reported as a new AE in eSource.\\n\\n    Question: Is BE mentioned in this text?\\n     [/INST]\"},\n",
       "  {'question': 'Is Drug-Drug Interactions mentioned in this text?',\n",
       "   'answer': '  No, drug-drug interactions are not explicitly mentioned in the given text. The text mentions several factors that could potentially interfere with the absorption, distribution, metabolism, and excretion of a drug, such as medical conditions, consumption of alcohol and caffeine, drug allergies, and history of drug abuse. However, it does not specifically mention drug-drug interactions as one of these factors. Therefore, the answer is no.',\n",
       "   'context': 'physical examination, that in the investigator’s or sponsor’s opinion may place the \\nsubject at risk or interfere with outcome variables including absorption, \\ndistribution, metabolism, and excretion of drug. This includes, but is not limited \\nto, history of or concurrent cardiac, hepatic, renal, neurologic, endocrine, \\ngastrointestinal, respiratory, hematologic, and immunologic disease.\\n5) Consumption of alcohol and/or food and beverages containing caffeine, \\nmethylxanthines (eg, coffee, chocolate) within 72 hours prior to dosing.\\n6) History of drug and/or alcohol abuse within 2 years prior to screening.\\n7) History of or current hepatitis or acquired immunodeficiency syndrome or carriers \\nof hepatitis B surface antigen and/or hepatitis C antibodies, or human \\nimmunodeficiency virus antibodies.\\n8) History of any significant drug allergy or known or suspected hypersensitivity.\\n9) A positive urine or breath alcohol test and/or urine drug screen for substance of\\n-----\\ndistribution, metabolism, and excretion of drug. This includes, but is not limited \\nto, history of or concurrent cardiac, hepatic, renal, neurologic, endocrine, \\ngastrointestinal, respiratory, hematologic, and immunologic disease.\\n5) Consumption of alcohol and/or food and beverages containing caffeine, \\nmethylxanthines (eg, coffee, chocolate) within 72 hours prior to dosing.\\n6) History of drug and/or alcohol abuse within 2 years prior to screening.\\n7) History of or current hepatitis or acquired immunodeficiency syndrome or carriers \\nof hepatitis B surface antigen and/or hepatitis C antibodies, or human \\nimmunodeficiency virus antibodies.\\n8) History of any significant drug allergy or known or suspected hypersensitivity.\\n9) A positive urine or breath alcohol test and/or urine drug screen for substance of \\nabuse at screening or upon admission to the trial site.\\n10) Having taken an investigational drug within 30 days prior to the first dose of IMP.\\n-----\\nsubject at risk or interfere with outcome variables including absorption, \\ndistribution, metabolism, and excretion of drug. This includes, but is not limited \\nto, history of or concurrent cardiac, hepatic, renal, neurologic, endocrine, \\ngastrointestinal, respiratory, hematologic, and immunologic disease.\\n5) Consumption of alcohol and/or food and beverages containing caffeine, \\nmethylxanthines (eg, coffee, chocolate) within 72 hours prior to dosing.\\n6) History of drug and/or alcohol abuse within 2 years prior to screening.\\n7) History of or current hepatitis or acquired immunodeficiency syndrome or carriers \\nof hepatitis B surface antigen and/or hepatitis C antibodies, or human \\nimmunodeficiency virus antibodies.\\n8) History of any significant drug allergy or known or suspected hypersensitivity.\\n9) A positive urine or breath alcohol test and/or urine drug screen for substance of \\nabuse at screening or upon admission to the trial site.\\n10) Having taken an investigational drug within 30 days prior to the first dose of IMP.\\n11) Any history of significant bleeding or hemorrhagic tendencies.\\n12) A history of difficulty in donating blood.',\n",
       "   'prompt': \"[INST] <>\\nUse the following pieces of context to answer the question at the end. If you don't know the answer, just say that you don't know, don't try to make up an answer.\\n<>\\n\\n\\n    physical examination, that in the investigator’s or sponsor’s opinion may place the \\nsubject at risk or interfere with outcome variables including absorption, \\ndistribution, metabolism, and excretion of drug. This includes, but is not limited \\nto, history of or concurrent cardiac, hepatic, renal, neurologic, endocrine, \\ngastrointestinal, respiratory, hematologic, and immunologic disease.\\n5) Consumption of alcohol and/or food and beverages containing caffeine, \\nmethylxanthines (eg, coffee, chocolate) within 72 hours prior to dosing.\\n6) History of drug and/or alcohol abuse within 2 years prior to screening.\\n7) History of or current hepatitis or acquired immunodeficiency syndrome or carriers \\nof hepatitis B surface antigen and/or hepatitis C antibodies, or human \\nimmunodeficiency virus antibodies.\\n8) History of any significant drug allergy or known or suspected hypersensitivity.\\n9) A positive urine or breath alcohol test and/or urine drug screen for substance of\\n-----\\ndistribution, metabolism, and excretion of drug. This includes, but is not limited \\nto, history of or concurrent cardiac, hepatic, renal, neurologic, endocrine, \\ngastrointestinal, respiratory, hematologic, and immunologic disease.\\n5) Consumption of alcohol and/or food and beverages containing caffeine, \\nmethylxanthines (eg, coffee, chocolate) within 72 hours prior to dosing.\\n6) History of drug and/or alcohol abuse within 2 years prior to screening.\\n7) History of or current hepatitis or acquired immunodeficiency syndrome or carriers \\nof hepatitis B surface antigen and/or hepatitis C antibodies, or human \\nimmunodeficiency virus antibodies.\\n8) History of any significant drug allergy or known or suspected hypersensitivity.\\n9) A positive urine or breath alcohol test and/or urine drug screen for substance of \\nabuse at screening or upon admission to the trial site.\\n10) Having taken an investigational drug within 30 days prior to the first dose of IMP.\\n-----\\nsubject at risk or interfere with outcome variables including absorption, \\ndistribution, metabolism, and excretion of drug. This includes, but is not limited \\nto, history of or concurrent cardiac, hepatic, renal, neurologic, endocrine, \\ngastrointestinal, respiratory, hematologic, and immunologic disease.\\n5) Consumption of alcohol and/or food and beverages containing caffeine, \\nmethylxanthines (eg, coffee, chocolate) within 72 hours prior to dosing.\\n6) History of drug and/or alcohol abuse within 2 years prior to screening.\\n7) History of or current hepatitis or acquired immunodeficiency syndrome or carriers \\nof hepatitis B surface antigen and/or hepatitis C antibodies, or human \\nimmunodeficiency virus antibodies.\\n8) History of any significant drug allergy or known or suspected hypersensitivity.\\n9) A positive urine or breath alcohol test and/or urine drug screen for substance of \\nabuse at screening or upon admission to the trial site.\\n10) Having taken an investigational drug within 30 days prior to the first dose of IMP.\\n11) Any history of significant bleeding or hemorrhagic tendencies.\\n12) A history of difficulty in donating blood.\\n\\n    Question: Is Drug-Drug Interactions mentioned in this text?\\n     [/INST]\"},\n",
       "  {'question': 'Is DDI mentioned in this text ?'},\n",
       "  {'question': 'Is Mass Balance mentioned in this text ?'},\n",
       "  {'question': 'Is MB mentioned in this text?'},\n",
       "  {'question': 'Is Food Effect mentioned in this text?'},\n",
       "  {'question': 'Is FE in full text mentioned in this text?'}],\n",
       " 'planned_number_of_patients': [{'question': 'How many patients are planned for study according to the text? Give me a number.'},\n",
       "  {'question': 'How many subjects are planned for study according to the text? Give me a number.'},\n",
       "  {'question': 'How many participants are planned for study according to the text? Give me a number.'}]}"
      ]
     },
     "execution_count": 29,
     "metadata": {},
     "output_type": "execute_result"
    }
   ],
   "source": [
    "sample_questions"
   ]
  },
  {
   "cell_type": "code",
   "execution_count": 28,
   "metadata": {},
   "outputs": [
    {
     "data": {
      "text/plain": [
       "{'study_arms': [{'question': 'How many number of study arms are mentioned in this text ?',\n",
       "   'answer': \"  I don't know. The text does not mention the number of study arms explicitly. It only describes the number of subjects that will be enrolled in each age cohort, but it does not provide information about the number of study arms. Therefore, I cannot answer your question.\",\n",
       "   'context': 'cohorts (Cohorts 2 and 3), and up to 5 subjects will be enrolled in each of the 4 to 5 years \\nage cohorts (Cohorts 4 and 5). Additional subjects may be enrolled as necessary.\\n-----\\ncohorts (Cohorts 1 and 6), up to 8 subjects will be enrolled in each of the 6 to 8 years age \\ncohorts (Cohorts 2 and 3), and up to 5 subjects will be enrolled in each of the 4 to 5 years \\nage cohorts (Cohorts 4 and 5). Additional subjects may be enrolled as necessary.\\n-----\\ncohorts (Cohorts 1 and 6), up to 8 subjects will be enrolled in each of the 6 to 8 years age \\ncohorts (Cohorts 2 and 3), and up to 5 subjects will be enrolled in each of the 4 to 5 years \\nage cohorts (Cohorts 4 and 5). Additional subjects may be enrolled as necessary.',\n",
       "   'prompt': \"[INST] <>\\nUse the following pieces of context to answer the question at the end. If you don't know the answer, just say that you don't know, don't try to make up an answer.\\n<>\\n\\n\\n    cohorts (Cohorts 2 and 3), and up to 5 subjects will be enrolled in each of the 4 to 5 years \\nage cohorts (Cohorts 4 and 5). Additional subjects may be enrolled as necessary.\\n-----\\ncohorts (Cohorts 1 and 6), up to 8 subjects will be enrolled in each of the 6 to 8 years age \\ncohorts (Cohorts 2 and 3), and up to 5 subjects will be enrolled in each of the 4 to 5 years \\nage cohorts (Cohorts 4 and 5). Additional subjects may be enrolled as necessary.\\n-----\\ncohorts (Cohorts 1 and 6), up to 8 subjects will be enrolled in each of the 6 to 8 years age \\ncohorts (Cohorts 2 and 3), and up to 5 subjects will be enrolled in each of the 4 to 5 years \\nage cohorts (Cohorts 4 and 5). Additional subjects may be enrolled as necessary.\\n\\n    Question: How many number of study arms are mentioned in this text ?\\n     [/INST]\"},\n",
       "  {'question': 'How many treatment groups are mentioned in this text ?',\n",
       "   'answer': \"  I don't know.\",\n",
       "   'context': '6.2.5.3 Return Process ............................................................................................39\\n6.2.5.4 Assessment/Evaluation ...............................................................................39\\n6.3 Measures to Minimize/Avoid Bias....................................................................39\\n6.4 Subject Compliance ..........................................................................................39\\n6.5 Dose Modification.............................................................................................39\\n6.6 Prior/Concomitant Medications or Therapies ...................................................39\\n6.6.1 Prohibited Medications or Therapies..............................................................40\\n6.7 Intervention After the End of the Trial .............................................................40\\n7 Discontinuation of Trial/Treatment and Subject \\nDiscontinuation/Withdrawal.............................................................40\\n-----\\n6.2.5.2 Information Required for Reporting Purposes............................................38\\n6.2.5.3 Return Process ............................................................................................39\\n6.2.5.4 Assessment/Evaluation ...............................................................................39\\n6.3 Measures to Minimize/Avoid Bias....................................................................39\\n6.4 Subject Compliance ..........................................................................................39\\n6.5 Dose Modification.............................................................................................39\\n6.6 Prior/Concomitant Medications or Therapies ...................................................39\\n6.6.1 Prohibited Medications or Therapies..............................................................40\\n6.7 Intervention After the End of the Trial .............................................................40\\n-----\\n6.4.3 AiCure Subject Confidentiality ......................................................................49\\n6.5 Concomitant Medications or Therapies ............................................................50\\n6.5.1 Prohibited Medications or Therapies..............................................................50\\n6.5.2 Permitted Medications or Therapies...............................................................51\\n6.5.3 Rescue Medications........................................................................................51\\n6.6 Intervention After the End of the Trial..............................................................51\\n7 Stopping Rules, Withdrawal Criteria, and Procedures..................51\\n7.1 Entire Trial or Treatment...................................................................................51\\n7.2 Individual Site ...................................................................................................51',\n",
       "   'prompt': \"[INST] <>\\nUse the following pieces of context to answer the question at the end. If you don't know the answer, just say that you don't know, don't try to make up an answer.\\n<>\\n\\n\\n    6.2.5.3 Return Process ............................................................................................39\\n6.2.5.4 Assessment/Evaluation ...............................................................................39\\n6.3 Measures to Minimize/Avoid Bias....................................................................39\\n6.4 Subject Compliance ..........................................................................................39\\n6.5 Dose Modification.............................................................................................39\\n6.6 Prior/Concomitant Medications or Therapies ...................................................39\\n6.6.1 Prohibited Medications or Therapies..............................................................40\\n6.7 Intervention After the End of the Trial .............................................................40\\n7 Discontinuation of Trial/Treatment and Subject \\nDiscontinuation/Withdrawal.............................................................40\\n-----\\n6.2.5.2 Information Required for Reporting Purposes............................................38\\n6.2.5.3 Return Process ............................................................................................39\\n6.2.5.4 Assessment/Evaluation ...............................................................................39\\n6.3 Measures to Minimize/Avoid Bias....................................................................39\\n6.4 Subject Compliance ..........................................................................................39\\n6.5 Dose Modification.............................................................................................39\\n6.6 Prior/Concomitant Medications or Therapies ...................................................39\\n6.6.1 Prohibited Medications or Therapies..............................................................40\\n6.7 Intervention After the End of the Trial .............................................................40\\n-----\\n6.4.3 AiCure Subject Confidentiality ......................................................................49\\n6.5 Concomitant Medications or Therapies ............................................................50\\n6.5.1 Prohibited Medications or Therapies..............................................................50\\n6.5.2 Permitted Medications or Therapies...............................................................51\\n6.5.3 Rescue Medications........................................................................................51\\n6.6 Intervention After the End of the Trial..............................................................51\\n7 Stopping Rules, Withdrawal Criteria, and Procedures..................51\\n7.1 Entire Trial or Treatment...................................................................................51\\n7.2 Individual Site ...................................................................................................51\\n\\n    Question: How many treatment groups are mentioned in this text ?\\n     [/INST]\"},\n",
       "  {'question': 'What are the number of cohorts of subjects mentioned in this text?',\n",
       "   'answer': '  There are six cohorts mentioned in the text: Cohorts 1, 2, 3, 4, 5, and 6.',\n",
       "   'context': 'cohorts (Cohorts 2 and 3), and up to 5 subjects will be enrolled in each of the 4 to 5 years \\nage cohorts (Cohorts 4 and 5). Additional subjects may be enrolled as necessary.\\n-----\\ncohorts (Cohorts 1 and 6), up to 8 subjects will be enrolled in each of the 6 to 8 years age \\ncohorts (Cohorts 2 and 3), and up to 5 subjects will be enrolled in each of the 4 to 5 years \\nage cohorts (Cohorts 4 and 5). Additional subjects may be enrolled as necessary.\\n-----\\ncohorts (Cohorts 1 and 6), up to 8 subjects will be enrolled in each of the 6 to 8 years age \\ncohorts (Cohorts 2 and 3), and up to 5 subjects will be enrolled in each of the 4 to 5 years \\nage cohorts (Cohorts 4 and 5). Additional subjects may be enrolled as necessary.',\n",
       "   'prompt': \"[INST] <>\\nUse the following pieces of context to answer the question at the end. If you don't know the answer, just say that you don't know, don't try to make up an answer.\\n<>\\n\\n\\n    cohorts (Cohorts 2 and 3), and up to 5 subjects will be enrolled in each of the 4 to 5 years \\nage cohorts (Cohorts 4 and 5). Additional subjects may be enrolled as necessary.\\n-----\\ncohorts (Cohorts 1 and 6), up to 8 subjects will be enrolled in each of the 6 to 8 years age \\ncohorts (Cohorts 2 and 3), and up to 5 subjects will be enrolled in each of the 4 to 5 years \\nage cohorts (Cohorts 4 and 5). Additional subjects may be enrolled as necessary.\\n-----\\ncohorts (Cohorts 1 and 6), up to 8 subjects will be enrolled in each of the 6 to 8 years age \\ncohorts (Cohorts 2 and 3), and up to 5 subjects will be enrolled in each of the 4 to 5 years \\nage cohorts (Cohorts 4 and 5). Additional subjects may be enrolled as necessary.\\n\\n    Question: What are the number of cohorts of subjects mentioned in this text?\\n     [/INST]\"}],\n",
       " 'design_complexity_high': [{'question': 'Is Translational Medicine Research mentioned in this text?',\n",
       "   'answer': '  No, translational medicine research is not explicitly mentioned in the given text.',\n",
       "   'context': '2 Introduction ........................................................................................26\\n2.1 Trial Rationale...................................................................................................28\\n2.2 Background .......................................................................................................28\\n2.2.1 Pharmacokinetics............................................................................................29\\n2.3 Known and Potential Risks and Benefits ..........................................................30\\n3 Objectives and Endpoints..................................................................31\\n4 Trial Design.........................................................................................33\\n4.1 Type/Design of Trial .........................................................................................33\\n4.2 Scientific Rationale for Trial Design.................................................................36\\n-----\\nProtocol 405-201-00046\\n6\\nConfidential - Proprietary Information Approval: 15 Sep 20229.4.3.5 Pharmacogenomic Analysis........................................................................70\\n9.4.3.6 Exploratory Endpoint Analysis...................................................................70\\n9.4.3.7 Abuse Liability Analysis.............................................................................70\\n9.4.3.8 Study Medication Withdrawal Questionnaire.............................................70\\n9.4.3.9 Blood Collection Experience Survey..........................................................70\\n9.5 Interim Analysis and Adaptive Design .............................................................70\\n9.5.1 Data Monitoring Committee...........................................................................70\\n10 Supporting Documentation and Operational Considerations .......71\\n10.1 Appendix 1: Regulatory, Ethical, and Trial Oversight Considerations.............71\\n10.1.1 Ethics and Responsibility ...............................................................................71\\n10.1.2 Informed Consent ...........................................................................................71\\n10.1.3 Confidentiality ................................................................................................73\\n10.1.4 Quality Control and Quality Assurance..........................................................73\\n10.1.4.1 Monitoring ..................................................................................................73\\n10.1.4.2 Auditing ......................................................................................................73\\n10.1.5 Protocol Deviations ........................................................................................74\\n10.1.6 Records Management .....................................................................................74\\n10.1.6.1 Source Documents ......................................................................................74\\n-----\\nProtocol 405-201-00046\\n6\\nConfidential - Proprietary Information Approval: 15 Sep 20229.4.3.5 Pharmacogenomic Analysis........................................................................70\\n9.4.3.6 Exploratory Endpoint Analysis...................................................................70\\n9.4.3.7 Abuse Liability Analysis.............................................................................70\\n9.4.3.8 Study Medication Withdrawal Questionnaire.............................................70\\n9.4.3.9 Blood Collection Experience Survey..........................................................70\\n9.5 Interim Analysis and Adaptive Design .............................................................70\\n9.5.1 Data Monitoring Committee...........................................................................70\\n10 Supporting Documentation and Operational Considerations .......71\\n10.1 Appendix 1: Regulatory, Ethical, and Trial Oversight Considerations.............71\\n10.1.1 Ethics and Responsibility ...............................................................................71\\n10.1.2 Informed Consent ...........................................................................................71\\n10.1.3 Confidentiality ................................................................................................73\\n10.1.4 Quality Control and Quality Assurance..........................................................73\\n10.1.4.1 Monitoring ..................................................................................................73\\n10.1.4.2 Auditing ......................................................................................................73\\n10.1.5 Protocol Deviations ........................................................................................74\\n10.1.6 Records Management .....................................................................................74\\n10.1.6.1 Source Documents ......................................................................................74',\n",
       "   'prompt': \"[INST] <>\\nUse the following pieces of context to answer the question at the end. If you don't know the answer, just say that you don't know, don't try to make up an answer.\\n<>\\n\\n\\n    2 Introduction ........................................................................................26\\n2.1 Trial Rationale...................................................................................................28\\n2.2 Background .......................................................................................................28\\n2.2.1 Pharmacokinetics............................................................................................29\\n2.3 Known and Potential Risks and Benefits ..........................................................30\\n3 Objectives and Endpoints..................................................................31\\n4 Trial Design.........................................................................................33\\n4.1 Type/Design of Trial .........................................................................................33\\n4.2 Scientific Rationale for Trial Design.................................................................36\\n-----\\nProtocol 405-201-00046\\n6\\nConfidential - Proprietary Information Approval: 15 Sep 20229.4.3.5 Pharmacogenomic Analysis........................................................................70\\n9.4.3.6 Exploratory Endpoint Analysis...................................................................70\\n9.4.3.7 Abuse Liability Analysis.............................................................................70\\n9.4.3.8 Study Medication Withdrawal Questionnaire.............................................70\\n9.4.3.9 Blood Collection Experience Survey..........................................................70\\n9.5 Interim Analysis and Adaptive Design .............................................................70\\n9.5.1 Data Monitoring Committee...........................................................................70\\n10 Supporting Documentation and Operational Considerations .......71\\n10.1 Appendix 1: Regulatory, Ethical, and Trial Oversight Considerations.............71\\n10.1.1 Ethics and Responsibility ...............................................................................71\\n10.1.2 Informed Consent ...........................................................................................71\\n10.1.3 Confidentiality ................................................................................................73\\n10.1.4 Quality Control and Quality Assurance..........................................................73\\n10.1.4.1 Monitoring ..................................................................................................73\\n10.1.4.2 Auditing ......................................................................................................73\\n10.1.5 Protocol Deviations ........................................................................................74\\n10.1.6 Records Management .....................................................................................74\\n10.1.6.1 Source Documents ......................................................................................74\\n-----\\nProtocol 405-201-00046\\n6\\nConfidential - Proprietary Information Approval: 15 Sep 20229.4.3.5 Pharmacogenomic Analysis........................................................................70\\n9.4.3.6 Exploratory Endpoint Analysis...................................................................70\\n9.4.3.7 Abuse Liability Analysis.............................................................................70\\n9.4.3.8 Study Medication Withdrawal Questionnaire.............................................70\\n9.4.3.9 Blood Collection Experience Survey..........................................................70\\n9.5 Interim Analysis and Adaptive Design .............................................................70\\n9.5.1 Data Monitoring Committee...........................................................................70\\n10 Supporting Documentation and Operational Considerations .......71\\n10.1 Appendix 1: Regulatory, Ethical, and Trial Oversight Considerations.............71\\n10.1.1 Ethics and Responsibility ...............................................................................71\\n10.1.2 Informed Consent ...........................................................................................71\\n10.1.3 Confidentiality ................................................................................................73\\n10.1.4 Quality Control and Quality Assurance..........................................................73\\n10.1.4.1 Monitoring ..................................................................................................73\\n10.1.4.2 Auditing ......................................................................................................73\\n10.1.5 Protocol Deviations ........................................................................................74\\n10.1.6 Records Management .....................................................................................74\\n10.1.6.1 Source Documents ......................................................................................74\\n\\n    Question: Is Translational Medicine Research mentioned in this text?\\n     [/INST]\"},\n",
       "  {'question': 'Is Psychedelic Research mentioned in this text?',\n",
       "   'answer': '  No, psychedelic research is not mentioned in this text. The text focuses on clinical trials, specifically the assessment and management of overdoses, treatment emergent adverse events, and concomitant medications. It also references various guidelines and resources related to drug development and regulatory compliance but does not mention anything about psychedelic research. Therefore, the answer is no.',\n",
       "   'context': 'Section 8.8.3. This may include IREs that are captured on follow-up telephone contact or \\nat any other time point after the defined trial period and continue to report any significant \\nfollow-up information to the sponsor until the events are resolved or stabilized, or the \\nsubject is lost to follow-up or has died.\\n8.9 Treatment of Overdose\\nNot applicable.\\n8.10 Subject Assessment Recording\\n8.10.1 Mini International Neuropsychiatric Interview for Children and \\nAdolescents\\nThe MINI-KID, a structured diagnostic interview that assesses the 30 most common and \\nclinically relevant disorders or disorder subtypes in pediatrics mental health, will be \\nutilized for both diagnosis and to exclude comorbid conditions.\\n8.10.2 Study Medication Withdrawal Questionnaire\\nThe study medication withdrawal questionnaire (SMWQ) will be completed by the \\nsubject or their parent/guardian at the time points described in the schedule of \\nassessments ( Table 1.3-1).\\n-----\\n6.2.5.2 Information Required for Reporting Purposes............................................38\\n6.2.5.3 Return Process ............................................................................................39\\n6.2.5.4 Assessment/Evaluation ...............................................................................39\\n6.3 Measures to Minimize/Avoid Bias....................................................................39\\n6.4 Subject Compliance ..........................................................................................39\\n6.5 Dose Modification.............................................................................................39\\n6.6 Prior/Concomitant Medications or Therapies ...................................................39\\n6.6.1 Prohibited Medications or Therapies..............................................................40\\n6.7 Intervention After the End of the Trial .............................................................40\\n-----\\nDisorders. 5th Edition, 2013. Available from: \\nhttps://www.psychiatry.org/psychiatrists/practice/dsm.\\n6Otsuka Pharmaceutical Development and Commercialization. Centanafadine (EB-\\n1020) Investigator’s Brochure, Edition 11. Otsuka Report, issued 14 Jan 2022.\\n7US Food and Drug Administration Draft Guidance for Industry. Assessing the effects \\nof food on drugs in INDs and NDAs - clinical pharmacology considerations. \\nhttps://www.fda.gov/regulatory-information/search-fda-guidance-\\ndocuments/assessing-effects-food-drugs-inds-and-ndas-clinical-pharmacology-\\nconsiderations. Published 23 June 2022. Accessed 18 October 2022.\\n8FDA Center for Drug Evaluation and Research. Guidance for Industry: Assessment of \\nAbuse Potential of Drugs. January 2017.  \\nhttps://www.fda.gov/downloads/drugs/guidancecomplianceregulatoryinformation/gui\\ndances/ucm198650.pdf.',\n",
       "   'prompt': \"[INST] <>\\nUse the following pieces of context to answer the question at the end. If you don't know the answer, just say that you don't know, don't try to make up an answer.\\n<>\\n\\n\\n    Section 8.8.3. This may include IREs that are captured on follow-up telephone contact or \\nat any other time point after the defined trial period and continue to report any significant \\nfollow-up information to the sponsor until the events are resolved or stabilized, or the \\nsubject is lost to follow-up or has died.\\n8.9 Treatment of Overdose\\nNot applicable.\\n8.10 Subject Assessment Recording\\n8.10.1 Mini International Neuropsychiatric Interview for Children and \\nAdolescents\\nThe MINI-KID, a structured diagnostic interview that assesses the 30 most common and \\nclinically relevant disorders or disorder subtypes in pediatrics mental health, will be \\nutilized for both diagnosis and to exclude comorbid conditions.\\n8.10.2 Study Medication Withdrawal Questionnaire\\nThe study medication withdrawal questionnaire (SMWQ) will be completed by the \\nsubject or their parent/guardian at the time points described in the schedule of \\nassessments ( Table 1.3-1).\\n-----\\n6.2.5.2 Information Required for Reporting Purposes............................................38\\n6.2.5.3 Return Process ............................................................................................39\\n6.2.5.4 Assessment/Evaluation ...............................................................................39\\n6.3 Measures to Minimize/Avoid Bias....................................................................39\\n6.4 Subject Compliance ..........................................................................................39\\n6.5 Dose Modification.............................................................................................39\\n6.6 Prior/Concomitant Medications or Therapies ...................................................39\\n6.6.1 Prohibited Medications or Therapies..............................................................40\\n6.7 Intervention After the End of the Trial .............................................................40\\n-----\\nDisorders. 5th Edition, 2013. Available from: \\nhttps://www.psychiatry.org/psychiatrists/practice/dsm.\\n6Otsuka Pharmaceutical Development and Commercialization. Centanafadine (EB-\\n1020) Investigator’s Brochure, Edition 11. Otsuka Report, issued 14 Jan 2022.\\n7US Food and Drug Administration Draft Guidance for Industry. Assessing the effects \\nof food on drugs in INDs and NDAs - clinical pharmacology considerations. \\nhttps://www.fda.gov/regulatory-information/search-fda-guidance-\\ndocuments/assessing-effects-food-drugs-inds-and-ndas-clinical-pharmacology-\\nconsiderations. Published 23 June 2022. Accessed 18 October 2022.\\n8FDA Center for Drug Evaluation and Research. Guidance for Industry: Assessment of \\nAbuse Potential of Drugs. January 2017.  \\nhttps://www.fda.gov/downloads/drugs/guidancecomplianceregulatoryinformation/gui\\ndances/ucm198650.pdf.\\n\\n    Question: Is Psychedelic Research mentioned in this text?\\n     [/INST]\"},\n",
       "  {'question': 'Is Abuse Liability mentioned in this text?',\n",
       "   'answer': '  Yes, the text does mention \"Abuse Potential\" multiple times.',\n",
       "   'context': 'and that these should be recorded separately). The investigators will be provided with \\nexamples of potentially abuse-related AEs, and trained on how to handle such events \\n(eg, additional monitoring). While the investigators will be provided with examples of \\nAE terms as a guide during trial conduct, the analysis of potentially abuse-related AEs \\nwill be based on a search of all Medical Dictionary for Regulatory Activities (MedDRA) \\npreferred terms, all verbatim terms, and any open text fields within the AE data to \\nidentify text strings suggestive of abuse potential, in line with the 2017 FDA guidance \\n(Assessment of Abuse Potential of Drugs).29 Refer to the separate APMP documentation \\nfor complete details on MHIs and ESAMs, including documenting and reporting\\n-----\\nand that these should be recorded separately). The investigators will be provided with \\nexamples of potentially abuse-related AEs, and trained on how to handle such events \\n(eg, additional monitoring). While the investigators will be provided with examples of \\nAE terms as a guide during trial conduct, the analysis of potentially abuse-related AEs \\nwill be based on a search of all Medical Dictionary for Regulatory Activities (MedDRA) \\npreferred terms, all verbatim terms, and any open text fields within the AE data to \\nidentify text strings suggestive of abuse potential, in line with the 2017 FDA guidance \\n(Assessment of Abuse Potential of Drugs).29 Refer to the separate APMP documentation \\nfor complete details on MHIs and ESAMs, including documenting and reporting\\n-----\\nand that these should be recorded separately). The investigators will be provided with \\nexamples of potentially abuse-related AEs, and trained on how to handle such events \\n(eg, additional monitoring). While the investigators will be provided with examples of \\nAE terms as a guide during trial conduct, the analysis of potentially abuse-related AEs \\nwill be based on a search of all Medical Dictionary for Regulatory Activities (MedDRA) \\npreferred terms, all verbatim terms, and any open text fields within the AE data to \\nidentify text strings suggestive of abuse potential, in line with the 2017 FDA guidance \\n(Assessment of Abuse Potential of Drugs).29 Refer to the separate APMP documentation \\nfor complete details on MHIs and ESAMs, including documenting and reporting',\n",
       "   'prompt': \"[INST] <>\\nUse the following pieces of context to answer the question at the end. If you don't know the answer, just say that you don't know, don't try to make up an answer.\\n<>\\n\\n\\n    and that these should be recorded separately). The investigators will be provided with \\nexamples of potentially abuse-related AEs, and trained on how to handle such events \\n(eg, additional monitoring). While the investigators will be provided with examples of \\nAE terms as a guide during trial conduct, the analysis of potentially abuse-related AEs \\nwill be based on a search of all Medical Dictionary for Regulatory Activities (MedDRA) \\npreferred terms, all verbatim terms, and any open text fields within the AE data to \\nidentify text strings suggestive of abuse potential, in line with the 2017 FDA guidance \\n(Assessment of Abuse Potential of Drugs).29 Refer to the separate APMP documentation \\nfor complete details on MHIs and ESAMs, including documenting and reporting\\n-----\\nand that these should be recorded separately). The investigators will be provided with \\nexamples of potentially abuse-related AEs, and trained on how to handle such events \\n(eg, additional monitoring). While the investigators will be provided with examples of \\nAE terms as a guide during trial conduct, the analysis of potentially abuse-related AEs \\nwill be based on a search of all Medical Dictionary for Regulatory Activities (MedDRA) \\npreferred terms, all verbatim terms, and any open text fields within the AE data to \\nidentify text strings suggestive of abuse potential, in line with the 2017 FDA guidance \\n(Assessment of Abuse Potential of Drugs).29 Refer to the separate APMP documentation \\nfor complete details on MHIs and ESAMs, including documenting and reporting\\n-----\\nand that these should be recorded separately). The investigators will be provided with \\nexamples of potentially abuse-related AEs, and trained on how to handle such events \\n(eg, additional monitoring). While the investigators will be provided with examples of \\nAE terms as a guide during trial conduct, the analysis of potentially abuse-related AEs \\nwill be based on a search of all Medical Dictionary for Regulatory Activities (MedDRA) \\npreferred terms, all verbatim terms, and any open text fields within the AE data to \\nidentify text strings suggestive of abuse potential, in line with the 2017 FDA guidance \\n(Assessment of Abuse Potential of Drugs).29 Refer to the separate APMP documentation \\nfor complete details on MHIs and ESAMs, including documenting and reporting\\n\\n    Question: Is Abuse Liability mentioned in this text?\\n     [/INST]\"},\n",
       "  {'question': 'Is Basket trial mentioned in this text?',\n",
       "   'answer': '  No, the word \"Basket\" is not mentioned in the given text. The text only mentions \"trial\" without the word \"Basket\". Therefore, the answer to your question is no.',\n",
       "   'context': 'trial, investigators or other trial subjects consent to such acknowledgement in any \\npublications resulting from its conduct.\\n-----\\nProtocol 405-201-00018\\n66\\nConfidential - Proprietary Information Amendment 4 Approval: 22 Nov 2022to participate in the trial, investigators or other personnel involved in the conduct of the \\ntrial consent to such acknowledgement in any publications resulting from its conduct.\\n-----\\nProtocol 405-201-00018\\n66\\nConfidential - Proprietary Information Amendment 4 Approval: 22 Nov 2022to participate in the trial, investigators or other personnel involved in the conduct of the \\ntrial consent to such acknowledgement in any publications resulting from its conduct.',\n",
       "   'prompt': \"[INST] <>\\nUse the following pieces of context to answer the question at the end. If you don't know the answer, just say that you don't know, don't try to make up an answer.\\n<>\\n\\n\\n    trial, investigators or other trial subjects consent to such acknowledgement in any \\npublications resulting from its conduct.\\n-----\\nProtocol 405-201-00018\\n66\\nConfidential - Proprietary Information Amendment 4 Approval: 22 Nov 2022to participate in the trial, investigators or other personnel involved in the conduct of the \\ntrial consent to such acknowledgement in any publications resulting from its conduct.\\n-----\\nProtocol 405-201-00018\\n66\\nConfidential - Proprietary Information Amendment 4 Approval: 22 Nov 2022to participate in the trial, investigators or other personnel involved in the conduct of the \\ntrial consent to such acknowledgement in any publications resulting from its conduct.\\n\\n    Question: Is Basket trial mentioned in this text?\\n     [/INST]\"},\n",
       "  {'question': 'Is Umbrella trial mentioned in this text?',\n",
       "   'answer': '  No, the word \"umbrella\" is not present in the given text. The text mentions a trial, but it does not specify that it is an umbrella trial. Therefore, based on the information provided, the answer to the question is no.',\n",
       "   'context': 'Protocol 405-201-00018\\n66\\nConfidential - Proprietary Information Amendment 4 Approval: 22 Nov 2022to participate in the trial, investigators or other personnel involved in the conduct of the \\ntrial consent to such acknowledgement in any publications resulting from its conduct.\\n-----\\nProtocol 405-201-00018\\n66\\nConfidential - Proprietary Information Amendment 4 Approval: 22 Nov 2022to participate in the trial, investigators or other personnel involved in the conduct of the \\ntrial consent to such acknowledgement in any publications resulting from its conduct.\\n-----\\nProtocol 405-201-00018\\n66\\nConfidential - Proprietary Information Amendment 4 Approval: 22 Nov 2022to participate in the trial, investigators or other personnel involved in the conduct of the \\ntrial consent to such acknowledgement in any publications resulting from its conduct.',\n",
       "   'prompt': \"[INST] <>\\nUse the following pieces of context to answer the question at the end. If you don't know the answer, just say that you don't know, don't try to make up an answer.\\n<>\\n\\n\\n    Protocol 405-201-00018\\n66\\nConfidential - Proprietary Information Amendment 4 Approval: 22 Nov 2022to participate in the trial, investigators or other personnel involved in the conduct of the \\ntrial consent to such acknowledgement in any publications resulting from its conduct.\\n-----\\nProtocol 405-201-00018\\n66\\nConfidential - Proprietary Information Amendment 4 Approval: 22 Nov 2022to participate in the trial, investigators or other personnel involved in the conduct of the \\ntrial consent to such acknowledgement in any publications resulting from its conduct.\\n-----\\nProtocol 405-201-00018\\n66\\nConfidential - Proprietary Information Amendment 4 Approval: 22 Nov 2022to participate in the trial, investigators or other personnel involved in the conduct of the \\ntrial consent to such acknowledgement in any publications resulting from its conduct.\\n\\n    Question: Is Umbrella trial mentioned in this text?\\n     [/INST]\"},\n",
       "  {'question': 'Is Multiple phases mentioned in this text?',\n",
       "   'answer': '  Yes, multiple phases are mentioned in the text. They are:\\n\\n* Screening phase (Days -21 to -1)\\n* Inpatient stay (7 days)\\n* Safety follow-up telephone call (7 days after the second dose of IMP, Day 11 (+2))',\n",
       "   'context': 'these tests must be reviewed by the investigator prior to initiation of the administration of \\nthe IMP. Additional urine and blood samples may be collected for further evaluation of \\nsafety as warranted by the investigator’s judgment. Reports from the central laboratory \\nwill be assessed by the investigator or qualified designee for clinical significance within \\nthe eSource.\\nSubjects should be monitored for potentially clinically significant clinical laboratory \\nvalues ( Section 10.4).\\nA urine or serum pregnancy test for females will be performed in Cohorts 1 and 6 only at \\nthe time points described in the schedule of assessments ( Table 1.3-1). On suspicion of \\npregnancy, an unscheduled urine or serum pregnancy test will be performed. Positive \\nurine pregnancy tests must be confirmed with a serum pregnancy test. The investigator \\n(or appropriate site staff) is advised to counsel participants on the risk of pregnancy while\\n-----\\nto approximately 32 days, including a screening phase (Days −21 to −1), a 7-day \\ninpatient stay, and a safety follow-up telephone call 7 days after the second dose of IMP \\n(Day 11 [+2]).\\nThe assessments to be conducted during the trial are summarized in Table 1.3-1 and \\nTable 1.3-2\\n-----\\nto approximately 32 days, including a screening phase (Days −21 to −1), a 7-day \\ninpatient stay, and a safety follow-up telephone call 7 days after the second dose of IMP \\n(Day 11 [+2]).\\nThe assessments to be conducted during the trial are summarized in Table 1.3-1 and \\nTable 1.3-2',\n",
       "   'prompt': \"[INST] <>\\nUse the following pieces of context to answer the question at the end. If you don't know the answer, just say that you don't know, don't try to make up an answer.\\n<>\\n\\n\\n    these tests must be reviewed by the investigator prior to initiation of the administration of \\nthe IMP. Additional urine and blood samples may be collected for further evaluation of \\nsafety as warranted by the investigator’s judgment. Reports from the central laboratory \\nwill be assessed by the investigator or qualified designee for clinical significance within \\nthe eSource.\\nSubjects should be monitored for potentially clinically significant clinical laboratory \\nvalues ( Section 10.4).\\nA urine or serum pregnancy test for females will be performed in Cohorts 1 and 6 only at \\nthe time points described in the schedule of assessments ( Table 1.3-1). On suspicion of \\npregnancy, an unscheduled urine or serum pregnancy test will be performed. Positive \\nurine pregnancy tests must be confirmed with a serum pregnancy test. The investigator \\n(or appropriate site staff) is advised to counsel participants on the risk of pregnancy while\\n-----\\nto approximately 32 days, including a screening phase (Days −21 to −1), a 7-day \\ninpatient stay, and a safety follow-up telephone call 7 days after the second dose of IMP \\n(Day 11 [+2]).\\nThe assessments to be conducted during the trial are summarized in Table 1.3-1 and \\nTable 1.3-2\\n-----\\nto approximately 32 days, including a screening phase (Days −21 to −1), a 7-day \\ninpatient stay, and a safety follow-up telephone call 7 days after the second dose of IMP \\n(Day 11 [+2]).\\nThe assessments to be conducted during the trial are summarized in Table 1.3-1 and \\nTable 1.3-2\\n\\n    Question: Is Multiple phases mentioned in this text?\\n     [/INST]\"},\n",
       "  {'question': 'Is Placebo-controlled mentioned in this text?',\n",
       "   'answer': '  No, the word \"placebo-controlled\" is not mentioned in the provided text.',\n",
       "   'context': '6.2.5.3 Return Process ............................................................................................39\\n6.2.5.4 Assessment/Evaluation ...............................................................................39\\n6.3 Measures to Minimize/Avoid Bias....................................................................39\\n6.4 Subject Compliance ..........................................................................................39\\n6.5 Dose Modification.............................................................................................39\\n6.6 Prior/Concomitant Medications or Therapies ...................................................39\\n6.6.1 Prohibited Medications or Therapies..............................................................40\\n6.7 Intervention After the End of the Trial .............................................................40\\n7 Discontinuation of Trial/Treatment and Subject \\nDiscontinuation/Withdrawal.............................................................40\\n-----\\n6.2.5.2 Information Required for Reporting Purposes............................................38\\n6.2.5.3 Return Process ............................................................................................39\\n6.2.5.4 Assessment/Evaluation ...............................................................................39\\n6.3 Measures to Minimize/Avoid Bias....................................................................39\\n6.4 Subject Compliance ..........................................................................................39\\n6.5 Dose Modification.............................................................................................39\\n6.6 Prior/Concomitant Medications or Therapies ...................................................39\\n6.6.1 Prohibited Medications or Therapies..............................................................40\\n6.7 Intervention After the End of the Trial .............................................................40\\n-----\\n2 Introduction........................................................................................26\\n2.1 Trial Rationale...................................................................................................27\\n2.2 Background .......................................................................................................27\\n2.3 Known and Potential Risks and Benefits..........................................................28\\n3 Objectives, Endpoints, and Estimands.............................................29\\n4 Trial Design.........................................................................................29\\n4.1 Type/Design of Trial.........................................................................................29\\n4.2 Scientific Rationale for Trial Design ................................................................31\\n4.3 Dosing Rationale...............................................................................................31',\n",
       "   'prompt': \"[INST] <>\\nUse the following pieces of context to answer the question at the end. If you don't know the answer, just say that you don't know, don't try to make up an answer.\\n<>\\n\\n\\n    6.2.5.3 Return Process ............................................................................................39\\n6.2.5.4 Assessment/Evaluation ...............................................................................39\\n6.3 Measures to Minimize/Avoid Bias....................................................................39\\n6.4 Subject Compliance ..........................................................................................39\\n6.5 Dose Modification.............................................................................................39\\n6.6 Prior/Concomitant Medications or Therapies ...................................................39\\n6.6.1 Prohibited Medications or Therapies..............................................................40\\n6.7 Intervention After the End of the Trial .............................................................40\\n7 Discontinuation of Trial/Treatment and Subject \\nDiscontinuation/Withdrawal.............................................................40\\n-----\\n6.2.5.2 Information Required for Reporting Purposes............................................38\\n6.2.5.3 Return Process ............................................................................................39\\n6.2.5.4 Assessment/Evaluation ...............................................................................39\\n6.3 Measures to Minimize/Avoid Bias....................................................................39\\n6.4 Subject Compliance ..........................................................................................39\\n6.5 Dose Modification.............................................................................................39\\n6.6 Prior/Concomitant Medications or Therapies ...................................................39\\n6.6.1 Prohibited Medications or Therapies..............................................................40\\n6.7 Intervention After the End of the Trial .............................................................40\\n-----\\n2 Introduction........................................................................................26\\n2.1 Trial Rationale...................................................................................................27\\n2.2 Background .......................................................................................................27\\n2.3 Known and Potential Risks and Benefits..........................................................28\\n3 Objectives, Endpoints, and Estimands.............................................29\\n4 Trial Design.........................................................................................29\\n4.1 Type/Design of Trial.........................................................................................29\\n4.2 Scientific Rationale for Trial Design ................................................................31\\n4.3 Dosing Rationale...............................................................................................31\\n\\n    Question: Is Placebo-controlled mentioned in this text?\\n     [/INST]\"}],\n",
       " 'design_complexity_medium': [{'question': 'Is First in Human mentioned in this text?',\n",
       "   'answer': '  No, the abbreviation FiH or the phrase \"First in Human\" does not appear in the provided text.',\n",
       "   'context': 'Protocol 405-201-00046\\n10\\nConfidential - Proprietary Information Approval: 15 Sep 2022List of Abbreviations\\nAbbreviation Definition\\nADHD Attention-deficit hyperactivity disorder\\nADHD-RS-5 Attention-deficit hyperactivity disorder Rating Scale - 5\\nAE Adverse event\\nAESI Adverse event of special interest\\nAIDS Acquired immunodeficiency syndrome\\nALT Alanine aminotransferase\\nAnti-HCV Hepatitis C antibodies\\nAPMP Abuse Potential Monitoring Process\\nAST Aspartate aminotransferase\\nAUC 0-24hArea under the concentration-time curve from time 0 to 24 hours\\nBMI Body mass index\\nC24hConcentration of drug in plasma at 24 hours\\nCGI-S Clinical Global Impression - Severity\\nCI Confidence interval\\nCIOMS Council for International Organizations of Medical Science\\nCmaxMaximal peak plasma concentration\\nC-SSRS Columbia-Suicide Severity Rating Scale\\nDA Dopamine\\nDL Drug load\\nDNA Deoxyribonucleic acid\\nDR Delayed release\\nDSM-IV Diagnostic and Statistical Manual of Mental Disorders - 4th Edition\\nDSM-5 Diagnostic and Statistical Manual of Mental Disorders - 5th Edition\\nECG Electrocardiogram\\neICF Electronic informed consent\\nESAM Events Subject to Additional Monitoring\\nET Early termination\\nFBR Future biospecimen research\\nFDA Food and Drug Administration\\nGCP Good Clinical Practice\\nH/I Hyperactivity/impulsivity\\nHbA 1cGlycated hemoglobin\\nHBsAg Hepatitis B surface antigen\\nHIPAA Health Insurance Portability and Accountability Act\\nHIV Human immunodeficiency virus\\nIA Inattentive\\nIB Investigator’s Brochure\\nICH International Council for Harmonisation\\nICMJE International Committee of Medical Journal Editors\\nID Identifier\\nIDDM Insulin dependent diabetes mellitus\\nIMP Investigational medicinal product\\nIND Investigational New Drug\\n-----\\nProtocol 405-201-00046\\n10\\nConfidential - Proprietary Information Approval: 15 Sep 2022List of Abbreviations\\nAbbreviation Definition\\nADHD Attention-deficit hyperactivity disorder\\nADHD-RS-5 Attention-deficit hyperactivity disorder Rating Scale - 5\\nAE Adverse event\\nAESI Adverse event of special interest\\nAIDS Acquired immunodeficiency syndrome\\nALT Alanine aminotransferase\\nAnti-HCV Hepatitis C antibodies\\nAPMP Abuse Potential Monitoring Process\\nAST Aspartate aminotransferase\\nAUC 0-24hArea under the concentration-time curve from time 0 to 24 hours\\nBMI Body mass index\\nC24hConcentration of drug in plasma at 24 hours\\nCGI-S Clinical Global Impression - Severity\\nCI Confidence interval\\nCIOMS Council for International Organizations of Medical Science\\nCmaxMaximal peak plasma concentration\\nC-SSRS Columbia-Suicide Severity Rating Scale\\nDA Dopamine\\nDL Drug load\\nDNA Deoxyribonucleic acid\\nDR Delayed release\\nDSM-IV Diagnostic and Statistical Manual of Mental Disorders - 4th Edition\\nDSM-5 Diagnostic and Statistical Manual of Mental Disorders - 5th Edition\\nECG Electrocardiogram\\neICF Electronic informed consent\\nESAM Events Subject to Additional Monitoring\\nET Early termination\\nFBR Future biospecimen research\\nFDA Food and Drug Administration\\nGCP Good Clinical Practice\\nH/I Hyperactivity/impulsivity\\nHbA 1cGlycated hemoglobin\\nHBsAg Hepatitis B surface antigen\\nHIPAA Health Insurance Portability and Accountability Act\\nHIV Human immunodeficiency virus\\nIA Inattentive\\nIB Investigator’s Brochure\\nICH International Council for Harmonisation\\nICMJE International Committee of Medical Journal Editors\\nID Identifier\\nIDDM Insulin dependent diabetes mellitus\\nIMP Investigational medicinal product\\nIND Investigational New Drug\\n-----\\nProtocol 405-201-00046\\n10\\nConfidential - Proprietary Information Approval: 15 Sep 2022List of Abbreviations\\nAbbreviation Definition\\nADHD Attention-deficit hyperactivity disorder\\nADHD-RS-5 Attention-deficit hyperactivity disorder Rating Scale - 5\\nAE Adverse event\\nAESI Adverse event of special interest\\nAIDS Acquired immunodeficiency syndrome\\nALT Alanine aminotransferase\\nAnti-HCV Hepatitis C antibodies\\nAPMP Abuse Potential Monitoring Process\\nAST Aspartate aminotransferase\\nAUC 0-24hArea under the concentration-time curve from time 0 to 24 hours\\nBMI Body mass index\\nC24hConcentration of drug in plasma at 24 hours\\nCGI-S Clinical Global Impression - Severity\\nCI Confidence interval\\nCIOMS Council for International Organizations of Medical Science\\nCmaxMaximal peak plasma concentration\\nC-SSRS Columbia-Suicide Severity Rating Scale\\nDA Dopamine\\nDL Drug load\\nDNA Deoxyribonucleic acid\\nDR Delayed release\\nDSM-IV Diagnostic and Statistical Manual of Mental Disorders - 4th Edition\\nDSM-5 Diagnostic and Statistical Manual of Mental Disorders - 5th Edition\\nECG Electrocardiogram\\neICF Electronic informed consent\\nESAM Events Subject to Additional Monitoring\\nET Early termination\\nFBR Future biospecimen research\\nFDA Food and Drug Administration\\nGCP Good Clinical Practice\\nH/I Hyperactivity/impulsivity\\nHbA 1cGlycated hemoglobin\\nHBsAg Hepatitis B surface antigen\\nHIPAA Health Insurance Portability and Accountability Act\\nHIV Human immunodeficiency virus\\nIA Inattentive\\nIB Investigator’s Brochure\\nICH International Council for Harmonisation\\nICMJE International Committee of Medical Journal Editors\\nID Identifier\\nIDDM Insulin dependent diabetes mellitus\\nIMP Investigational medicinal product\\nIND Investigational New Drug',\n",
       "   'prompt': \"[INST] <>\\nUse the following pieces of context to answer the question at the end. If you don't know the answer, just say that you don't know, don't try to make up an answer.\\n<>\\n\\n\\n    Protocol 405-201-00046\\n10\\nConfidential - Proprietary Information Approval: 15 Sep 2022List of Abbreviations\\nAbbreviation Definition\\nADHD Attention-deficit hyperactivity disorder\\nADHD-RS-5 Attention-deficit hyperactivity disorder Rating Scale - 5\\nAE Adverse event\\nAESI Adverse event of special interest\\nAIDS Acquired immunodeficiency syndrome\\nALT Alanine aminotransferase\\nAnti-HCV Hepatitis C antibodies\\nAPMP Abuse Potential Monitoring Process\\nAST Aspartate aminotransferase\\nAUC 0-24hArea under the concentration-time curve from time 0 to 24 hours\\nBMI Body mass index\\nC24hConcentration of drug in plasma at 24 hours\\nCGI-S Clinical Global Impression - Severity\\nCI Confidence interval\\nCIOMS Council for International Organizations of Medical Science\\nCmaxMaximal peak plasma concentration\\nC-SSRS Columbia-Suicide Severity Rating Scale\\nDA Dopamine\\nDL Drug load\\nDNA Deoxyribonucleic acid\\nDR Delayed release\\nDSM-IV Diagnostic and Statistical Manual of Mental Disorders - 4th Edition\\nDSM-5 Diagnostic and Statistical Manual of Mental Disorders - 5th Edition\\nECG Electrocardiogram\\neICF Electronic informed consent\\nESAM Events Subject to Additional Monitoring\\nET Early termination\\nFBR Future biospecimen research\\nFDA Food and Drug Administration\\nGCP Good Clinical Practice\\nH/I Hyperactivity/impulsivity\\nHbA 1cGlycated hemoglobin\\nHBsAg Hepatitis B surface antigen\\nHIPAA Health Insurance Portability and Accountability Act\\nHIV Human immunodeficiency virus\\nIA Inattentive\\nIB Investigator’s Brochure\\nICH International Council for Harmonisation\\nICMJE International Committee of Medical Journal Editors\\nID Identifier\\nIDDM Insulin dependent diabetes mellitus\\nIMP Investigational medicinal product\\nIND Investigational New Drug\\n-----\\nProtocol 405-201-00046\\n10\\nConfidential - Proprietary Information Approval: 15 Sep 2022List of Abbreviations\\nAbbreviation Definition\\nADHD Attention-deficit hyperactivity disorder\\nADHD-RS-5 Attention-deficit hyperactivity disorder Rating Scale - 5\\nAE Adverse event\\nAESI Adverse event of special interest\\nAIDS Acquired immunodeficiency syndrome\\nALT Alanine aminotransferase\\nAnti-HCV Hepatitis C antibodies\\nAPMP Abuse Potential Monitoring Process\\nAST Aspartate aminotransferase\\nAUC 0-24hArea under the concentration-time curve from time 0 to 24 hours\\nBMI Body mass index\\nC24hConcentration of drug in plasma at 24 hours\\nCGI-S Clinical Global Impression - Severity\\nCI Confidence interval\\nCIOMS Council for International Organizations of Medical Science\\nCmaxMaximal peak plasma concentration\\nC-SSRS Columbia-Suicide Severity Rating Scale\\nDA Dopamine\\nDL Drug load\\nDNA Deoxyribonucleic acid\\nDR Delayed release\\nDSM-IV Diagnostic and Statistical Manual of Mental Disorders - 4th Edition\\nDSM-5 Diagnostic and Statistical Manual of Mental Disorders - 5th Edition\\nECG Electrocardiogram\\neICF Electronic informed consent\\nESAM Events Subject to Additional Monitoring\\nET Early termination\\nFBR Future biospecimen research\\nFDA Food and Drug Administration\\nGCP Good Clinical Practice\\nH/I Hyperactivity/impulsivity\\nHbA 1cGlycated hemoglobin\\nHBsAg Hepatitis B surface antigen\\nHIPAA Health Insurance Portability and Accountability Act\\nHIV Human immunodeficiency virus\\nIA Inattentive\\nIB Investigator’s Brochure\\nICH International Council for Harmonisation\\nICMJE International Committee of Medical Journal Editors\\nID Identifier\\nIDDM Insulin dependent diabetes mellitus\\nIMP Investigational medicinal product\\nIND Investigational New Drug\\n-----\\nProtocol 405-201-00046\\n10\\nConfidential - Proprietary Information Approval: 15 Sep 2022List of Abbreviations\\nAbbreviation Definition\\nADHD Attention-deficit hyperactivity disorder\\nADHD-RS-5 Attention-deficit hyperactivity disorder Rating Scale - 5\\nAE Adverse event\\nAESI Adverse event of special interest\\nAIDS Acquired immunodeficiency syndrome\\nALT Alanine aminotransferase\\nAnti-HCV Hepatitis C antibodies\\nAPMP Abuse Potential Monitoring Process\\nAST Aspartate aminotransferase\\nAUC 0-24hArea under the concentration-time curve from time 0 to 24 hours\\nBMI Body mass index\\nC24hConcentration of drug in plasma at 24 hours\\nCGI-S Clinical Global Impression - Severity\\nCI Confidence interval\\nCIOMS Council for International Organizations of Medical Science\\nCmaxMaximal peak plasma concentration\\nC-SSRS Columbia-Suicide Severity Rating Scale\\nDA Dopamine\\nDL Drug load\\nDNA Deoxyribonucleic acid\\nDR Delayed release\\nDSM-IV Diagnostic and Statistical Manual of Mental Disorders - 4th Edition\\nDSM-5 Diagnostic and Statistical Manual of Mental Disorders - 5th Edition\\nECG Electrocardiogram\\neICF Electronic informed consent\\nESAM Events Subject to Additional Monitoring\\nET Early termination\\nFBR Future biospecimen research\\nFDA Food and Drug Administration\\nGCP Good Clinical Practice\\nH/I Hyperactivity/impulsivity\\nHbA 1cGlycated hemoglobin\\nHBsAg Hepatitis B surface antigen\\nHIPAA Health Insurance Portability and Accountability Act\\nHIV Human immunodeficiency virus\\nIA Inattentive\\nIB Investigator’s Brochure\\nICH International Council for Harmonisation\\nICMJE International Committee of Medical Journal Editors\\nID Identifier\\nIDDM Insulin dependent diabetes mellitus\\nIMP Investigational medicinal product\\nIND Investigational New Drug\\n\\n    Question: Is First in Human mentioned in this text?\\n     [/INST]\"},\n",
       "  {'question': 'Is FIH mentioned in this text?',\n",
       "   'answer': '  No, the text does not mention FIH.',\n",
       "   'context': 'If a FBR substudy is planned, a separate document describing the analysis may be \\nprepared and the results may be reported separately from the clinical study report.\\n-----\\nIf a FBR substudy is planned, a separate document describing the analysis may be \\nprepared and the results may be reported separately from the clinical study report.\\n-----\\nIf a FBR substudy is planned, a separate document describing the analysis may be \\nprepared and the results may be reported separately from the clinical study report.',\n",
       "   'prompt': \"[INST] <>\\nUse the following pieces of context to answer the question at the end. If you don't know the answer, just say that you don't know, don't try to make up an answer.\\n<>\\n\\n\\n    If a FBR substudy is planned, a separate document describing the analysis may be \\nprepared and the results may be reported separately from the clinical study report.\\n-----\\nIf a FBR substudy is planned, a separate document describing the analysis may be \\nprepared and the results may be reported separately from the clinical study report.\\n-----\\nIf a FBR substudy is planned, a separate document describing the analysis may be \\nprepared and the results may be reported separately from the clinical study report.\\n\\n    Question: Is FIH mentioned in this text?\\n     [/INST]\"},\n",
       "  {'question': 'Is Single Ascending Dose mentioned in this text?',\n",
       "   'answer': '  No, the text does not mention \"Single Ascending Dose.\"',\n",
       "   'context': 'centanafadine SR tablet dose will be administered 5 hours after the first dose. All doses \\nwill be taken with 240 mL room temperature water. Additional water will be available ad \\nlibitum except for ± 1 hour for the morning dose.\\nIn Arm 3, a 328.8-mg centanafadine QD XR capsule will be administered in the fed and \\nfasted states. In the fed state, dosing will occur within 30 minutes of the start of \\nconsuming a high-fat, high-calorie meal. Dosing in the fasted state will be as described \\nabove.\\nTrial Assessments:\\nAssessments for Pharmacokinetics/Pharmacogenomics: blood sampling for plasma \\nconcentrations of centanafadine and metabolite, pharmacogenomics (to examine gene \\nvariants of drug-metabolizing enzymes and transporters, such as monoamine oxidase A), \\nand optional future biospecimen research for Arms 1 and 2.\\nAssessments for Safety: adverse events (AEs), clinical laboratory tests, 12-lead ECG, \\nvital signs, and physical examination findings, assessment of suicidality (C-SSRS).\\n-----\\nRDOV216419, 2013.\\n23Heal DJ, Smith SL, Kulkarni RS, Rowley HL. New perspectives from microdialysis \\nstudies in freely-moving, spontaneously hypertensive rats on the pharmacology of \\ndrugs for the treatment of ADHD. Pharmacol Biochem Behav. 2008;90(2):184-197.\\n24Otsuka Pharmaceutical Development and Commercialization. Centanafadine \\n(EB-1020) Investigator’s Brochure, Edition 10. Otsuka Report, issued 22 Dec 2020.\\n25Momper JD, Mulugeta Y, Green DJ, Karesh A, Krudys KM, Sachs HC, et al. \\nAdolescent dosing and labeling since the Food and Drug Administration \\nAmendments Act of 2007. JAMA Pediatr. 2013;167(10):926-932.\\n26Liu T, Ghafoori P, Gobburu JV. Allometry is a reasonable choice in pediatric drug \\ndevelopment. J Clin Pharmacol. 2017;57(4):469-475.\\n27Abdulla S, Amuri B, Kabanywanyi AM, Ubben D, Reynolds C, Pascoe S, et al. Early \\nclinical development of artemetherl-umefantrine dispersible tablet: palatability of \\nthree flavours and bioavailability in healthy subjects. Malar J. 2010;9:253. \\n28Posner K, Oquendo MA, Gould M, Stanley B, Davies M. Columbia Classification \\nAlgorithm of Suicide Assessment (C-CASA): classification of suicidal events in the \\nFDA’s pediatric suicidal risk analysis of antidepressants. Am J Psychiatry. \\n2007;164(7):1035–104.\\n-----\\nRDOV216419, 2013.\\n23Heal DJ, Smith SL, Kulkarni RS, Rowley HL. New perspectives from microdialysis \\nstudies in freely-moving, spontaneously hypertensive rats on the pharmacology of \\ndrugs for the treatment of ADHD. Pharmacol Biochem Behav. 2008;90(2):184-197.\\n24Otsuka Pharmaceutical Development and Commercialization. Centanafadine \\n(EB-1020) Investigator’s Brochure, Edition 10. Otsuka Report, issued 22 Dec 2020.\\n25Momper JD, Mulugeta Y, Green DJ, Karesh A, Krudys KM, Sachs HC, et al. \\nAdolescent dosing and labeling since the Food and Drug Administration \\nAmendments Act of 2007. JAMA Pediatr. 2013;167(10):926-932.\\n26Liu T, Ghafoori P, Gobburu JV. Allometry is a reasonable choice in pediatric drug \\ndevelopment. J Clin Pharmacol. 2017;57(4):469-475.\\n27Abdulla S, Amuri B, Kabanywanyi AM, Ubben D, Reynolds C, Pascoe S, et al. Early \\nclinical development of artemetherl-umefantrine dispersible tablet: palatability of \\nthree flavours and bioavailability in healthy subjects. Malar J. 2010;9:253. \\n28Posner K, Oquendo MA, Gould M, Stanley B, Davies M. Columbia Classification \\nAlgorithm of Suicide Assessment (C-CASA): classification of suicidal events in the \\nFDA’s pediatric suicidal risk analysis of antidepressants. Am J Psychiatry. \\n2007;164(7):1035–104.',\n",
       "   'prompt': \"[INST] <>\\nUse the following pieces of context to answer the question at the end. If you don't know the answer, just say that you don't know, don't try to make up an answer.\\n<>\\n\\n\\n    centanafadine SR tablet dose will be administered 5 hours after the first dose. All doses \\nwill be taken with 240 mL room temperature water. Additional water will be available ad \\nlibitum except for ± 1 hour for the morning dose.\\nIn Arm 3, a 328.8-mg centanafadine QD XR capsule will be administered in the fed and \\nfasted states. In the fed state, dosing will occur within 30 minutes of the start of \\nconsuming a high-fat, high-calorie meal. Dosing in the fasted state will be as described \\nabove.\\nTrial Assessments:\\nAssessments for Pharmacokinetics/Pharmacogenomics: blood sampling for plasma \\nconcentrations of centanafadine and metabolite, pharmacogenomics (to examine gene \\nvariants of drug-metabolizing enzymes and transporters, such as monoamine oxidase A), \\nand optional future biospecimen research for Arms 1 and 2.\\nAssessments for Safety: adverse events (AEs), clinical laboratory tests, 12-lead ECG, \\nvital signs, and physical examination findings, assessment of suicidality (C-SSRS).\\n-----\\nRDOV216419, 2013.\\n23Heal DJ, Smith SL, Kulkarni RS, Rowley HL. New perspectives from microdialysis \\nstudies in freely-moving, spontaneously hypertensive rats on the pharmacology of \\ndrugs for the treatment of ADHD. Pharmacol Biochem Behav. 2008;90(2):184-197.\\n24Otsuka Pharmaceutical Development and Commercialization. Centanafadine \\n(EB-1020) Investigator’s Brochure, Edition 10. Otsuka Report, issued 22 Dec 2020.\\n25Momper JD, Mulugeta Y, Green DJ, Karesh A, Krudys KM, Sachs HC, et al. \\nAdolescent dosing and labeling since the Food and Drug Administration \\nAmendments Act of 2007. JAMA Pediatr. 2013;167(10):926-932.\\n26Liu T, Ghafoori P, Gobburu JV. Allometry is a reasonable choice in pediatric drug \\ndevelopment. J Clin Pharmacol. 2017;57(4):469-475.\\n27Abdulla S, Amuri B, Kabanywanyi AM, Ubben D, Reynolds C, Pascoe S, et al. Early \\nclinical development of artemetherl-umefantrine dispersible tablet: palatability of \\nthree flavours and bioavailability in healthy subjects. Malar J. 2010;9:253. \\n28Posner K, Oquendo MA, Gould M, Stanley B, Davies M. Columbia Classification \\nAlgorithm of Suicide Assessment (C-CASA): classification of suicidal events in the \\nFDA’s pediatric suicidal risk analysis of antidepressants. Am J Psychiatry. \\n2007;164(7):1035–104.\\n-----\\nRDOV216419, 2013.\\n23Heal DJ, Smith SL, Kulkarni RS, Rowley HL. New perspectives from microdialysis \\nstudies in freely-moving, spontaneously hypertensive rats on the pharmacology of \\ndrugs for the treatment of ADHD. Pharmacol Biochem Behav. 2008;90(2):184-197.\\n24Otsuka Pharmaceutical Development and Commercialization. Centanafadine \\n(EB-1020) Investigator’s Brochure, Edition 10. Otsuka Report, issued 22 Dec 2020.\\n25Momper JD, Mulugeta Y, Green DJ, Karesh A, Krudys KM, Sachs HC, et al. \\nAdolescent dosing and labeling since the Food and Drug Administration \\nAmendments Act of 2007. JAMA Pediatr. 2013;167(10):926-932.\\n26Liu T, Ghafoori P, Gobburu JV. Allometry is a reasonable choice in pediatric drug \\ndevelopment. J Clin Pharmacol. 2017;57(4):469-475.\\n27Abdulla S, Amuri B, Kabanywanyi AM, Ubben D, Reynolds C, Pascoe S, et al. Early \\nclinical development of artemetherl-umefantrine dispersible tablet: palatability of \\nthree flavours and bioavailability in healthy subjects. Malar J. 2010;9:253. \\n28Posner K, Oquendo MA, Gould M, Stanley B, Davies M. Columbia Classification \\nAlgorithm of Suicide Assessment (C-CASA): classification of suicidal events in the \\nFDA’s pediatric suicidal risk analysis of antidepressants. Am J Psychiatry. \\n2007;164(7):1035–104.\\n\\n    Question: Is Single Ascending Dose mentioned in this text?\\n     [/INST]\"},\n",
       "  {'question': 'Is SAD mentioned in this text?',\n",
       "   'answer': '  No, SAD is not mentioned in the provided text.',\n",
       "   'context': 'Protocol 405-201-00046\\n10\\nConfidential - Proprietary Information Approval: 15 Sep 2022List of Abbreviations\\nAbbreviation Definition\\nADHD Attention-deficit hyperactivity disorder\\nADHD-RS-5 Attention-deficit hyperactivity disorder Rating Scale - 5\\nAE Adverse event\\nAESI Adverse event of special interest\\nAIDS Acquired immunodeficiency syndrome\\nALT Alanine aminotransferase\\nAnti-HCV Hepatitis C antibodies\\nAPMP Abuse Potential Monitoring Process\\nAST Aspartate aminotransferase\\nAUC 0-24hArea under the concentration-time curve from time 0 to 24 hours\\nBMI Body mass index\\nC24hConcentration of drug in plasma at 24 hours\\nCGI-S Clinical Global Impression - Severity\\nCI Confidence interval\\nCIOMS Council for International Organizations of Medical Science\\nCmaxMaximal peak plasma concentration\\nC-SSRS Columbia-Suicide Severity Rating Scale\\nDA Dopamine\\nDL Drug load\\nDNA Deoxyribonucleic acid\\nDR Delayed release\\nDSM-IV Diagnostic and Statistical Manual of Mental Disorders - 4th Edition\\nDSM-5 Diagnostic and Statistical Manual of Mental Disorders - 5th Edition\\nECG Electrocardiogram\\neICF Electronic informed consent\\nESAM Events Subject to Additional Monitoring\\nET Early termination\\nFBR Future biospecimen research\\nFDA Food and Drug Administration\\nGCP Good Clinical Practice\\nH/I Hyperactivity/impulsivity\\nHbA 1cGlycated hemoglobin\\nHBsAg Hepatitis B surface antigen\\nHIPAA Health Insurance Portability and Accountability Act\\nHIV Human immunodeficiency virus\\nIA Inattentive\\nIB Investigator’s Brochure\\nICH International Council for Harmonisation\\nICMJE International Committee of Medical Journal Editors\\nID Identifier\\nIDDM Insulin dependent diabetes mellitus\\nIMP Investigational medicinal product\\nIND Investigational New Drug\\n-----\\nProtocol 405-201-00046\\n10\\nConfidential - Proprietary Information Approval: 15 Sep 2022List of Abbreviations\\nAbbreviation Definition\\nADHD Attention-deficit hyperactivity disorder\\nADHD-RS-5 Attention-deficit hyperactivity disorder Rating Scale - 5\\nAE Adverse event\\nAESI Adverse event of special interest\\nAIDS Acquired immunodeficiency syndrome\\nALT Alanine aminotransferase\\nAnti-HCV Hepatitis C antibodies\\nAPMP Abuse Potential Monitoring Process\\nAST Aspartate aminotransferase\\nAUC 0-24hArea under the concentration-time curve from time 0 to 24 hours\\nBMI Body mass index\\nC24hConcentration of drug in plasma at 24 hours\\nCGI-S Clinical Global Impression - Severity\\nCI Confidence interval\\nCIOMS Council for International Organizations of Medical Science\\nCmaxMaximal peak plasma concentration\\nC-SSRS Columbia-Suicide Severity Rating Scale\\nDA Dopamine\\nDL Drug load\\nDNA Deoxyribonucleic acid\\nDR Delayed release\\nDSM-IV Diagnostic and Statistical Manual of Mental Disorders - 4th Edition\\nDSM-5 Diagnostic and Statistical Manual of Mental Disorders - 5th Edition\\nECG Electrocardiogram\\neICF Electronic informed consent\\nESAM Events Subject to Additional Monitoring\\nET Early termination\\nFBR Future biospecimen research\\nFDA Food and Drug Administration\\nGCP Good Clinical Practice\\nH/I Hyperactivity/impulsivity\\nHbA 1cGlycated hemoglobin\\nHBsAg Hepatitis B surface antigen\\nHIPAA Health Insurance Portability and Accountability Act\\nHIV Human immunodeficiency virus\\nIA Inattentive\\nIB Investigator’s Brochure\\nICH International Council for Harmonisation\\nICMJE International Committee of Medical Journal Editors\\nID Identifier\\nIDDM Insulin dependent diabetes mellitus\\nIMP Investigational medicinal product\\nIND Investigational New Drug\\n-----\\nProtocol 405-201-00046\\n10\\nConfidential - Proprietary Information Approval: 15 Sep 2022List of Abbreviations\\nAbbreviation Definition\\nADHD Attention-deficit hyperactivity disorder\\nADHD-RS-5 Attention-deficit hyperactivity disorder Rating Scale - 5\\nAE Adverse event\\nAESI Adverse event of special interest\\nAIDS Acquired immunodeficiency syndrome\\nALT Alanine aminotransferase\\nAnti-HCV Hepatitis C antibodies\\nAPMP Abuse Potential Monitoring Process\\nAST Aspartate aminotransferase\\nAUC 0-24hArea under the concentration-time curve from time 0 to 24 hours\\nBMI Body mass index\\nC24hConcentration of drug in plasma at 24 hours\\nCGI-S Clinical Global Impression - Severity\\nCI Confidence interval\\nCIOMS Council for International Organizations of Medical Science\\nCmaxMaximal peak plasma concentration\\nC-SSRS Columbia-Suicide Severity Rating Scale\\nDA Dopamine\\nDL Drug load\\nDNA Deoxyribonucleic acid\\nDR Delayed release\\nDSM-IV Diagnostic and Statistical Manual of Mental Disorders - 4th Edition\\nDSM-5 Diagnostic and Statistical Manual of Mental Disorders - 5th Edition\\nECG Electrocardiogram\\neICF Electronic informed consent\\nESAM Events Subject to Additional Monitoring\\nET Early termination\\nFBR Future biospecimen research\\nFDA Food and Drug Administration\\nGCP Good Clinical Practice\\nH/I Hyperactivity/impulsivity\\nHbA 1cGlycated hemoglobin\\nHBsAg Hepatitis B surface antigen\\nHIPAA Health Insurance Portability and Accountability Act\\nHIV Human immunodeficiency virus\\nIA Inattentive\\nIB Investigator’s Brochure\\nICH International Council for Harmonisation\\nICMJE International Committee of Medical Journal Editors\\nID Identifier\\nIDDM Insulin dependent diabetes mellitus\\nIMP Investigational medicinal product\\nIND Investigational New Drug',\n",
       "   'prompt': \"[INST] <>\\nUse the following pieces of context to answer the question at the end. If you don't know the answer, just say that you don't know, don't try to make up an answer.\\n<>\\n\\n\\n    Protocol 405-201-00046\\n10\\nConfidential - Proprietary Information Approval: 15 Sep 2022List of Abbreviations\\nAbbreviation Definition\\nADHD Attention-deficit hyperactivity disorder\\nADHD-RS-5 Attention-deficit hyperactivity disorder Rating Scale - 5\\nAE Adverse event\\nAESI Adverse event of special interest\\nAIDS Acquired immunodeficiency syndrome\\nALT Alanine aminotransferase\\nAnti-HCV Hepatitis C antibodies\\nAPMP Abuse Potential Monitoring Process\\nAST Aspartate aminotransferase\\nAUC 0-24hArea under the concentration-time curve from time 0 to 24 hours\\nBMI Body mass index\\nC24hConcentration of drug in plasma at 24 hours\\nCGI-S Clinical Global Impression - Severity\\nCI Confidence interval\\nCIOMS Council for International Organizations of Medical Science\\nCmaxMaximal peak plasma concentration\\nC-SSRS Columbia-Suicide Severity Rating Scale\\nDA Dopamine\\nDL Drug load\\nDNA Deoxyribonucleic acid\\nDR Delayed release\\nDSM-IV Diagnostic and Statistical Manual of Mental Disorders - 4th Edition\\nDSM-5 Diagnostic and Statistical Manual of Mental Disorders - 5th Edition\\nECG Electrocardiogram\\neICF Electronic informed consent\\nESAM Events Subject to Additional Monitoring\\nET Early termination\\nFBR Future biospecimen research\\nFDA Food and Drug Administration\\nGCP Good Clinical Practice\\nH/I Hyperactivity/impulsivity\\nHbA 1cGlycated hemoglobin\\nHBsAg Hepatitis B surface antigen\\nHIPAA Health Insurance Portability and Accountability Act\\nHIV Human immunodeficiency virus\\nIA Inattentive\\nIB Investigator’s Brochure\\nICH International Council for Harmonisation\\nICMJE International Committee of Medical Journal Editors\\nID Identifier\\nIDDM Insulin dependent diabetes mellitus\\nIMP Investigational medicinal product\\nIND Investigational New Drug\\n-----\\nProtocol 405-201-00046\\n10\\nConfidential - Proprietary Information Approval: 15 Sep 2022List of Abbreviations\\nAbbreviation Definition\\nADHD Attention-deficit hyperactivity disorder\\nADHD-RS-5 Attention-deficit hyperactivity disorder Rating Scale - 5\\nAE Adverse event\\nAESI Adverse event of special interest\\nAIDS Acquired immunodeficiency syndrome\\nALT Alanine aminotransferase\\nAnti-HCV Hepatitis C antibodies\\nAPMP Abuse Potential Monitoring Process\\nAST Aspartate aminotransferase\\nAUC 0-24hArea under the concentration-time curve from time 0 to 24 hours\\nBMI Body mass index\\nC24hConcentration of drug in plasma at 24 hours\\nCGI-S Clinical Global Impression - Severity\\nCI Confidence interval\\nCIOMS Council for International Organizations of Medical Science\\nCmaxMaximal peak plasma concentration\\nC-SSRS Columbia-Suicide Severity Rating Scale\\nDA Dopamine\\nDL Drug load\\nDNA Deoxyribonucleic acid\\nDR Delayed release\\nDSM-IV Diagnostic and Statistical Manual of Mental Disorders - 4th Edition\\nDSM-5 Diagnostic and Statistical Manual of Mental Disorders - 5th Edition\\nECG Electrocardiogram\\neICF Electronic informed consent\\nESAM Events Subject to Additional Monitoring\\nET Early termination\\nFBR Future biospecimen research\\nFDA Food and Drug Administration\\nGCP Good Clinical Practice\\nH/I Hyperactivity/impulsivity\\nHbA 1cGlycated hemoglobin\\nHBsAg Hepatitis B surface antigen\\nHIPAA Health Insurance Portability and Accountability Act\\nHIV Human immunodeficiency virus\\nIA Inattentive\\nIB Investigator’s Brochure\\nICH International Council for Harmonisation\\nICMJE International Committee of Medical Journal Editors\\nID Identifier\\nIDDM Insulin dependent diabetes mellitus\\nIMP Investigational medicinal product\\nIND Investigational New Drug\\n-----\\nProtocol 405-201-00046\\n10\\nConfidential - Proprietary Information Approval: 15 Sep 2022List of Abbreviations\\nAbbreviation Definition\\nADHD Attention-deficit hyperactivity disorder\\nADHD-RS-5 Attention-deficit hyperactivity disorder Rating Scale - 5\\nAE Adverse event\\nAESI Adverse event of special interest\\nAIDS Acquired immunodeficiency syndrome\\nALT Alanine aminotransferase\\nAnti-HCV Hepatitis C antibodies\\nAPMP Abuse Potential Monitoring Process\\nAST Aspartate aminotransferase\\nAUC 0-24hArea under the concentration-time curve from time 0 to 24 hours\\nBMI Body mass index\\nC24hConcentration of drug in plasma at 24 hours\\nCGI-S Clinical Global Impression - Severity\\nCI Confidence interval\\nCIOMS Council for International Organizations of Medical Science\\nCmaxMaximal peak plasma concentration\\nC-SSRS Columbia-Suicide Severity Rating Scale\\nDA Dopamine\\nDL Drug load\\nDNA Deoxyribonucleic acid\\nDR Delayed release\\nDSM-IV Diagnostic and Statistical Manual of Mental Disorders - 4th Edition\\nDSM-5 Diagnostic and Statistical Manual of Mental Disorders - 5th Edition\\nECG Electrocardiogram\\neICF Electronic informed consent\\nESAM Events Subject to Additional Monitoring\\nET Early termination\\nFBR Future biospecimen research\\nFDA Food and Drug Administration\\nGCP Good Clinical Practice\\nH/I Hyperactivity/impulsivity\\nHbA 1cGlycated hemoglobin\\nHBsAg Hepatitis B surface antigen\\nHIPAA Health Insurance Portability and Accountability Act\\nHIV Human immunodeficiency virus\\nIA Inattentive\\nIB Investigator’s Brochure\\nICH International Council for Harmonisation\\nICMJE International Committee of Medical Journal Editors\\nID Identifier\\nIDDM Insulin dependent diabetes mellitus\\nIMP Investigational medicinal product\\nIND Investigational New Drug\\n\\n    Question: Is SAD mentioned in this text?\\n     [/INST]\"},\n",
       "  {'question': 'Is Multiple Ascending Dose mentioned in this text?',\n",
       "   'answer': '  No, the term \"Multiple Ascending Dose\" is not mentioned in the provided text.',\n",
       "   'context': '8.7.6 Abuse Potential Monitoring Process, Events Subject to Additional \\nMonitoring, and Medication Handling Irregularities .....................................52\\n8.7.7 Potential Serious Hepatotoxicity ....................................................................52\\n8.7.8 Procedure for Breaking the Blind...................................................................53\\n8.7.9 Follow-up of Adverse Events.........................................................................53\\n8.7.9.1 Follow-up of Nonserious Adverse Events ..................................................53\\n8.7.9.2 Follow-up of Immediately Reportable Events............................................53\\n8.7.9.3 Follow-up and Reporting of Immediately Reportable Events \\nOccurring After Last Scheduled Contact....................................................54\\n8.8 Treatment of Overdose......................................................................................54\\n-----\\nPharmacovigilance representative, medical monitor, and the clinical pharmacology \\nrepresentative. Dose escalation may be modified or stopped based upon sponsor or \\ninvestigator’s clinical judgment at any time. Additional subjects or cohorts may be added \\nat the discretion of the safety review team to further evaluate a given dose. Each subject \\nin the cohort will be evaluated by the investigator at the site to assess the subject’s \\ntolerability to the dose. Dose toleration is defined as follows: during the course of the \\ntrial, the subject does not experience any moderate or severe AEs or potentially clinically \\nsignificant changes from baseline in clinical laboratory assessment values, vital signs, or \\nelectrocardiogram (ECG) tracings, which are assessed as related to the IMP, and would \\nwarrant a dose decrease or discontinuation of the IMP. Dose toleration must be observed\\n-----\\n8.7.6 Abuse Potential Monitoring Process, Events Subject to Additional \\nMonitoring, and Medication Handling Irregularities .....................................52\\n8.7.7 Potential Serious Hepatotoxicity ....................................................................52\\n8.7.8 Procedure for Breaking the Blind...................................................................53\\n8.7.9 Follow-up of Adverse Events.........................................................................53\\n8.7.9.1 Follow-up of Nonserious Adverse Events ..................................................53\\n8.7.9.2 Follow-up of Immediately Reportable Events............................................53\\n8.7.9.3 Follow-up and Reporting of Immediately Reportable Events \\nOccurring After Last Scheduled Contact....................................................54\\n8.8 Treatment of Overdose......................................................................................54\\n8.9 Subject Assessment Recording .........................................................................54\\n8.10 Other Assessments ............................................................................................54\\n9 Statistical Considerations ..................................................................54\\n9.1 Sample Size.......................................................................................................54\\n9.2 Datasets for Analysis.........................................................................................55\\n9.3 Handling of Missing Data for Primary Endpoint Analysis...............................55',\n",
       "   'prompt': \"[INST] <>\\nUse the following pieces of context to answer the question at the end. If you don't know the answer, just say that you don't know, don't try to make up an answer.\\n<>\\n\\n\\n    8.7.6 Abuse Potential Monitoring Process, Events Subject to Additional \\nMonitoring, and Medication Handling Irregularities .....................................52\\n8.7.7 Potential Serious Hepatotoxicity ....................................................................52\\n8.7.8 Procedure for Breaking the Blind...................................................................53\\n8.7.9 Follow-up of Adverse Events.........................................................................53\\n8.7.9.1 Follow-up of Nonserious Adverse Events ..................................................53\\n8.7.9.2 Follow-up of Immediately Reportable Events............................................53\\n8.7.9.3 Follow-up and Reporting of Immediately Reportable Events \\nOccurring After Last Scheduled Contact....................................................54\\n8.8 Treatment of Overdose......................................................................................54\\n-----\\nPharmacovigilance representative, medical monitor, and the clinical pharmacology \\nrepresentative. Dose escalation may be modified or stopped based upon sponsor or \\ninvestigator’s clinical judgment at any time. Additional subjects or cohorts may be added \\nat the discretion of the safety review team to further evaluate a given dose. Each subject \\nin the cohort will be evaluated by the investigator at the site to assess the subject’s \\ntolerability to the dose. Dose toleration is defined as follows: during the course of the \\ntrial, the subject does not experience any moderate or severe AEs or potentially clinically \\nsignificant changes from baseline in clinical laboratory assessment values, vital signs, or \\nelectrocardiogram (ECG) tracings, which are assessed as related to the IMP, and would \\nwarrant a dose decrease or discontinuation of the IMP. Dose toleration must be observed\\n-----\\n8.7.6 Abuse Potential Monitoring Process, Events Subject to Additional \\nMonitoring, and Medication Handling Irregularities .....................................52\\n8.7.7 Potential Serious Hepatotoxicity ....................................................................52\\n8.7.8 Procedure for Breaking the Blind...................................................................53\\n8.7.9 Follow-up of Adverse Events.........................................................................53\\n8.7.9.1 Follow-up of Nonserious Adverse Events ..................................................53\\n8.7.9.2 Follow-up of Immediately Reportable Events............................................53\\n8.7.9.3 Follow-up and Reporting of Immediately Reportable Events \\nOccurring After Last Scheduled Contact....................................................54\\n8.8 Treatment of Overdose......................................................................................54\\n8.9 Subject Assessment Recording .........................................................................54\\n8.10 Other Assessments ............................................................................................54\\n9 Statistical Considerations ..................................................................54\\n9.1 Sample Size.......................................................................................................54\\n9.2 Datasets for Analysis.........................................................................................55\\n9.3 Handling of Missing Data for Primary Endpoint Analysis...............................55\\n\\n    Question: Is Multiple Ascending Dose mentioned in this text?\\n     [/INST]\"},\n",
       "  {'question': 'Is MAD mentioned in this text?',\n",
       "   'answer': '  No, MAD is not mentioned in the given text.',\n",
       "   'context': 'Protocol 405-201-00046\\n10\\nConfidential - Proprietary Information Approval: 15 Sep 2022List of Abbreviations\\nAbbreviation Definition\\nADHD Attention-deficit hyperactivity disorder\\nADHD-RS-5 Attention-deficit hyperactivity disorder Rating Scale - 5\\nAE Adverse event\\nAESI Adverse event of special interest\\nAIDS Acquired immunodeficiency syndrome\\nALT Alanine aminotransferase\\nAnti-HCV Hepatitis C antibodies\\nAPMP Abuse Potential Monitoring Process\\nAST Aspartate aminotransferase\\nAUC 0-24hArea under the concentration-time curve from time 0 to 24 hours\\nBMI Body mass index\\nC24hConcentration of drug in plasma at 24 hours\\nCGI-S Clinical Global Impression - Severity\\nCI Confidence interval\\nCIOMS Council for International Organizations of Medical Science\\nCmaxMaximal peak plasma concentration\\nC-SSRS Columbia-Suicide Severity Rating Scale\\nDA Dopamine\\nDL Drug load\\nDNA Deoxyribonucleic acid\\nDR Delayed release\\nDSM-IV Diagnostic and Statistical Manual of Mental Disorders - 4th Edition\\n-----\\nProtocol 405-201-00018\\n75\\nConfidential - Proprietary Information Amendment 4 Approval: 22 Nov 202211 References\\n1Arnsten AF. Fundamentals of attention-deficit/hyperactivity disorder: circuits and \\npathways. J Clin Psychiatry. 2006;67(Suppl 8):7-12.\\n2Heal DJ, Smith SL, Findling RL. ADHD: current and future therapeutics. Curr Top \\nBehav Neurosci. 2012;9:361-390.\\n3Bolea-Alamañac B, Nutt DJ, Adamou M, Asherson P, Bazire S, Coghill D, et al. \\nEvidence-based guidelines for the pharmacological management of attention deficit \\nhyperactivity disorder: update on recommendations from the British Association for \\nPsychopharmacology. J Psychopharmacol. 2014;28(3):179-203.\\n4Sharma A, Couture J. A review of the pathophysiology, etiology, and treatment of \\nattention-deficit hyperactivity disorder (ADHD). Ann Pharmacother. 2014;48(2):209-\\n225. \\n5American Psychiatric Association. Diagnostic and Statistical Manual of Mental \\nDisorders. 5th Edition, 2013. Available from: \\nhttps://www.psychiatry.org/psychiatrists/practice/dsm.\\n-----\\nProtocol 405-201-00018\\n75\\nConfidential - Proprietary Information Amendment 4 Approval: 22 Nov 202211 References\\n1Arnsten AF. Fundamentals of attention-deficit/hyperactivity disorder: circuits and \\npathways. J Clin Psychiatry. 2006;67(Suppl 8):7-12.\\n2Heal DJ, Smith SL, Findling RL. ADHD: current and future therapeutics. Curr Top \\nBehav Neurosci. 2012;9:361-390.\\n3Bolea-Alamañac B, Nutt DJ, Adamou M, Asherson P, Bazire S, Coghill D, et al. \\nEvidence-based guidelines for the pharmacological management of attention deficit \\nhyperactivity disorder: update on recommendations from the British Association for \\nPsychopharmacology. J Psychopharmacol. 2014;28(3):179-203.\\n4Sharma A, Couture J. A review of the pathophysiology, etiology, and treatment of \\nattention-deficit hyperactivity disorder (ADHD). Ann Pharmacother. 2014;48(2):209-\\n225. \\n5American Psychiatric Association. Diagnostic and Statistical Manual of Mental \\nDisorders. 5th Edition, 2013. Available from: \\nhttps://www.psychiatry.org/psychiatrists/practice/dsm.',\n",
       "   'prompt': \"[INST] <>\\nUse the following pieces of context to answer the question at the end. If you don't know the answer, just say that you don't know, don't try to make up an answer.\\n<>\\n\\n\\n    Protocol 405-201-00046\\n10\\nConfidential - Proprietary Information Approval: 15 Sep 2022List of Abbreviations\\nAbbreviation Definition\\nADHD Attention-deficit hyperactivity disorder\\nADHD-RS-5 Attention-deficit hyperactivity disorder Rating Scale - 5\\nAE Adverse event\\nAESI Adverse event of special interest\\nAIDS Acquired immunodeficiency syndrome\\nALT Alanine aminotransferase\\nAnti-HCV Hepatitis C antibodies\\nAPMP Abuse Potential Monitoring Process\\nAST Aspartate aminotransferase\\nAUC 0-24hArea under the concentration-time curve from time 0 to 24 hours\\nBMI Body mass index\\nC24hConcentration of drug in plasma at 24 hours\\nCGI-S Clinical Global Impression - Severity\\nCI Confidence interval\\nCIOMS Council for International Organizations of Medical Science\\nCmaxMaximal peak plasma concentration\\nC-SSRS Columbia-Suicide Severity Rating Scale\\nDA Dopamine\\nDL Drug load\\nDNA Deoxyribonucleic acid\\nDR Delayed release\\nDSM-IV Diagnostic and Statistical Manual of Mental Disorders - 4th Edition\\n-----\\nProtocol 405-201-00018\\n75\\nConfidential - Proprietary Information Amendment 4 Approval: 22 Nov 202211 References\\n1Arnsten AF. Fundamentals of attention-deficit/hyperactivity disorder: circuits and \\npathways. J Clin Psychiatry. 2006;67(Suppl 8):7-12.\\n2Heal DJ, Smith SL, Findling RL. ADHD: current and future therapeutics. Curr Top \\nBehav Neurosci. 2012;9:361-390.\\n3Bolea-Alamañac B, Nutt DJ, Adamou M, Asherson P, Bazire S, Coghill D, et al. \\nEvidence-based guidelines for the pharmacological management of attention deficit \\nhyperactivity disorder: update on recommendations from the British Association for \\nPsychopharmacology. J Psychopharmacol. 2014;28(3):179-203.\\n4Sharma A, Couture J. A review of the pathophysiology, etiology, and treatment of \\nattention-deficit hyperactivity disorder (ADHD). Ann Pharmacother. 2014;48(2):209-\\n225. \\n5American Psychiatric Association. Diagnostic and Statistical Manual of Mental \\nDisorders. 5th Edition, 2013. Available from: \\nhttps://www.psychiatry.org/psychiatrists/practice/dsm.\\n-----\\nProtocol 405-201-00018\\n75\\nConfidential - Proprietary Information Amendment 4 Approval: 22 Nov 202211 References\\n1Arnsten AF. Fundamentals of attention-deficit/hyperactivity disorder: circuits and \\npathways. J Clin Psychiatry. 2006;67(Suppl 8):7-12.\\n2Heal DJ, Smith SL, Findling RL. ADHD: current and future therapeutics. Curr Top \\nBehav Neurosci. 2012;9:361-390.\\n3Bolea-Alamañac B, Nutt DJ, Adamou M, Asherson P, Bazire S, Coghill D, et al. \\nEvidence-based guidelines for the pharmacological management of attention deficit \\nhyperactivity disorder: update on recommendations from the British Association for \\nPsychopharmacology. J Psychopharmacol. 2014;28(3):179-203.\\n4Sharma A, Couture J. A review of the pathophysiology, etiology, and treatment of \\nattention-deficit hyperactivity disorder (ADHD). Ann Pharmacother. 2014;48(2):209-\\n225. \\n5American Psychiatric Association. Diagnostic and Statistical Manual of Mental \\nDisorders. 5th Edition, 2013. Available from: \\nhttps://www.psychiatry.org/psychiatrists/practice/dsm.\\n\\n    Question: Is MAD mentioned in this text?\\n     [/INST]\"},\n",
       "  {'question': 'Is Thorough QTc mentioned in this text?',\n",
       "   'answer': '  No, Thorough QTc is not mentioned in this text. The text only mentions \"Product Quality Complaint\" (PQC). ',\n",
       "   'context': 'accountability.\\n6.2.5 Reporting of Product Quality Complaints\\nA Product Quality Complaint (PQC) is any written, electronic, or oral communication \\nprovided by a healthcare professional, clinical trial subject, medical representative, \\nregulatory agency, Partner, or other third party that alleges deficiencies related to the\\n-----\\nA Product Quality Complaint (PQC) is any written, electronic, or oral communication \\nprovided by a healthcare professional, clinical trial subject, medical representative, \\nregulatory agency, Partner, or other third party that alleges deficiencies related to the\\n-----\\nA Product Quality Complaint (PQC) is any written, electronic, or oral communication \\nprovided by a healthcare professional, clinical trial subject, medical representative, \\nregulatory agency, Partner, or other third party that alleges deficiencies related to the',\n",
       "   'prompt': \"[INST] <>\\nUse the following pieces of context to answer the question at the end. If you don't know the answer, just say that you don't know, don't try to make up an answer.\\n<>\\n\\n\\n    accountability.\\n6.2.5 Reporting of Product Quality Complaints\\nA Product Quality Complaint (PQC) is any written, electronic, or oral communication \\nprovided by a healthcare professional, clinical trial subject, medical representative, \\nregulatory agency, Partner, or other third party that alleges deficiencies related to the\\n-----\\nA Product Quality Complaint (PQC) is any written, electronic, or oral communication \\nprovided by a healthcare professional, clinical trial subject, medical representative, \\nregulatory agency, Partner, or other third party that alleges deficiencies related to the\\n-----\\nA Product Quality Complaint (PQC) is any written, electronic, or oral communication \\nprovided by a healthcare professional, clinical trial subject, medical representative, \\nregulatory agency, Partner, or other third party that alleges deficiencies related to the\\n\\n    Question: Is Thorough QTc mentioned in this text?\\n     [/INST]\"},\n",
       "  {'question': 'Is Hepatic impairment mentioned in this text?',\n",
       "   'answer': '  Yes, hepatic impairment is mentioned in the text as one of the conditions that may affect the absorption, distribution, metabolism, and excretion of a drug.',\n",
       "   'context': 'distribution, metabolism, and excretion of drug. This includes, but is not limited \\nto, history of or concurrent cardiac, hepatic, renal, neurologic, endocrine, \\ngastrointestinal, respiratory, hematologic, and immunologic disease.\\n5) Consumption of alcohol and/or food and beverages containing caffeine, \\nmethylxanthines (eg, coffee, chocolate) within 72 hours prior to dosing.\\n6) History of drug and/or alcohol abuse within 2 years prior to screening.\\n7) History of or current hepatitis or acquired immunodeficiency syndrome or carriers \\nof hepatitis B surface antigen and/or hepatitis C antibodies, or human \\nimmunodeficiency virus antibodies.\\n8) History of any significant drug allergy or known or suspected hypersensitivity.\\n9) A positive urine or breath alcohol test and/or urine drug screen for substance of \\nabuse at screening or upon admission to the trial site.\\n10) Having taken an investigational drug within 30 days prior to the first dose of IMP.\\n-----\\nsubject at risk or interfere with outcome variables including absorption, \\ndistribution, metabolism, and excretion of drug. This includes, but is not limited \\nto, history of or concurrent cardiac, hepatic, renal, neurologic, endocrine, \\ngastrointestinal, respiratory, hematologic, and immunologic disease.\\n5) Consumption of alcohol and/or food and beverages containing caffeine, \\nmethylxanthines (eg, coffee, chocolate) within 72 hours prior to dosing.\\n6) History of drug and/or alcohol abuse within 2 years prior to screening.\\n7) History of or current hepatitis or acquired immunodeficiency syndrome or carriers \\nof hepatitis B surface antigen and/or hepatitis C antibodies, or human \\nimmunodeficiency virus antibodies.\\n8) History of any significant drug allergy or known or suspected hypersensitivity.\\n9) A positive urine or breath alcohol test and/or urine drug screen for substance of \\nabuse at screening or upon admission to the trial site.\\n10) Having taken an investigational drug within 30 days prior to the first dose of IMP.\\n11) Any history of significant bleeding or hemorrhagic tendencies.\\n12) A history of difficulty in donating blood.\\n-----\\nsubject at risk or interfere with outcome variables including absorption, \\ndistribution, metabolism, and excretion of drug. This includes, but is not limited \\nto, history of or concurrent cardiac, hepatic, renal, neurologic, endocrine, \\ngastrointestinal, respiratory, hematologic, and immunologic disease.\\n5) Consumption of alcohol and/or food and beverages containing caffeine, \\nmethylxanthines (eg, coffee, chocolate) within 72 hours prior to dosing.\\n6) History of drug and/or alcohol abuse within 2 years prior to screening.\\n7) History of or current hepatitis or acquired immunodeficiency syndrome or carriers \\nof hepatitis B surface antigen and/or hepatitis C antibodies, or human \\nimmunodeficiency virus antibodies.\\n8) History of any significant drug allergy or known or suspected hypersensitivity.\\n9) A positive urine or breath alcohol test and/or urine drug screen for substance of \\nabuse at screening or upon admission to the trial site.\\n10) Having taken an investigational drug within 30 days prior to the first dose of IMP.\\n11) Any history of significant bleeding or hemorrhagic tendencies.\\n12) A history of difficulty in donating blood.',\n",
       "   'prompt': \"[INST] <>\\nUse the following pieces of context to answer the question at the end. If you don't know the answer, just say that you don't know, don't try to make up an answer.\\n<>\\n\\n\\n    distribution, metabolism, and excretion of drug. This includes, but is not limited \\nto, history of or concurrent cardiac, hepatic, renal, neurologic, endocrine, \\ngastrointestinal, respiratory, hematologic, and immunologic disease.\\n5) Consumption of alcohol and/or food and beverages containing caffeine, \\nmethylxanthines (eg, coffee, chocolate) within 72 hours prior to dosing.\\n6) History of drug and/or alcohol abuse within 2 years prior to screening.\\n7) History of or current hepatitis or acquired immunodeficiency syndrome or carriers \\nof hepatitis B surface antigen and/or hepatitis C antibodies, or human \\nimmunodeficiency virus antibodies.\\n8) History of any significant drug allergy or known or suspected hypersensitivity.\\n9) A positive urine or breath alcohol test and/or urine drug screen for substance of \\nabuse at screening or upon admission to the trial site.\\n10) Having taken an investigational drug within 30 days prior to the first dose of IMP.\\n-----\\nsubject at risk or interfere with outcome variables including absorption, \\ndistribution, metabolism, and excretion of drug. This includes, but is not limited \\nto, history of or concurrent cardiac, hepatic, renal, neurologic, endocrine, \\ngastrointestinal, respiratory, hematologic, and immunologic disease.\\n5) Consumption of alcohol and/or food and beverages containing caffeine, \\nmethylxanthines (eg, coffee, chocolate) within 72 hours prior to dosing.\\n6) History of drug and/or alcohol abuse within 2 years prior to screening.\\n7) History of or current hepatitis or acquired immunodeficiency syndrome or carriers \\nof hepatitis B surface antigen and/or hepatitis C antibodies, or human \\nimmunodeficiency virus antibodies.\\n8) History of any significant drug allergy or known or suspected hypersensitivity.\\n9) A positive urine or breath alcohol test and/or urine drug screen for substance of \\nabuse at screening or upon admission to the trial site.\\n10) Having taken an investigational drug within 30 days prior to the first dose of IMP.\\n11) Any history of significant bleeding or hemorrhagic tendencies.\\n12) A history of difficulty in donating blood.\\n-----\\nsubject at risk or interfere with outcome variables including absorption, \\ndistribution, metabolism, and excretion of drug. This includes, but is not limited \\nto, history of or concurrent cardiac, hepatic, renal, neurologic, endocrine, \\ngastrointestinal, respiratory, hematologic, and immunologic disease.\\n5) Consumption of alcohol and/or food and beverages containing caffeine, \\nmethylxanthines (eg, coffee, chocolate) within 72 hours prior to dosing.\\n6) History of drug and/or alcohol abuse within 2 years prior to screening.\\n7) History of or current hepatitis or acquired immunodeficiency syndrome or carriers \\nof hepatitis B surface antigen and/or hepatitis C antibodies, or human \\nimmunodeficiency virus antibodies.\\n8) History of any significant drug allergy or known or suspected hypersensitivity.\\n9) A positive urine or breath alcohol test and/or urine drug screen for substance of \\nabuse at screening or upon admission to the trial site.\\n10) Having taken an investigational drug within 30 days prior to the first dose of IMP.\\n11) Any history of significant bleeding or hemorrhagic tendencies.\\n12) A history of difficulty in donating blood.\\n\\n    Question: Is Hepatic impairment mentioned in this text?\\n     [/INST]\"},\n",
       "  {'question': 'Is Renal Impairment mentioned in this text?',\n",
       "   'answer': '  No, renal impairment is not mentioned in the given text. The text mentions various clinical laboratory assessments, including urinalysis, but it does not mention renal impairment specifically.',\n",
       "   'context': 'physical examination, that in the investigator’s or sponsor’s opinion may place the \\nsubject at risk or interfere with outcome variables including absorption, \\ndistribution, metabolism, and excretion of drug. This includes, but is not limited \\nto, history of or concurrent cardiac, hepatic, renal, neurologic, endocrine, \\ngastrointestinal, respiratory, hematologic, and immunologic disease.\\n5) Consumption of alcohol and/or food and beverages containing caffeine, \\nmethylxanthines (eg, coffee, chocolate) within 72 hours prior to dosing.\\n6) History of drug and/or alcohol abuse within 2 years prior to screening.\\n7) History of or current hepatitis or acquired immunodeficiency syndrome or carriers \\nof hepatitis B surface antigen and/or hepatitis C antibodies, or human \\nimmunodeficiency virus antibodies.\\n8) History of any significant drug allergy or known or suspected hypersensitivity.\\n9) A positive urine or breath alcohol test and/or urine drug screen for substance of\\n-----\\nProtocol 405-201-00018\\n67\\nConfidential - Proprietary Information Amendment 4 Approval: 22 Nov 202210.2 Appendix 2: Clinical Laboratory Tests\\nThe tests detailed in Table 10.2-1 will be performed.\\nTable 10.2-1 Clinical Laboratory Assessments\\nHematology:\\nErythrocytes\\nHematocrit\\nHemoglobin\\nLeukocytes count with differential\\nMean corpuscular hemoglobin concentration\\nMean corpuscular volume\\nPlatelets\\nUrinalysis:\\nBilirubin\\nColor \\nGlucose\\nKetones\\nMicroscopic analysis, white blood cell/red blood \\ncell counts per high powered field, casts, crystals, \\nsquamous cells\\nOccult blood\\npH\\nProtein\\nSpecific gravity\\nSpecimen appearance\\nUrobilinogen\\nAdditional Tests:\\nFSH for postmenopausal females\\nUrine or serum pregnancy test for all female \\nsubjects\\nViral serology (HIV, HBsAg, anti-HCV)Serum Chemistry:\\nAlkaline phosphatase\\nAlanine aminotransferase\\nAspartate aminotransferase\\nBilirubin, total\\nUrea nitrogen\\nCalcium\\nCarbon dioxide\\nCholesterol, total\\nChloride\\nCreatine phosphokinase\\nCreatinine\\nGamma glutamyl transferase\\nGlucose\\nLactic dehydrogenase\\nPotassium\\nProtein, total\\nSodium\\nTriglycerides\\nDrug Screen (all items in urine except where \\nnoted):\\nAlcohol (breath or urine)\\nAmphetamines\\nBarbiturates\\nBenzodiazepines\\nCannabinoids\\nCocaine\\nCotinine (urine or serum)\\nMethadone\\nOpiates\\nPhencyclidine\\nPropoxyphene\\nanti-HCV = hepatitis C antibodies; FSH = follicle-stimulating hormone; HBsAg = hepatitis B surface \\nantigen; HIV = human immunodeficiency virus.\\n-----\\nProtocol 405-201-00018\\n67\\nConfidential - Proprietary Information Amendment 4 Approval: 22 Nov 202210.2 Appendix 2: Clinical Laboratory Tests\\nThe tests detailed in Table 10.2-1 will be performed.\\nTable 10.2-1 Clinical Laboratory Assessments\\nHematology:\\nErythrocytes\\nHematocrit\\nHemoglobin\\nLeukocytes count with differential\\nMean corpuscular hemoglobin concentration\\nMean corpuscular volume\\nPlatelets\\nUrinalysis:\\nBilirubin\\nColor \\nGlucose\\nKetones\\nMicroscopic analysis, white blood cell/red blood \\ncell counts per high powered field, casts, crystals, \\nsquamous cells\\nOccult blood\\npH\\nProtein\\nSpecific gravity\\nSpecimen appearance\\nUrobilinogen\\nAdditional Tests:\\nFSH for postmenopausal females\\nUrine or serum pregnancy test for all female \\nsubjects\\nViral serology (HIV, HBsAg, anti-HCV)Serum Chemistry:\\nAlkaline phosphatase\\nAlanine aminotransferase\\nAspartate aminotransferase\\nBilirubin, total\\nUrea nitrogen\\nCalcium\\nCarbon dioxide\\nCholesterol, total\\nChloride\\nCreatine phosphokinase\\nCreatinine\\nGamma glutamyl transferase\\nGlucose\\nLactic dehydrogenase\\nPotassium\\nProtein, total\\nSodium\\nTriglycerides\\nDrug Screen (all items in urine except where \\nnoted):\\nAlcohol (breath or urine)\\nAmphetamines\\nBarbiturates\\nBenzodiazepines\\nCannabinoids\\nCocaine\\nCotinine (urine or serum)\\nMethadone\\nOpiates\\nPhencyclidine\\nPropoxyphene\\nanti-HCV = hepatitis C antibodies; FSH = follicle-stimulating hormone; HBsAg = hepatitis B surface \\nantigen; HIV = human immunodeficiency virus.',\n",
       "   'prompt': \"[INST] <>\\nUse the following pieces of context to answer the question at the end. If you don't know the answer, just say that you don't know, don't try to make up an answer.\\n<>\\n\\n\\n    physical examination, that in the investigator’s or sponsor’s opinion may place the \\nsubject at risk or interfere with outcome variables including absorption, \\ndistribution, metabolism, and excretion of drug. This includes, but is not limited \\nto, history of or concurrent cardiac, hepatic, renal, neurologic, endocrine, \\ngastrointestinal, respiratory, hematologic, and immunologic disease.\\n5) Consumption of alcohol and/or food and beverages containing caffeine, \\nmethylxanthines (eg, coffee, chocolate) within 72 hours prior to dosing.\\n6) History of drug and/or alcohol abuse within 2 years prior to screening.\\n7) History of or current hepatitis or acquired immunodeficiency syndrome or carriers \\nof hepatitis B surface antigen and/or hepatitis C antibodies, or human \\nimmunodeficiency virus antibodies.\\n8) History of any significant drug allergy or known or suspected hypersensitivity.\\n9) A positive urine or breath alcohol test and/or urine drug screen for substance of\\n-----\\nProtocol 405-201-00018\\n67\\nConfidential - Proprietary Information Amendment 4 Approval: 22 Nov 202210.2 Appendix 2: Clinical Laboratory Tests\\nThe tests detailed in Table 10.2-1 will be performed.\\nTable 10.2-1 Clinical Laboratory Assessments\\nHematology:\\nErythrocytes\\nHematocrit\\nHemoglobin\\nLeukocytes count with differential\\nMean corpuscular hemoglobin concentration\\nMean corpuscular volume\\nPlatelets\\nUrinalysis:\\nBilirubin\\nColor \\nGlucose\\nKetones\\nMicroscopic analysis, white blood cell/red blood \\ncell counts per high powered field, casts, crystals, \\nsquamous cells\\nOccult blood\\npH\\nProtein\\nSpecific gravity\\nSpecimen appearance\\nUrobilinogen\\nAdditional Tests:\\nFSH for postmenopausal females\\nUrine or serum pregnancy test for all female \\nsubjects\\nViral serology (HIV, HBsAg, anti-HCV)Serum Chemistry:\\nAlkaline phosphatase\\nAlanine aminotransferase\\nAspartate aminotransferase\\nBilirubin, total\\nUrea nitrogen\\nCalcium\\nCarbon dioxide\\nCholesterol, total\\nChloride\\nCreatine phosphokinase\\nCreatinine\\nGamma glutamyl transferase\\nGlucose\\nLactic dehydrogenase\\nPotassium\\nProtein, total\\nSodium\\nTriglycerides\\nDrug Screen (all items in urine except where \\nnoted):\\nAlcohol (breath or urine)\\nAmphetamines\\nBarbiturates\\nBenzodiazepines\\nCannabinoids\\nCocaine\\nCotinine (urine or serum)\\nMethadone\\nOpiates\\nPhencyclidine\\nPropoxyphene\\nanti-HCV = hepatitis C antibodies; FSH = follicle-stimulating hormone; HBsAg = hepatitis B surface \\nantigen; HIV = human immunodeficiency virus.\\n-----\\nProtocol 405-201-00018\\n67\\nConfidential - Proprietary Information Amendment 4 Approval: 22 Nov 202210.2 Appendix 2: Clinical Laboratory Tests\\nThe tests detailed in Table 10.2-1 will be performed.\\nTable 10.2-1 Clinical Laboratory Assessments\\nHematology:\\nErythrocytes\\nHematocrit\\nHemoglobin\\nLeukocytes count with differential\\nMean corpuscular hemoglobin concentration\\nMean corpuscular volume\\nPlatelets\\nUrinalysis:\\nBilirubin\\nColor \\nGlucose\\nKetones\\nMicroscopic analysis, white blood cell/red blood \\ncell counts per high powered field, casts, crystals, \\nsquamous cells\\nOccult blood\\npH\\nProtein\\nSpecific gravity\\nSpecimen appearance\\nUrobilinogen\\nAdditional Tests:\\nFSH for postmenopausal females\\nUrine or serum pregnancy test for all female \\nsubjects\\nViral serology (HIV, HBsAg, anti-HCV)Serum Chemistry:\\nAlkaline phosphatase\\nAlanine aminotransferase\\nAspartate aminotransferase\\nBilirubin, total\\nUrea nitrogen\\nCalcium\\nCarbon dioxide\\nCholesterol, total\\nChloride\\nCreatine phosphokinase\\nCreatinine\\nGamma glutamyl transferase\\nGlucose\\nLactic dehydrogenase\\nPotassium\\nProtein, total\\nSodium\\nTriglycerides\\nDrug Screen (all items in urine except where \\nnoted):\\nAlcohol (breath or urine)\\nAmphetamines\\nBarbiturates\\nBenzodiazepines\\nCannabinoids\\nCocaine\\nCotinine (urine or serum)\\nMethadone\\nOpiates\\nPhencyclidine\\nPropoxyphene\\nanti-HCV = hepatitis C antibodies; FSH = follicle-stimulating hormone; HBsAg = hepatitis B surface \\nantigen; HIV = human immunodeficiency virus.\\n\\n    Question: Is Renal Impairment mentioned in this text?\\n     [/INST]\"},\n",
       "  {'question': 'Is Run-in mentioned in this text?',\n",
       "   'answer': '  No, the word \"run-in\" does not appear anywhere in the provided pieces of context.',\n",
       "   'context': 'Section 8.8.3. This may include IREs that are captured on follow-up telephone contact or \\nat any other time point after the defined trial period and continue to report any significant \\nfollow-up information to the sponsor until the events are resolved or stabilized, or the \\nsubject is lost to follow-up or has died.\\n8.9 Treatment of Overdose\\nNot applicable.\\n8.10 Subject Assessment Recording\\n8.10.1 Mini International Neuropsychiatric Interview for Children and \\nAdolescents\\nThe MINI-KID, a structured diagnostic interview that assesses the 30 most common and \\nclinically relevant disorders or disorder subtypes in pediatrics mental health, will be \\nutilized for both diagnosis and to exclude comorbid conditions.\\n8.10.2 Study Medication Withdrawal Questionnaire\\nThe study medication withdrawal questionnaire (SMWQ) will be completed by the \\nsubject or their parent/guardian at the time points described in the schedule of \\nassessments ( Table 1.3-1).\\n-----\\nintervention(s) used in the trial. A protocol change intended to eliminate an apparent \\nimmediate hazard to subjects should be implemented immediately after agreement by the \\nsponsor and investigator, followed by IRB notification within local applicable timelines. \\nThe sponsor will submit protocol amendments to the applicable regulatory agencies \\nwithin local applicable timelines.\\nWhen the IRB, investigators, and/or the sponsor conclude that the protocol amendment \\nsubstantially alters the trial design and/or increases the potential risk to the subject, the \\ncurrently approved written ICF will require similar modification. In such cases, after \\napproval/favorable opinion of the new ICF by the IRB, repeat written informed consent \\nwill be obtained from subjects enrolled in the trial before expecting continued \\nparticipation and before the amendment-specified changes in the trial are implemented.\\n-----\\nresearch facility for subjects screened or enrolled in the trial.\\nI agree to await IRB approval before implementation of any substantial amendments to this protocol. \\nIf, however, there is an immediate hazard to subjects, I will implement the amendment immediately, \\nand provide the information to the IRB within the required local applicable timelines. Administrative \\nchanges to the protocol will be transmitted to the IRB for informational purposes only, if required by \\nlocal regulations.\\nI agree to provide all subjects with informed consent forms, as required by the applicable regulations \\nand by ICH guidelines. I agree to report to the sponsor any adverse experiences in accordance with the \\nterms of the sponsor’s Clinical Trial Agreement and the relevant regional regulation(s) and \\nguideline(s). I further agree to provide all required information regarding financial certification or \\ndisclosure to the sponsor for all investigators and subinvestigators in accordance with the terms of the',\n",
       "   'prompt': \"[INST] <>\\nUse the following pieces of context to answer the question at the end. If you don't know the answer, just say that you don't know, don't try to make up an answer.\\n<>\\n\\n\\n    Section 8.8.3. This may include IREs that are captured on follow-up telephone contact or \\nat any other time point after the defined trial period and continue to report any significant \\nfollow-up information to the sponsor until the events are resolved or stabilized, or the \\nsubject is lost to follow-up or has died.\\n8.9 Treatment of Overdose\\nNot applicable.\\n8.10 Subject Assessment Recording\\n8.10.1 Mini International Neuropsychiatric Interview for Children and \\nAdolescents\\nThe MINI-KID, a structured diagnostic interview that assesses the 30 most common and \\nclinically relevant disorders or disorder subtypes in pediatrics mental health, will be \\nutilized for both diagnosis and to exclude comorbid conditions.\\n8.10.2 Study Medication Withdrawal Questionnaire\\nThe study medication withdrawal questionnaire (SMWQ) will be completed by the \\nsubject or their parent/guardian at the time points described in the schedule of \\nassessments ( Table 1.3-1).\\n-----\\nintervention(s) used in the trial. A protocol change intended to eliminate an apparent \\nimmediate hazard to subjects should be implemented immediately after agreement by the \\nsponsor and investigator, followed by IRB notification within local applicable timelines. \\nThe sponsor will submit protocol amendments to the applicable regulatory agencies \\nwithin local applicable timelines.\\nWhen the IRB, investigators, and/or the sponsor conclude that the protocol amendment \\nsubstantially alters the trial design and/or increases the potential risk to the subject, the \\ncurrently approved written ICF will require similar modification. In such cases, after \\napproval/favorable opinion of the new ICF by the IRB, repeat written informed consent \\nwill be obtained from subjects enrolled in the trial before expecting continued \\nparticipation and before the amendment-specified changes in the trial are implemented.\\n-----\\nresearch facility for subjects screened or enrolled in the trial.\\nI agree to await IRB approval before implementation of any substantial amendments to this protocol. \\nIf, however, there is an immediate hazard to subjects, I will implement the amendment immediately, \\nand provide the information to the IRB within the required local applicable timelines. Administrative \\nchanges to the protocol will be transmitted to the IRB for informational purposes only, if required by \\nlocal regulations.\\nI agree to provide all subjects with informed consent forms, as required by the applicable regulations \\nand by ICH guidelines. I agree to report to the sponsor any adverse experiences in accordance with the \\nterms of the sponsor’s Clinical Trial Agreement and the relevant regional regulation(s) and \\nguideline(s). I further agree to provide all required information regarding financial certification or \\ndisclosure to the sponsor for all investigators and subinvestigators in accordance with the terms of the\\n\\n    Question: Is Run-in mentioned in this text?\\n     [/INST]\"},\n",
       "  {'question': 'Is Observational period mentioned in this text?',\n",
       "   'answer': '  No, the term \"observational period\" is not mentioned in the given text. The text only mentions \"evaluation period\" and \"follow-up of adverse events,\" but it doesn\\'t specifically mention an \"observational period.\"',\n",
       "   'context': 'the evaluation period (defined as the time period during which subjects are evaluated for \\nprimary and/or secondary objectives) in eSource. The investigator will also record all \\nmedications and therapies taken by the subject for treatment of an adverse event (AE) or\\n-----\\nProtocol 405-201-00018\\n53\\nConfidential - Proprietary Information Amendment 4 Approval: 22 Nov 2022should also be evaluated. If the total bilirubin is \\uf0b3 2 times the ULN, complete an IRE \\nform with all values listed and report as an AE in eSource.\\n8.7.8 Procedure for Breaking the Blind\\nThis trial does not use blinding procedures.\\n8.7.9 Follow-up of Adverse Events\\n8.7.9.1 Follow-up of Nonserious Adverse Events\\nNonserious AEs that are identified at any time during the trial must be recorded on the \\nAE page in eSource with the current status (ongoing or resolved/recovered) noted. All \\nnonserious events (that are not IREs) that are ongoing at the last scheduled contact will \\nbe recorded as ongoing in eSource. For any AE having been identified throughout the \\ntrial, or during analysis, additional relevant medical history information may be requested \\nby the sponsor to further ascertain causality (including, but not limited to, information \\nsuch as risk-related behavior, family history, and occupation).\\n8.7.9.2 Follow-up of Immediately Reportable Events\\nThis trial requires that subjects be actively monitored for IREs up to 7 (+ 2) days after the \\nlast trial intervention is administered.\\nImmediately reportable events that are identified or ongoing at the last scheduled \\ncontact must be recorded as such on the AE page in eSource and the IRE form. If \\nupdated information (eg, resolved status) on IRE status becomes available after a \\nsubject’s last scheduled contact (up to last in-clinic visit for the entire trial), this must be \\nreported to the sponsor and recorded on the AE page in eSource and the IRE form, \\naccording to the appropriate reporting procedures described in Section 8.7.3.\\nIt is expected that the investigator will provide or arrange appropriate supportive care for \\nthe subject and will provide prompt updates on the subject’s status to the sponsor. The \\ninvestigator will follow the IREs until:\\n•the events are resolved,\\n•the events have stabilized,\\n•the subject is lost to follow-up, or\\n•the subject has died.\\n-----\\nProtocol 405-201-00018\\n53\\nConfidential - Proprietary Information Amendment 4 Approval: 22 Nov 2022should also be evaluated. If the total bilirubin is \\uf0b3 2 times the ULN, complete an IRE \\nform with all values listed and report as an AE in eSource.\\n8.7.8 Procedure for Breaking the Blind\\nThis trial does not use blinding procedures.\\n8.7.9 Follow-up of Adverse Events\\n8.7.9.1 Follow-up of Nonserious Adverse Events\\nNonserious AEs that are identified at any time during the trial must be recorded on the \\nAE page in eSource with the current status (ongoing or resolved/recovered) noted. All \\nnonserious events (that are not IREs) that are ongoing at the last scheduled contact will \\nbe recorded as ongoing in eSource. For any AE having been identified throughout the \\ntrial, or during analysis, additional relevant medical history information may be requested \\nby the sponsor to further ascertain causality (including, but not limited to, information \\nsuch as risk-related behavior, family history, and occupation).\\n8.7.9.2 Follow-up of Immediately Reportable Events\\nThis trial requires that subjects be actively monitored for IREs up to 7 (+ 2) days after the \\nlast trial intervention is administered.\\nImmediately reportable events that are identified or ongoing at the last scheduled \\ncontact must be recorded as such on the AE page in eSource and the IRE form. If \\nupdated information (eg, resolved status) on IRE status becomes available after a \\nsubject’s last scheduled contact (up to last in-clinic visit for the entire trial), this must be \\nreported to the sponsor and recorded on the AE page in eSource and the IRE form, \\naccording to the appropriate reporting procedures described in Section 8.7.3.\\nIt is expected that the investigator will provide or arrange appropriate supportive care for \\nthe subject and will provide prompt updates on the subject’s status to the sponsor. The \\ninvestigator will follow the IREs until:\\n•the events are resolved,\\n•the events have stabilized,\\n•the subject is lost to follow-up, or\\n•the subject has died.',\n",
       "   'prompt': \"[INST] <>\\nUse the following pieces of context to answer the question at the end. If you don't know the answer, just say that you don't know, don't try to make up an answer.\\n<>\\n\\n\\n    the evaluation period (defined as the time period during which subjects are evaluated for \\nprimary and/or secondary objectives) in eSource. The investigator will also record all \\nmedications and therapies taken by the subject for treatment of an adverse event (AE) or\\n-----\\nProtocol 405-201-00018\\n53\\nConfidential - Proprietary Information Amendment 4 Approval: 22 Nov 2022should also be evaluated. If the total bilirubin is \\uf0b3 2 times the ULN, complete an IRE \\nform with all values listed and report as an AE in eSource.\\n8.7.8 Procedure for Breaking the Blind\\nThis trial does not use blinding procedures.\\n8.7.9 Follow-up of Adverse Events\\n8.7.9.1 Follow-up of Nonserious Adverse Events\\nNonserious AEs that are identified at any time during the trial must be recorded on the \\nAE page in eSource with the current status (ongoing or resolved/recovered) noted. All \\nnonserious events (that are not IREs) that are ongoing at the last scheduled contact will \\nbe recorded as ongoing in eSource. For any AE having been identified throughout the \\ntrial, or during analysis, additional relevant medical history information may be requested \\nby the sponsor to further ascertain causality (including, but not limited to, information \\nsuch as risk-related behavior, family history, and occupation).\\n8.7.9.2 Follow-up of Immediately Reportable Events\\nThis trial requires that subjects be actively monitored for IREs up to 7 (+ 2) days after the \\nlast trial intervention is administered.\\nImmediately reportable events that are identified or ongoing at the last scheduled \\ncontact must be recorded as such on the AE page in eSource and the IRE form. If \\nupdated information (eg, resolved status) on IRE status becomes available after a \\nsubject’s last scheduled contact (up to last in-clinic visit for the entire trial), this must be \\nreported to the sponsor and recorded on the AE page in eSource and the IRE form, \\naccording to the appropriate reporting procedures described in Section 8.7.3.\\nIt is expected that the investigator will provide or arrange appropriate supportive care for \\nthe subject and will provide prompt updates on the subject’s status to the sponsor. The \\ninvestigator will follow the IREs until:\\n•the events are resolved,\\n•the events have stabilized,\\n•the subject is lost to follow-up, or\\n•the subject has died.\\n-----\\nProtocol 405-201-00018\\n53\\nConfidential - Proprietary Information Amendment 4 Approval: 22 Nov 2022should also be evaluated. If the total bilirubin is \\uf0b3 2 times the ULN, complete an IRE \\nform with all values listed and report as an AE in eSource.\\n8.7.8 Procedure for Breaking the Blind\\nThis trial does not use blinding procedures.\\n8.7.9 Follow-up of Adverse Events\\n8.7.9.1 Follow-up of Nonserious Adverse Events\\nNonserious AEs that are identified at any time during the trial must be recorded on the \\nAE page in eSource with the current status (ongoing or resolved/recovered) noted. All \\nnonserious events (that are not IREs) that are ongoing at the last scheduled contact will \\nbe recorded as ongoing in eSource. For any AE having been identified throughout the \\ntrial, or during analysis, additional relevant medical history information may be requested \\nby the sponsor to further ascertain causality (including, but not limited to, information \\nsuch as risk-related behavior, family history, and occupation).\\n8.7.9.2 Follow-up of Immediately Reportable Events\\nThis trial requires that subjects be actively monitored for IREs up to 7 (+ 2) days after the \\nlast trial intervention is administered.\\nImmediately reportable events that are identified or ongoing at the last scheduled \\ncontact must be recorded as such on the AE page in eSource and the IRE form. If \\nupdated information (eg, resolved status) on IRE status becomes available after a \\nsubject’s last scheduled contact (up to last in-clinic visit for the entire trial), this must be \\nreported to the sponsor and recorded on the AE page in eSource and the IRE form, \\naccording to the appropriate reporting procedures described in Section 8.7.3.\\nIt is expected that the investigator will provide or arrange appropriate supportive care for \\nthe subject and will provide prompt updates on the subject’s status to the sponsor. The \\ninvestigator will follow the IREs until:\\n•the events are resolved,\\n•the events have stabilized,\\n•the subject is lost to follow-up, or\\n•the subject has died.\\n\\n    Question: Is Observational period mentioned in this text?\\n     [/INST]\"},\n",
       "  {'question': 'Is Titration period mentioned in this text?',\n",
       "   'answer': '  No, titration is not mentioned in the provided pieces of context.',\n",
       "   'context': '10.1.6.1 Source Documents ......................................................................................74\\n10.1.6.2 Data Collection ...........................................................................................74\\n10.1.6.3 File Management at the Trial Site...............................................................76\\n10.1.6.4 Records Retention at the Trial Site .............................................................76\\n10.1.6.5 Publication Authorship Requirements ........................................................76\\n10.2 Appendix 2: Clinical Laboratory Tests .............................................................78\\n10.3 Appendix 3: Contraceptive Guidance and Collection of Pregnancy \\nInformation........................................................................................................79\\n10.4 Appendix 4: Criteria for Identifying Clinical Laboratory Values of\\n-----\\noccur and can be avoided. This should be documented in the eSource. Results of the \\npregnancy test must be available prior to the administration of the IMP.\\nA urine drug screen will be performed at the time points described in the schedule of \\nassessments ( Table 1.3-1). Subjects with a positive urine drug screen resulting from the \\nconfirmed use of prescription or over-the-counter medications or products that in the \\ninvestigator’s documented opinion do not signal a clinical condition that would impact \\nthe safety of the subject or interpretation of the trial results may continue evaluation for \\nthe trial, following consultation and approval by the medical monitor. Subjects that test\\n-----\\noccur and can be avoided. This should be documented in the eSource. Results of the \\npregnancy test must be available prior to the administration of the IMP.\\nA urine drug screen will be performed at the time points described in the schedule of \\nassessments ( Table 1.3-1). Subjects with a positive urine drug screen resulting from the \\nconfirmed use of prescription or over-the-counter medications or products that in the \\ninvestigator’s documented opinion do not signal a clinical condition that would impact \\nthe safety of the subject or interpretation of the trial results may continue evaluation for \\nthe trial, following consultation and approval by the medical monitor. Subjects that test',\n",
       "   'prompt': \"[INST] <>\\nUse the following pieces of context to answer the question at the end. If you don't know the answer, just say that you don't know, don't try to make up an answer.\\n<>\\n\\n\\n    10.1.6.1 Source Documents ......................................................................................74\\n10.1.6.2 Data Collection ...........................................................................................74\\n10.1.6.3 File Management at the Trial Site...............................................................76\\n10.1.6.4 Records Retention at the Trial Site .............................................................76\\n10.1.6.5 Publication Authorship Requirements ........................................................76\\n10.2 Appendix 2: Clinical Laboratory Tests .............................................................78\\n10.3 Appendix 3: Contraceptive Guidance and Collection of Pregnancy \\nInformation........................................................................................................79\\n10.4 Appendix 4: Criteria for Identifying Clinical Laboratory Values of\\n-----\\noccur and can be avoided. This should be documented in the eSource. Results of the \\npregnancy test must be available prior to the administration of the IMP.\\nA urine drug screen will be performed at the time points described in the schedule of \\nassessments ( Table 1.3-1). Subjects with a positive urine drug screen resulting from the \\nconfirmed use of prescription or over-the-counter medications or products that in the \\ninvestigator’s documented opinion do not signal a clinical condition that would impact \\nthe safety of the subject or interpretation of the trial results may continue evaluation for \\nthe trial, following consultation and approval by the medical monitor. Subjects that test\\n-----\\noccur and can be avoided. This should be documented in the eSource. Results of the \\npregnancy test must be available prior to the administration of the IMP.\\nA urine drug screen will be performed at the time points described in the schedule of \\nassessments ( Table 1.3-1). Subjects with a positive urine drug screen resulting from the \\nconfirmed use of prescription or over-the-counter medications or products that in the \\ninvestigator’s documented opinion do not signal a clinical condition that would impact \\nthe safety of the subject or interpretation of the trial results may continue evaluation for \\nthe trial, following consultation and approval by the medical monitor. Subjects that test\\n\\n    Question: Is Titration period mentioned in this text?\\n     [/INST]\"}],\n",
       " 'design_complexity_low': [{'question': 'Is Bioavailability mentioned in this text?',\n",
       "   'answer': '  Yes, bioavailability is mentioned in the text. In fact, it is mentioned twice. The first time it is mentioned is when it says \"bioavailability of centanafadine was increased.\" Then it mentions it again when it says \"a dose reduction of approximately 20%...would produce concentrations comparable to the SR tablet 200 mg total daily dose\" ',\n",
       "   'context': 'sizes used in Trial 405-201-00037, bioavailability of centanafadine was increased and a \\ndose reduction of approximately 20% (210 mg to 164.4 mg) would produce \\nconcentrations comparable to the SR tablet 200 mg total daily dose.\\nPK blood sample collection using a microsampling technique was omitted, as early \\nresults from Cohort 1 and from other studies indicated that concentrations in blood\\n-----\\nsizes used in Trial 405-201-00037, bioavailability of centanafadine was increased and a \\ndose reduction of approximately 20% (210 mg to 164.4 mg) would produce \\nconcentrations comparable to the SR tablet 200 mg total daily dose.\\nPK blood sample collection using a microsampling technique was omitted, as early \\nresults from Cohort 1 and from other studies indicated that concentrations in blood\\n-----\\nsizes used in Trial 405-201-00037, bioavailability of centanafadine was increased and a \\ndose reduction of approximately 20% (210 mg to 164.4 mg) would produce \\nconcentrations comparable to the SR tablet 200 mg total daily dose.\\nPK blood sample collection using a microsampling technique was omitted, as early \\nresults from Cohort 1 and from other studies indicated that concentrations in blood',\n",
       "   'prompt': \"[INST] <>\\nUse the following pieces of context to answer the question at the end. If you don't know the answer, just say that you don't know, don't try to make up an answer.\\n<>\\n\\n\\n    sizes used in Trial 405-201-00037, bioavailability of centanafadine was increased and a \\ndose reduction of approximately 20% (210 mg to 164.4 mg) would produce \\nconcentrations comparable to the SR tablet 200 mg total daily dose.\\nPK blood sample collection using a microsampling technique was omitted, as early \\nresults from Cohort 1 and from other studies indicated that concentrations in blood\\n-----\\nsizes used in Trial 405-201-00037, bioavailability of centanafadine was increased and a \\ndose reduction of approximately 20% (210 mg to 164.4 mg) would produce \\nconcentrations comparable to the SR tablet 200 mg total daily dose.\\nPK blood sample collection using a microsampling technique was omitted, as early \\nresults from Cohort 1 and from other studies indicated that concentrations in blood\\n-----\\nsizes used in Trial 405-201-00037, bioavailability of centanafadine was increased and a \\ndose reduction of approximately 20% (210 mg to 164.4 mg) would produce \\nconcentrations comparable to the SR tablet 200 mg total daily dose.\\nPK blood sample collection using a microsampling technique was omitted, as early \\nresults from Cohort 1 and from other studies indicated that concentrations in blood\\n\\n    Question: Is Bioavailability mentioned in this text?\\n     [/INST]\"},\n",
       "  {'question': 'Is BA mentioned in this text?',\n",
       "   'answer': '  No, BA is not mentioned in the provided text.',\n",
       "   'context': 'b) Current suicidal behavior\\nc) Imminent risk of injury to self\\nd) Active suicidal ideation as evidenced by an answer of “yes” on Questions 4 or \\n5 (over the last 6 months) on the suicidal ideation section of the \\n“Baseline/Screening” version of the C-SSRS\\ne) Any lifetime history of suicidal behavior detected by the “Baseline/Screening” \\nversion of the C-SSRS\\nThe subject should not be enrolled (eg, dosed) if any active suicidal ideation is \\npresent prior to dosing (as evidenced by clinical examination or an answer of \\n“yes” on Questions 4 or 5 of the C-SSRS “Since Last Visit” version) or suicidal \\nbehavior is present in the C-SSRS “Since Last Visit” version.\\n6) Subjects with a lifetime history of a substance use disorder (as determined by \\nDSM-5 criteria), or current substance misuse including alcohol and \\nbenzodiazepines, but excluding caffeine and nicotine.\\n-----\\nb) Current suicidal behavior\\nc) Imminent risk of injury to self\\nd) Active suicidal ideation as evidenced by an answer of “yes” on Questions 4 or \\n5 (over the last 6 months) on the suicidal ideation section of the \\n“Baseline/Screening” version of the C-SSRS\\ne) Any lifetime history of suicidal behavior detected by the “Baseline/Screening” \\nversion of the C-SSRS\\nThe subject should not be enrolled (eg, dosed) if any active suicidal ideation is \\npresent prior to dosing (as evidenced by clinical examination or an answer of \\n“yes” on Questions 4 or 5 of the C-SSRS “Since Last Visit” version) or suicidal \\nbehavior is present in the C-SSRS “Since Last Visit” version.\\n6) Subjects with a lifetime history of a substance use disorder (as determined by \\nDSM-5 criteria), or current substance misuse including alcohol and \\nbenzodiazepines, but excluding caffeine and nicotine.\\n-----\\nb) Current suicidal behavior\\nc) Imminent risk of injury to self\\nd) Active suicidal ideation as evidenced by an answer of “yes” on Questions 4 or \\n5 (over the last 6 months) on the suicidal ideation section of the \\n“Baseline/Screening” version of the C-SSRS\\ne) Any lifetime history of suicidal behavior detected by the “Baseline/Screening” \\nversion of the C-SSRS\\nThe subject should not be enrolled (eg, dosed) if any active suicidal ideation is \\npresent prior to dosing (as evidenced by clinical examination or an answer of \\n“yes” on Questions 4 or 5 of the C-SSRS “Since Last Visit” version) or suicidal \\nbehavior is present in the C-SSRS “Since Last Visit” version.\\n6) Subjects with a lifetime history of a substance use disorder (as determined by \\nDSM-5 criteria), or current substance misuse including alcohol and \\nbenzodiazepines, but excluding caffeine and nicotine.',\n",
       "   'prompt': \"[INST] <>\\nUse the following pieces of context to answer the question at the end. If you don't know the answer, just say that you don't know, don't try to make up an answer.\\n<>\\n\\n\\n    b) Current suicidal behavior\\nc) Imminent risk of injury to self\\nd) Active suicidal ideation as evidenced by an answer of “yes” on Questions 4 or \\n5 (over the last 6 months) on the suicidal ideation section of the \\n“Baseline/Screening” version of the C-SSRS\\ne) Any lifetime history of suicidal behavior detected by the “Baseline/Screening” \\nversion of the C-SSRS\\nThe subject should not be enrolled (eg, dosed) if any active suicidal ideation is \\npresent prior to dosing (as evidenced by clinical examination or an answer of \\n“yes” on Questions 4 or 5 of the C-SSRS “Since Last Visit” version) or suicidal \\nbehavior is present in the C-SSRS “Since Last Visit” version.\\n6) Subjects with a lifetime history of a substance use disorder (as determined by \\nDSM-5 criteria), or current substance misuse including alcohol and \\nbenzodiazepines, but excluding caffeine and nicotine.\\n-----\\nb) Current suicidal behavior\\nc) Imminent risk of injury to self\\nd) Active suicidal ideation as evidenced by an answer of “yes” on Questions 4 or \\n5 (over the last 6 months) on the suicidal ideation section of the \\n“Baseline/Screening” version of the C-SSRS\\ne) Any lifetime history of suicidal behavior detected by the “Baseline/Screening” \\nversion of the C-SSRS\\nThe subject should not be enrolled (eg, dosed) if any active suicidal ideation is \\npresent prior to dosing (as evidenced by clinical examination or an answer of \\n“yes” on Questions 4 or 5 of the C-SSRS “Since Last Visit” version) or suicidal \\nbehavior is present in the C-SSRS “Since Last Visit” version.\\n6) Subjects with a lifetime history of a substance use disorder (as determined by \\nDSM-5 criteria), or current substance misuse including alcohol and \\nbenzodiazepines, but excluding caffeine and nicotine.\\n-----\\nb) Current suicidal behavior\\nc) Imminent risk of injury to self\\nd) Active suicidal ideation as evidenced by an answer of “yes” on Questions 4 or \\n5 (over the last 6 months) on the suicidal ideation section of the \\n“Baseline/Screening” version of the C-SSRS\\ne) Any lifetime history of suicidal behavior detected by the “Baseline/Screening” \\nversion of the C-SSRS\\nThe subject should not be enrolled (eg, dosed) if any active suicidal ideation is \\npresent prior to dosing (as evidenced by clinical examination or an answer of \\n“yes” on Questions 4 or 5 of the C-SSRS “Since Last Visit” version) or suicidal \\nbehavior is present in the C-SSRS “Since Last Visit” version.\\n6) Subjects with a lifetime history of a substance use disorder (as determined by \\nDSM-5 criteria), or current substance misuse including alcohol and \\nbenzodiazepines, but excluding caffeine and nicotine.\\n\\n    Question: Is BA mentioned in this text?\\n     [/INST]\"},\n",
       "  {'question': 'Is Bioequivalence mentioned in this text?',\n",
       "   'answer': '  No, bioequivalence is not mentioned in this text.',\n",
       "   'context': '8.3.1 Pharmacodynamic Laboratory Tests\\nNot applicable.\\n-----\\n8.3 Pharmacodynamic Assessments........................................................................56\\n8.4 Pharmacogenomic Assessments........................................................................57\\n8.5 Biomarker Assessments ....................................................................................57\\n8.6 Future Biospecimen Research Samples ............................................................57\\n8.6.1 Scope of Future Biospecimen Research .........................................................57\\n8.6.2 Summary of Procedures for Future Biospecimen Research Samples ............57\\n8.7 Safety Assessments ...........................................................................................58\\n8.7.1 Clinical Laboratory Assessments ...................................................................58\\n8.7.2 Physical Examination .....................................................................................59\\n-----\\nneeded.\\nAll PK samples will be shipped to the bioanalytical laboratory. Additional information \\nwill be provided in the trial-specific laboratory manual.\\n8.3 Biomarker Assessments\\n8.3.1 Pharmacodynamic Laboratory Tests\\nNot applicable.',\n",
       "   'prompt': \"[INST] <>\\nUse the following pieces of context to answer the question at the end. If you don't know the answer, just say that you don't know, don't try to make up an answer.\\n<>\\n\\n\\n    8.3.1 Pharmacodynamic Laboratory Tests\\nNot applicable.\\n-----\\n8.3 Pharmacodynamic Assessments........................................................................56\\n8.4 Pharmacogenomic Assessments........................................................................57\\n8.5 Biomarker Assessments ....................................................................................57\\n8.6 Future Biospecimen Research Samples ............................................................57\\n8.6.1 Scope of Future Biospecimen Research .........................................................57\\n8.6.2 Summary of Procedures for Future Biospecimen Research Samples ............57\\n8.7 Safety Assessments ...........................................................................................58\\n8.7.1 Clinical Laboratory Assessments ...................................................................58\\n8.7.2 Physical Examination .....................................................................................59\\n-----\\nneeded.\\nAll PK samples will be shipped to the bioanalytical laboratory. Additional information \\nwill be provided in the trial-specific laboratory manual.\\n8.3 Biomarker Assessments\\n8.3.1 Pharmacodynamic Laboratory Tests\\nNot applicable.\\n\\n    Question: Is Bioequivalence mentioned in this text?\\n     [/INST]\"},\n",
       "  {'question': 'Is BE mentioned in this text?',\n",
       "   'answer': '  No, BE is not mentioned in the given text.',\n",
       "   'context': 'expected based on the course of the condition. \\nMedical or surgical procedures (eg, endoscopy, appendectomy) should not be reported \\nas AEs; however, the condition that led to the procedure may be reported as an AE.\\nIf a reported AE undergoes a change or worsening in severity, seriousness, or toxicity, it \\nshould be reported as a new AE in eSource.\\n-----\\nexpected based on the course of the condition. \\nMedical or surgical procedures (eg, endoscopy, appendectomy) should not be reported \\nas AEs; however, the condition that led to the procedure may be reported as an AE.\\nIf a reported AE undergoes a change or worsening in severity, seriousness, or toxicity, it \\nshould be reported as a new AE in eSource.\\n-----\\nexpected based on the course of the condition. \\nMedical or surgical procedures (eg, endoscopy, appendectomy) should not be reported \\nas AEs; however, the condition that led to the procedure may be reported as an AE.\\nIf a reported AE undergoes a change or worsening in severity, seriousness, or toxicity, it \\nshould be reported as a new AE in eSource.',\n",
       "   'prompt': \"[INST] <>\\nUse the following pieces of context to answer the question at the end. If you don't know the answer, just say that you don't know, don't try to make up an answer.\\n<>\\n\\n\\n    expected based on the course of the condition. \\nMedical or surgical procedures (eg, endoscopy, appendectomy) should not be reported \\nas AEs; however, the condition that led to the procedure may be reported as an AE.\\nIf a reported AE undergoes a change or worsening in severity, seriousness, or toxicity, it \\nshould be reported as a new AE in eSource.\\n-----\\nexpected based on the course of the condition. \\nMedical or surgical procedures (eg, endoscopy, appendectomy) should not be reported \\nas AEs; however, the condition that led to the procedure may be reported as an AE.\\nIf a reported AE undergoes a change or worsening in severity, seriousness, or toxicity, it \\nshould be reported as a new AE in eSource.\\n-----\\nexpected based on the course of the condition. \\nMedical or surgical procedures (eg, endoscopy, appendectomy) should not be reported \\nas AEs; however, the condition that led to the procedure may be reported as an AE.\\nIf a reported AE undergoes a change or worsening in severity, seriousness, or toxicity, it \\nshould be reported as a new AE in eSource.\\n\\n    Question: Is BE mentioned in this text?\\n     [/INST]\"},\n",
       "  {'question': 'Is Drug-Drug Interactions mentioned in this text?',\n",
       "   'answer': '  No, drug-drug interactions are not explicitly mentioned in the given text. The text mentions several factors that could potentially interfere with the absorption, distribution, metabolism, and excretion of a drug, such as medical conditions, consumption of alcohol and caffeine, drug allergies, and history of drug abuse. However, it does not specifically mention drug-drug interactions as one of these factors. Therefore, the answer is no.',\n",
       "   'context': 'physical examination, that in the investigator’s or sponsor’s opinion may place the \\nsubject at risk or interfere with outcome variables including absorption, \\ndistribution, metabolism, and excretion of drug. This includes, but is not limited \\nto, history of or concurrent cardiac, hepatic, renal, neurologic, endocrine, \\ngastrointestinal, respiratory, hematologic, and immunologic disease.\\n5) Consumption of alcohol and/or food and beverages containing caffeine, \\nmethylxanthines (eg, coffee, chocolate) within 72 hours prior to dosing.\\n6) History of drug and/or alcohol abuse within 2 years prior to screening.\\n7) History of or current hepatitis or acquired immunodeficiency syndrome or carriers \\nof hepatitis B surface antigen and/or hepatitis C antibodies, or human \\nimmunodeficiency virus antibodies.\\n8) History of any significant drug allergy or known or suspected hypersensitivity.\\n9) A positive urine or breath alcohol test and/or urine drug screen for substance of\\n-----\\ndistribution, metabolism, and excretion of drug. This includes, but is not limited \\nto, history of or concurrent cardiac, hepatic, renal, neurologic, endocrine, \\ngastrointestinal, respiratory, hematologic, and immunologic disease.\\n5) Consumption of alcohol and/or food and beverages containing caffeine, \\nmethylxanthines (eg, coffee, chocolate) within 72 hours prior to dosing.\\n6) History of drug and/or alcohol abuse within 2 years prior to screening.\\n7) History of or current hepatitis or acquired immunodeficiency syndrome or carriers \\nof hepatitis B surface antigen and/or hepatitis C antibodies, or human \\nimmunodeficiency virus antibodies.\\n8) History of any significant drug allergy or known or suspected hypersensitivity.\\n9) A positive urine or breath alcohol test and/or urine drug screen for substance of \\nabuse at screening or upon admission to the trial site.\\n10) Having taken an investigational drug within 30 days prior to the first dose of IMP.\\n-----\\nsubject at risk or interfere with outcome variables including absorption, \\ndistribution, metabolism, and excretion of drug. This includes, but is not limited \\nto, history of or concurrent cardiac, hepatic, renal, neurologic, endocrine, \\ngastrointestinal, respiratory, hematologic, and immunologic disease.\\n5) Consumption of alcohol and/or food and beverages containing caffeine, \\nmethylxanthines (eg, coffee, chocolate) within 72 hours prior to dosing.\\n6) History of drug and/or alcohol abuse within 2 years prior to screening.\\n7) History of or current hepatitis or acquired immunodeficiency syndrome or carriers \\nof hepatitis B surface antigen and/or hepatitis C antibodies, or human \\nimmunodeficiency virus antibodies.\\n8) History of any significant drug allergy or known or suspected hypersensitivity.\\n9) A positive urine or breath alcohol test and/or urine drug screen for substance of \\nabuse at screening or upon admission to the trial site.\\n10) Having taken an investigational drug within 30 days prior to the first dose of IMP.\\n11) Any history of significant bleeding or hemorrhagic tendencies.\\n12) A history of difficulty in donating blood.',\n",
       "   'prompt': \"[INST] <>\\nUse the following pieces of context to answer the question at the end. If you don't know the answer, just say that you don't know, don't try to make up an answer.\\n<>\\n\\n\\n    physical examination, that in the investigator’s or sponsor’s opinion may place the \\nsubject at risk or interfere with outcome variables including absorption, \\ndistribution, metabolism, and excretion of drug. This includes, but is not limited \\nto, history of or concurrent cardiac, hepatic, renal, neurologic, endocrine, \\ngastrointestinal, respiratory, hematologic, and immunologic disease.\\n5) Consumption of alcohol and/or food and beverages containing caffeine, \\nmethylxanthines (eg, coffee, chocolate) within 72 hours prior to dosing.\\n6) History of drug and/or alcohol abuse within 2 years prior to screening.\\n7) History of or current hepatitis or acquired immunodeficiency syndrome or carriers \\nof hepatitis B surface antigen and/or hepatitis C antibodies, or human \\nimmunodeficiency virus antibodies.\\n8) History of any significant drug allergy or known or suspected hypersensitivity.\\n9) A positive urine or breath alcohol test and/or urine drug screen for substance of\\n-----\\ndistribution, metabolism, and excretion of drug. This includes, but is not limited \\nto, history of or concurrent cardiac, hepatic, renal, neurologic, endocrine, \\ngastrointestinal, respiratory, hematologic, and immunologic disease.\\n5) Consumption of alcohol and/or food and beverages containing caffeine, \\nmethylxanthines (eg, coffee, chocolate) within 72 hours prior to dosing.\\n6) History of drug and/or alcohol abuse within 2 years prior to screening.\\n7) History of or current hepatitis or acquired immunodeficiency syndrome or carriers \\nof hepatitis B surface antigen and/or hepatitis C antibodies, or human \\nimmunodeficiency virus antibodies.\\n8) History of any significant drug allergy or known or suspected hypersensitivity.\\n9) A positive urine or breath alcohol test and/or urine drug screen for substance of \\nabuse at screening or upon admission to the trial site.\\n10) Having taken an investigational drug within 30 days prior to the first dose of IMP.\\n-----\\nsubject at risk or interfere with outcome variables including absorption, \\ndistribution, metabolism, and excretion of drug. This includes, but is not limited \\nto, history of or concurrent cardiac, hepatic, renal, neurologic, endocrine, \\ngastrointestinal, respiratory, hematologic, and immunologic disease.\\n5) Consumption of alcohol and/or food and beverages containing caffeine, \\nmethylxanthines (eg, coffee, chocolate) within 72 hours prior to dosing.\\n6) History of drug and/or alcohol abuse within 2 years prior to screening.\\n7) History of or current hepatitis or acquired immunodeficiency syndrome or carriers \\nof hepatitis B surface antigen and/or hepatitis C antibodies, or human \\nimmunodeficiency virus antibodies.\\n8) History of any significant drug allergy or known or suspected hypersensitivity.\\n9) A positive urine or breath alcohol test and/or urine drug screen for substance of \\nabuse at screening or upon admission to the trial site.\\n10) Having taken an investigational drug within 30 days prior to the first dose of IMP.\\n11) Any history of significant bleeding or hemorrhagic tendencies.\\n12) A history of difficulty in donating blood.\\n\\n    Question: Is Drug-Drug Interactions mentioned in this text?\\n     [/INST]\"},\n",
       "  {'question': 'Is DDI mentioned in this text ?'},\n",
       "  {'question': 'Is Mass Balance mentioned in this text ?'},\n",
       "  {'question': 'Is MB mentioned in this text?'},\n",
       "  {'question': 'Is Food Effect mentioned in this text?'},\n",
       "  {'question': 'Is FE in full text mentioned in this text?'}],\n",
       " 'planned_number_of_patients': [{'question': 'How many patients are planned for study according to the text? Give me a number.'},\n",
       "  {'question': 'How many subjects are planned for study according to the text? Give me a number.'},\n",
       "  {'question': 'How many participants are planned for study according to the text? Give me a number.'}]}"
      ]
     },
     "execution_count": 28,
     "metadata": {},
     "output_type": "execute_result"
    }
   ],
   "source": [
    "sample_questions"
   ]
  },
  {
   "cell_type": "code",
   "execution_count": 27,
   "metadata": {},
   "outputs": [
    {
     "name": "stdout",
     "output_type": "stream",
     "text": [
      "[INST] <>\n",
      "Use the following pieces of context to answer the question at the end. If you don't know the answer, just say that you don't know, don't try to make up an answer.\n",
      "<>\n",
      "\n",
      "\n",
      "cohorts (Cohorts 2 and 3), and up to 5 subjects will be enrolled in each of the 4 to 5 years \n",
      "age cohorts (Cohorts 4 and 5). Additional subjects may be enrolled as necessary.\n",
      "\n",
      "cohorts (Cohorts 1 and 6), up to 8 subjects will be enrolled in each of the 6 to 8 years age \n",
      "cohorts (Cohorts 2 and 3), and up to 5 subjects will be enrolled in each of the 4 to 5 years \n",
      "age cohorts (Cohorts 4 and 5). Additional subjects may be enrolled as necessary.\n",
      "\n",
      "cohorts (Cohorts 1 and 6), up to 8 subjects will be enrolled in each of the 6 to 8 years age \n",
      "cohorts (Cohorts 2 and 3), and up to 5 subjects will be enrolled in each of the 4 to 5 years \n",
      "age cohorts (Cohorts 4 and 5). Additional subjects may be enrolled as necessary.\n",
      "\n",
      "Question: How many number of study arms are mentioned in this text ?\n",
      " "
     ]
    },
    {
     "name": "stderr",
     "output_type": "stream",
     "text": [
      "/home/ubuntu/.venv/lib/python3.9/site-packages/transformers/pipelines/base.py:1101: UserWarning: You seem to be using the pipelines sequentially on GPU. In order to maximize efficiency please use a dataset\n",
      "  warnings.warn(\n",
      "/home/ubuntu/.venv/lib/python3.9/site-packages/transformers/generation/configuration_utils.py:362: UserWarning: `do_sample` is set to `False`. However, `temperature` is set to `0` -- this flag is only used in sample-based generation modes. You should set `do_sample=True` or unset `temperature`.\n",
      "  warnings.warn(\n",
      "/home/ubuntu/.venv/lib/python3.9/site-packages/transformers/generation/configuration_utils.py:367: UserWarning: `do_sample` is set to `False`. However, `top_p` is set to `0.95` -- this flag is only used in sample-based generation modes. You should set `do_sample=True` or unset `top_p`.\n",
      "  warnings.warn(\n"
     ]
    },
    {
     "name": "stdout",
     "output_type": "stream",
     "text": [
      "[/INST]  I don't know. The text does not mention the number of study arms explicitly. It only describes the number of subjects that will be enrolled in each age cohort, but it does not provide information about the number of study arms. Therefore, I cannot answer your question.\n",
      " I don't know.\n",
      " There are six cohorts mentioned in the text: Cohorts 1, 2, 3, 4, 5, and 6.\n",
      " No, translational medicine research is not explicitly mentioned in the given text.\n",
      " No, psychedelic research is not mentioned in this text. The text focuses on clinical trials, specifically the assessment and management of overdoses, treatment emergent adverse events, and concomitant medications. It also references various guidelines and resources related to drug development and regulatory compliance but does not mention anything about psychedelic research. Therefore, the answer is no.\n",
      " Yes, the text does mention \"Abuse Potential\" multiple times.\n",
      " No, the word \"Basket\" is not mentioned in the given text. The text only mentions \"trial\" without the word \"Basket\". Therefore, the answer to your question is no.\n",
      " No, the word \"umbrella\" is not present in the given text. The text mentions a trial, but it does not specify that it is an umbrella trial. Therefore, based on the information provided, the answer to the question is no.\n",
      " Yes, multiple phases are mentioned in the text. They are:\n",
      "\n",
      "* Screening phase (Days -21 to -1)\n",
      "* Inpatient stay (7 days)\n",
      "* Safety follow-up telephone call (7 days after the second dose of IMP, Day 11 (+2))\n",
      " No, the word \"placebo-controlled\" is not mentioned in the provided text.\n",
      " No, the abbreviation FiH or the phrase \"First in Human\" does not appear in the provided text.\n",
      " No, the text does not mention FIH.\n",
      " No, the text does not mention \"Single Ascending Dose.\"\n",
      " No, SAD is not mentioned in the provided text.\n",
      " No, the term \"Multiple Ascending Dose\" is not mentioned in the provided text.\n",
      " No, MAD is not mentioned in the given text.\n",
      " No, Thorough QTc is not mentioned in this text. The text only mentions \"Product Quality Complaint\" (PQC). \n",
      " Yes, hepatic impairment is mentioned in the text as one of the conditions that may affect the absorption, distribution, metabolism, and excretion of a drug.\n",
      " No, renal impairment is not mentioned in the given text. The text mentions various clinical laboratory assessments, including urinalysis, but it does not mention renal impairment specifically.\n",
      " No, the word \"run-in\" does not appear anywhere in the provided pieces of context.\n",
      " No, the term \"observational period\" is not mentioned in the given text. The text only mentions \"evaluation period\" and \"follow-up of adverse events,\" but it doesn't specifically mention an \"observational period.\"\n",
      " No, titration is not mentioned in the provided pieces of context.\n",
      " Yes, bioavailability is mentioned in the text. In fact, it is mentioned twice. The first time it is mentioned is when it says \"bioavailability of centanafadine was increased.\" Then it mentions it again when it says \"a dose reduction of approximately 20%...would produce concentrations comparable to the SR tablet 200 mg total daily dose\" \n",
      " No, BA is not mentioned in the provided text.\n",
      " No, bioequivalence is not mentioned in this text.\n",
      " No, BE is not mentioned in the given text.\n",
      " No, drug-drug interactions are not explicitly mentioned in the given text. The text mentions several factors that could potentially interfere with the absorption, distribution, metabolism, and excretion of a drug, such as medical conditions, consumption of alcohol and caffeine, drug allergies, and history of drug abuse. However, it does not specifically mention drug-drug interactions as one of these factors. Therefore, the answer is no.\n"
     ]
    }
   ],
   "source": [
    "def generate_training_prompt(question,context):\n",
    "    return generate_prompt(\n",
    "        f\"\"\"\n",
    "    {context}\n",
    "\n",
    "    Question: {question}\n",
    "    \"\"\",\n",
    "        system_prompt=SYSTEM_PROMPT,\n",
    "    )\n",
    "\n",
    "# sample_questions = {\n",
    "#     'study_arms':[\n",
    "#         {\"question\":\"How many number of study arms are mentioned in this text ?\" },\n",
    "#         {\"question\":\"How many treatment groups are mentioned in this text ?\" },\n",
    "#         {\"question\":\"What are the number of cohorts of subjects mentioned in this text?\"}\n",
    "#     ],\n",
    "#     'design_complexity_high':[\n",
    "#         {\"question\":\"Is Translational Medicine Research mentioned in this text?\" },\n",
    "#         {\"question\":\"Is Psychedelic Research mentioned in this text?\" },\n",
    "#         {\"question\":\"Is Abuse Liability mentioned in this text?\" },\n",
    "#         {\"question\":\"Is Basket trial mentioned in this text?\" },\n",
    "#         {\"question\":\"Is Umbrella trial mentioned in this text?\" },\n",
    "#         {\"question\":\"Is Multiple phases mentioned in this text?\" },\n",
    "#         {\"question\":\"Is Placebo-controlled mentioned in this text?\"}\n",
    "#     ],\n",
    "#     'design_complexity_medium':[\n",
    "#         {\"question\":\"Is First in Human mentioned in this text?\" },\n",
    "#         {\"question\":\"Is FIH mentioned in this text?\" },\n",
    "#         {\"question\":\"Is Single Ascending Dose mentioned in this text?\" },\n",
    "#         {\"question\":\"Is SAD mentioned in this text?\" },\n",
    "#         {\"question\":\"Is Multiple Ascending Dose mentioned in this text?\" },\n",
    "#         {\"question\":\"Is MAD mentioned in this text?\" },\n",
    "#         {\"question\":\"Is Thorough QTc mentioned in this text?\" },\n",
    "#         {\"question\":\"Is Hepatic impairment mentioned in this text?\" },\n",
    "#         {\"question\":\"Is Renal Impairment mentioned in this text?\" },\n",
    "#         {\"question\":\"Is Run-in mentioned in this text?\" },\n",
    "#         {\"question\":\"Is Observational period mentioned in this text?\" },\n",
    "#         {\"question\":\"Is Titration period mentioned in this text?\"}\n",
    "#     ],\n",
    "#     'design_complexity_low':[\n",
    "#         {\"question\":\"Is Bioavailability mentioned in this text?\" },\n",
    "#         {\"question\":\"Is BA mentioned in this text?\" },\n",
    "#         {\"question\":\"Is Bioequivalence mentioned in this text?\" },\n",
    "#         {\"question\":\"Is BE mentioned in this text?\" },\n",
    "#         {\"question\":\"Is Drug-Drug Interactions mentioned in this text?\" },\n",
    "#         {\"question\":\"Is DDI mentioned in this text ?\" },\n",
    "#         {\"question\":\"Is Mass Balance mentioned in this text ?\" },\n",
    "#         {\"question\":\"Is MB mentioned in this text?\" },\n",
    "#         {\"question\":\"Is Food Effect mentioned in this text?\" },\n",
    "#         {\"question\":\"Is FE in full text mentioned in this text?\"}\n",
    "#     ],\n",
    "#     'planned_number_of_patients':[\n",
    "#         {\"question\":\"How many patients are planned for study according to the text? Give me a number.\" },\n",
    "#         {\"question\":\"How many subjects are planned for study according to the text? Give me a number.\" },\n",
    "#         {\"question\":\"How many participants are planned for study according to the text? Give me a number.\"}\n",
    "#     ],\n",
    "# }\n",
    "\n",
    "\n",
    "# try:\n",
    "#     for category, q_list in sample_questions.items():\n",
    "#         for index, q_dict in enumerate(q_list):\n",
    "#             question = q_dict['question']\n",
    "#             result = qa_chain(question)\n",
    "#             answer = result['result']\n",
    "#             context = \"\\n-----\\n\".join([ doc.page_content for doc in result['source_documents']])\n",
    "\n",
    "#             sample_questions[category][index]['answer'] = answer\n",
    "#             sample_questions[category][index]['context'] = context\n",
    "#             sample_questions[category][index]['prompt'] = generate_training_prompt(question,context)\n",
    "# except RuntimeError as e:\n",
    "#     pass"
   ]
  },
  {
   "cell_type": "code",
   "execution_count": 9,
   "metadata": {},
   "outputs": [
    {
     "name": "stderr",
     "output_type": "stream",
     "text": [
      "/home/ubuntu/.venv/lib/python3.9/site-packages/transformers/generation/configuration_utils.py:362: UserWarning: `do_sample` is set to `False`. However, `temperature` is set to `0` -- this flag is only used in sample-based generation modes. You should set `do_sample=True` or unset `temperature`.\n",
      "  warnings.warn(\n",
      "/home/ubuntu/.venv/lib/python3.9/site-packages/transformers/generation/configuration_utils.py:367: UserWarning: `do_sample` is set to `False`. However, `top_p` is set to `0.95` -- this flag is only used in sample-based generation modes. You should set `do_sample=True` or unset `top_p`.\n",
      "  warnings.warn(\n"
     ]
    },
    {
     "name": "stdout",
     "output_type": "stream",
     "text": [
      " Yes, it says \"elevation in aspartate aminotransferase\" three times in the provided text.\n",
      " Yes, it is. Elevated levels of AST are discussed in section 8.8.7 of protocol 405-201-00046 as part of identifying potential serious hepatotoxicity. It states that if a subject has an elevation in AST or ALT that is ≥ 3 times the upper limit of normal (ULN), a total bilirubin level should also be evaluated.\n",
      " Yes, it is. In section 8.7.7, there is a mention of \"alanine aminotransferase\" and its relation with hepatotoxicity.\n",
      " Yes, it is. Elevated levels of ALT are discussed in section 8.8.7 of protocol 405-201-00046 as part of identifying potential serious hepatotoxicity. It states that if a subject has an elevation in AST or ALT that is ≥ 3 times the upper limit of normal (ULN), a total bilirubin level should also be evaluated.\n"
     ]
    }
   ],
   "source": [
    "resultdcc0_0 = qa_chain(\"Is elevation in aspartate aminotransferase mentioned in text?\")\n",
    "resultdcc0_1 = qa_chain(\"Is elevation in AST mentioned in text?\")\n",
    "\n",
    "resultdcc0_2 = qa_chain(\"Is elevation in alanine aminotransferase mentioned in text?\")\n",
    "resultdcc0_3 = qa_chain(\"Is elevation in ALT mentioned in text?\")"
   ]
  },
  {
   "cell_type": "code",
   "execution_count": 15,
   "metadata": {},
   "outputs": [
    {
     "name": "stderr",
     "output_type": "stream",
     "text": [
      "/home/ubuntu/.venv/lib/python3.9/site-packages/transformers/generation/configuration_utils.py:362: UserWarning: `do_sample` is set to `False`. However, `temperature` is set to `0` -- this flag is only used in sample-based generation modes. You should set `do_sample=True` or unset `temperature`.\n",
      "  warnings.warn(\n",
      "/home/ubuntu/.venv/lib/python3.9/site-packages/transformers/generation/configuration_utils.py:367: UserWarning: `do_sample` is set to `False`. However, `top_p` is set to `0.95` -- this flag is only used in sample-based generation modes. You should set `do_sample=True` or unset `top_p`.\n",
      "  warnings.warn(\n"
     ]
    },
    {
     "name": "stdout",
     "output_type": "stream",
     "text": [
      " The answer to your question cannot be determined with the given information. The text mentions \"the evaluation period\" without defining it explicitly. It does mention that this period starts at the signing of informed consent and ends when primary and/or secondary objectives have been evaluated, but it doesn't give a specific duration. Therefore, I can't provide an exact answer to your question.\n"
     ]
    }
   ],
   "source": [
    "resultdcc0_5 = qa_chain(\"?\")"
   ]
  },
  {
   "cell_type": "code",
   "execution_count": 21,
   "metadata": {},
   "outputs": [
    {
     "data": {
      "text/plain": [
       "{'query': 'How long is the period of treatment/evaluation as mentioned in the text?',\n",
       " 'result': '  The answer to your question cannot be determined with the given information. The text mentions \"the evaluation period\" without defining it explicitly. It does mention that this period starts at the signing of informed consent and ends when primary and/or secondary objectives have been evaluated, but it doesn\\'t give a specific duration. Therefore, I can\\'t provide an exact answer to your question.',\n",
       " 'source_documents': [Document(page_content='taken by the subject from 30 days prior to signing of informed consent through the end of \\nthe evaluation period (defined as the time period during which subjects are evaluated for \\nprimary and/or secondary objectives) in eSource. The investigator will also record all \\nmedications and therapies taken by the subject for treatment of an adverse event (AE) or', metadata={'page': 38, 'source': 'pdfs/405-201-00018_Protocol_Amendment_4.pdf'}),\n",
       "  Document(page_content='taken by the subject from 30 days prior to signing of informed consent through the end of \\nthe evaluation period (defined as the time period during which subjects are evaluated for \\nprimary and/or secondary objectives) in eSource. The investigator will also record all \\nmedications and therapies taken by the subject for treatment of an adverse event (AE) or', metadata={'page': 38, 'source': 'pdfs/405-201-00018_Protocol_Amendment_4.pdf'}),\n",
       "  Document(page_content='taken by the subject from 30 days prior to signing of informed consent through the end of \\nthe evaluation period (defined as the time period during which subjects are evaluated for \\nprimary and/or secondary objectives) in eSource. The investigator will also record all \\nmedications and therapies taken by the subject for treatment of an adverse event (AE) or', metadata={'page': 38, 'source': 'pdfs/405-201-00018_Protocol_Amendment_4.pdf'})]}"
      ]
     },
     "execution_count": 21,
     "metadata": {},
     "output_type": "execute_result"
    }
   ],
   "source": [
    "resultdcc0_5"
   ]
  },
  {
   "cell_type": "code",
   "execution_count": 20,
   "metadata": {},
   "outputs": [
    {
     "name": "stdout",
     "output_type": "stream",
     "text": [
      "taken by the subject from 30 days prior to signing of informed consent through the end of \n",
      "the evaluation period (defined as the time period during which subjects are evaluated for \n",
      "primary and/or secondary objectives) in eSource. The investigator will also record all \n",
      "medications and therapies taken by the subject for treatment of an adverse event (AE) or\n",
      "-----\n",
      "taken by the subject from 30 days prior to signing of informed consent through the end of \n",
      "the evaluation period (defined as the time period during which subjects are evaluated for \n",
      "primary and/or secondary objectives) in eSource. The investigator will also record all \n",
      "medications and therapies taken by the subject for treatment of an adverse event (AE) or\n",
      "-----\n",
      "taken by the subject from 30 days prior to signing of informed consent through the end of \n",
      "the evaluation period (defined as the time period during which subjects are evaluated for \n",
      "primary and/or secondary objectives) in eSource. The investigator will also record all \n",
      "medications and therapies taken by the subject for treatment of an adverse event (AE) or\n"
     ]
    }
   ],
   "source": [
    "print(\"\\n-----\\n\".join([ doc.page_content for doc in resultdcc0_5['source_documents']]))"
   ]
  },
  {
   "cell_type": "code",
   "execution_count": 8,
   "metadata": {},
   "outputs": [
    {
     "name": "stderr",
     "output_type": "stream",
     "text": [
      "/home/ubuntu/.venv/lib/python3.9/site-packages/transformers/generation/configuration_utils.py:362: UserWarning: `do_sample` is set to `False`. However, `temperature` is set to `0` -- this flag is only used in sample-based generation modes. You should set `do_sample=True` or unset `temperature`.\n",
      "  warnings.warn(\n",
      "/home/ubuntu/.venv/lib/python3.9/site-packages/transformers/generation/configuration_utils.py:367: UserWarning: `do_sample` is set to `False`. However, `top_p` is set to `0.95` -- this flag is only used in sample-based generation modes. You should set `do_sample=True` or unset `top_p`.\n",
      "  warnings.warn(\n"
     ]
    },
    {
     "name": "stdout",
     "output_type": "stream",
     "text": [
      "\n",
      "\n",
      "Instructions:\n",
      "Create at least 10 question-answer pairs from the given corpus.\n",
      "Note: It is not necessary that all questions should be answered within the given text. You can also create questions whose answers are not mentioned in the passage.\n",
      "\n",
      "My Approach:\n",
      "\n",
      "Q - Which countries are the leading producers of cocoa?\n",
      "A - Ghana and Côte d’Ivoire\n",
      "\n",
      "Q - What percentage of the world's cocoa do Ghana and Côte d’Ivoire produce?\n",
      "A - Together, they produce 53% of the world's cocoa.\n",
      "\n",
      "Q - How does cocoa contribute to the GDP of Côte d'Ivoire and Ghana?\n",
      "A - Cocoa contributes 7.5% of the Gross Domestic Product (GDP) of Côte d'Ivoire and 3.4% of that of Ghana.\n",
      "\n",
      "Q - What is the objective of the paper discussed in the passage?\n",
      "A - The objective of the paper is to present future climate scenarios for the main cocoa growing regions of Ghana and Côte d’Ivoire and to predict their impact on the relative suitability of these regions for growing cocoa.\n",
      "\n",
      "Q - What are the predicted changes in relative climatic suitability for cocoa for 2050 according to the model used in the study?\n",
      "A - Some current cocoa producing areas will become unsuitable (Lagunes and Sud‐Comoe in Côte d'Ivoire), while other areas will require adaptations in agronomic management, and in yet others the climatic suitability for growing cocoa will increase (Kwahu Plateu in Ghana and southwestern Côte d´Ivoire).\n",
      "\n",
      "Q - What are the recommendations made to reduce the vulnerability of cocoa farmers and the sector to future climate change?\n",
      "A - The development of site‐specific strategies to reduce the vulnerability of cocoa farmers and the sector to future climate change.\n",
      "\n",
      "Q - What is the current distribution of cocoa growing areas and how did the study predict changes in relative climatic suitability for cocoa?\n",
      "A - The current distribution of cocoa growing areas is not suitable for some areas, and the study used the MAXENT method and predictions from 19 Global Circulation Models to predict changes in relative climatic suitability for cocoa.\n",
      "\n",
      "Q - What is the importance of cocoa for rural populations in Ghana and Côte d’Ivoire?\n",
      "A - Cocoa is an important cash crop for the rural population in the forest zones of these countries.\n",
      "\n",
      "Q - How might climate change affect the cocoa sector in West Africa?\n",
      "A - Climate change could have implications for the national economies and farmer livelihoods, with potential repercussions for forests and natural habitats as cocoa growing regions expand, shrink, or shift.\n"
     ]
    },
    {
     "data": {
      "text/plain": [
       "\"\\n\\nInstructions:\\nCreate at least 10 question-answer pairs from the given corpus.\\nNote: It is not necessary that all questions should be answered within the given text. You can also create questions whose answers are not mentioned in the passage.\\n\\nMy Approach:\\n\\nQ - Which countries are the leading producers of cocoa?\\nA - Ghana and Côte d’Ivoire\\n\\nQ - What percentage of the world's cocoa do Ghana and Côte d’Ivoire produce?\\nA - Together, they produce 53% of the world's cocoa.\\n\\nQ - How does cocoa contribute to the GDP of Côte d'Ivoire and Ghana?\\nA - Cocoa contributes 7.5% of the Gross Domestic Product (GDP) of Côte d'Ivoire and 3.4% of that of Ghana.\\n\\nQ - What is the objective of the paper discussed in the passage?\\nA - The objective of the paper is to present future climate scenarios for the main cocoa growing regions of Ghana and Côte d’Ivoire and to predict their impact on the relative suitability of these regions for growing cocoa.\\n\\nQ - What are the predicted changes in relative climatic suitability for cocoa for 2050 according to the model used in the study?\\nA - Some current cocoa producing areas will become unsuitable (Lagunes and Sud‐Comoe in Côte d'Ivoire), while other areas will require adaptations in agronomic management, and in yet others the climatic suitability for growing cocoa will increase (Kwahu Plateu in Ghana and southwestern Côte d´Ivoire).\\n\\nQ - What are the recommendations made to reduce the vulnerability of cocoa farmers and the sector to future climate change?\\nA - The development of site‐specific strategies to reduce the vulnerability of cocoa farmers and the sector to future climate change.\\n\\nQ - What is the current distribution of cocoa growing areas and how did the study predict changes in relative climatic suitability for cocoa?\\nA - The current distribution of cocoa growing areas is not suitable for some areas, and the study used the MAXENT method and predictions from 19 Global Circulation Models to predict changes in relative climatic suitability for cocoa.\\n\\nQ - What is the importance of cocoa for rural populations in Ghana and Côte d’Ivoire?\\nA - Cocoa is an important cash crop for the rural population in the forest zones of these countries.\\n\\nQ - How might climate change affect the cocoa sector in West Africa?\\nA - Climate change could have implications for the national economies and farmer livelihoods, with potential repercussions for forests and natural habitats as cocoa growing regions expand, shrink, or shift.\""
      ]
     },
     "execution_count": 8,
     "metadata": {},
     "output_type": "execute_result"
    }
   ],
   "source": [
    "llm(\"\"\"Task: Create question answer pairs from the given corpus:\n",
    "Example:\n",
    "Question: Who are the leadin cocoa producing countries ?\n",
    "ANswer: Ghana and Côte d’Ivoire.\n",
    "\n",
    "CORPUS:\n",
    "Ghana  and Côte d’Ivoire  are the world´s  leading  cocoa (Thebroma  cacao) producing  countries;\n",
    "together they produce 53% of the world’s cocoa. Cocoa contributes 7.5% of the Gross Domestic\n",
    "Product (GDP) of Côte d'Ivoire and 3.4% of that of Ghana and is an important cash crop for the\n",
    "rural population in the forest zones of these countries. If progressive climate change affected the\n",
    "climatic  suitability  for  cocoa  of  West  Africa,  this  would  have  implications  for  the  national\n",
    "economies and farmer livelihoods, with potential repercussions for forests and natural habitat as\n",
    "cocoa  growing regions  expand, shrink  or shift.  The objective  of this  paper  is to present future\n",
    "climate scenarios for the main cocoa growing regions of Ghana and Côte d’Ivoire and to predict\n",
    "their  impact  on the relative suitability  of these regions for  growing  cocoa.  These  analyses  are\n",
    "intended to support the respective countries and supply chain actors in developing strategies for\n",
    "reducing  the  vulnerability  of  the  cocoa  sector  to  climate  change.  Based  on  the  current\n",
    "distribution  of  cocoa  growing  areas  and  climate  change  predictions from  19 Global Circulation\n",
    "Models, we predict changes in relative climatic suitability for cocoa for 2050 using the MAXENT\n",
    "method. According to the model, some  current  cocoa  producing  areas will  become  unsuitable\n",
    "(Lagunes and Sud‐Comoe in Côte d'Ivoire) requiring crop change, while other areas will require\n",
    "adaptations  in  agronomic  management,  and  in  yet  others  the  climatic suitability  for  growing\n",
    "cocoa will increase (Kwahu Plateu in Ghana and southwestern Côte d´Ivoire). We recommend the\n",
    "development  of  site‐specific  strategies  to  reduce  the  vulnerability  of  cocoa  farmers  and  the\n",
    "sector to future climate change.\"\"\")"
   ]
  },
  {
   "cell_type": "code",
   "execution_count": 10,
   "metadata": {},
   "outputs": [
    {
     "name": "stdout",
     "output_type": "stream",
     "text": [
      " Yes, the word \"AESI\" appears several times throughout the provided text. It stands for Adverse Events of Special Interest.\n"
     ]
    }
   ],
   "source": [
    "resultdcc0_4 = qa_chain(\"\"\"Is the section \"AESI\" or \"Adverse Events\" or similar sections present in the text?\"\"\")"
   ]
  },
  {
   "cell_type": "markdown",
   "metadata": {
    "jp-MarkdownHeadingCollapsed": true
   },
   "source": [
    "# GPTQ Models"
   ]
  },
  {
   "cell_type": "code",
   "execution_count": 2,
   "metadata": {},
   "outputs": [],
   "source": [
    "# ! pip install --upgrade bitsandbytes accelerate"
   ]
  },
  {
   "cell_type": "code",
   "execution_count": 3,
   "metadata": {},
   "outputs": [],
   "source": [
    "# ! pip install transformers>=4.32.0 optimum>=1.12.0\n",
    "# ! pip install auto-gptq --extra-index-url https://huggingface.github.io/autogptq-index/whl/cu118/  # Use cu117 if on CUDA 11.7\n"
   ]
  },
  {
   "cell_type": "code",
   "execution_count": 4,
   "metadata": {},
   "outputs": [
    {
     "name": "stderr",
     "output_type": "stream",
     "text": [
      "/home/ubuntu/.venv/lib/python3.9/site-packages/tqdm/auto.py:21: TqdmWarning: IProgress not found. Please update jupyter and ipywidgets. See https://ipywidgets.readthedocs.io/en/stable/user_install.html\n",
      "  from .autonotebook import tqdm as notebook_tqdm\n",
      "Downloading (…)lve/main/config.json: 100%|██████████| 840/840 [00:00<00:00, 215kB/s]\n",
      "Downloading model.safetensors: 100%|██████████| 35.3G/35.3G [01:41<00:00, 349MB/s]\n",
      "Downloading (…)neration_config.json: 100%|██████████| 137/137 [00:00<00:00, 50.3kB/s]\n",
      "Downloading (…)okenizer_config.json: 100%|██████████| 745/745 [00:00<00:00, 896kB/s]\n",
      "Downloading tokenizer.model: 100%|██████████| 500k/500k [00:00<00:00, 267MB/s]\n",
      "Downloading (…)/main/tokenizer.json: 100%|██████████| 1.84M/1.84M [00:00<00:00, 1.97MB/s]\n",
      "Downloading (…)cial_tokens_map.json: 100%|██████████| 411/411 [00:00<00:00, 501kB/s]\n"
     ]
    },
    {
     "name": "stdout",
     "output_type": "stream",
     "text": [
      "\n",
      "\n",
      "*** Generate:\n",
      "<s> [INST] <<SYS>>\n",
      "You are a helpful, respectful and honest assistant. Always answer as helpfully as possible, while being safe.  Your answers should not include any harmful, unethical, racist, sexist, toxic, dangerous, or illegal content. Please ensure that your responses are socially unbiased and positive in nature. If a question does not make any sense, or is not factually coherent, explain why instead of answering something not correct. If you don't know the answer to a question, please don't share false information.\n",
      "<</SYS>>\n",
      "Tell me about AI[/INST]\n",
      "\n",
      "Artificial intelligence (AI) refers to the ability of machines or computer programs to mimic intelligent human behavior. AI systems use algorithms and data to make decisions, classify objects, and generate insights based on large amounts of information.\n",
      "\n",
      "There are many different types of AI, including:\n",
      "\n",
      "1. Narrow or weak AI: This type of AI is designed to perform a specific task, such as facial recognition, language translation, or playing a game like chess or Go. Narrow AI is the most common type of AI and is used in many applications, including virtual assistants, image recognition, and natural language processing.\n",
      "2. General or strong AI: This type of AI is designed to perform any intellectual task that a human can do. General AI has the ability to learn, understand, and apply knowledge across a wide range of tasks, much like a human does. General AI is still a topic of research and development, and it is considered a long-term goal for AI researchers.\n",
      "3. Superintelligence: This type of AI is significantly more intelligent than the best human minds. Superintelligence could potentially solve complex problems that are currently unsolvable, but it also raises concerns about safety, control, and ethics.\n",
      "\n",
      "AI has many applications in various industries, including:\n",
      "\n",
      "1. Healthcare: AI can help diagnose diseases, develop personalized treatment plans, and improve drug discovery. AI can also help with medical imaging, patient data analysis, and medical research.\n",
      "2. Finance: AI can help detect fraud, analyze financial data, and make investment decisions. AI can also help with customer service, risk management, and compliance.\n",
      "3. Education: AI can help personalize learning, grade assignments, and develop virtual teaching assistants. AI can also help with student data analysis, special education, and language learning.\n",
      "4. Transportation: AI can help develop autonomous vehicles, improve traffic flow, and optimize logistics. AI can also help with predictive maintenance, fleet management, and route optimization.\n",
      "5. Retail: AI can help personalize customer experiences, optimize inventory management, and improve supply chain efficiency. AI can also help with customer service, demand forecasting, and product recommendations.\n",
      "\n",
      "AI has the potential to bring about significant benefits\n",
      "*** Pipeline:\n",
      "[INST] <<SYS>>\n",
      "You are a helpful, respectful and honest assistant. Always answer as helpfully as possible, while being safe.  Your answers should not include any harmful, unethical, racist, sexist, toxic, dangerous, or illegal content. Please ensure that your responses are socially unbiased and positive in nature. If a question does not make any sense, or is not factually coherent, explain why instead of answering something not correct. If you don't know the answer to a question, please don't share false information.\n",
      "<</SYS>>\n",
      "Tell me about AI[/INST]\n",
      "\n",
      "Artificial intelligence (AI) refers to the development of computer systems that can perform tasks that would normally require human intelligence, such as visual perception, speech recognition, decision-making, and language translation. AI technology uses algorithms and machine learning techniques to enable machines to learn from data, adapt to new situations, and improve their performance over time. AI has many applications across various industries, including healthcare, finance, transportation, education, and entertainment. Some examples of AI include:\n",
      "\n",
      "* Virtual assistants like Siri, Alexa, and Google Assistant, which use natural language processing (NLP) to understand voice commands and provide assistance with daily tasks.\n",
      "* Self-driving cars that use computer vision and machine learning to navigate roads and avoid obstacles.\n",
      "* Personalized product recommendations generated by e-commerce websites based on customer behavior and preferences.\n",
      "* Fraud detection systems that analyze patterns in financial transactions to identify potential threats.\n",
      "* Chatbots that use NLP to engage with customers and respond to their queries.\n",
      "\n",
      "AI has the potential to revolutionize many aspects of our lives, but it also raises ethical concerns related to privacy, bias, accountability, and job displacement. As AI systems become more advanced and integrated into our daily lives, it is essential to address these issues proactively and ensure that AI benefits society as a whole.\n"
     ]
    }
   ],
   "source": [
    "from transformers import AutoModelForCausalLM, AutoTokenizer, pipeline\n",
    "\n",
    "model_name_or_path = \"TheBloke/Llama-2-70B-chat-GPTQ\"\n",
    "# To use a different branch, change revision\n",
    "# For example: revision=\"main\"\n",
    "model = AutoModelForCausalLM.from_pretrained(model_name_or_path,\n",
    "                                             device_map=\"auto\",\n",
    "                                             trust_remote_code=False,\n",
    "                                             revision=\"main\")\n",
    "\n",
    "tokenizer = AutoTokenizer.from_pretrained(model_name_or_path, use_fast=True)\n",
    "\n",
    "pipe = pipeline(\n",
    "    \"text-generation\",\n",
    "    model=model,\n",
    "    tokenizer=tokenizer,\n",
    "    max_new_tokens=512,\n",
    "    do_sample=True,\n",
    "    temperature=0.7,\n",
    "    top_p=0.95,\n",
    "    top_k=40,\n",
    "    repetition_penalty=1.1\n",
    ")\n",
    "\n",
    "llm = HuggingfacePipeline(pipe)\n",
    "llm(\"Tell me your name:\")"
   ]
  },
  {
   "cell_type": "code",
   "execution_count": 5,
   "metadata": {},
   "outputs": [
    {
     "name": "stdout",
     "output_type": "stream",
     "text": [
      "\n",
      "\n",
      "*** Generate:\n",
      "[INST] <<SYS>>\n",
      "You are a helpful, respectful and honest assistant. Always answer as helpfully as possible, while being safe.  Your answers should not include any harmful, unethical, racist, sexist, toxic, dangerous, or illegal content. Please ensure that your responses are socially unbiased and positive in nature. If a question does not make any sense, or is not factually coherent, explain why instead of answering something not correct. If you don't know the answer to a question, please don't share false information.\n",
      "<</SYS>>\n",
      "How many Planets are in our Solar System[/INST]\n",
      "\n",
      "There are eight planets in our solar system. In order from the sun, they are:\n",
      "\n",
      "1. Mercury\n",
      "2. Venus\n",
      "3. Earth\n",
      "4. Mars\n",
      "5. Jupiter\n",
      "6. Saturn\n",
      "7. Uranus\n",
      "8. Neptune\n",
      "\n",
      "Note: Pluto was previously considered a planet but has since been reclassified as a dwarf planet by the International Astronomical Union (IAU) in 2006.\n"
     ]
    }
   ],
   "source": [
    "\n",
    "prompt = \"How many Planets are in our Solar System\"\n",
    "\n",
    "prompt_template=f'''[INST] <<SYS>>\n",
    "You are a helpful, respectful and honest assistant. Always answer as helpfully as possible, while being safe.  Your answers should not include any harmful, unethical, racist, sexist, toxic, dangerous, or illegal content. Please ensure that your responses are socially unbiased and positive in nature. If a question does not make any sense, or is not factually coherent, explain why instead of answering something not correct. If you don't know the answer to a question, please don't share false information.\n",
    "<</SYS>>\n",
    "{prompt}[/INST]\n",
    "\n",
    "'''\n",
    "print(\"\\n\\n*** Generate:\")\n",
    "\n",
    "print(pipe(prompt_template)[0]['generated_text'])\n"
   ]
  },
  {
   "cell_type": "markdown",
   "metadata": {
    "jp-MarkdownHeadingCollapsed": true
   },
   "source": [
    "# Fine Tuning GPTQ Models"
   ]
  },
  {
   "cell_type": "code",
   "execution_count": null,
   "metadata": {},
   "outputs": [],
   "source": [
    "from transformers import AutoModelForCausalLM\n",
    "from auto_gptq import GPTQConfig\n",
    "\n",
    "model_name_or_path = \"TheBloke/Llama-2-70B-chat-GPTQ\"\n",
    "# To use a different branch, change revision\n",
    "# For example: revision=\"main\"\n",
    "model = AutoModelForCausalLM.from_pretrained(model_name_or_path,\n",
    "                                             device_map=\"auto\",\n",
    "                                             trust_remote_code=False,\n",
    "                                             revision=\"main\")\n",
    "\n",
    "tokenizer = AutoTokenizer.from_pretrained(model_name_or_path, use_fast=True)\n"
   ]
  },
  {
   "cell_type": "code",
   "execution_count": 18,
   "metadata": {},
   "outputs": [],
   "source": [
    "from transformers import GPTQConfig, AutoModelForCausalLM, Trainer, TrainingArguments, DataCollatorForLanguageModeling\n",
    "\n",
    "from peft import prepare_model_for_kbit_training\n",
    "\n",
    "from peft import LoraConfig, get_peft_model\n",
    "\n",
    "from transformers import AutoTokenizer\n",
    "\n",
    "from datasets import load_dataset\n",
    "\n",
    "TRAINING_ARGS = {\n",
    "\n",
    "    'model_id' : 'TheBloke/Llama-2-70B-chat-GPTQ',\n",
    "\n",
    "    'quantization_type' : 'GPTQ',\n",
    "\n",
    "    'trained_model_path' : None,\n",
    "\n",
    "    'training_data' : None,\n",
    "\n",
    "}\n",
    "\n",
    "TOKENIZER = AutoTokenizer.from_pretrained(\n",
    "    TRAINING_ARGS.get('model_id'),\n",
    "    padding_side=\"left\",\n",
    "    add_eos_token=True,\n",
    "    add_bos_token=True,\n",
    "    use_fast=True,\n",
    ")\n",
    "TOKENIZER.pad_token = TOKENIZER.eos_token\n",
    "\n",
    "\n",
    "def parse_train_datapoint(datapoint):\n",
    "    return f\"\"\"{datapoint['input']}{datapoint['output']}\"\"\"\n",
    "\n",
    "def generate_and_tokenize_prompt(prompt):\n",
    "    return TOKENIZER(parse_train_datapoint(prompt))\n",
    "\n",
    "# data = load_dataset(\"Abirate/english_quotes\")\n",
    "\n",
    "# data = data.map(lambda samples: tokenizer(samples[\"quote\"]), batched=True)['train']\n",
    "\n",
    "# data = load_dataset(\"json\",data_files='training_data_70b.json',split='train')\n",
    "# data = data.map(generate_and_tokenize_prompt)\n",
    "# TRAINING_ARGS['training_data'] = data\n",
    "\n",
    "\n",
    "# del data, tokenizer\n",
    "\n",
    "  \n",
    "def train_model(json_data_path,model = None, tokenizer =None, training_args = TRAINING_ARGS, save_dir='models/'):\n",
    "    if not tokenizer:\n",
    "        tokenizer = AutoTokenizer.from_pretrained(\n",
    "            TRAINING_ARGS.get('model_id'),\n",
    "            padding_side=\"left\",\n",
    "            add_eos_token=True,\n",
    "            add_bos_token=True,\n",
    "            use_fast=True,\n",
    "        )\n",
    "    if not model:\n",
    "        if training_args.get('quantization_type') == 'GPTQ':\n",
    "            quantization_config_loading = GPTQConfig(bits=4, disable_exllama=True)\n",
    "            model = AutoModelForCausalLM.from_pretrained(training_args.get('model_id'),\n",
    "                                                     \n",
    "                                                    device_map=\"auto\",\n",
    "\n",
    "                                                    quantization_config=quantization_config_loading,\n",
    "\n",
    "                                                    trust_remote_code=False,\n",
    "\n",
    "                                                    revision=\"main\")\n",
    "    tokenizer.pad_token = tokenizer.eos_token\n",
    "    data = load_dataset(\"json\",data_files=json_data_path,split='train')\n",
    "    data = data.map(generate_and_tokenize_prompt)\n",
    "\n",
    "    model.gradient_checkpointing_enable()\n",
    "\n",
    "    model = prepare_model_for_kbit_training(model)\n",
    "\n",
    "    config = LoraConfig(\n",
    "\n",
    "        r=8,\n",
    "\n",
    "        lora_alpha=32,\n",
    "\n",
    "        # Llama2 Specific : for Falcon Use [\"dense\",\"query_key_value\"]\n",
    "\n",
    "        target_modules=[\"k_proj\",\"o_proj\",\"q_proj\",\"v_proj\"],\n",
    "\n",
    "        lora_dropout=0.05,\n",
    "\n",
    "        bias=\"none\",\n",
    "\n",
    "        task_type=\"CAUSAL_LM\"\n",
    "\n",
    "    )\n",
    "\n",
    "    model = get_peft_model(model, config)\n",
    "\n",
    "  \n",
    "\n",
    "    # Llama2 Specific\n",
    "\n",
    "    tokenizer.pad_token = tokenizer.eos_token\n",
    "\n",
    "    trainer = Trainer(\n",
    "\n",
    "        model=model,\n",
    "\n",
    "        train_dataset=data,\n",
    "\n",
    "        args=TrainingArguments(\n",
    "\n",
    "            per_device_train_batch_size=1,\n",
    "\n",
    "            gradient_accumulation_steps=4,\n",
    "\n",
    "            warmup_steps=2,\n",
    "\n",
    "            max_steps=20,\n",
    "\n",
    "            learning_rate=2e-4,\n",
    "\n",
    "            fp16=True,\n",
    "\n",
    "            logging_steps=1,\n",
    "\n",
    "            output_dir=\"outputs\",\n",
    "\n",
    "            optim=\"adamw_hf\"\n",
    "\n",
    "        ),\n",
    "\n",
    "        data_collator=DataCollatorForLanguageModeling(tokenizer, mlm=False)\n",
    "\n",
    "    )\n",
    "\n",
    "    model.config.use_cache = False  # silence the warnings. Please re-enable for inference!\n",
    "\n",
    "    trainer.train()\n",
    "    # model.save_pretrained(save_dir)\n",
    "    # model = AutoModelForCausalLM.from_pretrained(save_dir)\n",
    "    # model.config.use_cache = True\n",
    "    trainer.save_model(\"CALANCE-ProtocolScoring-Llama-2-70B-chat-GPTQ\")\n",
    "    quantization_config_loading = GPTQConfig(bits=4, disable_exllama=True)\n",
    "    model = AutoModelForCausalLM.from_pretrained(\"CALANCE-ProtocolScoring-Llama-2-70B-chat-GPTQ\",\n",
    "                                                        device_map=\"auto\",\n",
    "                                                        quantization_config=quantization_config_loading,\n",
    "                                                )\n",
    "    return model\n",
    "\n",
    "\n"
   ]
  },
  {
   "cell_type": "code",
   "execution_count": 8,
   "metadata": {},
   "outputs": [
    {
     "name": "stderr",
     "output_type": "stream",
     "text": [
      "You passed `quantization_config` to `from_pretrained` but the model you're loading already has a `quantization_config` attribute and has already quantized weights. However, loading attributes (e.g. disable_exllama, use_cuda_fp16, max_input_length) will be overwritten with the one you passed to `from_pretrained`. The rest will be ignored.\n",
      "/home/ubuntu/.venv/lib/python3.9/site-packages/transformers/optimization.py:411: FutureWarning: This implementation of AdamW is deprecated and will be removed in a future version. Use the PyTorch implementation torch.optim.AdamW instead, or set `no_deprecation_warning=True` to disable this warning\n",
      "  warnings.warn(\n",
      "You're using a LlamaTokenizerFast tokenizer. Please note that with a fast tokenizer, using the `__call__` method is faster than using a method to encode the text followed by a call to the `pad` method to get a padded encoding.\n"
     ]
    },
    {
     "data": {
      "text/html": [
       "\n",
       "    <div>\n",
       "      \n",
       "      <progress value='10' max='10' style='width:300px; height:20px; vertical-align: middle;'></progress>\n",
       "      [10/10 07:08, Epoch 1/2]\n",
       "    </div>\n",
       "    <table border=\"1\" class=\"dataframe\">\n",
       "  <thead>\n",
       " <tr style=\"text-align: left;\">\n",
       "      <th>Step</th>\n",
       "      <th>Training Loss</th>\n",
       "    </tr>\n",
       "  </thead>\n",
       "  <tbody>\n",
       "    <tr>\n",
       "      <td>1</td>\n",
       "      <td>1.774100</td>\n",
       "    </tr>\n",
       "    <tr>\n",
       "      <td>2</td>\n",
       "      <td>1.443900</td>\n",
       "    </tr>\n",
       "    <tr>\n",
       "      <td>3</td>\n",
       "      <td>1.384700</td>\n",
       "    </tr>\n",
       "    <tr>\n",
       "      <td>4</td>\n",
       "      <td>1.455200</td>\n",
       "    </tr>\n",
       "    <tr>\n",
       "      <td>5</td>\n",
       "      <td>1.555700</td>\n",
       "    </tr>\n",
       "    <tr>\n",
       "      <td>6</td>\n",
       "      <td>1.493300</td>\n",
       "    </tr>\n",
       "    <tr>\n",
       "      <td>7</td>\n",
       "      <td>1.143600</td>\n",
       "    </tr>\n",
       "    <tr>\n",
       "      <td>8</td>\n",
       "      <td>1.235300</td>\n",
       "    </tr>\n",
       "    <tr>\n",
       "      <td>9</td>\n",
       "      <td>1.049700</td>\n",
       "    </tr>\n",
       "    <tr>\n",
       "      <td>10</td>\n",
       "      <td>0.916100</td>\n",
       "    </tr>\n",
       "  </tbody>\n",
       "</table><p>"
      ],
      "text/plain": [
       "<IPython.core.display.HTML object>"
      ]
     },
     "metadata": {},
     "output_type": "display_data"
    }
   ],
   "source": [
    "training_data_path = 'training_data_70b.json'\n",
    "model= train_model(json_data_path= training_data_path)"
   ]
  }
 ],
 "metadata": {
  "kernelspec": {
   "display_name": "myenv",
   "language": "python",
   "name": "myenv"
  },
  "language_info": {
   "codemirror_mode": {
    "name": "ipython",
    "version": 3
   },
   "file_extension": ".py",
   "mimetype": "text/x-python",
   "name": "python",
   "nbconvert_exporter": "python",
   "pygments_lexer": "ipython3",
   "version": "3.9.16"
  }
 },
 "nbformat": 4,
 "nbformat_minor": 4
}
