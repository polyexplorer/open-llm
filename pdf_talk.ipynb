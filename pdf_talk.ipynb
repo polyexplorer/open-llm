{
 "cells": [
  {
   "cell_type": "code",
   "execution_count": 1,
   "metadata": {},
   "outputs": [
    {
     "name": "stderr",
     "output_type": "stream",
     "text": [
      "/home/ubuntu/venv/lib/python3.8/site-packages/tqdm/auto.py:21: TqdmWarning: IProgress not found. Please update jupyter and ipywidgets. See https://ipywidgets.readthedocs.io/en/stable/user_install.html\n",
      "  from .autonotebook import tqdm as notebook_tqdm\n"
     ]
    },
    {
     "ename": "TypeError",
     "evalue": "cannot pickle 'classmethod' object",
     "output_type": "error",
     "traceback": [
      "\u001b[0;31m---------------------------------------------------------------------------\u001b[0m",
      "\u001b[0;31mTypeError\u001b[0m                                 Traceback (most recent call last)",
      "\u001b[1;32m/home/ubuntu/open-llm/pdf_talk.ipynb Cell 1\u001b[0m line \u001b[0;36m1\n\u001b[0;32m----> <a href='vscode-notebook-cell://ssh-remote%2Bec2-13-233-246-109.ap-south-1.compute.amazonaws.com/home/ubuntu/open-llm/pdf_talk.ipynb#W0sdnNjb2RlLXJlbW90ZQ%3D%3D?line=0'>1</a>\u001b[0m \u001b[39mfrom\u001b[39;00m \u001b[39mpdf_querying\u001b[39;00m \u001b[39mimport\u001b[39;00m PDFQueryEngine\n",
      "File \u001b[0;32m~/open-llm/pdf_querying.py:3\u001b[0m\n\u001b[1;32m      1\u001b[0m \u001b[39mfrom\u001b[39;00m \u001b[39mauto_gptq\u001b[39;00m \u001b[39mimport\u001b[39;00m AutoGPTQForCausalLM, BaseQuantizeConfig\n\u001b[1;32m      2\u001b[0m \u001b[39mfrom\u001b[39;00m \u001b[39mtransformers\u001b[39;00m \u001b[39mimport\u001b[39;00m AutoTokenizer, pipeline, logging, AutoModelForCausalLM\n\u001b[0;32m----> 3\u001b[0m \u001b[39mfrom\u001b[39;00m \u001b[39mlangchain\u001b[39;00m\u001b[39m.\u001b[39;00m\u001b[39mllms\u001b[39;00m \u001b[39mimport\u001b[39;00m HuggingFacePipeline\n\u001b[1;32m      4\u001b[0m \u001b[39mfrom\u001b[39;00m \u001b[39mlangchain\u001b[39;00m\u001b[39m.\u001b[39;00m\u001b[39mchains\u001b[39;00m \u001b[39mimport\u001b[39;00m RetrievalQA\n\u001b[1;32m      5\u001b[0m \u001b[39mfrom\u001b[39;00m \u001b[39mlangchain\u001b[39;00m\u001b[39m.\u001b[39;00m\u001b[39mllms\u001b[39;00m \u001b[39mimport\u001b[39;00m OpenAI\n",
      "File \u001b[0;32m~/venv/lib/python3.8/site-packages/langchain/__init__.py:36\u001b[0m\n\u001b[1;32m     32\u001b[0m \u001b[39mexcept\u001b[39;00m metadata\u001b[39m.\u001b[39mPackageNotFoundError:\n\u001b[1;32m     33\u001b[0m     _PYDANTIC_MAJOR_VERSION \u001b[39m=\u001b[39m \u001b[39m0\u001b[39m\n\u001b[0;32m---> 36\u001b[0m \u001b[39mfrom\u001b[39;00m \u001b[39mlangchain\u001b[39;00m\u001b[39m.\u001b[39;00m\u001b[39magents\u001b[39;00m \u001b[39mimport\u001b[39;00m MRKLChain, ReActChain, SelfAskWithSearchChain\n\u001b[1;32m     37\u001b[0m \u001b[39mfrom\u001b[39;00m \u001b[39mlangchain\u001b[39;00m\u001b[39m.\u001b[39;00m\u001b[39mcache\u001b[39;00m \u001b[39mimport\u001b[39;00m BaseCache\n\u001b[1;32m     38\u001b[0m \u001b[39mfrom\u001b[39;00m \u001b[39mlangchain\u001b[39;00m\u001b[39m.\u001b[39;00m\u001b[39mchains\u001b[39;00m \u001b[39mimport\u001b[39;00m (\n\u001b[1;32m     39\u001b[0m     ConversationChain,\n\u001b[1;32m     40\u001b[0m     LLMBashChain,\n\u001b[0;32m   (...)\u001b[0m\n\u001b[1;32m     46\u001b[0m     VectorDBQAWithSourcesChain,\n\u001b[1;32m     47\u001b[0m )\n",
      "File \u001b[0;32m~/venv/lib/python3.8/site-packages/langchain/agents/__init__.py:31\u001b[0m\n\u001b[1;32m      1\u001b[0m \u001b[39m\"\"\"\u001b[39;00m\n\u001b[1;32m      2\u001b[0m \u001b[39m**Agent** is a class that uses an LLM to choose a sequence of actions to take.\u001b[39;00m\n\u001b[1;32m      3\u001b[0m \n\u001b[0;32m   (...)\u001b[0m\n\u001b[1;32m     29\u001b[0m \u001b[39m    \u001b[39;00m\n\u001b[1;32m     30\u001b[0m \u001b[39m\"\"\"\u001b[39;00m  \u001b[39m# noqa: E501\u001b[39;00m\n\u001b[0;32m---> 31\u001b[0m \u001b[39mfrom\u001b[39;00m \u001b[39mlangchain\u001b[39;00m\u001b[39m.\u001b[39;00m\u001b[39magents\u001b[39;00m\u001b[39m.\u001b[39;00m\u001b[39magent\u001b[39;00m \u001b[39mimport\u001b[39;00m (\n\u001b[1;32m     32\u001b[0m     Agent,\n\u001b[1;32m     33\u001b[0m     AgentExecutor,\n\u001b[1;32m     34\u001b[0m     AgentOutputParser,\n\u001b[1;32m     35\u001b[0m     BaseMultiActionAgent,\n\u001b[1;32m     36\u001b[0m     BaseSingleActionAgent,\n\u001b[1;32m     37\u001b[0m     LLMSingleActionAgent,\n\u001b[1;32m     38\u001b[0m )\n\u001b[1;32m     39\u001b[0m \u001b[39mfrom\u001b[39;00m \u001b[39mlangchain\u001b[39;00m\u001b[39m.\u001b[39;00m\u001b[39magents\u001b[39;00m\u001b[39m.\u001b[39;00m\u001b[39magent_iterator\u001b[39;00m \u001b[39mimport\u001b[39;00m AgentExecutorIterator\n\u001b[1;32m     40\u001b[0m \u001b[39mfrom\u001b[39;00m \u001b[39mlangchain\u001b[39;00m\u001b[39m.\u001b[39;00m\u001b[39magents\u001b[39;00m\u001b[39m.\u001b[39;00m\u001b[39magent_toolkits\u001b[39;00m \u001b[39mimport\u001b[39;00m (\n\u001b[1;32m     41\u001b[0m     create_csv_agent,\n\u001b[1;32m     42\u001b[0m     create_json_agent,\n\u001b[0;32m   (...)\u001b[0m\n\u001b[1;32m     52\u001b[0m     create_xorbits_agent,\n\u001b[1;32m     53\u001b[0m )\n",
      "File \u001b[0;32m~/venv/lib/python3.8/site-packages/langchain/agents/agent.py:15\u001b[0m\n\u001b[1;32m     12\u001b[0m \u001b[39mimport\u001b[39;00m \u001b[39myaml\u001b[39;00m\n\u001b[1;32m     13\u001b[0m \u001b[39mfrom\u001b[39;00m \u001b[39mpydantic_v1\u001b[39;00m \u001b[39mimport\u001b[39;00m BaseModel, root_validator\n\u001b[0;32m---> 15\u001b[0m \u001b[39mfrom\u001b[39;00m \u001b[39mlangchain\u001b[39;00m\u001b[39m.\u001b[39;00m\u001b[39magents\u001b[39;00m\u001b[39m.\u001b[39;00m\u001b[39magent_iterator\u001b[39;00m \u001b[39mimport\u001b[39;00m AgentExecutorIterator\n\u001b[1;32m     16\u001b[0m \u001b[39mfrom\u001b[39;00m \u001b[39mlangchain\u001b[39;00m\u001b[39m.\u001b[39;00m\u001b[39magents\u001b[39;00m\u001b[39m.\u001b[39;00m\u001b[39magent_types\u001b[39;00m \u001b[39mimport\u001b[39;00m AgentType\n\u001b[1;32m     17\u001b[0m \u001b[39mfrom\u001b[39;00m \u001b[39mlangchain\u001b[39;00m\u001b[39m.\u001b[39;00m\u001b[39magents\u001b[39;00m\u001b[39m.\u001b[39;00m\u001b[39mtools\u001b[39;00m \u001b[39mimport\u001b[39;00m InvalidTool\n",
      "File \u001b[0;32m~/venv/lib/python3.8/site-packages/langchain/agents/agent_iterator.py:30\u001b[0m\n\u001b[1;32m     28\u001b[0m \u001b[39mfrom\u001b[39;00m \u001b[39mlangchain\u001b[39;00m\u001b[39m.\u001b[39;00m\u001b[39mload\u001b[39;00m\u001b[39m.\u001b[39;00m\u001b[39mdump\u001b[39;00m \u001b[39mimport\u001b[39;00m dumpd\n\u001b[1;32m     29\u001b[0m \u001b[39mfrom\u001b[39;00m \u001b[39mlangchain\u001b[39;00m\u001b[39m.\u001b[39;00m\u001b[39mschema\u001b[39;00m \u001b[39mimport\u001b[39;00m RUN_KEY, AgentAction, AgentFinish, RunInfo\n\u001b[0;32m---> 30\u001b[0m \u001b[39mfrom\u001b[39;00m \u001b[39mlangchain\u001b[39;00m\u001b[39m.\u001b[39;00m\u001b[39mtools\u001b[39;00m \u001b[39mimport\u001b[39;00m BaseTool\n\u001b[1;32m     31\u001b[0m \u001b[39mfrom\u001b[39;00m \u001b[39mlangchain\u001b[39;00m\u001b[39m.\u001b[39;00m\u001b[39mutilities\u001b[39;00m\u001b[39m.\u001b[39;00m\u001b[39masyncio\u001b[39;00m \u001b[39mimport\u001b[39;00m asyncio_timeout\n\u001b[1;32m     32\u001b[0m \u001b[39mfrom\u001b[39;00m \u001b[39mlangchain\u001b[39;00m\u001b[39m.\u001b[39;00m\u001b[39mutils\u001b[39;00m\u001b[39m.\u001b[39;00m\u001b[39minput\u001b[39;00m \u001b[39mimport\u001b[39;00m get_color_mapping\n",
      "File \u001b[0;32m~/venv/lib/python3.8/site-packages/langchain/tools/__init__.py:77\u001b[0m\n\u001b[1;32m     67\u001b[0m \u001b[39mfrom\u001b[39;00m \u001b[39mlangchain\u001b[39;00m\u001b[39m.\u001b[39;00m\u001b[39mtools\u001b[39;00m\u001b[39m.\u001b[39;00m\u001b[39mplaywright\u001b[39;00m \u001b[39mimport\u001b[39;00m (\n\u001b[1;32m     68\u001b[0m     ClickTool,\n\u001b[1;32m     69\u001b[0m     CurrentWebPageTool,\n\u001b[0;32m   (...)\u001b[0m\n\u001b[1;32m     74\u001b[0m     NavigateTool,\n\u001b[1;32m     75\u001b[0m )\n\u001b[1;32m     76\u001b[0m \u001b[39mfrom\u001b[39;00m \u001b[39mlangchain\u001b[39;00m\u001b[39m.\u001b[39;00m\u001b[39mtools\u001b[39;00m\u001b[39m.\u001b[39;00m\u001b[39mplugin\u001b[39;00m \u001b[39mimport\u001b[39;00m AIPluginTool\n\u001b[0;32m---> 77\u001b[0m \u001b[39mfrom\u001b[39;00m \u001b[39mlangchain\u001b[39;00m\u001b[39m.\u001b[39;00m\u001b[39mtools\u001b[39;00m\u001b[39m.\u001b[39;00m\u001b[39mpowerbi\u001b[39;00m\u001b[39m.\u001b[39;00m\u001b[39mtool\u001b[39;00m \u001b[39mimport\u001b[39;00m (\n\u001b[1;32m     78\u001b[0m     InfoPowerBITool,\n\u001b[1;32m     79\u001b[0m     ListPowerBITool,\n\u001b[1;32m     80\u001b[0m     QueryPowerBITool,\n\u001b[1;32m     81\u001b[0m )\n\u001b[1;32m     82\u001b[0m \u001b[39mfrom\u001b[39;00m \u001b[39mlangchain\u001b[39;00m\u001b[39m.\u001b[39;00m\u001b[39mtools\u001b[39;00m\u001b[39m.\u001b[39;00m\u001b[39mpubmed\u001b[39;00m\u001b[39m.\u001b[39;00m\u001b[39mtool\u001b[39;00m \u001b[39mimport\u001b[39;00m PubmedQueryRun\n\u001b[1;32m     83\u001b[0m \u001b[39mfrom\u001b[39;00m \u001b[39mlangchain\u001b[39;00m\u001b[39m.\u001b[39;00m\u001b[39mtools\u001b[39;00m\u001b[39m.\u001b[39;00m\u001b[39mpython\u001b[39;00m\u001b[39m.\u001b[39;00m\u001b[39mtool\u001b[39;00m \u001b[39mimport\u001b[39;00m PythonAstREPLTool, PythonREPLTool\n",
      "File \u001b[0;32m~/venv/lib/python3.8/site-packages/langchain/tools/powerbi/tool.py:12\u001b[0m\n\u001b[1;32m      6\u001b[0m \u001b[39mfrom\u001b[39;00m \u001b[39mpydantic_v1\u001b[39;00m \u001b[39mimport\u001b[39;00m Field, validator\n\u001b[1;32m      8\u001b[0m \u001b[39mfrom\u001b[39;00m \u001b[39mlangchain\u001b[39;00m\u001b[39m.\u001b[39;00m\u001b[39mcallbacks\u001b[39;00m\u001b[39m.\u001b[39;00m\u001b[39mmanager\u001b[39;00m \u001b[39mimport\u001b[39;00m (\n\u001b[1;32m      9\u001b[0m     AsyncCallbackManagerForToolRun,\n\u001b[1;32m     10\u001b[0m     CallbackManagerForToolRun,\n\u001b[1;32m     11\u001b[0m )\n\u001b[0;32m---> 12\u001b[0m \u001b[39mfrom\u001b[39;00m \u001b[39mlangchain\u001b[39;00m\u001b[39m.\u001b[39;00m\u001b[39mchains\u001b[39;00m\u001b[39m.\u001b[39;00m\u001b[39mllm\u001b[39;00m \u001b[39mimport\u001b[39;00m LLMChain\n\u001b[1;32m     13\u001b[0m \u001b[39mfrom\u001b[39;00m \u001b[39mlangchain\u001b[39;00m\u001b[39m.\u001b[39;00m\u001b[39mchat_models\u001b[39;00m\u001b[39m.\u001b[39;00m\u001b[39mopenai\u001b[39;00m \u001b[39mimport\u001b[39;00m _import_tiktoken\n\u001b[1;32m     14\u001b[0m \u001b[39mfrom\u001b[39;00m \u001b[39mlangchain\u001b[39;00m\u001b[39m.\u001b[39;00m\u001b[39mtools\u001b[39;00m\u001b[39m.\u001b[39;00m\u001b[39mbase\u001b[39;00m \u001b[39mimport\u001b[39;00m BaseTool\n",
      "File \u001b[0;32m~/venv/lib/python3.8/site-packages/langchain/chains/__init__.py:20\u001b[0m\n\u001b[1;32m      1\u001b[0m \u001b[39m\"\"\"**Chains** are easily reusable components linked together.\u001b[39;00m\n\u001b[1;32m      2\u001b[0m \n\u001b[1;32m      3\u001b[0m \u001b[39mChains encode a sequence of calls to components like models, document retrievers,\u001b[39;00m\n\u001b[0;32m   (...)\u001b[0m\n\u001b[1;32m     17\u001b[0m \u001b[39m    Chain --> <name>Chain  # Examples: LLMChain, MapReduceChain, RouterChain\u001b[39;00m\n\u001b[1;32m     18\u001b[0m \u001b[39m\"\"\"\u001b[39;00m\n\u001b[0;32m---> 20\u001b[0m \u001b[39mfrom\u001b[39;00m \u001b[39mlangchain\u001b[39;00m\u001b[39m.\u001b[39;00m\u001b[39mchains\u001b[39;00m\u001b[39m.\u001b[39;00m\u001b[39mapi\u001b[39;00m\u001b[39m.\u001b[39;00m\u001b[39mbase\u001b[39;00m \u001b[39mimport\u001b[39;00m APIChain\n\u001b[1;32m     21\u001b[0m \u001b[39mfrom\u001b[39;00m \u001b[39mlangchain\u001b[39;00m\u001b[39m.\u001b[39;00m\u001b[39mchains\u001b[39;00m\u001b[39m.\u001b[39;00m\u001b[39mapi\u001b[39;00m\u001b[39m.\u001b[39;00m\u001b[39mopenapi\u001b[39;00m\u001b[39m.\u001b[39;00m\u001b[39mchain\u001b[39;00m \u001b[39mimport\u001b[39;00m OpenAPIEndpointChain\n\u001b[1;32m     22\u001b[0m \u001b[39mfrom\u001b[39;00m \u001b[39mlangchain\u001b[39;00m\u001b[39m.\u001b[39;00m\u001b[39mchains\u001b[39;00m\u001b[39m.\u001b[39;00m\u001b[39mcombine_documents\u001b[39;00m\u001b[39m.\u001b[39;00m\u001b[39mbase\u001b[39;00m \u001b[39mimport\u001b[39;00m AnalyzeDocumentChain\n",
      "File \u001b[0;32m~/venv/lib/python3.8/site-packages/langchain/chains/api/base.py:12\u001b[0m\n\u001b[1;32m      6\u001b[0m \u001b[39mfrom\u001b[39;00m \u001b[39mpydantic_v1\u001b[39;00m \u001b[39mimport\u001b[39;00m Field, root_validator\n\u001b[1;32m      8\u001b[0m \u001b[39mfrom\u001b[39;00m \u001b[39mlangchain\u001b[39;00m\u001b[39m.\u001b[39;00m\u001b[39mcallbacks\u001b[39;00m\u001b[39m.\u001b[39;00m\u001b[39mmanager\u001b[39;00m \u001b[39mimport\u001b[39;00m (\n\u001b[1;32m      9\u001b[0m     AsyncCallbackManagerForChainRun,\n\u001b[1;32m     10\u001b[0m     CallbackManagerForChainRun,\n\u001b[1;32m     11\u001b[0m )\n\u001b[0;32m---> 12\u001b[0m \u001b[39mfrom\u001b[39;00m \u001b[39mlangchain\u001b[39;00m\u001b[39m.\u001b[39;00m\u001b[39mchains\u001b[39;00m\u001b[39m.\u001b[39;00m\u001b[39mapi\u001b[39;00m\u001b[39m.\u001b[39;00m\u001b[39mprompt\u001b[39;00m \u001b[39mimport\u001b[39;00m API_RESPONSE_PROMPT, API_URL_PROMPT\n\u001b[1;32m     13\u001b[0m \u001b[39mfrom\u001b[39;00m \u001b[39mlangchain\u001b[39;00m\u001b[39m.\u001b[39;00m\u001b[39mchains\u001b[39;00m\u001b[39m.\u001b[39;00m\u001b[39mbase\u001b[39;00m \u001b[39mimport\u001b[39;00m Chain\n\u001b[1;32m     14\u001b[0m \u001b[39mfrom\u001b[39;00m \u001b[39mlangchain\u001b[39;00m\u001b[39m.\u001b[39;00m\u001b[39mchains\u001b[39;00m\u001b[39m.\u001b[39;00m\u001b[39mllm\u001b[39;00m \u001b[39mimport\u001b[39;00m LLMChain\n",
      "File \u001b[0;32m~/venv/lib/python3.8/site-packages/langchain/chains/api/prompt.py:2\u001b[0m\n\u001b[1;32m      1\u001b[0m \u001b[39m# flake8: noqa\u001b[39;00m\n\u001b[0;32m----> 2\u001b[0m \u001b[39mfrom\u001b[39;00m \u001b[39mlangchain\u001b[39;00m\u001b[39m.\u001b[39;00m\u001b[39mprompts\u001b[39;00m\u001b[39m.\u001b[39;00m\u001b[39mprompt\u001b[39;00m \u001b[39mimport\u001b[39;00m PromptTemplate\n\u001b[1;32m      4\u001b[0m API_URL_PROMPT_TEMPLATE \u001b[39m=\u001b[39m \u001b[39m\"\"\"\u001b[39m\u001b[39mYou are given the below API Documentation:\u001b[39m\n\u001b[1;32m      5\u001b[0m \u001b[39m{api_docs}\u001b[39;00m\n\u001b[1;32m      6\u001b[0m \u001b[39mUsing this documentation, generate the full API url to call for answering the user question.\u001b[39m\n\u001b[0;32m   (...)\u001b[0m\n\u001b[1;32m      9\u001b[0m \u001b[39mQuestion:\u001b[39m\u001b[39m{question}\u001b[39;00m\n\u001b[1;32m     10\u001b[0m \u001b[39mAPI url:\u001b[39m\u001b[39m\"\"\"\u001b[39m\n\u001b[1;32m     12\u001b[0m API_URL_PROMPT \u001b[39m=\u001b[39m PromptTemplate(\n\u001b[1;32m     13\u001b[0m     input_variables\u001b[39m=\u001b[39m[\n\u001b[1;32m     14\u001b[0m         \u001b[39m\"\u001b[39m\u001b[39mapi_docs\u001b[39m\u001b[39m\"\u001b[39m,\n\u001b[0;32m   (...)\u001b[0m\n\u001b[1;32m     17\u001b[0m     template\u001b[39m=\u001b[39mAPI_URL_PROMPT_TEMPLATE,\n\u001b[1;32m     18\u001b[0m )\n",
      "File \u001b[0;32m~/venv/lib/python3.8/site-packages/langchain/prompts/__init__.py:40\u001b[0m\n\u001b[1;32m     30\u001b[0m \u001b[39mfrom\u001b[39;00m \u001b[39mlangchain\u001b[39;00m\u001b[39m.\u001b[39;00m\u001b[39mprompts\u001b[39;00m\u001b[39m.\u001b[39;00m\u001b[39mbase\u001b[39;00m \u001b[39mimport\u001b[39;00m StringPromptTemplate\n\u001b[1;32m     31\u001b[0m \u001b[39mfrom\u001b[39;00m \u001b[39mlangchain\u001b[39;00m\u001b[39m.\u001b[39;00m\u001b[39mprompts\u001b[39;00m\u001b[39m.\u001b[39;00m\u001b[39mchat\u001b[39;00m \u001b[39mimport\u001b[39;00m (\n\u001b[1;32m     32\u001b[0m     AIMessagePromptTemplate,\n\u001b[1;32m     33\u001b[0m     BaseChatPromptTemplate,\n\u001b[0;32m   (...)\u001b[0m\n\u001b[1;32m     38\u001b[0m     SystemMessagePromptTemplate,\n\u001b[1;32m     39\u001b[0m )\n\u001b[0;32m---> 40\u001b[0m \u001b[39mfrom\u001b[39;00m \u001b[39mlangchain\u001b[39;00m\u001b[39m.\u001b[39;00m\u001b[39mprompts\u001b[39;00m\u001b[39m.\u001b[39;00m\u001b[39mexample_selector\u001b[39;00m \u001b[39mimport\u001b[39;00m (\n\u001b[1;32m     41\u001b[0m     LengthBasedExampleSelector,\n\u001b[1;32m     42\u001b[0m     MaxMarginalRelevanceExampleSelector,\n\u001b[1;32m     43\u001b[0m     NGramOverlapExampleSelector,\n\u001b[1;32m     44\u001b[0m     SemanticSimilarityExampleSelector,\n\u001b[1;32m     45\u001b[0m )\n\u001b[1;32m     46\u001b[0m \u001b[39mfrom\u001b[39;00m \u001b[39mlangchain\u001b[39;00m\u001b[39m.\u001b[39;00m\u001b[39mprompts\u001b[39;00m\u001b[39m.\u001b[39;00m\u001b[39mfew_shot\u001b[39;00m \u001b[39mimport\u001b[39;00m (\n\u001b[1;32m     47\u001b[0m     FewShotChatMessagePromptTemplate,\n\u001b[1;32m     48\u001b[0m     FewShotPromptTemplate,\n\u001b[1;32m     49\u001b[0m )\n\u001b[1;32m     50\u001b[0m \u001b[39mfrom\u001b[39;00m \u001b[39mlangchain\u001b[39;00m\u001b[39m.\u001b[39;00m\u001b[39mprompts\u001b[39;00m\u001b[39m.\u001b[39;00m\u001b[39mfew_shot_with_templates\u001b[39;00m \u001b[39mimport\u001b[39;00m FewShotPromptWithTemplates\n",
      "File \u001b[0;32m~/venv/lib/python3.8/site-packages/langchain/prompts/example_selector/__init__.py:4\u001b[0m\n\u001b[1;32m      2\u001b[0m \u001b[39mfrom\u001b[39;00m \u001b[39mlangchain\u001b[39;00m\u001b[39m.\u001b[39;00m\u001b[39mprompts\u001b[39;00m\u001b[39m.\u001b[39;00m\u001b[39mexample_selector\u001b[39;00m\u001b[39m.\u001b[39;00m\u001b[39mlength_based\u001b[39;00m \u001b[39mimport\u001b[39;00m LengthBasedExampleSelector\n\u001b[1;32m      3\u001b[0m \u001b[39mfrom\u001b[39;00m \u001b[39mlangchain\u001b[39;00m\u001b[39m.\u001b[39;00m\u001b[39mprompts\u001b[39;00m\u001b[39m.\u001b[39;00m\u001b[39mexample_selector\u001b[39;00m\u001b[39m.\u001b[39;00m\u001b[39mngram_overlap\u001b[39;00m \u001b[39mimport\u001b[39;00m NGramOverlapExampleSelector\n\u001b[0;32m----> 4\u001b[0m \u001b[39mfrom\u001b[39;00m \u001b[39mlangchain\u001b[39;00m\u001b[39m.\u001b[39;00m\u001b[39mprompts\u001b[39;00m\u001b[39m.\u001b[39;00m\u001b[39mexample_selector\u001b[39;00m\u001b[39m.\u001b[39;00m\u001b[39msemantic_similarity\u001b[39;00m \u001b[39mimport\u001b[39;00m (\n\u001b[1;32m      5\u001b[0m     MaxMarginalRelevanceExampleSelector,\n\u001b[1;32m      6\u001b[0m     SemanticSimilarityExampleSelector,\n\u001b[1;32m      7\u001b[0m )\n\u001b[1;32m      9\u001b[0m __all__ \u001b[39m=\u001b[39m [\n\u001b[1;32m     10\u001b[0m     \u001b[39m\"\u001b[39m\u001b[39mLengthBasedExampleSelector\u001b[39m\u001b[39m\"\u001b[39m,\n\u001b[1;32m     11\u001b[0m     \u001b[39m\"\u001b[39m\u001b[39mMaxMarginalRelevanceExampleSelector\u001b[39m\u001b[39m\"\u001b[39m,\n\u001b[1;32m     12\u001b[0m     \u001b[39m\"\u001b[39m\u001b[39mNGramOverlapExampleSelector\u001b[39m\u001b[39m\"\u001b[39m,\n\u001b[1;32m     13\u001b[0m     \u001b[39m\"\u001b[39m\u001b[39mSemanticSimilarityExampleSelector\u001b[39m\u001b[39m\"\u001b[39m,\n\u001b[1;32m     14\u001b[0m ]\n",
      "File \u001b[0;32m~/venv/lib/python3.8/site-packages/langchain/prompts/example_selector/semantic_similarity.py:8\u001b[0m\n\u001b[1;32m      4\u001b[0m \u001b[39mfrom\u001b[39;00m \u001b[39mtyping\u001b[39;00m \u001b[39mimport\u001b[39;00m Any, Dict, List, Optional, Type\n\u001b[1;32m      6\u001b[0m \u001b[39mfrom\u001b[39;00m \u001b[39mpydantic_v1\u001b[39;00m \u001b[39mimport\u001b[39;00m BaseModel, Extra\n\u001b[0;32m----> 8\u001b[0m \u001b[39mfrom\u001b[39;00m \u001b[39mlangchain\u001b[39;00m\u001b[39m.\u001b[39;00m\u001b[39membeddings\u001b[39;00m\u001b[39m.\u001b[39;00m\u001b[39mbase\u001b[39;00m \u001b[39mimport\u001b[39;00m Embeddings\n\u001b[1;32m      9\u001b[0m \u001b[39mfrom\u001b[39;00m \u001b[39mlangchain\u001b[39;00m\u001b[39m.\u001b[39;00m\u001b[39mprompts\u001b[39;00m\u001b[39m.\u001b[39;00m\u001b[39mexample_selector\u001b[39;00m\u001b[39m.\u001b[39;00m\u001b[39mbase\u001b[39;00m \u001b[39mimport\u001b[39;00m BaseExampleSelector\n\u001b[1;32m     10\u001b[0m \u001b[39mfrom\u001b[39;00m \u001b[39mlangchain\u001b[39;00m\u001b[39m.\u001b[39;00m\u001b[39mvectorstores\u001b[39;00m\u001b[39m.\u001b[39;00m\u001b[39mbase\u001b[39;00m \u001b[39mimport\u001b[39;00m VectorStore\n",
      "File \u001b[0;32m~/venv/lib/python3.8/site-packages/langchain/embeddings/__init__.py:50\u001b[0m\n\u001b[1;32m     48\u001b[0m \u001b[39mfrom\u001b[39;00m \u001b[39mlangchain\u001b[39;00m\u001b[39m.\u001b[39;00m\u001b[39membeddings\u001b[39;00m\u001b[39m.\u001b[39;00m\u001b[39moctoai_embeddings\u001b[39;00m \u001b[39mimport\u001b[39;00m OctoAIEmbeddings\n\u001b[1;32m     49\u001b[0m \u001b[39mfrom\u001b[39;00m \u001b[39mlangchain\u001b[39;00m\u001b[39m.\u001b[39;00m\u001b[39membeddings\u001b[39;00m\u001b[39m.\u001b[39;00m\u001b[39mopenai\u001b[39;00m \u001b[39mimport\u001b[39;00m OpenAIEmbeddings\n\u001b[0;32m---> 50\u001b[0m \u001b[39mfrom\u001b[39;00m \u001b[39mlangchain\u001b[39;00m\u001b[39m.\u001b[39;00m\u001b[39membeddings\u001b[39;00m\u001b[39m.\u001b[39;00m\u001b[39msagemaker_endpoint\u001b[39;00m \u001b[39mimport\u001b[39;00m SagemakerEndpointEmbeddings\n\u001b[1;32m     51\u001b[0m \u001b[39mfrom\u001b[39;00m \u001b[39mlangchain\u001b[39;00m\u001b[39m.\u001b[39;00m\u001b[39membeddings\u001b[39;00m\u001b[39m.\u001b[39;00m\u001b[39mself_hosted\u001b[39;00m \u001b[39mimport\u001b[39;00m SelfHostedEmbeddings\n\u001b[1;32m     52\u001b[0m \u001b[39mfrom\u001b[39;00m \u001b[39mlangchain\u001b[39;00m\u001b[39m.\u001b[39;00m\u001b[39membeddings\u001b[39;00m\u001b[39m.\u001b[39;00m\u001b[39mself_hosted_hugging_face\u001b[39;00m \u001b[39mimport\u001b[39;00m (\n\u001b[1;32m     53\u001b[0m     SelfHostedHuggingFaceEmbeddings,\n\u001b[1;32m     54\u001b[0m     SelfHostedHuggingFaceInstructEmbeddings,\n\u001b[1;32m     55\u001b[0m )\n",
      "File \u001b[0;32m~/venv/lib/python3.8/site-packages/langchain/embeddings/sagemaker_endpoint.py:6\u001b[0m\n\u001b[1;32m      3\u001b[0m \u001b[39mfrom\u001b[39;00m \u001b[39mpydantic_v1\u001b[39;00m \u001b[39mimport\u001b[39;00m BaseModel, Extra, root_validator\n\u001b[1;32m      5\u001b[0m \u001b[39mfrom\u001b[39;00m \u001b[39mlangchain\u001b[39;00m\u001b[39m.\u001b[39;00m\u001b[39membeddings\u001b[39;00m\u001b[39m.\u001b[39;00m\u001b[39mbase\u001b[39;00m \u001b[39mimport\u001b[39;00m Embeddings\n\u001b[0;32m----> 6\u001b[0m \u001b[39mfrom\u001b[39;00m \u001b[39mlangchain\u001b[39;00m\u001b[39m.\u001b[39;00m\u001b[39mllms\u001b[39;00m\u001b[39m.\u001b[39;00m\u001b[39msagemaker_endpoint\u001b[39;00m \u001b[39mimport\u001b[39;00m ContentHandlerBase\n\u001b[1;32m      9\u001b[0m \u001b[39mclass\u001b[39;00m \u001b[39mEmbeddingsContentHandler\u001b[39;00m(ContentHandlerBase[List[\u001b[39mstr\u001b[39m], List[List[\u001b[39mfloat\u001b[39m]]]):\n\u001b[1;32m     10\u001b[0m \u001b[39m    \u001b[39m\u001b[39m\"\"\"Content handler for LLM class.\"\"\"\u001b[39;00m\n",
      "File \u001b[0;32m~/venv/lib/python3.8/site-packages/langchain/llms/__init__.py:79\u001b[0m\n\u001b[1;32m     77\u001b[0m \u001b[39mfrom\u001b[39;00m \u001b[39mlangchain\u001b[39;00m\u001b[39m.\u001b[39;00m\u001b[39mllms\u001b[39;00m\u001b[39m.\u001b[39;00m\u001b[39mself_hosted_hugging_face\u001b[39;00m \u001b[39mimport\u001b[39;00m SelfHostedHuggingFaceLLM\n\u001b[1;32m     78\u001b[0m \u001b[39mfrom\u001b[39;00m \u001b[39mlangchain\u001b[39;00m\u001b[39m.\u001b[39;00m\u001b[39mllms\u001b[39;00m\u001b[39m.\u001b[39;00m\u001b[39mstochasticai\u001b[39;00m \u001b[39mimport\u001b[39;00m StochasticAI\n\u001b[0;32m---> 79\u001b[0m \u001b[39mfrom\u001b[39;00m \u001b[39mlangchain\u001b[39;00m\u001b[39m.\u001b[39;00m\u001b[39mllms\u001b[39;00m\u001b[39m.\u001b[39;00m\u001b[39msymblai_nebula\u001b[39;00m \u001b[39mimport\u001b[39;00m Nebula\n\u001b[1;32m     80\u001b[0m \u001b[39mfrom\u001b[39;00m \u001b[39mlangchain\u001b[39;00m\u001b[39m.\u001b[39;00m\u001b[39mllms\u001b[39;00m\u001b[39m.\u001b[39;00m\u001b[39mtextgen\u001b[39;00m \u001b[39mimport\u001b[39;00m TextGen\n\u001b[1;32m     81\u001b[0m \u001b[39mfrom\u001b[39;00m \u001b[39mlangchain\u001b[39;00m\u001b[39m.\u001b[39;00m\u001b[39mllms\u001b[39;00m\u001b[39m.\u001b[39;00m\u001b[39mtitan_takeoff\u001b[39;00m \u001b[39mimport\u001b[39;00m TitanTakeoff\n",
      "File \u001b[0;32m~/venv/lib/python3.8/site-packages/langchain/llms/symblai_nebula.py:27\u001b[0m\n\u001b[1;32m     22\u001b[0m DEFAULT_NEBULA_SERVICE_PATH \u001b[39m=\u001b[39m \u001b[39m\"\u001b[39m\u001b[39m/v1/model/generate\u001b[39m\u001b[39m\"\u001b[39m\n\u001b[1;32m     24\u001b[0m logger \u001b[39m=\u001b[39m logging\u001b[39m.\u001b[39mgetLogger(\u001b[39m__name__\u001b[39m)\n\u001b[0;32m---> 27\u001b[0m \u001b[39mclass\u001b[39;00m \u001b[39mNebula\u001b[39;00m(LLM):\n\u001b[1;32m     28\u001b[0m \u001b[39m    \u001b[39m\u001b[39m\"\"\"Nebula Service models.\u001b[39;00m\n\u001b[1;32m     29\u001b[0m \n\u001b[1;32m     30\u001b[0m \u001b[39m    To use, you should have the environment variable ``NEBULA_SERVICE_URL``,\u001b[39;00m\n\u001b[0;32m   (...)\u001b[0m\n\u001b[1;32m     43\u001b[0m \u001b[39m            )\u001b[39;00m\n\u001b[1;32m     44\u001b[0m \u001b[39m    \"\"\"\u001b[39;00m  \u001b[39m# noqa: E501\u001b[39;00m\n\u001b[1;32m     46\u001b[0m \u001b[39m    \u001b[39m\u001b[39m\"\"\"Key/value arguments to pass to the model. Reserved for future use\"\"\"\u001b[39;00m\n",
      "File \u001b[0;32m~/venv/lib/python3.8/site-packages/pydantic/v1/main.py:221\u001b[0m, in \u001b[0;36mModelMetaclass.__new__\u001b[0;34m(mcs, name, bases, namespace, **kwargs)\u001b[0m\n\u001b[1;32m    219\u001b[0m \u001b[39melif\u001b[39;00m is_valid_field(var_name) \u001b[39mand\u001b[39;00m var_name \u001b[39mnot\u001b[39;00m \u001b[39min\u001b[39;00m annotations \u001b[39mand\u001b[39;00m can_be_changed:\n\u001b[1;32m    220\u001b[0m     validate_field_name(bases, var_name)\n\u001b[0;32m--> 221\u001b[0m     inferred \u001b[39m=\u001b[39m ModelField\u001b[39m.\u001b[39;49minfer(\n\u001b[1;32m    222\u001b[0m         name\u001b[39m=\u001b[39;49mvar_name,\n\u001b[1;32m    223\u001b[0m         value\u001b[39m=\u001b[39;49mvalue,\n\u001b[1;32m    224\u001b[0m         annotation\u001b[39m=\u001b[39;49mannotations\u001b[39m.\u001b[39;49mget(var_name, Undefined),\n\u001b[1;32m    225\u001b[0m         class_validators\u001b[39m=\u001b[39;49mvg\u001b[39m.\u001b[39;49mget_validators(var_name),\n\u001b[1;32m    226\u001b[0m         config\u001b[39m=\u001b[39;49mconfig,\n\u001b[1;32m    227\u001b[0m     )\n\u001b[1;32m    228\u001b[0m     \u001b[39mif\u001b[39;00m var_name \u001b[39min\u001b[39;00m fields:\n\u001b[1;32m    229\u001b[0m         \u001b[39mif\u001b[39;00m lenient_issubclass(inferred\u001b[39m.\u001b[39mtype_, fields[var_name]\u001b[39m.\u001b[39mtype_):\n",
      "File \u001b[0;32m~/venv/lib/python3.8/site-packages/pydantic/v1/fields.py:506\u001b[0m, in \u001b[0;36mModelField.infer\u001b[0;34m(cls, name, value, annotation, class_validators, config)\u001b[0m\n\u001b[1;32m    503\u001b[0m     required \u001b[39m=\u001b[39m \u001b[39mFalse\u001b[39;00m\n\u001b[1;32m    504\u001b[0m annotation \u001b[39m=\u001b[39m get_annotation_from_field_info(annotation, field_info, name, config\u001b[39m.\u001b[39mvalidate_assignment)\n\u001b[0;32m--> 506\u001b[0m \u001b[39mreturn\u001b[39;00m \u001b[39mcls\u001b[39;49m(\n\u001b[1;32m    507\u001b[0m     name\u001b[39m=\u001b[39;49mname,\n\u001b[1;32m    508\u001b[0m     type_\u001b[39m=\u001b[39;49mannotation,\n\u001b[1;32m    509\u001b[0m     alias\u001b[39m=\u001b[39;49mfield_info\u001b[39m.\u001b[39;49malias,\n\u001b[1;32m    510\u001b[0m     class_validators\u001b[39m=\u001b[39;49mclass_validators,\n\u001b[1;32m    511\u001b[0m     default\u001b[39m=\u001b[39;49mvalue,\n\u001b[1;32m    512\u001b[0m     default_factory\u001b[39m=\u001b[39;49mfield_info\u001b[39m.\u001b[39;49mdefault_factory,\n\u001b[1;32m    513\u001b[0m     required\u001b[39m=\u001b[39;49mrequired,\n\u001b[1;32m    514\u001b[0m     model_config\u001b[39m=\u001b[39;49mconfig,\n\u001b[1;32m    515\u001b[0m     field_info\u001b[39m=\u001b[39;49mfield_info,\n\u001b[1;32m    516\u001b[0m )\n",
      "File \u001b[0;32m~/venv/lib/python3.8/site-packages/pydantic/v1/fields.py:436\u001b[0m, in \u001b[0;36mModelField.__init__\u001b[0;34m(self, name, type_, class_validators, model_config, default, default_factory, required, final, alias, field_info)\u001b[0m\n\u001b[1;32m    434\u001b[0m \u001b[39mself\u001b[39m\u001b[39m.\u001b[39mshape: \u001b[39mint\u001b[39m \u001b[39m=\u001b[39m SHAPE_SINGLETON\n\u001b[1;32m    435\u001b[0m \u001b[39mself\u001b[39m\u001b[39m.\u001b[39mmodel_config\u001b[39m.\u001b[39mprepare_field(\u001b[39mself\u001b[39m)\n\u001b[0;32m--> 436\u001b[0m \u001b[39mself\u001b[39;49m\u001b[39m.\u001b[39;49mprepare()\n",
      "File \u001b[0;32m~/venv/lib/python3.8/site-packages/pydantic/v1/fields.py:546\u001b[0m, in \u001b[0;36mModelField.prepare\u001b[0;34m(self)\u001b[0m\n\u001b[1;32m    539\u001b[0m \u001b[39mdef\u001b[39;00m \u001b[39mprepare\u001b[39m(\u001b[39mself\u001b[39m) \u001b[39m-\u001b[39m\u001b[39m>\u001b[39m \u001b[39mNone\u001b[39;00m:\n\u001b[1;32m    540\u001b[0m \u001b[39m    \u001b[39m\u001b[39m\"\"\"\u001b[39;00m\n\u001b[1;32m    541\u001b[0m \u001b[39m    Prepare the field but inspecting self.default, self.type_ etc.\u001b[39;00m\n\u001b[1;32m    542\u001b[0m \n\u001b[1;32m    543\u001b[0m \u001b[39m    Note: this method is **not** idempotent (because _type_analysis is not idempotent),\u001b[39;00m\n\u001b[1;32m    544\u001b[0m \u001b[39m    e.g. calling it it multiple times may modify the field and configure it incorrectly.\u001b[39;00m\n\u001b[1;32m    545\u001b[0m \u001b[39m    \"\"\"\u001b[39;00m\n\u001b[0;32m--> 546\u001b[0m     \u001b[39mself\u001b[39;49m\u001b[39m.\u001b[39;49m_set_default_and_type()\n\u001b[1;32m    547\u001b[0m     \u001b[39mif\u001b[39;00m \u001b[39mself\u001b[39m\u001b[39m.\u001b[39mtype_\u001b[39m.\u001b[39m\u001b[39m__class__\u001b[39m \u001b[39mis\u001b[39;00m ForwardRef \u001b[39mor\u001b[39;00m \u001b[39mself\u001b[39m\u001b[39m.\u001b[39mtype_\u001b[39m.\u001b[39m\u001b[39m__class__\u001b[39m \u001b[39mis\u001b[39;00m DeferredType:\n\u001b[1;32m    548\u001b[0m         \u001b[39m# self.type_ is currently a ForwardRef and there's nothing we can do now,\u001b[39;00m\n\u001b[1;32m    549\u001b[0m         \u001b[39m# user will need to call model.update_forward_refs()\u001b[39;00m\n\u001b[1;32m    550\u001b[0m         \u001b[39mreturn\u001b[39;00m\n",
      "File \u001b[0;32m~/venv/lib/python3.8/site-packages/pydantic/v1/fields.py:570\u001b[0m, in \u001b[0;36mModelField._set_default_and_type\u001b[0;34m(self)\u001b[0m\n\u001b[1;32m    565\u001b[0m         \u001b[39mraise\u001b[39;00m errors_\u001b[39m.\u001b[39mConfigError(\n\u001b[1;32m    566\u001b[0m             \u001b[39mf\u001b[39m\u001b[39m'\u001b[39m\u001b[39myou need to set the type of field \u001b[39m\u001b[39m{\u001b[39;00m\u001b[39mself\u001b[39m\u001b[39m.\u001b[39mname\u001b[39m!r}\u001b[39;00m\u001b[39m when using `default_factory`\u001b[39m\u001b[39m'\u001b[39m\n\u001b[1;32m    567\u001b[0m         )\n\u001b[1;32m    568\u001b[0m     \u001b[39mreturn\u001b[39;00m\n\u001b[0;32m--> 570\u001b[0m default_value \u001b[39m=\u001b[39m \u001b[39mself\u001b[39;49m\u001b[39m.\u001b[39;49mget_default()\n\u001b[1;32m    572\u001b[0m \u001b[39mif\u001b[39;00m default_value \u001b[39mis\u001b[39;00m \u001b[39mnot\u001b[39;00m \u001b[39mNone\u001b[39;00m \u001b[39mand\u001b[39;00m \u001b[39mself\u001b[39m\u001b[39m.\u001b[39mtype_ \u001b[39mis\u001b[39;00m Undefined:\n\u001b[1;32m    573\u001b[0m     \u001b[39mself\u001b[39m\u001b[39m.\u001b[39mtype_ \u001b[39m=\u001b[39m default_value\u001b[39m.\u001b[39m\u001b[39m__class__\u001b[39m\n",
      "File \u001b[0;32m~/venv/lib/python3.8/site-packages/pydantic/v1/fields.py:439\u001b[0m, in \u001b[0;36mModelField.get_default\u001b[0;34m(self)\u001b[0m\n\u001b[1;32m    438\u001b[0m \u001b[39mdef\u001b[39;00m \u001b[39mget_default\u001b[39m(\u001b[39mself\u001b[39m) \u001b[39m-\u001b[39m\u001b[39m>\u001b[39m Any:\n\u001b[0;32m--> 439\u001b[0m     \u001b[39mreturn\u001b[39;00m smart_deepcopy(\u001b[39mself\u001b[39;49m\u001b[39m.\u001b[39;49mdefault) \u001b[39mif\u001b[39;00m \u001b[39mself\u001b[39m\u001b[39m.\u001b[39mdefault_factory \u001b[39mis\u001b[39;00m \u001b[39mNone\u001b[39;00m \u001b[39melse\u001b[39;00m \u001b[39mself\u001b[39m\u001b[39m.\u001b[39mdefault_factory()\n",
      "File \u001b[0;32m~/venv/lib/python3.8/site-packages/pydantic/v1/utils.py:693\u001b[0m, in \u001b[0;36msmart_deepcopy\u001b[0;34m(obj)\u001b[0m\n\u001b[1;32m    689\u001b[0m \u001b[39mexcept\u001b[39;00m (\u001b[39mTypeError\u001b[39;00m, \u001b[39mValueError\u001b[39;00m, \u001b[39mRuntimeError\u001b[39;00m):\n\u001b[1;32m    690\u001b[0m     \u001b[39m# do we really dare to catch ALL errors? Seems a bit risky\u001b[39;00m\n\u001b[1;32m    691\u001b[0m     \u001b[39mpass\u001b[39;00m\n\u001b[0;32m--> 693\u001b[0m \u001b[39mreturn\u001b[39;00m deepcopy(obj)\n",
      "File \u001b[0;32m/usr/lib/python3.8/copy.py:172\u001b[0m, in \u001b[0;36mdeepcopy\u001b[0;34m(x, memo, _nil)\u001b[0m\n\u001b[1;32m    170\u001b[0m                 y \u001b[39m=\u001b[39m x\n\u001b[1;32m    171\u001b[0m             \u001b[39melse\u001b[39;00m:\n\u001b[0;32m--> 172\u001b[0m                 y \u001b[39m=\u001b[39m _reconstruct(x, memo, \u001b[39m*\u001b[39;49mrv)\n\u001b[1;32m    174\u001b[0m \u001b[39m# If is its own copy, don't memoize.\u001b[39;00m\n\u001b[1;32m    175\u001b[0m \u001b[39mif\u001b[39;00m y \u001b[39mis\u001b[39;00m \u001b[39mnot\u001b[39;00m x:\n",
      "File \u001b[0;32m/usr/lib/python3.8/copy.py:270\u001b[0m, in \u001b[0;36m_reconstruct\u001b[0;34m(x, memo, func, args, state, listiter, dictiter, deepcopy)\u001b[0m\n\u001b[1;32m    268\u001b[0m \u001b[39mif\u001b[39;00m state \u001b[39mis\u001b[39;00m \u001b[39mnot\u001b[39;00m \u001b[39mNone\u001b[39;00m:\n\u001b[1;32m    269\u001b[0m     \u001b[39mif\u001b[39;00m deep:\n\u001b[0;32m--> 270\u001b[0m         state \u001b[39m=\u001b[39m deepcopy(state, memo)\n\u001b[1;32m    271\u001b[0m     \u001b[39mif\u001b[39;00m \u001b[39mhasattr\u001b[39m(y, \u001b[39m'\u001b[39m\u001b[39m__setstate__\u001b[39m\u001b[39m'\u001b[39m):\n\u001b[1;32m    272\u001b[0m         y\u001b[39m.\u001b[39m__setstate__(state)\n",
      "File \u001b[0;32m/usr/lib/python3.8/copy.py:146\u001b[0m, in \u001b[0;36mdeepcopy\u001b[0;34m(x, memo, _nil)\u001b[0m\n\u001b[1;32m    144\u001b[0m copier \u001b[39m=\u001b[39m _deepcopy_dispatch\u001b[39m.\u001b[39mget(\u001b[39mcls\u001b[39m)\n\u001b[1;32m    145\u001b[0m \u001b[39mif\u001b[39;00m copier \u001b[39mis\u001b[39;00m \u001b[39mnot\u001b[39;00m \u001b[39mNone\u001b[39;00m:\n\u001b[0;32m--> 146\u001b[0m     y \u001b[39m=\u001b[39m copier(x, memo)\n\u001b[1;32m    147\u001b[0m \u001b[39melse\u001b[39;00m:\n\u001b[1;32m    148\u001b[0m     \u001b[39mif\u001b[39;00m \u001b[39missubclass\u001b[39m(\u001b[39mcls\u001b[39m, \u001b[39mtype\u001b[39m):\n",
      "File \u001b[0;32m/usr/lib/python3.8/copy.py:230\u001b[0m, in \u001b[0;36m_deepcopy_dict\u001b[0;34m(x, memo, deepcopy)\u001b[0m\n\u001b[1;32m    228\u001b[0m memo[\u001b[39mid\u001b[39m(x)] \u001b[39m=\u001b[39m y\n\u001b[1;32m    229\u001b[0m \u001b[39mfor\u001b[39;00m key, value \u001b[39min\u001b[39;00m x\u001b[39m.\u001b[39mitems():\n\u001b[0;32m--> 230\u001b[0m     y[deepcopy(key, memo)] \u001b[39m=\u001b[39m deepcopy(value, memo)\n\u001b[1;32m    231\u001b[0m \u001b[39mreturn\u001b[39;00m y\n",
      "File \u001b[0;32m/usr/lib/python3.8/copy.py:161\u001b[0m, in \u001b[0;36mdeepcopy\u001b[0;34m(x, memo, _nil)\u001b[0m\n\u001b[1;32m    159\u001b[0m reductor \u001b[39m=\u001b[39m \u001b[39mgetattr\u001b[39m(x, \u001b[39m\"\u001b[39m\u001b[39m__reduce_ex__\u001b[39m\u001b[39m\"\u001b[39m, \u001b[39mNone\u001b[39;00m)\n\u001b[1;32m    160\u001b[0m \u001b[39mif\u001b[39;00m reductor \u001b[39mis\u001b[39;00m \u001b[39mnot\u001b[39;00m \u001b[39mNone\u001b[39;00m:\n\u001b[0;32m--> 161\u001b[0m     rv \u001b[39m=\u001b[39m reductor(\u001b[39m4\u001b[39;49m)\n\u001b[1;32m    162\u001b[0m \u001b[39melse\u001b[39;00m:\n\u001b[1;32m    163\u001b[0m     reductor \u001b[39m=\u001b[39m \u001b[39mgetattr\u001b[39m(x, \u001b[39m\"\u001b[39m\u001b[39m__reduce__\u001b[39m\u001b[39m\"\u001b[39m, \u001b[39mNone\u001b[39;00m)\n",
      "\u001b[0;31mTypeError\u001b[0m: cannot pickle 'classmethod' object"
     ]
    }
   ],
   "source": [
    "from pdf_querying import PDFQueryEngine"
   ]
  },
  {
   "cell_type": "code",
   "execution_count": 2,
   "metadata": {},
   "outputs": [
    {
     "name": "stderr",
     "output_type": "stream",
     "text": [
      "Loading checkpoint shards: 100%|██████████| 9/9 [11:57<00:00, 79.68s/it] \n"
     ]
    },
    {
     "name": "stdout",
     "output_type": "stream",
     "text": [
      "Model 'tiiuae/falcon-40b-instruct's Attention Heads are \n"
     ]
    },
    {
     "name": "stderr",
     "output_type": "stream",
     "text": [
      "(…)06e59443b07dc819fb15c7233/.gitattributes: 100%|██████████| 1.48k/1.48k [00:00<00:00, 389kB/s]\n",
      "(…)3b07dc819fb15c7233/1_Pooling/config.json: 100%|██████████| 270/270 [00:00<00:00, 89.4kB/s]\n",
      "(…)443b07dc819fb15c7233/2_Dense/config.json: 100%|██████████| 116/116 [00:00<00:00, 135kB/s]\n",
      "pytorch_model.bin: 100%|██████████| 3.15M/3.15M [00:00<00:00, 83.6MB/s]\n",
      "(…)84de506e59443b07dc819fb15c7233/README.md: 100%|██████████| 66.3k/66.3k [00:00<00:00, 56.9MB/s]\n",
      "(…)de506e59443b07dc819fb15c7233/config.json: 100%|██████████| 1.53k/1.53k [00:00<00:00, 1.28MB/s]\n",
      "(…)5c7233/config_sentence_transformers.json: 100%|██████████| 122/122 [00:00<00:00, 139kB/s]\n",
      "pytorch_model.bin: 100%|██████████| 1.34G/1.34G [00:04<00:00, 287MB/s]\n",
      "(…)dc819fb15c7233/sentence_bert_config.json: 100%|██████████| 53.0/53.0 [00:00<00:00, 39.7kB/s]\n",
      "(…)07dc819fb15c7233/special_tokens_map.json: 100%|██████████| 2.20k/2.20k [00:00<00:00, 2.96MB/s]\n",
      "spiece.model: 100%|██████████| 792k/792k [00:00<00:00, 66.4MB/s]\n",
      "(…)06e59443b07dc819fb15c7233/tokenizer.json: 100%|██████████| 2.42M/2.42M [00:00<00:00, 2.59MB/s]\n",
      "(…)3b07dc819fb15c7233/tokenizer_config.json: 100%|██████████| 2.41k/2.41k [00:00<00:00, 3.11MB/s]\n",
      "(…)e506e59443b07dc819fb15c7233/modules.json: 100%|██████████| 461/461 [00:00<00:00, 654kB/s]\n"
     ]
    },
    {
     "name": "stdout",
     "output_type": "stream",
     "text": [
      "load INSTRUCTOR_Transformer\n",
      "max_seq_length  512\n",
      "Unexpected exception formatting exception. Falling back to standard exception\n"
     ]
    },
    {
     "name": "stderr",
     "output_type": "stream",
     "text": [
      "Traceback (most recent call last):\n",
      "  File \"/home/ubuntu/venv/lib/python3.8/site-packages/langchain/vectorstores/chroma.py\", line 80, in __init__\n",
      "    try:\n",
      "  File \"/home/ubuntu/venv/lib/python3.8/site-packages/chromadb/__init__.py\", line 4, in <module>\n",
      "    import chromadb.config\n",
      "  File \"/home/ubuntu/venv/lib/python3.8/site-packages/chromadb/config.py\", line 1, in <module>\n",
      "    from pydantic import BaseSettings\n",
      "  File \"/home/ubuntu/venv/lib/python3.8/site-packages/pydantic/__init__.py\", line 218, in __getattr__\n",
      "  File \"/home/ubuntu/venv/lib/python3.8/site-packages/pydantic/_migration.py\", line 294, in wrapper\n",
      "pydantic.errors.PydanticImportError: `BaseSettings` has been moved to the `pydantic-settings` package. See https://docs.pydantic.dev/2.4/migration/#basesettings-has-moved-to-pydantic-settings for more details.\n",
      "\n",
      "For further information visit https://errors.pydantic.dev/2.4/u/import-error\n",
      "\n",
      "During handling of the above exception, another exception occurred:\n",
      "\n",
      "Traceback (most recent call last):\n",
      "  File \"/home/ubuntu/venv/lib/python3.8/site-packages/IPython/core/interactiveshell.py\", line 3508, in run_code\n",
      "    exec(code_obj, self.user_global_ns, self.user_ns)\n",
      "  File \"/tmp/ipykernel_42706/1050969001.py\", line 4, in <module>\n",
      "    pdf_engine = PDFQueryEngine(model_name, pdf_path = pdf_path)\n",
      "  File \"/home/ubuntu/open-llm/pdf_querying.py\", line 37, in __init__\n",
      "    self.retriever = self.create_doc_retriever(self.pdf_path)\n",
      "  File \"/home/ubuntu/open-llm/pdf_querying.py\", line 101, in create_doc_retriever\n",
      "    db = Chroma.from_documents(texts, embeddings)\n",
      "  File \"/home/ubuntu/venv/lib/python3.8/site-packages/langchain/vectorstores/chroma.py\", line 646, in from_documents\n",
      "  File \"/home/ubuntu/venv/lib/python3.8/site-packages/langchain/vectorstores/chroma.py\", line 601, in from_texts\n",
      "    ids (Optional[List[str]]): List of document IDs. Defaults to None.\n",
      "  File \"/home/ubuntu/venv/lib/python3.8/site-packages/langchain/vectorstores/chroma.py\", line 83, in __init__\n",
      "    except ImportError:\n",
      "ImportError: Could not import chromadb python package. Please install it with `pip install chromadb`.\n",
      "\n",
      "During handling of the above exception, another exception occurred:\n",
      "\n",
      "Traceback (most recent call last):\n",
      "  File \"/home/ubuntu/venv/lib/python3.8/site-packages/IPython/core/interactiveshell.py\", line 2105, in showtraceback\n",
      "    stb = self.InteractiveTB.structured_traceback(\n",
      "  File \"/home/ubuntu/venv/lib/python3.8/site-packages/IPython/core/ultratb.py\", line 1396, in structured_traceback\n",
      "    return FormattedTB.structured_traceback(\n",
      "  File \"/home/ubuntu/venv/lib/python3.8/site-packages/IPython/core/ultratb.py\", line 1287, in structured_traceback\n",
      "    return VerboseTB.structured_traceback(\n",
      "  File \"/home/ubuntu/venv/lib/python3.8/site-packages/IPython/core/ultratb.py\", line 1140, in structured_traceback\n",
      "    formatted_exception = self.format_exception_as_a_whole(etype, evalue, etb, number_of_lines_of_context,\n",
      "  File \"/home/ubuntu/venv/lib/python3.8/site-packages/IPython/core/ultratb.py\", line 1055, in format_exception_as_a_whole\n",
      "    frames.append(self.format_record(record))\n",
      "  File \"/home/ubuntu/venv/lib/python3.8/site-packages/IPython/core/ultratb.py\", line 955, in format_record\n",
      "    frame_info.lines, Colors, self.has_colors, lvals\n",
      "  File \"/home/ubuntu/venv/lib/python3.8/site-packages/IPython/core/ultratb.py\", line 778, in lines\n",
      "    return self._sd.lines\n",
      "  File \"/home/ubuntu/venv/lib/python3.8/site-packages/stack_data/utils.py\", line 145, in cached_property_wrapper\n",
      "    value = obj.__dict__[self.func.__name__] = self.func(obj)\n",
      "  File \"/home/ubuntu/venv/lib/python3.8/site-packages/stack_data/core.py\", line 734, in lines\n",
      "    pieces = self.included_pieces\n",
      "  File \"/home/ubuntu/venv/lib/python3.8/site-packages/stack_data/utils.py\", line 145, in cached_property_wrapper\n",
      "    value = obj.__dict__[self.func.__name__] = self.func(obj)\n",
      "  File \"/home/ubuntu/venv/lib/python3.8/site-packages/stack_data/core.py\", line 681, in included_pieces\n",
      "    pos = scope_pieces.index(self.executing_piece)\n",
      "  File \"/home/ubuntu/venv/lib/python3.8/site-packages/stack_data/utils.py\", line 145, in cached_property_wrapper\n",
      "    value = obj.__dict__[self.func.__name__] = self.func(obj)\n",
      "  File \"/home/ubuntu/venv/lib/python3.8/site-packages/stack_data/core.py\", line 660, in executing_piece\n",
      "    return only(\n",
      "  File \"/home/ubuntu/venv/lib/python3.8/site-packages/executing/executing.py\", line 116, in only\n",
      "    raise NotOneValueFound('Expected one value, found 0')\n",
      "executing.executing.NotOneValueFound: Expected one value, found 0\n"
     ]
    }
   ],
   "source": [
    "pdf_path = \"pdfs/405-201-00018_Protocol_Amendment_4.pdf\"\n",
    "model_name = \"tiiuae/falcon-40b-instruct\"\n",
    "\n",
    "pdf_engine = PDFQueryEngine(model_name, pdf_path = pdf_path)"
   ]
  },
  {
   "cell_type": "code",
   "execution_count": 3,
   "metadata": {},
   "outputs": [
    {
     "ename": "NameError",
     "evalue": "name 'pdf_engine' is not defined",
     "output_type": "error",
     "traceback": [
      "\u001b[0;31m---------------------------------------------------------------------------\u001b[0m",
      "\u001b[0;31mNameError\u001b[0m                                 Traceback (most recent call last)",
      "\u001b[1;32m/home/ubuntu/open-llm/pdf_talk.ipynb Cell 3\u001b[0m line \u001b[0;36m1\n\u001b[0;32m----> <a href='vscode-notebook-cell://ssh-remote%2Bec2-13-233-246-109.ap-south-1.compute.amazonaws.com/home/ubuntu/open-llm/pdf_talk.ipynb#W2sdnNjb2RlLXJlbW90ZQ%3D%3D?line=0'>1</a>\u001b[0m pdf_engine\u001b[39m.\u001b[39mask_question(\u001b[39m\"\u001b[39m\u001b[39mWhat is the drug being tested ?\u001b[39m\u001b[39m\"\u001b[39m)\n",
      "\u001b[0;31mNameError\u001b[0m: name 'pdf_engine' is not defined"
     ]
    }
   ],
   "source": [
    "pdf_engine.ask_question(\"What is the drug being tested ?\")"
   ]
  },
  {
   "cell_type": "code",
   "execution_count": null,
   "metadata": {},
   "outputs": [],
   "source": []
  }
 ],
 "metadata": {
  "kernelspec": {
   "display_name": "venv",
   "language": "python",
   "name": "python3"
  },
  "language_info": {
   "codemirror_mode": {
    "name": "ipython",
    "version": 3
   },
   "file_extension": ".py",
   "mimetype": "text/x-python",
   "name": "python",
   "nbconvert_exporter": "python",
   "pygments_lexer": "ipython3",
   "version": "3.8.10"
  }
 },
 "nbformat": 4,
 "nbformat_minor": 2
}
